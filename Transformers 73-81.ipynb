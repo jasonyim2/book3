{
  "nbformat": 4,
  "nbformat_minor": 0,
  "metadata": {
    "accelerator": "GPU",
    "colab": {
      "provenance": [
        {
          "file_id": "1hcJkcxDH0A2yNCJ0EuitC1ycrvffOwUQ",
          "timestamp": 1667701126583
        }
      ]
    },
    "kernelspec": {
      "display_name": "Python 3",
      "name": "python3"
    },
    "language_info": {
      "name": "python"
    },
    "gpuClass": "standard"
  },
  "cells": [
    {
      "cell_type": "markdown",
      "metadata": {
        "id": "XP50cX6RYhJI"
      },
      "source": [
        "# 73"
      ]
    },
    {
      "cell_type": "code",
      "metadata": {
        "colab": {
          "base_uri": "https://localhost:8080/",
          "height": 833,
          "referenced_widgets": [
            "d224edcd723942cb8d6f345544980358",
            "c857977f3e9149ffb91e4789ef93dd76",
            "4047fe7364bb4ca692f40a8c28cbdb3f",
            "aaa67ac22dbd40b898647fd6fdafd0ea",
            "2df88de172884bc1a842f9a64415aac0",
            "348a150dd9664eb299409bffee742d3c",
            "6be202393aa2418d8de047f118bdd722",
            "a009c373a3eb41f5af1bcae90b068e8d",
            "474864b53b5a40b3aef585fc9774d947",
            "3a2cea7c117b439b929ea7d9575fd31c",
            "5e74ee0ca4aa4044becd5492f49d712a",
            "e8649d3ef0484e9385e7b5ae617be193",
            "46bc10067e474090a0f5aae677442a33",
            "356ba919de4d4d8aaad73e213dfaa961",
            "9a8d2f7ae75d4d749d305971f0be875b",
            "f732b504cabe4be3bcb9fa69611177ec",
            "e333d46d11ae47c78e917e3ee5b20219",
            "55f7af54a53e4e46b612e3dca55c8567",
            "8112811cb76146f1a7b5cb5da98af2fe",
            "52efc56044604ada90da2dad9c9ba21d",
            "2402cd0ed72642139cc9b7068929e274",
            "e45fb5585602427189a17860ba2368ad",
            "bb85dca980354e69a2d3c5a74883a481",
            "0b70e0b54df741329efaaefebefd57b4",
            "e959027f35524541a96447f99862c58b",
            "d12c8302268848c182ff64d85f354265",
            "f0e03409d01c4544a6c502497bb89989",
            "2dacc56dc4de40ec8608d425c7310bf8",
            "cb7c596c82b14f87bd3d921192d4a0b9",
            "a02869a748e3416eaf665ab4e06a5450",
            "2925bf12a10a442ebbb5ad7f6adfddfa",
            "32c6cfa3c7df4ecb923ddb193312b7b6",
            "605074cfe55e4fee93bbf2579c082cf9",
            "172893cbffe84684b80c29c3444eefb3",
            "ff067e6dec1b45c2ae6bcf7f92dbebd2",
            "82e5ce3e3a19425b8b1222cad3c61d00",
            "223869c91aee4e3c9647b39219b6d62c",
            "36a82fe565754fddb02239e28b9c18c1",
            "c9122483174148cda2020d98a3767ad2",
            "4eccf131296d4be6919162a78260fec6",
            "19c8d4fc254d4054b7977d0943ad73e9",
            "275d0d377a5e4afaae9b1fe992bfb45c",
            "d4788c15ad184e1bb5649bb28623359b",
            "379fd85ecdb64113b9fe776bf6b9c52e",
            "ed59c090d521498f975348421b51f3c3",
            "e5cb54fef5844643accf7448aaf55fae",
            "e5e3d7811e51439a929e282c41afde23",
            "bae4b488247a4fc7af7e0910c8396950",
            "394c176206c54c16bc7f379c2e3a66a6",
            "5b6e6e5c0acc481c8355f1c214e43c1c",
            "4ef34fad201846019481910462db8bf9",
            "5da764567a5b453798815d9933a1f471",
            "d56f388c1aa747bcb9c0319eef32c683",
            "184909081dbb46af97b5c37becf30d83",
            "e42c1fb37dec468abe9ccd6d25a6a1d0",
            "a9cd8ca623af47ff8965e5f97a8c4fa2",
            "b3196f17dc3541c7a68483aaad54144a",
            "41eae97b2dcc46bdae22d1ba26d1085a",
            "bdbf595558594ed089948e2f9de785f8",
            "04bb2bbe5f4342f2a61b18c3e9063df1",
            "f36c60f783d8460eab84d3d244959f81",
            "9174da994bf545c3a591b21eb2a62897",
            "a1259cafc2eb4afaa269ae62252e4c52",
            "b3b1861008d143779e7670299c9ceb8e",
            "a68efdfc165f4bff97865812bafaa6f6",
            "93fce207db7a43828f898ba414d92e4d",
            "c4450e483ba34b3180746fbceec29ad3",
            "290f1e2121c044e7b5188e8f75d44855",
            "7f61db21e1e14f748d149128dcadde95",
            "5fceeacc096f4838888f375ca8d860b1",
            "423d5f49389041a8b4e0cc396421f68b",
            "ce8191f912bd474082b4315294401f74",
            "67dbdc3dd4114e50b61e4d96f5b9bf42",
            "8c9906c25ca949508ff9037653747965",
            "d783c61f25774a59b4fb474e21de916f",
            "5f38683bb1414bf1b8001076ee4b7cd7",
            "3d30176c808f47e1a295eced6e06c9ca"
          ]
        },
        "id": "glzC48cGWoun",
        "executionInfo": {
          "status": "ok",
          "timestamp": 1688453903054,
          "user_tz": -540,
          "elapsed": 61348,
          "user": {
            "displayName": "Jason Book Yim",
            "userId": "02824935638305274154"
          }
        },
        "outputId": "d327d781-2d65-4339-e097-8f5c05939bdb"
      },
      "source": [
        "# 런타임 1분 30초 소요\n",
        "!pip install transformers\n",
        "!pip install sentencepiece\n",
        "\n",
        "from transformers import M2M100ForConditionalGeneration, M2M100Tokenizer\n",
        "\n",
        "# 모델 및 토크나이저 불러오기\n",
        "model = M2M100ForConditionalGeneration.from_pretrained(\"facebook/m2m100_418M\")\n",
        "tokenizer = M2M100Tokenizer.from_pretrained(\"facebook/m2m100_418M\")\n"
      ],
      "execution_count": 1,
      "outputs": [
        {
          "output_type": "stream",
          "name": "stdout",
          "text": [
            "Collecting transformers\n",
            "  Downloading transformers-4.30.2-py3-none-any.whl (7.2 MB)\n",
            "\u001b[2K     \u001b[90m━━━━━━━━━━━━━━━━━━━━━━━━━━━━━━━━━━━━━━━━\u001b[0m \u001b[32m7.2/7.2 MB\u001b[0m \u001b[31m33.7 MB/s\u001b[0m eta \u001b[36m0:00:00\u001b[0m\n",
            "\u001b[?25hRequirement already satisfied: filelock in /usr/local/lib/python3.10/dist-packages (from transformers) (3.12.2)\n",
            "Collecting huggingface-hub<1.0,>=0.14.1 (from transformers)\n",
            "  Downloading huggingface_hub-0.15.1-py3-none-any.whl (236 kB)\n",
            "\u001b[2K     \u001b[90m━━━━━━━━━━━━━━━━━━━━━━━━━━━━━━━━━━━━━━\u001b[0m \u001b[32m236.8/236.8 kB\u001b[0m \u001b[31m20.5 MB/s\u001b[0m eta \u001b[36m0:00:00\u001b[0m\n",
            "\u001b[?25hRequirement already satisfied: numpy>=1.17 in /usr/local/lib/python3.10/dist-packages (from transformers) (1.22.4)\n",
            "Requirement already satisfied: packaging>=20.0 in /usr/local/lib/python3.10/dist-packages (from transformers) (23.1)\n",
            "Requirement already satisfied: pyyaml>=5.1 in /usr/local/lib/python3.10/dist-packages (from transformers) (6.0)\n",
            "Requirement already satisfied: regex!=2019.12.17 in /usr/local/lib/python3.10/dist-packages (from transformers) (2022.10.31)\n",
            "Requirement already satisfied: requests in /usr/local/lib/python3.10/dist-packages (from transformers) (2.27.1)\n",
            "Collecting tokenizers!=0.11.3,<0.14,>=0.11.1 (from transformers)\n",
            "  Downloading tokenizers-0.13.3-cp310-cp310-manylinux_2_17_x86_64.manylinux2014_x86_64.whl (7.8 MB)\n",
            "\u001b[2K     \u001b[90m━━━━━━━━━━━━━━━━━━━━━━━━━━━━━━━━━━━━━━━━\u001b[0m \u001b[32m7.8/7.8 MB\u001b[0m \u001b[31m104.7 MB/s\u001b[0m eta \u001b[36m0:00:00\u001b[0m\n",
            "\u001b[?25hCollecting safetensors>=0.3.1 (from transformers)\n",
            "  Downloading safetensors-0.3.1-cp310-cp310-manylinux_2_17_x86_64.manylinux2014_x86_64.whl (1.3 MB)\n",
            "\u001b[2K     \u001b[90m━━━━━━━━━━━━━━━━━━━━━━━━━━━━━━━━━━━━━━━━\u001b[0m \u001b[32m1.3/1.3 MB\u001b[0m \u001b[31m75.7 MB/s\u001b[0m eta \u001b[36m0:00:00\u001b[0m\n",
            "\u001b[?25hRequirement already satisfied: tqdm>=4.27 in /usr/local/lib/python3.10/dist-packages (from transformers) (4.65.0)\n",
            "Requirement already satisfied: fsspec in /usr/local/lib/python3.10/dist-packages (from huggingface-hub<1.0,>=0.14.1->transformers) (2023.6.0)\n",
            "Requirement already satisfied: typing-extensions>=3.7.4.3 in /usr/local/lib/python3.10/dist-packages (from huggingface-hub<1.0,>=0.14.1->transformers) (4.6.3)\n",
            "Requirement already satisfied: urllib3<1.27,>=1.21.1 in /usr/local/lib/python3.10/dist-packages (from requests->transformers) (1.26.16)\n",
            "Requirement already satisfied: certifi>=2017.4.17 in /usr/local/lib/python3.10/dist-packages (from requests->transformers) (2023.5.7)\n",
            "Requirement already satisfied: charset-normalizer~=2.0.0 in /usr/local/lib/python3.10/dist-packages (from requests->transformers) (2.0.12)\n",
            "Requirement already satisfied: idna<4,>=2.5 in /usr/local/lib/python3.10/dist-packages (from requests->transformers) (3.4)\n",
            "Installing collected packages: tokenizers, safetensors, huggingface-hub, transformers\n",
            "Successfully installed huggingface-hub-0.15.1 safetensors-0.3.1 tokenizers-0.13.3 transformers-4.30.2\n",
            "Collecting sentencepiece\n",
            "  Downloading sentencepiece-0.1.99-cp310-cp310-manylinux_2_17_x86_64.manylinux2014_x86_64.whl (1.3 MB)\n",
            "\u001b[2K     \u001b[90m━━━━━━━━━━━━━━━━━━━━━━━━━━━━━━━━━━━━━━━━\u001b[0m \u001b[32m1.3/1.3 MB\u001b[0m \u001b[31m17.0 MB/s\u001b[0m eta \u001b[36m0:00:00\u001b[0m\n",
            "\u001b[?25hInstalling collected packages: sentencepiece\n",
            "Successfully installed sentencepiece-0.1.99\n"
          ]
        },
        {
          "output_type": "display_data",
          "data": {
            "text/plain": [
              "Downloading (…)lve/main/config.json:   0%|          | 0.00/908 [00:00<?, ?B/s]"
            ],
            "application/vnd.jupyter.widget-view+json": {
              "version_major": 2,
              "version_minor": 0,
              "model_id": "d224edcd723942cb8d6f345544980358"
            }
          },
          "metadata": {}
        },
        {
          "output_type": "display_data",
          "data": {
            "text/plain": [
              "Downloading pytorch_model.bin:   0%|          | 0.00/1.94G [00:00<?, ?B/s]"
            ],
            "application/vnd.jupyter.widget-view+json": {
              "version_major": 2,
              "version_minor": 0,
              "model_id": "e8649d3ef0484e9385e7b5ae617be193"
            }
          },
          "metadata": {}
        },
        {
          "output_type": "display_data",
          "data": {
            "text/plain": [
              "Downloading (…)neration_config.json:   0%|          | 0.00/233 [00:00<?, ?B/s]"
            ],
            "application/vnd.jupyter.widget-view+json": {
              "version_major": 2,
              "version_minor": 0,
              "model_id": "bb85dca980354e69a2d3c5a74883a481"
            }
          },
          "metadata": {}
        },
        {
          "output_type": "display_data",
          "data": {
            "text/plain": [
              "Downloading (…)olve/main/vocab.json:   0%|          | 0.00/3.71M [00:00<?, ?B/s]"
            ],
            "application/vnd.jupyter.widget-view+json": {
              "version_major": 2,
              "version_minor": 0,
              "model_id": "172893cbffe84684b80c29c3444eefb3"
            }
          },
          "metadata": {}
        },
        {
          "output_type": "display_data",
          "data": {
            "text/plain": [
              "Downloading (…)tencepiece.bpe.model:   0%|          | 0.00/2.42M [00:00<?, ?B/s]"
            ],
            "application/vnd.jupyter.widget-view+json": {
              "version_major": 2,
              "version_minor": 0,
              "model_id": "ed59c090d521498f975348421b51f3c3"
            }
          },
          "metadata": {}
        },
        {
          "output_type": "display_data",
          "data": {
            "text/plain": [
              "Downloading (…)okenizer_config.json:   0%|          | 0.00/272 [00:00<?, ?B/s]"
            ],
            "application/vnd.jupyter.widget-view+json": {
              "version_major": 2,
              "version_minor": 0,
              "model_id": "a9cd8ca623af47ff8965e5f97a8c4fa2"
            }
          },
          "metadata": {}
        },
        {
          "output_type": "display_data",
          "data": {
            "text/plain": [
              "Downloading (…)cial_tokens_map.json:   0%|          | 0.00/1.14k [00:00<?, ?B/s]"
            ],
            "application/vnd.jupyter.widget-view+json": {
              "version_major": 2,
              "version_minor": 0,
              "model_id": "c4450e483ba34b3180746fbceec29ad3"
            }
          },
          "metadata": {}
        }
      ]
    },
    {
      "cell_type": "markdown",
      "metadata": {
        "id": "qXb7aiBWY2Qt"
      },
      "source": [
        "# 74"
      ]
    },
    {
      "cell_type": "code",
      "metadata": {
        "id": "B563vu-MYhtr",
        "executionInfo": {
          "status": "ok",
          "timestamp": 1688453918536,
          "user_tz": -540,
          "elapsed": 622,
          "user": {
            "displayName": "Jason Book Yim",
            "userId": "02824935638305274154"
          }
        }
      },
      "source": [
        "chinese_text = \"生活就像一盒巧克力。\"\n",
        "\n",
        "# 소스 언어를 중국어(zh)로 지정\n",
        "tokenizer.src_lang = \"zh\"\n"
      ],
      "execution_count": 2,
      "outputs": []
    },
    {
      "cell_type": "markdown",
      "metadata": {
        "id": "XKmBqLF2Y4hE"
      },
      "source": [
        "# 75"
      ]
    },
    {
      "cell_type": "code",
      "metadata": {
        "id": "1jRoaqIvY30K",
        "executionInfo": {
          "status": "ok",
          "timestamp": 1688453921876,
          "user_tz": -540,
          "elapsed": 2,
          "user": {
            "displayName": "Jason Book Yim",
            "userId": "02824935638305274154"
          }
        }
      },
      "source": [
        "# 중국어 입력 문장을 토크나이저로 인코딩\n",
        "encoded_zh = tokenizer(chinese_text, return_tensors=\"pt\")"
      ],
      "execution_count": 3,
      "outputs": []
    },
    {
      "cell_type": "markdown",
      "metadata": {
        "id": "4uAZNATuZJf_"
      },
      "source": [
        "#76"
      ]
    },
    {
      "cell_type": "code",
      "metadata": {
        "id": "ywDiU91nZF83",
        "colab": {
          "base_uri": "https://localhost:8080/"
        },
        "executionInfo": {
          "status": "ok",
          "timestamp": 1688453929963,
          "user_tz": -540,
          "elapsed": 5282,
          "user": {
            "displayName": "Jason Book Yim",
            "userId": "02824935638305274154"
          }
        },
        "outputId": "99105352-2225-48c4-e341-db194b79f45a"
      },
      "source": [
        "# 토크나이저로 인코딩된 결과를 **kwargs 형식으로 model.generate()에 입력\n",
        "# 자동번역 출력 언어를 영어(en)로 지정\n",
        "generated_tokens = model.generate(**encoded_zh, forced_bos_token_id=tokenizer.get_lang_id(\"en\"))"
      ],
      "execution_count": 4,
      "outputs": [
        {
          "output_type": "stream",
          "name": "stderr",
          "text": [
            "/usr/local/lib/python3.10/dist-packages/transformers/generation/utils.py:1353: UserWarning: Using `max_length`'s default (200) to control the generation length. This behaviour is deprecated and will be removed from the config in v5 of Transformers -- we recommend using `max_new_tokens` to control the maximum length of the generation.\n",
            "  warnings.warn(\n"
          ]
        }
      ]
    },
    {
      "cell_type": "markdown",
      "metadata": {
        "id": "FKmM0ypoZriI"
      },
      "source": [
        "#77"
      ]
    },
    {
      "cell_type": "code",
      "metadata": {
        "colab": {
          "base_uri": "https://localhost:8080/"
        },
        "id": "3ycMpQWIZSa9",
        "executionInfo": {
          "status": "ok",
          "timestamp": 1688453938189,
          "user_tz": -540,
          "elapsed": 4670,
          "user": {
            "displayName": "Jason Book Yim",
            "userId": "02824935638305274154"
          }
        },
        "outputId": "fb7a0d81-2510-464a-e0dd-3e69d2382df1"
      },
      "source": [
        "# model.generate() 출력 결과를 디코딩\n",
        "tokenizer.batch_decode(generated_tokens, skip_special_tokens=True)"
      ],
      "execution_count": 5,
      "outputs": [
        {
          "output_type": "execute_result",
          "data": {
            "text/plain": [
              "['Life is like a box of chocolate.']"
            ]
          },
          "metadata": {},
          "execution_count": 5
        }
      ]
    },
    {
      "cell_type": "markdown",
      "metadata": {
        "id": "1S5Nbbf-aMjZ"
      },
      "source": [
        "# 78"
      ]
    },
    {
      "cell_type": "code",
      "metadata": {
        "id": "vBnBtuzsZtm_",
        "executionInfo": {
          "status": "ok",
          "timestamp": 1688453940522,
          "user_tz": -540,
          "elapsed": 316,
          "user": {
            "displayName": "Jason Book Yim",
            "userId": "02824935638305274154"
          }
        }
      },
      "source": [
        "# 소스 언어를 한국어(ko)로 지정\n",
        "tokenizer.src_lang = \"ko\"\n",
        "korean_text = \"인생은 한 상자의 초콜릿과 같다.\"\n"
      ],
      "execution_count": 6,
      "outputs": []
    },
    {
      "cell_type": "markdown",
      "metadata": {
        "id": "3tTULTFfaQoL"
      },
      "source": [
        "# 79"
      ]
    },
    {
      "cell_type": "code",
      "metadata": {
        "id": "adBlIwZ5aQFP",
        "executionInfo": {
          "status": "ok",
          "timestamp": 1688453943707,
          "user_tz": -540,
          "elapsed": 2,
          "user": {
            "displayName": "Jason Book Yim",
            "userId": "02824935638305274154"
          }
        }
      },
      "source": [
        "# 한국어 입력 문장을 토크나이저로 인코딩\n",
        "encoded_ko = tokenizer(korean_text, return_tensors=\"pt\")"
      ],
      "execution_count": 7,
      "outputs": []
    },
    {
      "cell_type": "markdown",
      "metadata": {
        "id": "xc-dDmPBafGJ"
      },
      "source": [
        "# 80"
      ]
    },
    {
      "cell_type": "code",
      "metadata": {
        "id": "ngB_sI6WarEz",
        "executionInfo": {
          "status": "ok",
          "timestamp": 1688453949124,
          "user_tz": -540,
          "elapsed": 2637,
          "user": {
            "displayName": "Jason Book Yim",
            "userId": "02824935638305274154"
          }
        },
        "colab": {
          "base_uri": "https://localhost:8080/"
        },
        "outputId": "39b8525c-83ab-4e73-a831-4fad386c4748"
      },
      "source": [
        "# 토크나이저로 인코딩된 결과를 **kwargs 형식으로 model.generate()에 입력\n",
        "# 자동번역 출력 언어를 영어(en)로 지정\n",
        "generated_tokens = model.generate(**encoded_ko, forced_bos_token_id=tokenizer.get_lang_id(\"en\"))"
      ],
      "execution_count": 8,
      "outputs": [
        {
          "output_type": "stream",
          "name": "stderr",
          "text": [
            "/usr/local/lib/python3.10/dist-packages/transformers/generation/utils.py:1353: UserWarning: Using `max_length`'s default (200) to control the generation length. This behaviour is deprecated and will be removed from the config in v5 of Transformers -- we recommend using `max_new_tokens` to control the maximum length of the generation.\n",
            "  warnings.warn(\n"
          ]
        }
      ]
    },
    {
      "cell_type": "markdown",
      "metadata": {
        "id": "cjRsjjD5ar1q"
      },
      "source": [
        "# 81"
      ]
    },
    {
      "cell_type": "code",
      "metadata": {
        "colab": {
          "base_uri": "https://localhost:8080/"
        },
        "id": "WKteGGWfaemC",
        "executionInfo": {
          "status": "ok",
          "timestamp": 1688453951083,
          "user_tz": -540,
          "elapsed": 384,
          "user": {
            "displayName": "Jason Book Yim",
            "userId": "02824935638305274154"
          }
        },
        "outputId": "56525e65-ccf5-42e9-fa38-d7e0921c53bc"
      },
      "source": [
        "# model.generate() 출력 결과를 디코딩\n",
        "tokenizer.batch_decode(generated_tokens, skip_special_tokens=True)"
      ],
      "execution_count": 9,
      "outputs": [
        {
          "output_type": "execute_result",
          "data": {
            "text/plain": [
              "['Life is like a box of chocolate.']"
            ]
          },
          "metadata": {},
          "execution_count": 9
        }
      ]
    },
    {
      "cell_type": "markdown",
      "source": [
        "# 보너스 코드"
      ],
      "metadata": {
        "id": "NHKPEEwnb9vr"
      }
    },
    {
      "cell_type": "code",
      "source": [
        "# 영문 텍스트 출처 동영상 (33분 52초 구간부터 약 10초간 플레이되는 음성 부분)\n",
        "# https://www.jfklibrary.org/asset-viewer/archives/JFKWHA/1961/JFKWHA-032/JFKWHA-032\n",
        "\n",
        "english_text = \"I believe this nation should commit itself to achieving the goal, before this decade is out, of landing a man on the moon and returning him safely to the Earth.\""
      ],
      "metadata": {
        "id": "iqtwfKYgcBgU",
        "executionInfo": {
          "status": "ok",
          "timestamp": 1688453961287,
          "user_tz": -540,
          "elapsed": 3,
          "user": {
            "displayName": "Jason Book Yim",
            "userId": "02824935638305274154"
          }
        }
      },
      "execution_count": 11,
      "outputs": []
    },
    {
      "cell_type": "code",
      "source": [
        "tokenizer.src_lang = \"en\"\n",
        "encoded_en = tokenizer(english_text, return_tensors=\"pt\")\n",
        "generated_tokens = model.generate(**encoded_en, forced_bos_token_id=tokenizer.get_lang_id(\"ko\"))\n",
        "tokenizer.batch_decode(generated_tokens, skip_special_tokens=True)"
      ],
      "metadata": {
        "colab": {
          "base_uri": "https://localhost:8080/"
        },
        "id": "fAN5LdUJcJdK",
        "executionInfo": {
          "status": "ok",
          "timestamp": 1688453976947,
          "user_tz": -540,
          "elapsed": 14114,
          "user": {
            "displayName": "Jason Book Yim",
            "userId": "02824935638305274154"
          }
        },
        "outputId": "26e7e48e-7894-4a0d-8d6b-d6af1e683007"
      },
      "execution_count": 12,
      "outputs": [
        {
          "output_type": "execute_result",
          "data": {
            "text/plain": [
              "['나는 이 나라가 이 10년이 끝나기 전에 사람을 달에 착륙시키고 그를 안전하게 지구로 돌려보내는 목표를 달성하기 위해 노력해야 한다고 믿는다.']"
            ]
          },
          "metadata": {},
          "execution_count": 12
        }
      ]
    }
  ]
}