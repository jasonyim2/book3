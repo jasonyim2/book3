{
  "nbformat": 4,
  "nbformat_minor": 0,
  "metadata": {
    "accelerator": "GPU",
    "colab": {
      "provenance": [
        {
          "file_id": "1hcJkcxDH0A2yNCJ0EuitC1ycrvffOwUQ",
          "timestamp": 1667701126583
        }
      ]
    },
    "kernelspec": {
      "display_name": "Python 3",
      "name": "python3"
    },
    "language_info": {
      "name": "python"
    },
    "gpuClass": "standard"
  },
  "cells": [
    {
      "cell_type": "markdown",
      "metadata": {
        "id": "L2PMfrLqTvsd"
      },
      "source": [
        "# 37"
      ]
    },
    {
      "cell_type": "code",
      "metadata": {
        "colab": {
          "base_uri": "https://localhost:8080/"
        },
        "id": "9YMkAHDAc71a",
        "executionInfo": {
          "elapsed": 32525,
          "status": "ok",
          "timestamp": 1688442183522,
          "user": {
            "displayName": "Jason Book Yim",
            "userId": "02824935638305274154"
          },
          "user_tz": -540
        },
        "outputId": "33e77e68-0d36-4143-f58d-3a1946e9a26e"
      },
      "source": [
        "# 관련 라이브러리 설치\n",
        "# datasets==1.4.1 버전을 설치해야 함에 유의\n",
        "!pip install datasets==1.4.1\n",
        "!pip install transformers\n",
        "!pip install soundfile\n",
        "!pip install jiwer\n"
      ],
      "execution_count": 1,
      "outputs": [
        {
          "output_type": "stream",
          "name": "stdout",
          "text": [
            "Collecting datasets==1.4.1\n",
            "  Downloading datasets-1.4.1-py3-none-any.whl (186 kB)\n",
            "\u001b[?25l     \u001b[90m━━━━━━━━━━━━━━━━━━━━━━━━━━━━━━━━━━━━━━━━\u001b[0m \u001b[32m0.0/186.8 kB\u001b[0m \u001b[31m?\u001b[0m eta \u001b[36m-:--:--\u001b[0m\r\u001b[2K     \u001b[90m━━━━━━━━━━━━━━━━━━━━━━━━━━━━━━━━━━━━━━\u001b[0m \u001b[32m186.8/186.8 kB\u001b[0m \u001b[31m17.2 MB/s\u001b[0m eta \u001b[36m0:00:00\u001b[0m\n",
            "\u001b[?25hRequirement already satisfied: numpy>=1.17 in /usr/local/lib/python3.10/dist-packages (from datasets==1.4.1) (1.22.4)\n",
            "Requirement already satisfied: pyarrow>=0.17.1 in /usr/local/lib/python3.10/dist-packages (from datasets==1.4.1) (9.0.0)\n",
            "Collecting dill (from datasets==1.4.1)\n",
            "  Downloading dill-0.3.6-py3-none-any.whl (110 kB)\n",
            "\u001b[2K     \u001b[90m━━━━━━━━━━━━━━━━━━━━━━━━━━━━━━━━━━━━━━\u001b[0m \u001b[32m110.5/110.5 kB\u001b[0m \u001b[31m11.4 MB/s\u001b[0m eta \u001b[36m0:00:00\u001b[0m\n",
            "\u001b[?25hRequirement already satisfied: pandas in /usr/local/lib/python3.10/dist-packages (from datasets==1.4.1) (1.5.3)\n",
            "Requirement already satisfied: requests>=2.19.0 in /usr/local/lib/python3.10/dist-packages (from datasets==1.4.1) (2.27.1)\n",
            "Collecting tqdm<4.50.0,>=4.27 (from datasets==1.4.1)\n",
            "  Downloading tqdm-4.49.0-py2.py3-none-any.whl (69 kB)\n",
            "\u001b[2K     \u001b[90m━━━━━━━━━━━━━━━━━━━━━━━━━━━━━━━━━━━━━━━━\u001b[0m \u001b[32m69.8/69.8 kB\u001b[0m \u001b[31m9.7 MB/s\u001b[0m eta \u001b[36m0:00:00\u001b[0m\n",
            "\u001b[?25hCollecting xxhash (from datasets==1.4.1)\n",
            "  Downloading xxhash-3.2.0-cp310-cp310-manylinux_2_17_x86_64.manylinux2014_x86_64.whl (212 kB)\n",
            "\u001b[2K     \u001b[90m━━━━━━━━━━━━━━━━━━━━━━━━━━━━━━━━━━━━━━\u001b[0m \u001b[32m212.5/212.5 kB\u001b[0m \u001b[31m18.1 MB/s\u001b[0m eta \u001b[36m0:00:00\u001b[0m\n",
            "\u001b[?25hCollecting multiprocess (from datasets==1.4.1)\n",
            "  Downloading multiprocess-0.70.14-py310-none-any.whl (134 kB)\n",
            "\u001b[2K     \u001b[90m━━━━━━━━━━━━━━━━━━━━━━━━━━━━━━━━━━━━━━\u001b[0m \u001b[32m134.3/134.3 kB\u001b[0m \u001b[31m15.8 MB/s\u001b[0m eta \u001b[36m0:00:00\u001b[0m\n",
            "\u001b[?25hRequirement already satisfied: fsspec in /usr/local/lib/python3.10/dist-packages (from datasets==1.4.1) (2023.6.0)\n",
            "Collecting huggingface-hub==0.0.2 (from datasets==1.4.1)\n",
            "  Downloading huggingface_hub-0.0.2-py3-none-any.whl (24 kB)\n",
            "Requirement already satisfied: filelock in /usr/local/lib/python3.10/dist-packages (from huggingface-hub==0.0.2->datasets==1.4.1) (3.12.2)\n",
            "Requirement already satisfied: urllib3<1.27,>=1.21.1 in /usr/local/lib/python3.10/dist-packages (from requests>=2.19.0->datasets==1.4.1) (1.26.16)\n",
            "Requirement already satisfied: certifi>=2017.4.17 in /usr/local/lib/python3.10/dist-packages (from requests>=2.19.0->datasets==1.4.1) (2023.5.7)\n",
            "Requirement already satisfied: charset-normalizer~=2.0.0 in /usr/local/lib/python3.10/dist-packages (from requests>=2.19.0->datasets==1.4.1) (2.0.12)\n",
            "Requirement already satisfied: idna<4,>=2.5 in /usr/local/lib/python3.10/dist-packages (from requests>=2.19.0->datasets==1.4.1) (3.4)\n",
            "Requirement already satisfied: python-dateutil>=2.8.1 in /usr/local/lib/python3.10/dist-packages (from pandas->datasets==1.4.1) (2.8.2)\n",
            "Requirement already satisfied: pytz>=2020.1 in /usr/local/lib/python3.10/dist-packages (from pandas->datasets==1.4.1) (2022.7.1)\n",
            "Requirement already satisfied: six>=1.5 in /usr/local/lib/python3.10/dist-packages (from python-dateutil>=2.8.1->pandas->datasets==1.4.1) (1.16.0)\n",
            "Installing collected packages: xxhash, tqdm, dill, multiprocess, huggingface-hub, datasets\n",
            "  Attempting uninstall: tqdm\n",
            "    Found existing installation: tqdm 4.65.0\n",
            "    Uninstalling tqdm-4.65.0:\n",
            "      Successfully uninstalled tqdm-4.65.0\n",
            "Successfully installed datasets-1.4.1 dill-0.3.6 huggingface-hub-0.0.2 multiprocess-0.70.14 tqdm-4.49.0 xxhash-3.2.0\n",
            "Collecting transformers\n",
            "  Downloading transformers-4.30.2-py3-none-any.whl (7.2 MB)\n",
            "\u001b[2K     \u001b[90m━━━━━━━━━━━━━━━━━━━━━━━━━━━━━━━━━━━━━━━━\u001b[0m \u001b[32m7.2/7.2 MB\u001b[0m \u001b[31m47.5 MB/s\u001b[0m eta \u001b[36m0:00:00\u001b[0m\n",
            "\u001b[?25hRequirement already satisfied: filelock in /usr/local/lib/python3.10/dist-packages (from transformers) (3.12.2)\n",
            "Collecting huggingface-hub<1.0,>=0.14.1 (from transformers)\n",
            "  Downloading huggingface_hub-0.15.1-py3-none-any.whl (236 kB)\n",
            "\u001b[2K     \u001b[90m━━━━━━━━━━━━━━━━━━━━━━━━━━━━━━━━━━━━━━\u001b[0m \u001b[32m236.8/236.8 kB\u001b[0m \u001b[31m14.2 MB/s\u001b[0m eta \u001b[36m0:00:00\u001b[0m\n",
            "\u001b[?25hRequirement already satisfied: numpy>=1.17 in /usr/local/lib/python3.10/dist-packages (from transformers) (1.22.4)\n",
            "Requirement already satisfied: packaging>=20.0 in /usr/local/lib/python3.10/dist-packages (from transformers) (23.1)\n",
            "Requirement already satisfied: pyyaml>=5.1 in /usr/local/lib/python3.10/dist-packages (from transformers) (6.0)\n",
            "Requirement already satisfied: regex!=2019.12.17 in /usr/local/lib/python3.10/dist-packages (from transformers) (2022.10.31)\n",
            "Requirement already satisfied: requests in /usr/local/lib/python3.10/dist-packages (from transformers) (2.27.1)\n",
            "Collecting tokenizers!=0.11.3,<0.14,>=0.11.1 (from transformers)\n",
            "  Downloading tokenizers-0.13.3-cp310-cp310-manylinux_2_17_x86_64.manylinux2014_x86_64.whl (7.8 MB)\n",
            "\u001b[2K     \u001b[90m━━━━━━━━━━━━━━━━━━━━━━━━━━━━━━━━━━━━━━━━\u001b[0m \u001b[32m7.8/7.8 MB\u001b[0m \u001b[31m78.8 MB/s\u001b[0m eta \u001b[36m0:00:00\u001b[0m\n",
            "\u001b[?25hCollecting safetensors>=0.3.1 (from transformers)\n",
            "  Downloading safetensors-0.3.1-cp310-cp310-manylinux_2_17_x86_64.manylinux2014_x86_64.whl (1.3 MB)\n",
            "\u001b[2K     \u001b[90m━━━━━━━━━━━━━━━━━━━━━━━━━━━━━━━━━━━━━━━━\u001b[0m \u001b[32m1.3/1.3 MB\u001b[0m \u001b[31m66.0 MB/s\u001b[0m eta \u001b[36m0:00:00\u001b[0m\n",
            "\u001b[?25hRequirement already satisfied: tqdm>=4.27 in /usr/local/lib/python3.10/dist-packages (from transformers) (4.49.0)\n",
            "Requirement already satisfied: fsspec in /usr/local/lib/python3.10/dist-packages (from huggingface-hub<1.0,>=0.14.1->transformers) (2023.6.0)\n",
            "Requirement already satisfied: typing-extensions>=3.7.4.3 in /usr/local/lib/python3.10/dist-packages (from huggingface-hub<1.0,>=0.14.1->transformers) (4.6.3)\n",
            "Requirement already satisfied: urllib3<1.27,>=1.21.1 in /usr/local/lib/python3.10/dist-packages (from requests->transformers) (1.26.16)\n",
            "Requirement already satisfied: certifi>=2017.4.17 in /usr/local/lib/python3.10/dist-packages (from requests->transformers) (2023.5.7)\n",
            "Requirement already satisfied: charset-normalizer~=2.0.0 in /usr/local/lib/python3.10/dist-packages (from requests->transformers) (2.0.12)\n",
            "Requirement already satisfied: idna<4,>=2.5 in /usr/local/lib/python3.10/dist-packages (from requests->transformers) (3.4)\n",
            "Installing collected packages: tokenizers, safetensors, huggingface-hub, transformers\n",
            "  Attempting uninstall: huggingface-hub\n",
            "    Found existing installation: huggingface-hub 0.0.2\n",
            "    Uninstalling huggingface-hub-0.0.2:\n",
            "      Successfully uninstalled huggingface-hub-0.0.2\n",
            "\u001b[31mERROR: pip's dependency resolver does not currently take into account all the packages that are installed. This behaviour is the source of the following dependency conflicts.\n",
            "datasets 1.4.1 requires huggingface-hub==0.0.2, but you have huggingface-hub 0.15.1 which is incompatible.\u001b[0m\u001b[31m\n",
            "\u001b[0mSuccessfully installed huggingface-hub-0.15.1 safetensors-0.3.1 tokenizers-0.13.3 transformers-4.30.2\n",
            "Requirement already satisfied: soundfile in /usr/local/lib/python3.10/dist-packages (0.12.1)\n",
            "Requirement already satisfied: cffi>=1.0 in /usr/local/lib/python3.10/dist-packages (from soundfile) (1.15.1)\n",
            "Requirement already satisfied: pycparser in /usr/local/lib/python3.10/dist-packages (from cffi>=1.0->soundfile) (2.21)\n",
            "Collecting jiwer\n",
            "  Downloading jiwer-3.0.2-py3-none-any.whl (21 kB)\n",
            "Requirement already satisfied: click<9.0.0,>=8.1.3 in /usr/local/lib/python3.10/dist-packages (from jiwer) (8.1.3)\n",
            "Collecting rapidfuzz==2.13.7 (from jiwer)\n",
            "  Downloading rapidfuzz-2.13.7-cp310-cp310-manylinux_2_17_x86_64.manylinux2014_x86_64.whl (2.2 MB)\n",
            "\u001b[2K     \u001b[90m━━━━━━━━━━━━━━━━━━━━━━━━━━━━━━━━━━━━━━━━\u001b[0m \u001b[32m2.2/2.2 MB\u001b[0m \u001b[31m60.8 MB/s\u001b[0m eta \u001b[36m0:00:00\u001b[0m\n",
            "\u001b[?25hInstalling collected packages: rapidfuzz, jiwer\n",
            "Successfully installed jiwer-3.0.2 rapidfuzz-2.13.7\n"
          ]
        }
      ]
    },
    {
      "cell_type": "markdown",
      "metadata": {
        "id": "Ggn6owaYTzO4"
      },
      "source": [
        "#38"
      ]
    },
    {
      "cell_type": "code",
      "metadata": {
        "colab": {
          "base_uri": "https://localhost:8080/",
          "height": 1000,
          "referenced_widgets": [
            "079967d459ae489c94d1c5ef14f10130",
            "2ecd40ebc77e4ea4b16b7877ffe2283c",
            "29d11f9af09b4bb59175307f1d96e37f",
            "e312cbf9ab0c4117a531a61aeaf2d2a7",
            "5a40f5c93d5042d79f4d7e24293e7f29",
            "caf744cb7bb640bda6437e611380328e",
            "b8e0c7b689a442cfadf98018abaa0af1",
            "2e7df64d4cb946bcbf58183dd9c730c9",
            "6d5002500d6847c0bfe2508168882ff6",
            "2bade53d3e234b37830bfb877813c78b",
            "22e031bc489f419b8a7245902a32def1",
            "f532893bd60e43558318cf1c367c682d",
            "2ff11ef2e0b94dbdbd82a0345b4c9ae9",
            "de9497de5ade4df69b1ba213eeaf10b3",
            "2b72ba8b00df4b1a9659443cd20b0365",
            "443885aaac8742629bb72f387976abbf",
            "3d84ec3b5834458fa18d30310e130cfc",
            "e55cfa18d8a14b77b2ad8a565522a282",
            "79a4bcb30d8d48e3be0a6575d571275d",
            "bd5de851ebb645dea04d383b33dfc2d6",
            "c18188a99392456f8934b327f7ecfc86",
            "e1daf92e3343478b98beb98f101298df",
            "ee0d5dcd229a49a9965af17334a02cf9",
            "415b318f20a74132bc6bb0f9a43555cb",
            "68b19463e7cc4f1e968ab5b6bde94787",
            "3647ab7ac4df46e18538b142b1d44e0b",
            "9b9f4d06ca8e4eab8a578bf17fff2aa1",
            "74f280c1732e4e4eb1e500d0094c8d63",
            "0b74bb5fc3c0439f98b7abc534a1ecb2",
            "f5fb8a214e4b44649bcfa81c9053659d",
            "6cea4ab921294e6995251468f6fc39c7",
            "5e9ca8f02c764a5a82306b57b7d38204",
            "a2d5d7a83e1b45e8a8b0fd4eb08ebf2a",
            "ae21b2ef498343af947eba949cba71d2",
            "f40c95fba5174be88e5fd288af0a49f2",
            "bf694000166447f4ad5ce9b70d382ad1",
            "8a14cda2ff144ba7bd813b7bf1be24a8",
            "bb1d050e8c08471086952c8ffe4f83f9",
            "f170ffd338ac46aa892b75f8b072aed2",
            "f892d2f51e6547fba78f38d7c269a42b",
            "f4daa912796340bfaf5e6c5173640c25",
            "6f42af8c1f6d43e9a039342f243aba25",
            "673023eb4571421886372fbbb4bbb912",
            "94aa255c8c014d5cbccf184524562a0d",
            "bb07e439e9b74178a02ff39fc8420caa",
            "30c28be8ec97453d8b0a2127ec6991df",
            "4911ba5d110a4a819fc3079a40fd10d9",
            "ca23433d2bcc4541ab107ca30c1d43f9"
          ]
        },
        "id": "dCmGbQWLU2HB",
        "executionInfo": {
          "elapsed": 38730,
          "status": "ok",
          "timestamp": 1688442271454,
          "user": {
            "displayName": "Jason Book Yim",
            "userId": "02824935638305274154"
          },
          "user_tz": -540
        },
        "outputId": "781047cb-9fd5-4842-e676-780f610356dc"
      },
      "source": [
        "import soundfile as sf\n",
        "import torch\n",
        "from datasets import load_dataset\n",
        "from transformers import Wav2Vec2ForCTC, Wav2Vec2Processor\n",
        "\n",
        "model_name = \"elgeish/wav2vec2-base-timit-asr\"\n",
        "\n",
        "# 모델 및 프로세서 불러오기\n",
        "processor = Wav2Vec2Processor.from_pretrained(model_name)\n",
        "model = Wav2Vec2ForCTC.from_pretrained(model_name)\n",
        "\n",
        "# 모델을 eval 모드로 전환\n",
        "model.eval()\n"
      ],
      "execution_count": 2,
      "outputs": [
        {
          "output_type": "display_data",
          "data": {
            "text/plain": [
              "HBox(children=(FloatProgress(value=0.0, description='Downloading (…)rocessor_config.json', max=159.0, style=Pr…"
            ],
            "application/vnd.jupyter.widget-view+json": {
              "version_major": 2,
              "version_minor": 0,
              "model_id": "079967d459ae489c94d1c5ef14f10130"
            }
          },
          "metadata": {}
        },
        {
          "output_type": "stream",
          "name": "stdout",
          "text": [
            "\n"
          ]
        },
        {
          "output_type": "display_data",
          "data": {
            "text/plain": [
              "HBox(children=(FloatProgress(value=0.0, description='Downloading (…)okenizer_config.json', max=311.0, style=Pr…"
            ],
            "application/vnd.jupyter.widget-view+json": {
              "version_major": 2,
              "version_minor": 0,
              "model_id": "6d5002500d6847c0bfe2508168882ff6"
            }
          },
          "metadata": {}
        },
        {
          "output_type": "stream",
          "name": "stdout",
          "text": [
            "\n"
          ]
        },
        {
          "output_type": "display_data",
          "data": {
            "text/plain": [
              "HBox(children=(FloatProgress(value=0.0, description='Downloading (…)lve/main/config.json', max=1629.0, style=P…"
            ],
            "application/vnd.jupyter.widget-view+json": {
              "version_major": 2,
              "version_minor": 0,
              "model_id": "3d84ec3b5834458fa18d30310e130cfc"
            }
          },
          "metadata": {}
        },
        {
          "output_type": "stream",
          "name": "stdout",
          "text": [
            "\n"
          ]
        },
        {
          "output_type": "stream",
          "name": "stderr",
          "text": [
            "/usr/local/lib/python3.10/dist-packages/transformers/configuration_utils.py:380: UserWarning: Passing `gradient_checkpointing` to a config initialization is deprecated and will be removed in v5 Transformers. Using `model.gradient_checkpointing_enable()` instead, or if you are using the `Trainer` API, pass `gradient_checkpointing=True` in your `TrainingArguments`.\n",
            "  warnings.warn(\n"
          ]
        },
        {
          "output_type": "display_data",
          "data": {
            "text/plain": [
              "HBox(children=(FloatProgress(value=0.0, description='Downloading (…)olve/main/vocab.json', max=291.0, style=Pr…"
            ],
            "application/vnd.jupyter.widget-view+json": {
              "version_major": 2,
              "version_minor": 0,
              "model_id": "68b19463e7cc4f1e968ab5b6bde94787"
            }
          },
          "metadata": {}
        },
        {
          "output_type": "stream",
          "name": "stdout",
          "text": [
            "\n"
          ]
        },
        {
          "output_type": "display_data",
          "data": {
            "text/plain": [
              "HBox(children=(FloatProgress(value=0.0, description='Downloading (…)cial_tokens_map.json', max=85.0, style=Pro…"
            ],
            "application/vnd.jupyter.widget-view+json": {
              "version_major": 2,
              "version_minor": 0,
              "model_id": "a2d5d7a83e1b45e8a8b0fd4eb08ebf2a"
            }
          },
          "metadata": {}
        },
        {
          "output_type": "stream",
          "name": "stdout",
          "text": [
            "\n"
          ]
        },
        {
          "output_type": "display_data",
          "data": {
            "text/plain": [
              "HBox(children=(FloatProgress(value=0.0, description='Downloading pytorch_model.bin', max=377675500.0, style=Pr…"
            ],
            "application/vnd.jupyter.widget-view+json": {
              "version_major": 2,
              "version_minor": 0,
              "model_id": "f4daa912796340bfaf5e6c5173640c25"
            }
          },
          "metadata": {}
        },
        {
          "output_type": "stream",
          "name": "stdout",
          "text": [
            "\n"
          ]
        },
        {
          "output_type": "execute_result",
          "data": {
            "text/plain": [
              "Wav2Vec2ForCTC(\n",
              "  (wav2vec2): Wav2Vec2Model(\n",
              "    (feature_extractor): Wav2Vec2FeatureEncoder(\n",
              "      (conv_layers): ModuleList(\n",
              "        (0): Wav2Vec2GroupNormConvLayer(\n",
              "          (conv): Conv1d(1, 512, kernel_size=(10,), stride=(5,), bias=False)\n",
              "          (activation): GELUActivation()\n",
              "          (layer_norm): GroupNorm(512, 512, eps=1e-05, affine=True)\n",
              "        )\n",
              "        (1-4): 4 x Wav2Vec2NoLayerNormConvLayer(\n",
              "          (conv): Conv1d(512, 512, kernel_size=(3,), stride=(2,), bias=False)\n",
              "          (activation): GELUActivation()\n",
              "        )\n",
              "        (5-6): 2 x Wav2Vec2NoLayerNormConvLayer(\n",
              "          (conv): Conv1d(512, 512, kernel_size=(2,), stride=(2,), bias=False)\n",
              "          (activation): GELUActivation()\n",
              "        )\n",
              "      )\n",
              "    )\n",
              "    (feature_projection): Wav2Vec2FeatureProjection(\n",
              "      (layer_norm): LayerNorm((512,), eps=1e-05, elementwise_affine=True)\n",
              "      (projection): Linear(in_features=512, out_features=768, bias=True)\n",
              "      (dropout): Dropout(p=0.1, inplace=False)\n",
              "    )\n",
              "    (encoder): Wav2Vec2Encoder(\n",
              "      (pos_conv_embed): Wav2Vec2PositionalConvEmbedding(\n",
              "        (conv): Conv1d(768, 768, kernel_size=(128,), stride=(1,), padding=(64,), groups=16)\n",
              "        (padding): Wav2Vec2SamePadLayer()\n",
              "        (activation): GELUActivation()\n",
              "      )\n",
              "      (layer_norm): LayerNorm((768,), eps=1e-05, elementwise_affine=True)\n",
              "      (dropout): Dropout(p=0.1, inplace=False)\n",
              "      (layers): ModuleList(\n",
              "        (0-11): 12 x Wav2Vec2EncoderLayer(\n",
              "          (attention): Wav2Vec2Attention(\n",
              "            (k_proj): Linear(in_features=768, out_features=768, bias=True)\n",
              "            (v_proj): Linear(in_features=768, out_features=768, bias=True)\n",
              "            (q_proj): Linear(in_features=768, out_features=768, bias=True)\n",
              "            (out_proj): Linear(in_features=768, out_features=768, bias=True)\n",
              "          )\n",
              "          (dropout): Dropout(p=0.1, inplace=False)\n",
              "          (layer_norm): LayerNorm((768,), eps=1e-05, elementwise_affine=True)\n",
              "          (feed_forward): Wav2Vec2FeedForward(\n",
              "            (intermediate_dropout): Dropout(p=0.0, inplace=False)\n",
              "            (intermediate_dense): Linear(in_features=768, out_features=3072, bias=True)\n",
              "            (intermediate_act_fn): GELUActivation()\n",
              "            (output_dense): Linear(in_features=3072, out_features=768, bias=True)\n",
              "            (output_dropout): Dropout(p=0.1, inplace=False)\n",
              "          )\n",
              "          (final_layer_norm): LayerNorm((768,), eps=1e-05, elementwise_affine=True)\n",
              "        )\n",
              "      )\n",
              "    )\n",
              "  )\n",
              "  (dropout): Dropout(p=0.0, inplace=False)\n",
              "  (lm_head): Linear(in_features=768, out_features=32, bias=True)\n",
              ")"
            ]
          },
          "metadata": {},
          "execution_count": 2
        }
      ]
    },
    {
      "cell_type": "markdown",
      "metadata": {
        "id": "cFLsQVKiT0DR"
      },
      "source": [
        "#39"
      ]
    },
    {
      "cell_type": "code",
      "metadata": {
        "colab": {
          "base_uri": "https://localhost:8080/",
          "height": 220,
          "referenced_widgets": [
            "368c29005e474d6ea2ac89a24e232832",
            "49d95d28606c411daaee99921b92ade7",
            "3a76903ac751419ab5a0fa99d5762704",
            "a739e10949d94e4e84ffe1f74e1258e6",
            "d1eef39cf2c84884b506348a5ffa461e",
            "11022af546be4980866a716191732297",
            "fabfc7088eec454c92a36f2380426a99",
            "fd9a4490cd3d443db73b30c22de81d66",
            "91ecaf85efbe4a5c91a5bc1f6f027d9b",
            "4439d72ceaa249c196bd313d134b4354",
            "6ee0e6adfa5948ca8b6d3236135433a9",
            "5d9bfbea0d424b5d9273aa25818d84fc",
            "0693e92d18624e7cb6328722b4c8d6d8",
            "654f3bf999d44f2ca6486df4d5aa2bee",
            "8d6cd18d8432441a9e2c8bcd9d552552",
            "1c4ce7bde8cc45dfb41d1f83242b9db7",
            "15f6020dbf13444e97aae96b90300324",
            "ae6c688289bd4fb2af7b92a28eb1f20c",
            "dfc91c8daf8b4415b63bb2805e95b651",
            "2b07d411aa844e9b846276b1d341d03d",
            "2994e65cdafb4b958148d71b2eeb6da9",
            "ac84d195a05f49c49b214b02380b5e20",
            "0ea25d1d74f246aeb55a5cb5014dae17",
            "97b643f80ddf4d2cbaa3c00d7aa43ad9",
            "dcfaef8c0b554e29b414e14dd3eca932",
            "9948c43444184a86ad9433d4a89eba97",
            "c0f6d9e5ea6946de98cf7be00e9f14fb",
            "21a8395106a94c5f83174cc8dd90eff4",
            "b9570e318431476e81e10a8b6125d70b",
            "630106e6bdb6465788312b51ef4d6e32",
            "85e0d52bd2f04ddb8416c6b887c4c469",
            "11694d5a3a4f4fdc9af2b69da0fae1ae",
            "6975c4dbe0e14bcd8791ff82b8d803be",
            "4f5a635beab8406e96c551600a681d51",
            "b396ab7231814a3a8a2254efee4eaab1",
            "ac3f9c8f7d134e42824c81ba3d77153b",
            "315989e94f99478ba44d7faf7d81214d",
            "e0552a505be84033bc0577ded2c3c0ed",
            "33df426c53b346b1904b75ff962620d6",
            "55393f9636b74e01ba6e46f63855de99"
          ]
        },
        "id": "m9tvRWKJVk2T",
        "executionInfo": {
          "elapsed": 244599,
          "status": "ok",
          "timestamp": 1688442545525,
          "user": {
            "displayName": "Jason Book Yim",
            "userId": "02824935638305274154"
          },
          "user_tz": -540
        },
        "outputId": "d40061ae-9382-4c10-e248-4f8599372e73"
      },
      "source": [
        "# 런타임 1분 30초\n",
        "dataset = load_dataset(\"timit_asr\")"
      ],
      "execution_count": 3,
      "outputs": [
        {
          "output_type": "display_data",
          "data": {
            "text/plain": [
              "HBox(children=(FloatProgress(value=0.0, description='Downloading', max=2348.0, style=ProgressStyle(description…"
            ],
            "application/vnd.jupyter.widget-view+json": {
              "version_major": 2,
              "version_minor": 0,
              "model_id": "368c29005e474d6ea2ac89a24e232832"
            }
          },
          "metadata": {}
        },
        {
          "output_type": "stream",
          "name": "stdout",
          "text": [
            "\n"
          ]
        },
        {
          "output_type": "display_data",
          "data": {
            "text/plain": [
              "HBox(children=(FloatProgress(value=0.0, description='Downloading', max=1006.0, style=ProgressStyle(description…"
            ],
            "application/vnd.jupyter.widget-view+json": {
              "version_major": 2,
              "version_minor": 0,
              "model_id": "91ecaf85efbe4a5c91a5bc1f6f027d9b"
            }
          },
          "metadata": {}
        },
        {
          "output_type": "stream",
          "name": "stdout",
          "text": [
            "\n",
            "Downloading and preparing dataset timit_asr/clean (download: 828.75 MiB, generated: 7.25 MiB, post-processed: Unknown size, total: 836.00 MiB) to /root/.cache/huggingface/datasets/timit_asr/clean/2.0.1/72abf9645fc2cfd87e21af1e381de0ab6ed1be4123c441ca97dc6766b96816a6...\n"
          ]
        },
        {
          "output_type": "display_data",
          "data": {
            "text/plain": [
              "HBox(children=(FloatProgress(value=0.0, description='Downloading', max=869007403.0, style=ProgressStyle(descri…"
            ],
            "application/vnd.jupyter.widget-view+json": {
              "version_major": 2,
              "version_minor": 0,
              "model_id": "15f6020dbf13444e97aae96b90300324"
            }
          },
          "metadata": {}
        },
        {
          "output_type": "stream",
          "name": "stdout",
          "text": [
            "\n"
          ]
        },
        {
          "output_type": "display_data",
          "data": {
            "text/plain": [
              "HBox(children=(FloatProgress(value=1.0, bar_style='info', layout=Layout(width='20px'), max=1.0), HTML(value=''…"
            ],
            "application/vnd.jupyter.widget-view+json": {
              "version_major": 2,
              "version_minor": 0,
              "model_id": "dcfaef8c0b554e29b414e14dd3eca932"
            }
          },
          "metadata": {}
        },
        {
          "output_type": "display_data",
          "data": {
            "text/plain": [
              "HBox(children=(FloatProgress(value=1.0, bar_style='info', layout=Layout(width='20px'), max=1.0), HTML(value=''…"
            ],
            "application/vnd.jupyter.widget-view+json": {
              "version_major": 2,
              "version_minor": 0,
              "model_id": "6975c4dbe0e14bcd8791ff82b8d803be"
            }
          },
          "metadata": {}
        },
        {
          "output_type": "stream",
          "name": "stdout",
          "text": [
            "Dataset timit_asr downloaded and prepared to /root/.cache/huggingface/datasets/timit_asr/clean/2.0.1/72abf9645fc2cfd87e21af1e381de0ab6ed1be4123c441ca97dc6766b96816a6. Subsequent calls will reuse this data.\n"
          ]
        }
      ]
    },
    {
      "cell_type": "markdown",
      "metadata": {
        "id": "jSWxKZ3AT05U"
      },
      "source": [
        "#40"
      ]
    },
    {
      "cell_type": "code",
      "metadata": {
        "colab": {
          "base_uri": "https://localhost:8080/",
          "height": 76
        },
        "id": "-QzHEQLRV2Pu",
        "executionInfo": {
          "elapsed": 1073,
          "status": "ok",
          "timestamp": 1688442623981,
          "user": {
            "displayName": "Jason Book Yim",
            "userId": "02824935638305274154"
          },
          "user_tz": -540
        },
        "outputId": "8018e735-0a75-4b69-a2d9-59b372ed963f"
      },
      "source": [
        "import soundfile as sf\n",
        "import IPython.display as ipd\n",
        "import numpy as np\n",
        "import random\n",
        "\n",
        "# dataset['test'][\"file\"]에 있는 첫번째 데이터를 df.read( )에 투입\n",
        "speech, _ = sf.read(dataset['test'][\"file\"][0])\n",
        "ipd.Audio(data=np.asarray(speech), autoplay=True, rate=16000)\n"
      ],
      "execution_count": 4,
      "outputs": [
        {
          "output_type": "execute_result",
          "data": {
            "text/plain": [
              "<IPython.lib.display.Audio object>"
            ],
            "text/html": [
              "\n",
              "                <audio  controls=\"controls\" autoplay=\"autoplay\">\n",
              "                    <source src=\"data:audio/wav;base64,UklGRr5dAQBXQVZFZm10IBAAAAABAAEAgD4AAAB9AAACABAAZGF0YZpdAQA8APn/BwD5/yUAPABSAFIAUgBSAFIAQwAtAOr/2/+9/67/zP/q//H/6v/q/+r/FgAlAB4APAA8AB4ADwAPABYAQwBhADQAHgAAAPn/FgAlAFoAQwAAAPn/4v/i/w8AJQBLACUAFgAWAAAA8f/b/+L/4v/b/9P/2//i/+L/8f8WAAcAFgD5/yUASwAeABYAAAD5/wAAAAAWABYABwAeAC0ALQAWAC0AFgBaAEMAHgAHAPH/AADx//n/8f8AAOL/BwAHAB4ABwDi/9v/4v/b/+L/2//i/+r/DwAAAPH/+f/5/wAAFgA0AFoASwA0ABYABwD5/wAA8f/q/9v/+f/5/w8ABwDx/9v/2//b/+L/AABLAFIAWgA8AAAAAADb//n/FgA0ACUAFgAHAPn/DwAWAB4AFgAHAA8ABwAlAC0ALQAlABYAFgAHAA8AHgAHAAcA8f/i/8z/zP/b/+L/HgAlAEsAPABSAFoAUgBSAFIAUgBDAOL/4v/b//H/2//T/9v/xP/T/+L/2//b//H/DwAtAGEAHgAeABYAHgAeABYAFgAAAAAA+f/q/9v/8f/b/+r/AAD5/wAADwAPAAcA+f8AAAcAHgD5/wcA6v/i/+L/6v/5/+L/2//b/9v/xP/b/+r/FgBLADwAWgA8AFIASwAtAC0ANAAPAA8AFgBDAB4APABaACUAUgAtAEsAJQAeADQALQAPAB4AHgAeABYAFgAPAA8ABwAeAAcA+f8AAAAAJQAPABYAAADx//n/8f/5/+r/2//i/9v/4v/q//n/+f/5/wcAJQAlADwALQAPAAAABwDq//H/8f/b/+r/2//x/+r/8f8PAAcAAAAAAA8ABwAHAPn/8f8AAPn/2//i/wcAAAAHAAcA+f/5//n/4v8AAAcAAAAPAB4AFgAeAAAAAAAPAAcAJQAWACUAFgAAAAAASwAWALX/cv9j/67/zP8AAGEAJQBLAFIAWgAtAAAAFgDx//H/DwBLACUABwD5/+r/zP/b/wAAHgAWAA8ABwAAAOr/BwA0ABYAHgAeABYAHgAHAAAADwAHABYAJQBSAC0AHgAWAAcA6v/q/wcALQBDABYA8f/b/9v/0//i/9v/4v8PAB4AJQAtADwAFgAtAEMAFgBSAEsASwAtAOL/4v/T/+L/2/8AACUAQwBaAB4ADwA0ABYAHgAWABYADwAAAAAAAAD5//H/AAAHAB4AQwA8ADwADwAWAA8ADwAWAAcA8f/q//H/4v/T/8T/xP/b/9v/0//q/+r/6v8HACUALQA0AEMAQwBaAEsAUgBSAFIAUgBDAB4ASwD5/w8AAADx/9v/8f8AAAAAAAAHAB4AAAAeAAcADwAeAAcA4v/T/7X/xP+1/7X/6v/x/wAAJQAeAFoANABDAFIAUgBSAFoASwAlAAcAFgAAAOL/AADx/wAADwAHAA8A6v/q//H/4v/i/+L/8f8HAAcAAAAHAPH/+f8PAC0AFgBLADwAWgA8AEsAJQAWAPn/FgAPAPn/+f/5//H/+f/q/+r/AAAPABYAFgAAAA8ADwAAAAcAAAAAAA8ADwAWAAAADwAeABYALQAeAC0AJQAPAB4A+f/5//H/8f/q/w8A6v/q/+L/AAAWAA8AFgA0ADQAHgAlAA8AJQAAAA8A+f/x/wcADwAHAB4AAAAAAPn/4v/5/wAAAAD5//n/DwDx/xYABwAPAAcADwD5/w8ABwAHAOr/AAD5/wAA+f8HAAcADwAPAAcABwD5/xYADwAeAC0AJQAHAA8AAADx//n/8f8AABYAFgAPAA8ADwAWABYAJQA8ACUALQAeAB4AHgAWABYAJQBDADwAWgBLAFIAJQAWAB4AFgD5/wAA6v/i//H/AAD5/wAABwAWAB4ANAAWAB4AFgAeAAcAFgAPAAcAFgAeADQAFgA0ADQAUgAtACUAFgAWAA8AAADq/wAA+f/5/+r/8f/x/9v/4v/i/+r/AAD5/+L/4v/i//H/6v/5/wAAFgAWABYALQAlABYAJQAWAC0AHgAeAA8AAADq/+L/2//i/9v/6v/x//n/DwAAAPn/AAD5/wAADwAPABYAFgAeABYAFgAeAA8ADwAlAB4AHgAWAAcADwD5//H/8f/b/9v/4v/i/+r/+f/x/w8ABwAAABYAHgAHAAAA8f/5//H/+f/i//n/2//x//H/4v/5//H/BwAtAEMAPABaADQAJQAeAA8A+f/5/wAA+f/5//H/AADx/wAAAAAPAAcAFgAHAA8ABwAAAPn/+f/x/+L/4v/q//n/AAAAABYAFgAWABYAHgAeAB4AFgAPAAcA6v8AAPn/+f/5//n/4v/x/wAAAAAPAAcA6v/5/+r/4v/5//H/6v/q//n/AAAAAAAAFgAPABYAHgAeAA8ABwAlAAAABwAPAPn/AAD5//n/DwAPAPn/8f/5//H/6v/x//n/+f/5/wAAAAAHAPH/DwAHABYAAAAeAAcAFgAHAAcABwDi/+L/2//x//n/FgAWACUAHgA8AB4ANAAeABYABwD5/w8ABwAPAPn/8f/b/9v/2//q/+r/4v/5/xYAAAAeABYAFgAtABYAHgAeAB4A6v8HAPH/+f/q//H/8f8AAPH/DwAPAAAADwAHAAcAFgAWAA8AJQAeAAcAAAAAAPH/AAAAAAAABwAHAPn/DwD5/w8ABwDx/+L/+f/x/w8ABwAPAPn/DwDx/wcABwD5//n/AAAAAA8A+f8WAAcADwAAAA8AFgAPAAcAAAAHAA8A+f/x//H/2//q//n/+f/i/wAA+f8HAA8AAAD5/w8AAAAWAAcABwAHAAcADwAHAAcA8f/x//n/AAAPAOr/4v/x//n/+f/5//n/+f8eAPn/BwAHAPn/AAAAAPn/DwAAAAAA6v/q/wcAAAD5/wAA+f8PAAAAAAAAAPn/8f8HAA8A+f8PAA8AFgAWABYAHgAPAAAA+f8HAAcA6v/5/+L/+f/x/+r/8f/x//n/6v/q//n/4v/5//n/6v/5//n/+f/5/wAA+f/x/wcA+f8PAPn/DwDq/wAABwAAAA8ABwAlAAAAAAD5//n/8f/q//H/6v/5//H/+f/x//n/8f/q/wAABwAWAAcAAAD5//n/AAD5/wAA+f/x//n/AAAAAAcADwDx/wcAAAAPAAcA+f8HAA8AFgAAAAAABwD5//H/+f/q//H/AADx//n/BwDx/wAA+f8PAAAADwAWAA8ABwAHAPn/AAAWAAAA+f8AAAAA+f8AAA8ADwD5/w8ABwDx//n/FgAAAPn/FgD5/w8ABwAPAPn/AAD5/wAADwAHAAcAFgAAAAcABwAPAAAAAAD5/wcABwAHAAAA+f8PABYAAADx//n/AAD5//n/8f8AAAAAAAAPAPn/AAAHAA8ADwAWAPn/4v8AAPH/6v8AAAAAAADx/w8ABwAAABYABwAPABYA8f8HABYABwAPAPn/BwAAAB4ABwAAAAcAAAAHAAcAAAAPAAcADwAHAPn/AAAPAA8A+f/5//H/6v8HAA8A8f8PAAcABwDx//n/+f8WAPH/AAD5/wcA+f8AAA8AAAAHAPn/DwAAAAAA8f8AAPn/+f8AAOr/BwDq/wAA6v/5//n/+f/q/+r/+f/x//n/8f/5//H/6v8AAPH/AAAAAAAA8f8AAOr/0//T//n/2//i//n/+f/q/wcA8f/b/+L/4v/b/9v/2//i/9v/2//i/+r/4v/i/+r/4v/b/9v/2//b/9v/2//i/9v/2//T/9v/2//b/9v/xP/b/+L/2//q/9v/2//i//n/2//i/+L/2//b/9v/2//q/wAA+f/i/+L/2//q/+L/2//b/+L/8f/b/+L/4v/i/+r/6v8AAAAA+f8AAA8ADwDx/+r/AAAAAAAABwAeAA8AFgAWABYAFgAeAA8ABwAAAAAABwAWAAAABwAPAAAABwAWAB4AFgAHAA8ADwBDAEMAQwAeAEsAUgAWACUAJQBDAB4AHgAWABYAHgAeAB4AFgBDADQAPAA8AEsAWgBLAFoASwBaADQASwAtAEMAPAAtAB4AHgAeAC0ANAAlAB4AJQAeACUANAAeAGEAJQBDAFIAPAA8ADQAPAA8AEsAUgBaAEMAQwA0ACUAFgAeAB4ANABLABYASwAeAB4AFgAWABYAHgAeABYADwAPAAcAFgAlABYAHgAlABYADwAPACUAHgAWABYAHgAAAB4ALQAAABYAHgAWABYABwAWABYAHgAPAB4AFgAPAA8AJQAPAB4ADwAHABYADwAWAA8AFgAAAA8ADwD5/x4ABwAHAAcADwAWABYADwAHACUAFgAeAAcABwAPAAcAHgAHAA8A+f8HAA8ADwAWAA8AQwAeABYAJQAAAAcALQAWAB4ADwAHAB4AAAAPAAAAFgAPAB4AHgAPABYAFgAHAA8ADwD5/wcAAAAPAAcAFgAWABYADwAeAAcA+f8AAA8AFgAPAAcAHgAHAA8AAADq//n/DwAHAA8ABwAPAAcAHgAeAAAADwAAAAAADwAAAAcAAAAPAAAAAAAAABYAFgD5/w8AHgAWABYAAAAWAA8AFgAeABYAHgAPAA8AFgAAAA8ABwAWABYADwAHAA8ADwD5/x4ABwAWAA8AFgAHAB4ADwAWAAcADwAPAB4AAAAlABYABwAWAA8AHgAWAA8AAAAPABYADwAPAA8ABwAlAAcAHgAWAB4AFgAPACUAHgAHACUAFgAtABYAFgAWAB4ADwAeAA8ABwAPABYAFgAeAA8AFgAPAA8AFgAHAB4AFgAlAB4AHgAWACUABwAPAAAADwAeAAcAFgAWAAAAHgAAAAcAHgAHAAAA+f8PAPH/AADq/wAA+f8WAAcABwAPAPn/AAAeABYADwAHAA8ABwAlAAcADwAPAAAADwAHAA8A+f/q/w8A+f8WAPn/BwD5/xYADwAAAAAAAAAHAAcAHgAWAAAABwAAAAAAFgD5/xYAHgAWABYAFgAPAAcABwAWAA8ADwAeAAcA8f8AABYABwAPAAcADwAPAAAA+f8PAAcADwAWAAcADwAWAA8ADwAAAPH/+f8PAAcABwAWAB4ADwAPAAAAJQAHAAAA+f8HABYA+f8HABYA+f8AAPn/4v/q/x4ADwD5/w8AJQAHAOL/JQAeAPn/AAD5/9v/2/8HAAcA2//i/w8ABwDM/zQAPADq/+L/FgAeAAcA8f8eADwADwBaAAAA6v8PACUA4v/q/x4A+f/i/wcABwAlAOL/LQAtABYABwD5/wcAAAAHAOr/JQAPAAcA6v8PACUA4v8HACUA8f/x/xYABwAHABYABwAAAAcADwD5//n/8f8AACUAFgDq/x4ANAAHAOL/NAA0ANv/AAAlANP/HgAeAOL/NADi/x4APADM/wAANADM/wcAPADx//n/aQAeANv/QwAWAAcADwDq/0MAFgDi/2EALQDT/y0APAAAAA8ADwDb/zwAFgC1/0MAJQD5/xYA+f/5/1IA6v/5/1IA0/8PAEMA2/8PAFIAzP8lADwA0/8tACUA0/8tAMz/BwBpAOL/0/9LAPn/+f9LAK7/NABLANv/HgAPANv/aQAPANP/UgDT/zwABwDi/zQANADT/wcAPADE/0sA2/8AAEMAzP88AA8Avf88AOr/NAAlAMz/JQBDALX/LQBLAOL/cAAHANv/PADE/zwADwB5/zQABwC1/44AAADM/1IAPAC9/0MAvf88AFoAxP8WABYAxP9DANv/6v8WAL3/YQAWAL3/QwBSAMz/NAAHAMT/YQD5/67/WgAPAOr/SwAWAEsAtf8eAAAAPAD5/0MA0//x/3gAAAC1/1IA0//5/0sABwC9/8z/UgDT/+L/2/9SAL3/2/9SABYAPADb/9P/vf8lAA8An/9hAAAAzP9SAFoAtf/b/xYA6v9SAJ//zP94AA8Avf/x/1IAHgDE/5YApv9q/y0AeACI/wcAHgC9/w8A+ACX/7X/ywAAALX/nQC9/4H/eABDAEX/WgBDAMT/8f+WAHL/cACHAFv/0/+dAMT/Y//aANv/rv80AEsAtf/5/3AAvf8eAEsAvf/M/9v/LQCHAMz/rv9wAHgAAf9hAGkA2/8HAC0APACX/zQAFgAPABYApv8AAAcAywD5/0z/uwCHADwAH/9SAPAADwBy/0X/jgDq/7QABwCm/0sA+f/q/44A6v8AAAAAYQAWANv/BwDE/+r/SwDq/9P/gf+u/0MADwDDAC7/+f/SAPn/AAAHAFIAWgAPANv/aQAWAPn/FgAHAAcAJQAAAEz/JQA0AIj/fwCB/5D/tf/wAFoAxP+f/8T/DwAAAH8AQwBM/0MAHgBaAIj/vf94AA8ALQBq/7sATP/q/2kA6v+dAIj/cADE/y0Al/8WAHAAzP8AALX/nQCX/1oA6v+dANP/LQDT/y0ASwDi/7X/SwBLANP/Rf88AMT/QwA8AEX/jgC1/wAAFgBb/0sAHgCm/3L/BwAeAJD/hwAAAEMA8f+sAPH/BwAPAEMA8f9LAGkApQDM/+r/YQCWAAcAzP+1/2kA+f8PACUA0/9pAJ//aQA8AC0AkP8eAHgA2/8eAOL/UgB/APH/Pf80AGEA4v9j/wcAlgDM/1v/tAD5/9P/6v/pAFv/0/9SAMz/kP+1//n/xP/M/73/4v/i/xYAY/9DAJf/ef8eAOkAFgDq/uL/UgC1//n/LQBSAAAABwC9/qUBJQHj/XcBev53AfL+WgAWAMMAcv/x/8T/hwBq//n/vf8eAA8ADgGm/5//WgAHAOr/SwBSAPAANf/T/9v/QwGm//n/YQCdAHgAHgDLAOkA/wD4AGgBaAFLALQB8AHhAfgA4QDDAGEApQBF/hf/EP9F/zb+vv0J/nL+mP6J/ib/AAB5/w8AjgA0ARYBQwGsAVIBwwEdAX8BUgGHAOEAfwD/AIcA8f+1/2EAQwDq/7X/LQAHAOr/n/9SAIcAxP/b//n/8f/T/9v/jgAtAIj/PAAeAAAAcv8PAI4AnQAHAAcAWgA0ANP/4v9DAEsAl//x/xYA2/+u/xYAuwDDAGkAaQAHAVIA/wC7AZ0ALAFj/67/EP9y/+r+EP+f/mP+Pf6+/T3+cv6n/j3+gf6Q/7X/LQBwAHAA2/8m/1T/cv/y/sX+gf4f/i7+kP7c/S7+mP4g/SD9n/36/PP8av6f/rb+Pf7b/tz9tv7y/q7+vf5U/zb+tv41/7b+Af9q/xf/Nf+I/73/2/9pAAAANACWAKwAUgD/ANoAuwCsAAcBuwDwAAcBNAFDAYYBNAFKAaUBYQEsAVIBFgHwACwBywDaAKwAhwBDAHAADwAWAPn/aQAHAAcAJQBhAB4AQwBDAFIAcAClAIcAaQCOAGEASwBDADQAtf/q/4j/TP/b/nL+Nv7c/RH95Pxz/L77ivtG+7D6TvpO+t35mfn7+bD5g/kZ+jD6MPqw+kb7xvvV+wL8Pvzc/M38H/6u/j3/FgDhAOkAnQEdAZ0BuwEdAncCbwPgAyoGjAfeCa8OSxU7GBUYpRbTEkUPtw0DC7kHIwduBbsCrAGsAGr+mPwZ+qL1JPHD72jvFfB28rn0V/Yw+Ef5Gfqv/Hr+0//SAHcBOwMqBiIIqQoZDcYNIA2KDGwLKQpPCjgKmwhBB5QGHASsAjsDhgJq/6j7ZfgE92b2SPaE9bn13vaT9kD2hPZt95r4P/nd+QP6mfn7+QL8Lv62/oH+vv2f/T79tvwR/L77CvsZ+k75ofiw+BL5sPip+Jn5kvjH9wv5bPlH+d36qPt6/Kf+LAHCAhkN1xuCI70lYyWhHxsclBodFvkR8hCvDXwJ/Qe5BxsGDQWzAor7/vL562zmVeVV52vo4upa7drtNO8r8t/0yPYa9972XvcK+s39cAIxCesOVBEXEnIRWxBUEGsQxQ8CD2wNPwwKDaAOgQ8+D3MNEgpfBWkAc/x7+rD5QPh19l/1svSj9MH0dvQM9CvzWPJn8tDzi/Yo+s39fwDoATMCOwKVAsICfwLoAfgAHgAX/0X+Lv7F/Sf9IPxV+z/6A/ne9+X3T/ii94v3bffl91b47Pnk+hH8ifyQ/RD+gf6u/uP+CP95/4j/tf/5/1IApQCkApsI3A6XEoAUeBQPEy4SkBBVDnMMGgv8CJsHyAabBuYGBAf1BvYEwgIm/2z7A/rl93z35vaT9jH2sfUT90f3A/g4+Pz39PeE9zD43fhO+vr86v5KAVkCyQNBBd8FuQaFBkEGwQU6BdEEKwQVBMkDbwPRAsoB+AC1/9v+Rf42/lT+GP4Y/q/91P1F/p/+8v5U/9P/aQDSAOkAnQBwAHAAUgA8AA8ADwAHAMz/l/+1//H/BwDb/5//cv9M/zX/Lv8m/z3/Pf9U/z3/Pf8u/xf/CP8f/zX/Lv81/1v/av+B/4j/iP9q/2P/Rf81/xf/Jv8X/x//F/8u/0X/Lv9b/3L/0/88AJ0A8AA0AWEBlgGdAZ0BrAGlAaUBnQG0AawBtAHZAf8BJAIdAv8B0gGWAWEBNAH/ANIAtAClAIcAjgCOAJ0ApQC0AIcAWgAlAPn/0/+1/6b/vf+u/67/pv+9/9P/tf+9/4j/iP9U/1v/Y/9j/3L/kP+I/6b/n/+X/5D/kP+Q/4j/iP+B/4H/ef95/5//rv/E/9P/0/+9/9v/xP/E/73/vf+u/6b/n/+I/5D/iP95/4H/cv9U/1T/Rf81/0z/Lv8u/xD/Lv8f/y7/Lv81/zX/Lv8u/zX/Lv8f/yb/H/8u/yb/Nf89/0X/Rf9b/2P/W/+Q/+r/QwCHALQA6QAOASwBOwFDAUMBSgFDAUMBSgFSAWEBnQG7AbQBrAGGAXcBSgFDAQ4B8ADLAJ0AlgCOAI4AjgCdAJYAlgB4AFIALQAHAOL/0/+1/6b/rv+I/67/vf+1/8z/0/+9/6b/iP+I/3L/cv95/3L/cv+Q/5//n/+X/6b/l/+Q/5f/iP+I/4H/rv+m/6b/vf+9/9P/0//E/9v/0//E/73/pv+9/7X/zP/T/8T/xP/b/7X/pv+X/5f/cv9y/2r/Y/9b/2r/av9q/4H/ef9j/3L/cv9q/2r/av9j/2r/av95/2P/ef+I/4j/gf+I/4H/ef+B/4j/kP+X/5D/pv+m/8z/+f9DAGEAnQC7APAA/wD/AAcBFgElAR0BDgEOAR0BLAE0AUoBSgFKAUMBOwEOAfgAywC7AKUAlgBpAGkAcABwAGEAWgBhAFoAUgA8AB4ABwDb/+L/xP+9/67/tf/E/9v/2//b/9v/0/+9/73/pv+m/67/n/+X/5//rv+u/8T/xP+9/73/xP+u/6b/n/+m/5//tf+m/73/zP/M/9P/zP/M/9P/vf+9/73/n/+9/7X/vf/E/8T/0//M/7X/tf+1/5//ef+B/4j/iP+I/5D/n/+m/67/n/+m/7X/pv+m/7X/pv+f/67/pv+1/7X/rv/E/8T/vf+9/8z/tf/E/8T/0//M/9v/0//i/9P/4v/T/+r/0/8AABYAHgBSAGEAlgCWALsA0gDSANIA2gDDANIAywDSAMMA0gDhAPAA+ADpAOEA6QDpAMsAtACdAI4AeABhAFIAUgBSAFIAUgBSAFIANAAHABYABwDx//n/2//i/9v/4v/b/9P/0//T/7X/rv+m/5//l/+f/6b/vf+f/8T/tf/E/73/vf+1/8T/rv+u/6b/tf/E/9P/2//b/9P/zP/b/9P/xP/E/9v/0//T/+L/0//b/+r/4v/q/+r/0//b/+L/zP/E/73/zP/E/9P/zP/M/8z/2//b/9v/0//T/8z/xP/T/7X/2//b/+L/2//b/+L/4v/b/9v/2//i/+L/8f/q//H/+f8AAAcADwAHACUAFgAeAB4AHgAWADwAPAAPACUAPABaAFIAUgBSAFoAWgBSAGEAcABwAJ0AjgCHAJ0AtAC7ALQAuwC7ALQAwwC7AMMArAClAKUAjgCWAIcAcABaAFoAUgBSAFIAQwAWABYA8f/5/+L/2//b/9P/vf+u/5//n/+f/4j/gf95/2r/cv9q/3L/av9y/4j/kP+I/6b/pv+u/73/vf/M/8z/2//b/9v/2//x//H/+f8PAAcAFgAWAB4AFgAWAA8ABwAPAAcABwAWAAcA8f8PAAAA+f8AAOr/8f/b//H/8f/i/+L/2//b/+L/2//i/9v/2//b/9v/2//T/+r/6v/b/9v/+f/x/9v/6v/5/+r/BwAPAB4ABwAWABYAHgAeACUALQAeAB4ASwAlADwAPAAtAFoAPABLAFoASwBDAFoAUgBSAFIAUgBSAFIAUgBSAFIAUgBSAFIASwBDAFIAUgBSAFIAUgBSAFIAUgBLAEMAWgA8ACUANAAlAB4AFgAeABYAFgAPAPn/BwAPAPH/6v/x/wAA6v/b/9v/4v/i/9v/2//i/+L/2//b/9v/0//i/+r/4v/i/9v/6v/x/+L/2//x//n/8f8AAOr/+f/5/wcA8f/5//H/DwAHAPn/+f/5//H/+f8AAAAA+f/x//n/8f/x/wAA+f8AAAAA+f8AAPn/AAAAAPn/6v/x/wcABwAHAAAA6v/5//H/+f8AABYAAAAHAAcAFgAAABYADwAeAAAADwAWAAcADwD5/w8AFgAPABYADwAeAAcADwAeAB4AHgAeAB4AFgAWAB4AHgAPAB4ABwAeAA8AHgAPAAcABwAWABYADwAPAAcAFgAWABYAAAAWABYADwAWABYADwAPAPn/FgAAAAcAAAD5/xYABwAHAAAAFgDx/w8AAAAHAPH/AAAAAAAAAAAAAPn/+f8AAAcABwAAAAAADwAAAAAAAAAAAPH/8f8HAOr/AAD5//H/+f/5//H/+f/x//n/6v/i/+r/6v8AAPn/AAD5/+r/AAD5//n/DwAHAPH/+f/5/wcA8f/5/wAAAADx/+L/+f/i//H/8f/5/w8ADwDx/wAA+f8PAPH/+f8PAAAADwAAAPH/8f8WAPn/BwAHAPH/+f8AAA8AAAD5/wcA+f/5//n/AADx/wAAAAAPAAcAAADx/w8AAAAAAAAAAAD5/wAAAAAAAPH/AAAHAPH/AAD5/w8ABwD5/w8ADwAHAAAADwAAAAcABwAAAAcABwDx/wAA+f8AAAAA+f8AAPn/+f8HAAAA+f8AAAcADwAWAAcADwAHAAAAFgAeABYAFgAAAAAAHgAWAA8ABwAAAAcA+f8WAPn/AAAAAPn/DwAHAPn/AAAWAAcABwAPAAAADwAHAA8AAAAAAA8ADwAPAAcADwD5//n/BwAeAAcA8f/5/wAA+f8PAPH/FgAHAAAABwAAAAAABwAPAPH/+f8AAA8A+f/5/wAABwAAAAAA6v/x/wcAAAAAAA8AAAAAAPH/8f8HAAcA+f8AAPH/AAAPAPH/BwAPAAAA+f8AAOr/8f8AAAAA+f8AAPn/AADx/+L/FgAHAAcADwAAAAAAAADx/+r/+f8AAAAA+f8AAPn/+f/5/wAADwAAAAAA8f8AAPn/+f8AAPn/+f/q//n/DwAHABYAFgAeAAAADwAHAPn/DwAHAAAA6v/5/wAA8f/5/wcADwAAAPn/+f8AABYAAAAPAPn/DwAHAPn/+f8AAAAA+f8AAPn/FgAHABYAAAAWAAcAAAD5/wAABwDx/wAA+f/x/wAADwAHAA8AAAAAAA8AAAAHAPn/+f/5/wAADwAHAPn/DwAWAAAADwAPAPn/DwD5/wcADwAAAAcAAAD5/wAABwD5/wAAAAAAAAAABwAAAAAA+f8AAAAAAAAHABYA+f/q/wcADwD5/w8ABwAHAAAADwAHAPH/AAAHAOL/8f8AAA8A8f8WAAAA+f8WAOL/+f/x//n/AAAHAA8ABwAeAAAAAAD5/wAAAAD5/w8AHgAHAA8ABwAeAA8AAAAWAAcA8f8lAAcADwAPAAcADwAHAA8ADwAAAAAAFgAAAAAAAAAWAAAABwAAAA8AFgAPAAcADwAWAA8ADwAWAAcABwAWABYABwAAAAAAAADx/wAA8f8AAA8ABwAPAA8AAAD5/x4ADwAWAB4AFgAlABYAHgAPABYADwAlACUABwDx/wcAFgAWAAAABwAHAA8AFgAWACUADwAlAAcAJQAPACUA+f80ADQAJQAHAFIAAAA7AuYHcALKAc4L/QYJDrQBa/3vA2AETP/F/AH+2/6v/b3+2/6J/Sb/Tf3YBOoQxBExCPcB6v6Z+bL0ffWh+uz5XfuZ+eX5P/kD+Df7a/xI9GX4sffF/b3+H/8+/QL9mP48ANP/OwGlANz9p/1c/XL+6v5LAH8B/wAAAB//Lv7b/50B2/8m/wn8t/uR+9z8xfyB/gH+p/1b/hYAtAAOAdIBBgIdAbsAOwEdAR0CwgOcBNEDSgNgBMkE5wQjBbMEBgPZAR0B6QBwAEsAiP8n/lz9IP0C/dT8+vwJ/YL8r/vN+2T8xfxj/fL9vv1F/XL9J/4f/vL9if1V/BH7TvqK+RL5fPga+DH3/PZ195L4ofls+aH47ffX9ir2E/aa9n313/WF9Cr1MvQD+Oz4Avx7+5D9Vfyf/vn+MwIVAo0EIA53Kx4+z0cKSkVPIE1rTsJBFDAEHKELd/Ed3L7Sp9L0zgLRH9R51UPaMeMZ59zoH+rF6E7mMOXF5+jvRf04C3gVMB+WKns1LT67QZc8kjSOKhsdRg6VA1X7qvSs7/LqkeeQ6ULxZ/Sq9Ln19fTh70vuHu6l7wz0GfoY/doAXgoWFJ0XpBjvF/kScwwjB3cBivt0+bj4hPXJ8qr0fPeT91D1DfLi7MXog+Ua4nbd79u63I3d99wq4JLka+mA7Afv8O8j9KL3mPwn/T3/0//JA7ALKDYVVoFleGeDchNxXnDyY85L/iwGF6P04MgGsSyxQ7C9qxawSrLmtyvJeNl/25zev+RV5k/jg+Of6XX3zQ4oIZYqPzUSSYxZIGNsYOhVKUhyOUYi7Qiy9JjnFN8m1+bMUsWTy4DYMt7C2zvc4N0M4MDghOED5IbxnQB1CL4NhRoGLI88MUdmRg5BPD1GN48oZxlHC5/+FPM+6I7aJ9Nb1mnZ09XN02rVW9b42brebuBt4vLq2PFY8rrzbPlc/Ov8mPxt+IXzaPHg8GLtWuwt7jPyuvN89t736/ysFn9ADVh7X1xhnmh/acxj01CKNvQe/Amo5NvAfbUEuXS5uLjtuZm7O8aH2Aviwd/m4bboCemS5cbmpe4PAB0XxSR/KuQ2qErYV2dZWlKiRj440yjEE5n6LulH4pzd8tQEzMjKNtXX4NbjBOFt4Wzmn+nq6sPt0fIQ/nUJGBCVFlsnijfSQNlAcjsMMJcmOB9jERD/svRi7fzjWN3R3LrdG+EZ5vrm1+Gb4UblzuQ44lbjEuU+52rrUu+O73bydfV19lHySu947UzrTOnE6jbqnuys76PyfwAHKZZU6Gvlcr53/39xfPZtpVJHM/AW3/UzyNuqg6ZNqlOsf69YtHu7OcuG3Dnhb90x4qDm9eEU3iHk0fJsCwkk5jGWPVtRn2U6bIBm/Vq4STgzyBvy/k/irtRG0cjKzMHjv4XICNdB4ObhbuAh5FvqD+3L7N72QgS1E14fryThKxg4rEFhQOU1tCrOIMQT9Qb0+A/sL+eK5d/fO9sy3sfkY+gn6CDot+YZ573qF+tV50zp8O7o8G/xwfMM9ov2ovbI9Wjxy+1w7q3siOsP7H/w9/H99NkC3CQoS4JgF2adaVhuYGyiWxc90Rmv/FDfsLpmorGic6mArTK26cK+0szpiP9BBY4AHQEzBFEC8AB3AkgHrBU9JzouBDJSP75Nek3aPYAoFhQkAizwntjMwSm5bLzUwDvFks5u4KL1BgTACJIL1BBwF1EZjhUBEh4U9RsvIvIkryOAJ4AoNyM7F1gGzvo68tXnd9tc0i/Tyd305BHo8O3I9iUAKwRoAsz+L/0n/fv5fvLD7o3xm/Wx9pP19vPu88j0nPEe7LDk0N4N3lHc4dnR2/XftudY86cPPjhmWllq9HM+dq54InDDVOcuuAvT7P3LgK58pIKpiK0FtdrCetK35qD7JAQHAZH8gvqh+Yv4sPnz/CMGqxgHKVcxCD2gTB5SZUjsNE8fPwz0+bjj5svsvCi8JsJnyEbRlN9Z8f8AogkpC0YNAREPE+IRNw23DVMT0BqpH04gtyGnJAIjIxv5EDMDqPnB85Hn591w2uDdOOQR5lTpJPAb9T784v83+wP6r/yR+/X2WPNu8yP1ZvYE9zL0LPCr8obxPOx75Tjk9eDf39DfE+F04zbpYPFBBi4m5Uk3YFpnq20pcmZvqlncOBUXdfaW2Oy8Aaw2qS2vFLWfwDDQsOVW+RQGmwckAwn+XP1U/S/7mfnb/qgL7hvLJ20ySz8wSQxHETmnJY8UYATZ7w/YjsXFvmrCushk0I7bAOwJ/bgJRQ/qEkoXShgcGPESvwxFDwgSyhXpFXETURiUGzsWthAcBU37Kfjw7yHl0N9t4Rnmcujy6fDvfPY3/HAAPf7O+jf8Tfv99NLv0u5/7zPwYPB/747uWfHR8WnuzOsg54np1uRl5ALnqObb6vX2tREMMUxRyFvqZZtubnA8ZplKWij9Bwnp/coUtWupVKvosda5qso63yr07gWBDwMLyQQ7AdP/Tfw49xv1r/vtCRwaRSbmMdk/x0c7QfwygiO1Etv/rukg0pfC+b9KxbnLPdWL49D0qwQQESQYwRptHcAcLRQSCyoGKgiiCQQJRwmKC5cR2BlKGOsPGgvJBev9FPQm6zflx+JH4xLkiuUP7U/3PvwJ/eP9zP5c/SH6FPVh7zTtnu287B/rD+yV70Lxb/F/79LvFfAW7sPupusQ6oft0u4u/5QakjSKTB1V+148Z8Nn51fTO5Qbn/2x4WDIT7c0r3iwk7cPxNvUeerU/rALVBA3DNAFaALaAAr7bvPC8Ub6wAjKFsUjOTCmO2hArjtJL04hHxKQ/TfmetJKx8rFqsoZ0iTbp+hz+l0MnBkLH2Qhix0cGLYQFAZSAK/9Tfxz/OP9SQR6D6QX/hj/FlMSGQycBZL5vOy/4+DdldxY3gPjretQ9Kj6+f5DAFoATP+o+4z1Le7r6LDlEuXO5fPmAepi7efxQfXt97/4ivmD+Nf1Z/M9/2IU+CgWPqRBAU4bWvxcS1RMPHsgMQlo8B/W4cTeuG623rnbwZLQP+Rt+FcHKA7lC9YJ/AjuBhYBfPec8V72aAK/DLsWTSLnLjc3ijbQL8wmDBsDCtD0m98J0wrQ7NDj0zTa8+XP97kIYRWrGioc9hpKFk4NfgMv/E/4i/Yj9c/3LAFsDbQW0BpCGUIXNRN8ChD+rO/75MHe6Nt+3ATha+gk8UD4gvxM/ywBBwEJ/Bv0iOvr5l3k9eHP4eXigueW7W/yi/fr+9P/ywCJ/kX/kA/0HxMyVDlMOzFHIE1cTVJA8ShxFCQEpe7o23zOh8V4xI7Gqc3D2HLoVvidArMDdwIcBKoGWAZ4AG347fZ5/0AJ3A7pFZIfYimrLbMrWyawHywWqgeE9ZLlWN8U3qPds91H4uLrgvu4CS8P+RGeEmISxQ91B3L/oPt0+E/2KvYS+X4Dig0mE54UNBQHFfkRdQmn/efxn+n75N7hE+G/477oQ++c86L3kfty/tz9uPiN8XHtcukn6O3jdeES5BnnvO1Y8t73J/3hACQCBAhnGlMnxje+OJA6SULJQyw/VzDIG90KEP8W7jHiPNnV0tzSiNX32iLjYe5l93r8qPoh+bf7Nf9y//v6bfeK+v4E3QyfETMYdB+9JQAnESRWH8IZJxDYA+32h+1561vrvenM6kvuSPZDAVAGQAgiCAQHUAadAon8kvmL+Lj3fPgZ+8sA5QnUD8QRcRLbEL4PEgskAuX4jfFx7OPpxejF6I/rO++F8l/1fPfH+WT6C/eG8R7uJusY6TfniuR75fPnAO2z8Nf0gvpr/cMAVglYGqYooTUwNFs66D88PqA3LShoFmUKLv878C/ndeCc3Svd396S5J7rUfJH+Mf51/XQ9ED3Ifm492f0G/Rk+joEoQqJD8oWmh5NIygiXh+iHJ0X+g1CA6H50PRu9IXzjfJ986n3mP4zBLIGXwXvAyQD2/9V+kD2ffSb9EH19fUK+iwCCwtcDvoOCRDrD1wO7geQ/7D40PP/78PtF+zx7HDwwvLm9G331vnr+yH6qvVC8entzOpG5zDl3eNs5kXpj+wN8rH2Avsn/v0G+BXNIjIvJC6xMrY5GTcjMBAlOxeZDTIGC/mG8ensY+rM6ePpCOxK8Wf0OPdW9/7xM/CU8qPzWPL+8LPx7fcHAUEG3QrqERwZ1xybGzMZjhd4FKANDAZy/4L84/09/gL9+v20AIYDDAcqBpUC8AAQ/gr6DPV38ZXx3/Nf9WX3L/vwAZMIIQtHCl4JRwkMB2ECn/2D+d72wPWq9MnzX/XP9075v/mo+d35qPmi97LzWe8P7cTrauqY6Jjo4uuP7cPvUPMM9sD38/rZAacOBRsCJNwiDit8MowwjirWIAYZcRNOC6f+XflP9tjz9+/w7ljyV/aE9tb3Xvdf8+Dx9vI6843xw+8k8fX2if1/AKMEKAwmE8sUYhMmE+ITVBFsC0kGfwIkAncDMwNoAxwE5wXACM8I9gX+AvAAtv0a+QXz2fAU88H0DPX99cb6JQHnBV8GQQWUBdEErAKB/q/7Zfn8+Nb4Xvex9yH6kfwY/Wv85PsY/C/75fgE9RXxf/Cl7hbtgOyX7DvwlfEc8ir0sfWS+E/4IPsUBYkP/hlCGeYdpiZLKBAlSB2GFw4WFxLQBXL/Nv6R/JL4z/WL9sb6ofqo+bj4QPc59u70o/Oy80nzsvIb9T/6Rf3M/zoEkwmKDN0MEgwKDIoLOAlJBtgDjQP2BKMGuQcECHwITwlWCtcHjQOWARD/kfvH97n00PSq9vz2yPUT9yD7Cf4u/oH9Y/3r/a/9mfsh+Rr5Evoo+pL5Gfp6/Aj/4QDDAeACFAUjBrMEjgJLAGP9VfqL9+b0o/PB82f0X/Sx9bD4MPqY/NT+0gFQBooNTg1VDOMPuAp8COcEuwF/ARwFJANgBAUG0AaqBm4HXgg5CLoE6QCY/tX6uPjW9973A/q3+qD7IP0dAkoDdgSjBDIFdwO0ADb+Cf1G/Eb6Tvq3+1v+jgF+BP0GEgr0CvwIQAn9BxwFJAP4AHr9Tf3c+/r7zf0f/y0A6QDLAA4BjgC9/+P++vxN+3v6Kfld+ZL6Avyv/fn+rv9SAHAAQwCQ/1T+Ef1z+1X6sPmK+Wz5RvqK+gn8IPxF/UX9p/xs+076ZfhW94v2sfUh+cz/MwKjBSELTwoKDJIMzguwDJAPZQtWCTIHSQT/AJYAcAENAzsBcAClAFoAHgBhAL3/uwCQ/7f7qPr6/OT8kfyQ/bX/nQDq/5f/wwD/AbQATP8B/73/xP94AEICowQ6BfYE9QbfBQwGGwY6BboDHAMWAPn+VP76/Cj8IPwg/IL8vvzN/a7+rv7U/kz+Pv1c/QL9zfwv/UX9kfzc/Pr8a/22/eP96/3F/Yn9vvxr/BH8L/xG+9X6Vfu3+l37e/pd+l36c/o/+db4kvjk+mEAwgLvA4sJ7ge5B20JfAjACa8OTgxACgsKGweNA7sCJAN3AzsCBwAm//L9Lv6J/tv+8AClAIn9xfx6/h/+Af6Q/mr/4v9M/lz9TP7E/3n/6v4u/zQA6QDaAIYC0QQ6BY0FwQVJBSsFUQQVBOgD9wLhAVIAkP/b/q/9tvyv/In8mPyv/OT8Rf2n/Yn9ev2Q/QH+Pf49/lv+GP6f/VT98/zr/An96/y+/KD8vvzN/An9Ef02/b78xfz6+/r7PvuZ+or6mfrd+Dj5ofhW+ZD92QIVAkgHBAlfBRMIVwf1BhoLoQwECccK9QdYBbMD4AOjBJwEwwHaANv+VP0f/qf9kP9ZAWP+Tf1y/kX++v2u/9P/cABU/4H9Rf3y/WP+Lv6Q/pf/vf9F/3AB7wIcBJwFHAUFBasF/gLgAwYESgOGA2gC4QD/AFv/Rf4J/j79Pv2Y/C/8r/yC/M38a/1N/RD+Y/76/dT+xf5M/h/+if0+/SD9vvzk/Nz8xfwn/Sf9n/0Q/sX9zf1r/a/8tvwJ/JH7mftz+7f6ZPpO+nv6kfun/tECJALBBioGwgTBBbIFsgXWCYsJbQgDClAHOgUNBI0E9gT+A/ABdwHF/tT93P2Q/cMAJQHj/gj/H/8u/on+Af+u/6wA4/6Q/Sf9Rf3c/T3+1P48AJD/Pf9LAPgABgJoA/cDbwRYBJUDwgN+AysE2ANRBPcCtAHwAGr/vf6Y/Yn9oPxz/MX8gvzF/OT8if3y/R/+av49/vr9Af7F/b796/2v/Yn9xf22/bb9r/0f/mr+vf6B/nL+J/4Y/p/9kP3N/dT9tv36/Lb8ifyv++v7GPyR/Cb/8AAsAUIEdwO6A40EDQS6BMgGZwY5BzIHwQVYBZwD/gM6BDsDrAJRAh4AxP8f/y7/cACWAHgAeAB5/x//4/75/g8A2/9b/x//8v2Y/ev9xf3F/lT/zP4m//n+CP/5/+kAjgGOAsIClQLoAsIC0QJ3A+ACLAN/Ap0BywAPANT+6v6+/XL93PxN/E38TfxN/AL98/xy/RD+8v1y/uP+CP+m/5//0/8WAOL/6v/i/5//VP81/8z++f69/q7+p/6Y/q7+n/6Y/sz+8v7y/jX/F/8X/yb/CP8B/zX/Y//i/5YAJQGsATMCBgIOAiQC6AH3ATMCOwKkAsIC6ALvAsICpAKsAmECQgL/AXABQwGlAHAArAB/AH8AfwAlAPn/n/89/zX/Jv8Q/x//1P7M/tv++f5b/6b/4v8PAAAA4v/5/9P/+f8lAFIAUgBSAFIAeACHAKwAuwCHAGkAFgDb/7X/n/+m/7X/vf/T/8T/0//T/8T/4v/E/5//gf9F/0X/Rf9U/2r/av9j/z3/H//5/vL++f7y/gj/EP8B/xf/TP9y/8T/2//q/8z/rv+I/3n/Y/9y/4H/ef+f/4H/iP95/67/zP8tAIcAywAHASwBJQFDAUMBQwG7AUMBwwHKAawB0gHDAawBfwF/AVIBDgHpAH8AYQBSADQAUgBSADwAFgDi/8z/xP+u/4j/l/+Q/3L/cv9y/3L/gf+I/5D/ef9j/2r/VP9F/0z/W/9q/5f/xP/q/wAADwBSAHgApQDDAMsAywDLALsAwwC7AMsAywC7ALsAnQBaAFIANAAlAAcA+f/b/9v/zP+u/5//n/+Q/2r/Y/9F/zX/Jv8I/xD/+f75/gH/8v4B/y7/Jv9F/0z/TP9M/0X/TP9b/2P/W/9q/2r/iP+I/5f/pv+u//H/NACdAMMA+AAsATsBJQEHAR0BLAFDAUoBSgFDAUoBQwE0ATsBNAEOAdoApQBpAFIAUgBSAFoAUgBSAEsA+f/T/7X/kP9q/2r/cv9y/2P/ef+B/6b/tf+I/3L/TP8f/wH/8v4Q/1T/kP+1/9P/2//b//n/SwClAP8AYQG0Af8B6AHDAYYBtAGlAaUBUgHZATMCswIGA7MDWAXVDb0SZA6iCWcG6AJ8+KXuveqQ6o/r4uuV8c75fwB/ApUCMwSrA67/XfpW+Ub73PvU/K7/hgOFBLoDWQMVA8MAtvyK+s765PrO+vr7Pf8OAjMEOgVJBtcGbgUcA/cBDgIGAjMCdwP9BVAHbgf9BvUGwQVZA9IA2/41/4n+if09/j3/2/6J/ZH8sPrO+sf4Kfd8+IL6N/zy/Z0AJAIkAo4B8ABaABD/tv1y/Rj+Y/8HADQBdwKGA/cCaALwARYBDwB3ARUD/gMrBbIGZgh1Cd8G2APwAWkATf2w+d34A/oR+wn8p/wf/6wAtf8B/if9Ef3r/NX7N/s3/Fv+rv+f/zwAywB/ABf/Rf0C/IL8mPwJ/Sf9cv6HAJ0BFgGX/xD/2/+u/uv8L/zF/B/+if0+/QH+EP/M/uT8oPsK+137Lv9RA1AHqghHCe0JMQrfB+8EdgRuBxMJfAh9B/0H5ghICEEGjQUNBe8C6v+J/LD61vlz+qj7Cfwo+5L5Kfga91/1ffSb9Qv4x/ns+XP6CfwY/mP/LQBDAX8CnQIGAn8BuwFRAzoFbgb9BgQHowZ2BqoHGwgLCbALCQ7cDnMMTwg6BdkCJv8R+3v5OPm/+F73k/bt9/T5Cvr8+PT58/v6/DwAqwS5ByIJkweNBX8Ac/x89wX0UfD/7+fxm/Rm9gv5c/tc/JH8bPqa96L1svQN81nxSPRW97j3KfdI9kf3bvWc8jPxQvJy/vkR9B6gI4ohZCGJI6odxBNcDsQRyhdhFh4UeBMPFLUTmQx2BBD/x/gG8nrpOONt4tXmD+6O8GnuxOsY6VToRuaD5K7pYPH19r/5kfzhAZMH1guZDU4NmA5jD/oOvg4CD1MTQhlnG6MZ8BW9ElUOIglJBRUEFAeKDJ8QtwyqCDMEgvyM9LXsLum35vzjRuUJ6Y3xXveZ+Tf7Pvw9/67/tvw2/bQASQWyBboE5wVIB2cFrv4L96r0ufTQ81HynPPA9Xz4i/jX9IXyLO81683mseI/5LflJ+jE6x7tnPHu86j7uxYcLnQzbjEzLbExwDFTJ7gfXSDbJ1MnZR+qHUoYcRNsDB4AovdD7xnmut4f1SjQL9Lg26Li/d/+3Tres90M4JvhVOic81X7QwFXBwIOtBTJGsYgNyLOIIogKR+LHaobuhplHr8gMhylFU0P5gi1/+33UPQk8obvYuty6ULw5fnN/F35e/m3+Qz2tO5q6tLuQPZV+mP9DgKECSgOpw7sC/wKig3zDO4GQwGm/8MBrAHy/db59Per8/nr++U/5eTngerF54HoTOly6TbpPuYC6EXp6+hM6vLpxOz378LxQPaJ/EsTIDgwSlZJskWrQjlGFkAzLS8iVx3PHugXmBCCDowHbwPr++LsUOBr1EnKccJ8uQO6WcZb1RXd397W5HHr2e+E9YP52gAxCUYO8BVOIPEoyDCoNms4fDSNLrUnVh6WFTYPXQt0CkkGY/8Z+5P26e635jHh/t0l2urVPdQz2w3ywgOECVQReBUkGCYTbgWlAR0CwgNoA3ABzwgYD3gUFhQ+D5gQxQ7+A1b36e2H7n7xne/i7OHt8O947Dfl5ePO5HPlZOW54MDicuk9653unfAL9yn5C/eb9VnxZ/MT9ivzIfkX/44VUUNSVFpTrFb5UENUukMJJA8TmQswDA0Dqff097TvbvTt93ro99tAzVy/qbkVsbK1SsW11WbhEOuv+14JZA5/FUoXuhnPHO8Z5hs+JCUqDDJGOIk53jPhKt4e1A+zA7D6M/Av5zrfJNzX4GzkfOJW4k7k5eMM4FHb99p75aj7kwlcDqAiZDYfO5A65jElKpgjiBJU/5T0DPXt9vX15fco+oj/HQKS+Svz4PFo7wHqmuIi4aDmpusP7aXu9vKj8xzxHe9T7dHwDfN+8X7yDPag/Jj+GPz6/Bj+Cfxf9XfvYe9D70Pu8O7A9RsdJ00gTWlTVE9NTJZSXTZgGQIO5wV6/vPnuONk553ucAD7+ZLlyd1r0/zOwsa3vUTBjMyP1lfg9+98CYYYmCN3K4Ao1CTHHyMaqh1lHv0cVxxIHbAfbCGDIOcYCgxSAV/zVuSP2M3Ra9Rw2azZytqi4mnuV/X89/z3C/jW+T77Rvtq/wMLmxszLjlH8FQHU+lTu0EHKkMW1Pwh5ZLQS8NUwGjG1NO63bXrA/pF/0MBzP/V+rD57vWA7evmn+oN8lb3t/qv/awBXwY6BMT/R/nI9ivyYe/i7Cbspe0G8WDxUfAz8VHw6e1i7Yjrceuo+7IvQUQ4SJpHAU6SXXVcBkLDKe0eGwh38Azh5uDA4b7ovet94ELdVuKZ5pPh69NwxjvFssqEy7bUeetq/3QL2BgJJCoyFzsgOaIxJSpOIZ0XchHqEVsS2xFNDl4J3wflCdgDA/j56m7gD9nz0VfMzs5T11jfKeQ17Kr2YASKDGMPGQ3sDEUQYhPfGmMkJC1bPEJCxDt6OSg3vCdbEvT4GuTj1efJPcFTwfbJl9WU367q/PaGA8cLXgiI/+P9Cf2L9p3wf+8N8+b2wPd7+9EDCwqDCv4ESwC2/N347vOt7QrnAuZH5ATiA+PN6LzsrO7h7crwKfkOF5k2YT4oNhE3bkUkVnJQ+zVqJ78gJhHq/uDy9/CU8mrrKuA82Qzgpuxa7KPfCNYn0x3a4Nvw2djd1efw7Wfzp/z7C5QZ9B85HcEbXh8gJKAjMR2OFssTxRCRDWUKAwsgDSkJlgCn/Bj+YQCo+7PxROum6jXrzejd5U3nTOt47WntBvA4+OkASgPhAJ0BVgpCF8Yg5CLzITYkhyh4KrQpeyKOF8cLl/9t+EHzNO6R5oXejd3t4sXpB+7a7ujw3/O59JT0ufUa9xT1aO/b62nuFPXl+HX3Xvaw+PL9rADM/8X9TfwZ+vz2FPP28nfxw+4m7GrqB+1w8Kvyr/3bEmonrCyAJ2cvlUL6TtdGLCxzId0gmxvkDJn62PNu9Ibwl+oZ53fwR/k689znEuM96druxuUA2dTUd9qb4NfhqObK7+X58AEjBqcPuhqwIG0eQhhKF5Qaqxm8FF0NAwwJDl0NxgwCDgkQCRBWCnYF9wNKA3L+q/Py6kXoPui25/Tk9ORM6VLuDfJ99Yn80AZcDh8SnhQUGqkfVh8jHBUYSxS9EIQJnAPaAJ/9ZfnQ827z/PaD+JP2dvPf9JL4ZfeU84bxBvJ+8entvetp7RXwlfCd7p3vhfOx9iL3dfX19Yv4zvj094z1KvZe9gX0K/OU8gX0hfRB8zH3fgRRGZAlpyQQJXQzUEW3Svk7WSt4KS4mhBxlCnL9sPhQ88Tr7OU35x3w0fBU6k7leugO8PjuZeQN3STdSOGT4Zvg5eRq60HzTvlhAKgLPBV2GYUZWBlIHZIf3hyGFjYRrhCBEPoNRgwhDBkNPwxACUAIZgiyBssA3fjn86TxHe+B6uzlZOWQ6PHrO+/X9IH97wO5BygMaRMVGNEXABS2EPkQZA44CWcEYQFZATX/6/z6/NT+BwDc/L/55Pqo+3v5bvRK8brxjfGO71ru2u7K8PfwHPG68pT0G/aj9DrzI/T19c/17vP28hv0svRB9N/z7vTA9c/1ovX19oL6ZwVxFNYeIR+SIDMtCD1ZQSg3hyoOKlMoGiAXEUkFNf9d+TPxWuyA69nv/+5b6j7opuus8HDweuht4wPjxuW35YPjP+Rc6J7tWPPH+B0BsQgZDr0QNRMkF9AaMhr3Fq0S+REmEqcQzQ0/DPsLigzHCtYJzwlACe4FywCv/Mb6Ifj98yzvnuyH7ZXv0fCr8RT0QPhU/QYCQQbHCmsO6w+2D/IPPRCoDUAK7gUsA+EBav+v/eT8r/zz+7D6Cfw2/YL8TvoL+BL4MPjm9ZzzWPJC8tHxaPEk8m7zKvT981/zsvSb9ar1Z/R287rz2PMb9Mnz5/Oq9Dn03/RA9lb3fPhF/YsJUhZnG24aKSAFLkY3qTSlKT0m2yfNI/YZLw7QBzsD1PxW9/3zyfPX9JTyWfBR8Bzy2PP38OLq+udF6FvpIOeK5GTlAenp7Svx/fQg+1kB7gWxCOUK1Q49EXkRPg/VDc0OTQ+3DZIMRgzGDREO+wyhDAoNZAzlCSoGnANDAdT+N/sh+N72mvai9Rv1DPZH+LD62/5/AoUEswQrBUgHkwdnBfcBav9y/xj+J/1G/Gv83P3b/qb/0gDoAY4C/wBy/9T+kP2R+3v5qffX9gT2m/Wq9df1DPbm9TH2BPaM9VD1hfSN8xzz0fKU8gbySfLn8jrzUPPn86P0Ofb19hP3ivloApgOUhYOFpUXAiJgLYwvlyjzIfMjVSNmHekTmQyTCGcENf/N+5n5P/r7+an3ZvU59RP3OPez8errReri6xDrL+dO5bbnNeyW7vfvm/Q3+wAA2QGkAucFQArsC4MKMQjICL8KMAttCqEKcwwCDqANVQ2nDs0PXA6SCl8HKgY6BdECAf/G+136Gfr7+Tf63fp7++T8pQDgBAUGBgQGAywDhgJpAGv8Evps+WX4Evgh+YL7J/4u/67/BwEsA+8DwwEB/z79Efzk+rD5XviL95P3/Pdl+Ir5P/rO+an4/PZt9nz2bvVf8zPySfKj8oXyWPO68wX0dvMb9JT03/TM64HoFfKGAR4T9hqxHesjwTDhQDpEETkkLSYoXSFoGN4JW/9H+ZT0aO8l7TTvjPVI9obvcul56hbu2+o63zXX2tkq36rh1uS87E/4jgFfBx8Q2BoDIOYdHBnSFpUWDxR6D9YKSAiTCHwKTgy+DZkNigv9B0oDTP+K+330gOuD5Tjk8+Vj6NvqNO/X9Eb6n//CBJsIOAlfB4QHkA8LHickXh4yGwsfgiG5HK4QDQQZ+mHvKOYS5KjlmeQx4iHlWe+K+38BWgBq/mP/if4Z+wP5ZfeF8jTu6e6b9IL7Nv62/Hr8gf54AMMAmPxX9tHyrPBL7hbvQvEz8Nrt/+3C8e321vip94v2qfcOAjEeTzTHMwUutzb7SmlUb0M6LUYhHRe5BvX28O4B6Xbecddx143d5OVj6ATif9kf1iTcXuNf4GnYBtxq6nT49gTTEl0gYigsK7ovNzb0NW8sbR9hFT4PTgsaClAGTP+K+uv7+vyC+sj08ewD5FHbedcH2Tvaw9gk23zj8O/r+/UG1A/wFHcWnBjBGxoeSBuHFWoSJRSkGPIlizQqMggnCiHBGuIR/wCJ6ZDUysVrvzXDwMzy1FnaZOUM9pQE6w36DwoMyAf+Ax0B8AGFBGECF/+sAHYGqAzzDTkIWgAp+cD1hfLS7evoRuXl5GTmCOqd747w+O016x/rD+1T7UvtQ+7D7uDyr/uAEpk1x0eLR8hGek64XLJZ0j9cJOoQnAMp9xbtY+gi4oXes93n3e3hZOX93z7SLcRxwTrJ69EJ1HnXCuaC+8wQGCRmMac4VTgwNUAzyDA8Kr8fDhVUD6ANPRF4FB8RyAgeALj4s/En6ODcdNCGxlPDpMg20zPde+W078b6bgURDuITfxUPE/IPkBAHFZwaix1PH9UhtiVgLHUxZy5KK8YhEBF2BO33nutu34rR7smNyUbQvNfg3Pzj6upn8mz64v/nBAQIEwj1CM4LPRCBES4QRg2LCCMFdwJj/6/7Iva68Q7wd++78FnxWe8H7RfsROxM6mPoGef844vj1eUu6UrwI/UK+q7/WAbFEKQrSEUiSMJC0kAMR8VOjUEHK34YxwsGAmX4QfO77pnmquG02tvWadhL1yjRQ8ZNvp3Er9Hg3ZnkNO0+/D8LKxqIJw0ulC/oK9MoYikWKXkn3CP8HjoaBhdgFzQVMAyI/8nx3ObI3x3an9VG0EDNIdBp2JriEOro71/1C/mn/KUBqgfVDPoOEBF3FgsfCCcsK/8q+Cg9Jx0sJCyJJeQhPBPJBEX9O/Hc6MndL9KizAzMGNNp2FDer+Zq66P08/xvA5kLXQ2/C4MLvww2EJgPtwxtCHcD/wEAAOr+if3H+MH0UPPn8Xby9vIl70TrmOmn53roIOhz56DnGebj6A/uX/T7+oH9LAHCBLEJFRnWNGBDs0EIPfk7yUPmRcY1CiKuEDoFvvvX9u7zQ+0o57nhPNmX13jYl9bWzzvFiMGqykTYTuUH7gv4pAJNDpMcriZDKvgozSO3IvMj8iRjJrYlAiJIHCQYuxYmEjEJRvvq6yrh99tS2lLZj9bq1WnZG+Ao5+LspPGj85zzjPX7+u8DzgufEP8UfRwfJlEsUS73LMoqlirTJ9QkGh8lFQsKgf3Y86brfOIO22vUetJc1GLYFN+35abswvJl9wH+YAR8CJMJIgiiCDEKEguSCjkIugX3AvgAYQCm/73+qPvO+M/1I/Qy9KPyWe8l7Tbqcuhk54Hoiein6IHqpe2V8fX2mfo1/2gCwQVPCqEf+jklQNo96zljOcJAATs7K+AZbAuOAvv63fgE9p3vJe1H5NLardjM1urUKc6WxWjG7c5C3eLqyPVF/5QERg4yGqkfeyIDIKodKR9WIDcjNSdaKeImVh9gGbwTmQ32BXz4cupX4brdOt/m35vfBeCi4fzjPuYX6qXtPO7S7v7wMfd3ATgLFxMGGW0dNyFcJMso9i1ZLB0qtSc3I4ogMxk3DR0BWPPF6F/ej9hE1urUNdfw2bLfJ+lR8Nf2KPpV/J//2QF+BIUGsQe5CBMI3gg4CcgH/QV/Apf/EP7c+876Rvqw+JP33/X28yTyHfC87Xrp6+Yv56jmruni7P/vyPSS+af9UgGcA0kGbQjoFxQwGDkvOc423TTbOoI4aCwTHXoOdgW2/Kj5T/eG8dLvCen93+/bw9gA2C7U9cwyy5LP2drN56vzp/3SAZMI4hIVGU8d5hx9GxMdBB7sHy8jRCfxJ+QhFBviE6ANbQiQ/u/yH+k448/iv+N05OXk9ORO5VXlp+cQ61rsHu5R8Az13PwyBsUQyRjPHfQfAyCvJI4sQTEbMPgoViAVGDYP5wXd+kPvdORo3Gjaydxe4QPlKObF5wjr4e9B9Qv5t/rG+j77Rf6VAlAHzwjfBjMEQgI7AtkCdwKOAfL+r/1r/Ov8p/7F/HT5X/QW7xbuiOwI7AjrzOk96+nsjfHP9Zn5Cf1U/Qn+2gDmBiIdGzEKNvQz0C+TMew2ZjKPJ8oWCwvCAmr+iP9c/O330PQ96/zjjd4k3H/aPdVWz2bNc9Lf3qbrMPjU/Rf//gQKDVoT4Ra0FTsW7xerGhMe8yIPKK0nsCFfGggSNw05CC0AmvbS7evokOhU6uLrLus96U7m++S+5qfoJ+o17Nruo/OZ+uACzgsmE1EXMxibHMUkjirRLR0raiaCI8gctBSiCT3+q/OQ6Yvj9d+y30DiT+M+5qfoauvZ79DzmvbH90D4c/rF/f8BFQSUBLoEugMGA5UCcAHpAKwArv9F/5D+mP7b/r79+/pH9wX0d/FL7qXt+esQ69vrD+0k8V/0wPcv+yj8CP/aABsGwRqrLakzqjHZLH4tqjFRLq4lWReZDJQEDgEGAtv+L/ua9zzuvuYq4Abdf9vp1+PT89Hq1CveAepH99z8VP3hABsHoA0mEpcSPBSVFjoZSByhIIklNSY+IlgbnhJGDaoI/gJk/AT1We+87OLsYe5h7kTs5OcZ5aHlCuev6D3rPO7R8hL4mP7nBXsN+RJ3Fh0XFRirGTci6CssK2IpTCWUGkQTKQsdAiP1xeix4aPdm+A45JHmpurM64fuf/BZ8SP1R/gp+Jr3TvkQ/jMCmwaxBwUFYAP3ARYBHQJKAWP/W/4v/Wv9gf4B/6/8IfpA9hzy/+7L7RfsPO287AftWfD99F74tvxb/iUAlgEuEPoj4C2yL8MrDygGLH8qiCYxHZ4SRwqrBA0D8ABj/Xr8sfWH7WTlhd+r3W/ch9nD2JfXHdv84mjv5fhs+5j92QH2BXsLVQ3FEKUUFRcGGSMbkx4KIigidB/oFwERewsqBh0Cn/1e+CP0QvA0753vaO/i7KfpCehz59XmeuiX63/wKvX8+M39dwNHCU0OrhDbEfkSdxYrGeYdQytuL7QpviNvGc0PIwef/Q3zzeYT4brd39+D5cXoy+y07drtu/D+8cHz9faK+Sj67PrU/gYD7gbACZsHyQNZASb/rv+X/+v9a/22/Hr8Y/3j/hD/5Pvd+N/zw+/x7MzrWuxx7SzvHPKq9E75vvwlATMD5A3HH+ko0imAJ/okjydUJq8jwBylFL4NSAgEB9gEHgDy/Vb4SvEu6iHkUODB3qPdft3v22fdGuKe68H0KfgS+hD+QwEbBiIJ3QzjEPETJRYNGPYahB0THuYdshkeFMUOmgl2BX8CH//k+sD17/Ic8tjx8O/p7HnrVOpN6GPoPerL7ffxhPU/+Tb9uwFuBosKoA0gD8UPmBC9EXAXkx3VIfIkTSS3IeYclhSDC0MAz/U9623j9d8F39fhmeW+6CXtM/AU8zL1Gvew+Ef5MPqR+9T90gFgBG4GGwcqBroEMwNoAS0A4/2J/Lf6Tvpd+6j7ZPwJ/Pv57fff9JTyyu/a7lLuyu4G8Vjz9fbk+uP9DgE5BqUUtyG1J+onLyQ3Irci3SB8HrMXFxHOCpMH3wUVAxYBgf+Z+RTzvev75Vbi3+BP4U/hZ9/135Lklu2U9ED4mfsf/pYAWQOjBZoJLw2uEBcTwxTZFvYYQRv9G34Z6RVbEHwKMgbJA7QBJ/63+fX2ufXI9DLzjfF/8Jbu+et56mrql+y77yvzqvbd+Zj9fwFfBQsJoQs+DYIOPBOMG+UgRiG/H2YcBhitFM0PMQh5/4T36PBi7EXqzOkX69rsFu4z8A3xJPJn9AT35feE9173MPhs+gH+WgBKAY4BWQFwAUoBrACWAGkAtf9j/tz93P1y/fL9Nv4g/Cj6mveq9Yz0uvPu85TzBfRf9W33zvnc+8X+DAZ5EiMcoSC3ILEekx5AHoQcjRhxEr8MuQejBe8DLAIzAmgBrv70+bL0aO9b63rpmOio5rjj3uKv5g/tWPJ89tX6tv3x/2gBuwJCBG4GhAj8CQMLmQzVDmIS+BR3FiUWLRMYD78LVgl2BsICLv9V/Lf6P/nt98D3R/ii9xP25/Mc8hzxFfHR8djyFPTI9Qv4e/tF/yQD7gY4Cr4NNhE0FOEWMxlJGv4YWhUJEO0JwgRhAEb7OPcy853wO/Cd8A3y0PPP9d72QPea9173T/d192X3MfcE9yL3R/jl+RH8zf0Q/73/NABSAEsAzP95/xf/kP7j/YH9Rf0+/Vz9Pv3N/M37+/qC+jf6Xfqh+uT6ivvr/FEDPwwmEw4XlRgzGf4ZBhmdF/ETTQ/ACasEdwFy/sX8Nv7y/tT+cv3N+9b5x/e59kj19/G07czqROut7DzupPEb9gP6Ef2m/zsCYARuBpsHfQdQBgUFugS6Bd8GqghlChILRwvOC5IMTgz0CjgJ1wbYA0sAAv1k+3v6g/m/+CH4GviD+D/5N/q3+vv6ofoK+pL5kvk3+iD7a/z5/xwEMgeTCRIM3A4QEcQR+RDkDeUJlAXDAZD+7PoS+LH2yPUi9jj3A/nV+lX8vv2Y/Yn8Vftk+vT5ofjm9rH1FPWT9bn2VvgZ+hH8Lv6f/3AAFgE7ATsB0gDq/8X+tv0J/Rj9gf22/Z/9Af5j/p/+CP8X/0X/kP80AcIETwiDCjcMrw3rDxcRkBEIEdQPew2aCsAHugR3AcT/if4v/XP7bPo/+oL6mfpG+z77ZPr0+Fb4OPhH9xP2MfaL9s/21/bl97D5+vsf/ksAnQGsAugDXwUyBl8GbgZnBrIF2ASrBMIElASNBMkEQQX2BJQEowTvBHYEhgNhAkoBDwDU/pD9ifyZ+/v6kvo3+j/6qPpz+1X8Rf2Y/mEALAKrA/4EDAaMBpQGbgbuBckEJAOWAS0Aif5F/Qn8gvtV+5H7AvyR/C/98v2u/gH/4/6f/kz+xf36/PP7IPt7+gr6ivll+Yr5Rvrk+r773Pzj/dT+tf9hAKUAaQD5/1T/vf5j/rb9Rf3c/Lb8VfxV/Fz8zfxF/dv+YQEcBCMGDAixCbgLGQ0JDj4O6w2/DCkLTwlQB+8EJAPwAZYAtv6n/SD9GP0J/YH91P2+/Tb9L/1N/c38t/sZ+7D6x/mD+BL4A/h8+Oz4ivls+mz7tvyJ/ksAcAGOApUDOgR2BKsEBQX+BJQEZwQrBLoDDQPZAjsDWQMVA+8CHAMsA/cC/gLRAnACDgJSAX8AiP+9/i7+ev2+/CD8TfzF/JD91P7x/x0B6AGkAoYDJARCBOADHAMsAssAPf/N/Wv8e/uS+gr6v/kS+uz6GPxU/b3+FgBKARUCUQJhAiQCWQGm/yf+ifzz+pL57Pjd+PT4bPk/+jf7VfyJ/bb+0/9/AOkA6QClAA8AY/96/nr9XPyK++T6v/rO+hH8EP5pADMCMwTBBnUJoQtODVwO8w6RDsYNewywCl4IUAYzBBUCrv/r/c38+vt7+6j7Avxr/MX8kP2B/sz+p/6u/oH+vv16/Ir73frs+fz4QPjt99b3Xvhs+Yr68/t6/UX//wAsAroDHAUFBnYGowbIBhsGWAW6BDoEUQNhAsMBSgEdAfAADgFhAbsB/wEkAjMCMwIzAiwCygEHAR4Acv+Q/rb9a/2n/ev9Af6B/j3/HgDpAMoBUQKGAlECDgKlAdoApv+J/mv9Rvw++7/6ofq/+lX7N/w2/Tb+Jv9hAGEB2QEVAiQCfwElAJj+ev0g/Cj7kvrs+ZL5kvk/+ij7AvzN/Kf9n/5q/w8AYQB/ADwAzP8B/1T+if2R/Ov7zfuJ/Ov9Y///AKQC/gSTB6kJVgvGDK8N1Q2KDagMKQtWCX0HXwXoApYAp/4+/fP7N/vs+hH7IPuZ+6f8n/0f/oH+EP8u/4n+p/0g/Yn8ZPsw+jj5kvga+Dj4zviK+Xv66/u2/Vv/+ACdAjMEfgUyBtcGIwffBkEG3wU6BRUEwgIVAqwBFgGdAI4AywAHAVkBpQEkAjMCcAJ3AjMCpQEOATwAVP89/mP9zfyJ/Lb8+vyn/Xr+gf+7ANkBjgIVA5UDugNgA6wCtAFLAC7/8v2Y/HP73fqh+t36Pvvz+wn9J/5M/4cAhgHwARUC2QHhAMz/p/6Q/VX8Cvu/+bj4Vvht+Cn5KPq3+1T9if6I/2EArACHADQA4v9j/5/+p/2g/Ov7Vftk+6f8rv6WAGECowRQB/QJMAzrDQIPVA+vDpENAwzHCW4HKwXgAkMA6/1r/KD7+/oK+4r7N/yg/EX9if5M/zX/8v7b/hD+ZPzG+r/5x/jW9972i/bA9kD3qfio+nr8cv6WAGgC2AMNBVgGKgcyB6MGFAZJBfcD6AKdAjsCnQEsAXcB9wFCAsoCugM6BHYEOgTvA0IDaAKOATwAkP7k/Jn7t/oK+rf5+/lz+nP7n/0PANkBQgO6BBsG5gbXBjIGKwWVA/cBLQBy/qD8mftV+yD77Ppz+7b8Af4Q/xYA8AAlARYB6QB/AC7/cv0o/N36ivlt+M/3/PeS+Cn5Cvog+3r8vv3y/r3/4v/b/4H/6v4Q/gL9Avw3+3P6Ifq3+QP6ivov/VIB5wSqB4sK+wynDxcRNRLiEeMQZA6/C/UI2AWzAn8BeAAm/5/9gf0f/mP/+f/pADQBPABj/nr9GPzs+V73OfbI9FDzWPLR8qr0z/bd+F37Tf0Q//gAJAMNBBUESQRJBCQDFQIGAmgClQLZApUD0QSjBVAG5gdtCYsJsQiqB5QG5wQNA4YB0/89/q/8mfvV+pn6PvtN/L78r/wY/Wv9Tf0R/fr81PwY/F37mfv6/awApALCBKMGBAhHCUcKkgrWCe4HhQX3AqUARf4C/Wv8GPz6+yj8tvyn/er+tf9q/1T+mPwC+3v51vea9sj1UPU59f31OPfs+Cj7GP02/pD+kP6f/mP+W/7F/Qn9a/yo+6D7+vuR/D79VP4X/67/+f+7AeYG9AsvDs0O+g76D1QQCRByD+QNIQsECKMF0QNoAVkBcAJ3AmEAcv7c/UX9N/yg+4L6wPfQ85TyDfOr8mDybvQi9/T3C/io+Ub8mP4AAAcB6QC1/3n/4QBKAtECdgSMBu4GMgdtCFYKAwuSCkcKQAmUBpUD4AJgA50CNAFaAL3/EP+B/q7+p/76/c38L/s4+Yv3dfcw+JL4mvg4+Rn6zvo+/Gr+PADwANoA+AAdApQFkwjWCoINRg7VDQoN9AvdCsAIDAazAi0AmP2R+wL8tvzz/MX8zfsZ+4L6TvqK+aH4T/eq9RT1SPX19cf3ivm3+ij7Tfv7+gL71fvz+4r7XftG+/P7J/2B/tv/+AD4AFoAxP/M/if+r/36/NT8ZPxk/D79uwKZDPkSHhVLFPkSLhLUD3sNEgsMCGcEwwHoAXABBgKrBeYHKgasASD9sPki9vbzDfM68o7vw+468vX1A/ih+hD+vf7V+zj5g/jO+V37VP29/wcBUQLJBV4JZQs/DCANdAt1B7MEHASzBAUFjQVQBzkHugXJBJQFfgXZAoH/Pvxd+XX3ovax94r55PqC+1X7ofpz+gr7L/td+sf51vkh+j77zf1hAV8FiwqvDVwOkQ1ODLALkgvdCkcJMgb3AyQDSQQzBNEClgHq/9z8x/m497j4C/ci95r2sfbX9rj3e/mw+t355fhP97n27fbt9wP5e/og/Bj9a/3U/Qn+vf5q/uv9Pv0Y/af8Ef3U/Uz+TP7y/YH9cv3k/MX86/wB/m8D5A6lFjMXABQfEQEQrw7OC3QKkwhIB0EGogfuB+4GEwixB0oBA/pn9DLzBvIr8v3zffWM9AX05vZO+Uj21/Sx9TH2m/T19IP5W/8kA/4E0AVYBsEFqgZXBxsG5wWxB88IsQjPCYoMCg3dCu4HDAb+A7sAY/+HALQAp/5F/Yn9if0+/DD6g/h890/2ffX99Yv3e/mZ+1X8IPxr/OP9if7y/mr/WQHCAnUIgRDqEnkRVBCCDvsMXQvtCWYHJAQNA+ACnQLT/4n9Y/0S+v30DfPQ8/X1fPYx95P3mve49wv4mvjH93X2bfft9xr5IPvN/HL98v3F/T78L/u2/Ez+kP49/vr9Pf81/5D9zf22/SD8CfyK+zD6evwu/oj/jgGoDOgWwheXEnMNvwsZDXQLiguKDF0MIQvsCqELkwjnBUIEPf789snz9fU3+rD51vg4+IT1q/E78d/zbvMV8X3zSPah+PT56/3ZASQCzP5N/fL+OwIyBVcIwAjtCLAKoQvHCUcJGgoSCt8G0QMNBUgISAj9BSsEfwI1/4n8c/yY/Cj8v/q3+aj5Xfld+d35Kfkp+HX3OPh7+Tf8+ACECN0KMQkbCKoIkwiECccJhAk5BskEhQTBBW4FpAIHABj+8/qS+hH7mPzk/Kj7P/nH90/4bPlW+Nf2MvV99YT2x/e/+Sj75fkw+Yv4x/ih+RH8r/wJ/L77vvzF/T3/vf6f/cX8Tfxr/Db9Rf5M/1T/ef8I/x4AKwTdDHgUphO+DtUMCQ7FDhkN8wwvDjcMwAlmCT8LMQoUB3cDev2E99b3Pvs+/HT5/Pex90j1o/IF9Ob1DPRR8eDy1/W496j6zP5U/2T8t/o+/WkAHQLCA+4FXwayBjkIKQoLCqIJ1wjQBlAFowZ1CXQKKgirBWcEuwL/AGEANADy/hj96/v6+9z8cv1k/JL67Pjk+i0AWQJCA2cESQTwAJD/jgBhAdoApv8AAFIBuwIkA0oDBgKB/pn78/vc/Z//NADx/5D/cv7r/Eb8Xft0+Xz3Ivdt+Mb6oPzU/PP7P/rd+DD5VfrV+gr7oPuv/EX9J/6u/j3+zfwR/Df78/zN/er++f8WAMT/rACf/9oAvf81/yb/cv8GA2YIzgrkDcUPKA5tCRsHKgiiCIQHIwebCKIJQAgECAsJOgXq/5D9+vwo++T7TP5j//r8gvu++9X6ofht98f3BPd19t358/yY/T3+8v6J/RH8r/yn/mr/BwClAVED/gP+BHYGXwYcBDsDqwNKA8kD5wV9BqsFowSNBFEEdwPCA1EEBgIlAGEAJAMkBLsCSgJSAGT86/sg/Nz7c/vd+qj7EfzF/Fv+EP+v/Ub7L/vc/K/9W/+lAAAAef+f/6b/kP8I/8z+vv2Y/M39AABDAEz/W/8I/yf98/yB/RD+Pvwg/E39if0n/lv++v2Q/QL9L/1N/GP9LQD6/a7+YQFwAEz/FgGzApD/n/5CAkoCJQE7A50ClgFhAYYBrALhAZ0B6AGOAg8ADwBZAlECH//i/8oCUQJoAf8B/gKdAawA9wJvBMkDwgOrA9kCrAH3ATMCcAEeADX/tf8lAKb/n/8WAMX+Lv6n/r3+TP+I/wj/+f7F/gAAPADq/8MAhwBU/8z/HQFZAYcASgGlALsABgJoAQ4COgSsAuEB/wHwAUMBDgHDAI4ALv9M/9P/2/+0AMX8r/2OAHL9J/3T//gAY/2f/XAC0/9G+73+DgKv/Fz8lgAQ/y7+L/x6/r3/tvw2/kz/ev1pAMT/6/tF/soBSgKn/lT+7wLoA1T9ivthAiQETvmo+zwAfQa3+934jgAGAp//P/qZ+xUEHQFs++T7WAUjBTD4CvteCdT+bPmR/O0IwwB194L8BAgX/5L4DgLSAMMAofqFBA8APf/RAlEE5Pz3AVEEcAE8AP8BFQP4AOv7/gPi/8378v1ZAkMAzfsOAQ0DVP6J/SQDvf+n/jQArAIlAMX+/wBhAYH+SwCOAXABlQIsAfAAjQOX/8X9uwKkAon+bwP/AI4CjgKv/Or+qwR4APT57wJ9Bi/8+f+jBEX/XfkrBDoFQPiJ/tEDBgIC/Sj6SQTRAvT5VvlACWr+FPOzA98HCvvt99ED5wTd+Pr8xP8qCHv5Af/CAy7/Rf08ACsF2gAw+LEH/QVA+Jn6QAq7Adf0tAGwC838x/jIBwcAIfqJ/lgGhgMa+Gr/jAYX/0/42AQGBDj5wgOGA1z9MfbZAvUH+/nI9QMMFQTW93gAOgX7+vr9kP8zA5j9e/nSAQUFVfrz+koCSgIWAHP8fwGY/RYAjQO0AOX3if78CGr/hPalANAFiP8S+Uz+QwAQ/mEBAv1l+fH/BQWn/IX0BQaNAwn8jPWVAjcMGPwV8tAG1glO+U/43wczBGX33PywCi/7Vfs7Aw4B7PnT/x0CHQGf/T79IwY+/af9KwWn/pYAF/+lAAYCwgRV/Ov7IwXj/v8AY/2sAg4C0AbU/Yr6/QeFBXz4cv9WCrf7MPn9B/UIQfTE/zgJoPtl+P0Gzfyx9/8B/QbI9coC/gKI/6H5DQTKAWz6+ABwAOr+oPx/AM754v8eAFv+Y/4Y/ocAtvykAlz9kfxM/s8I9PgD+MgH4QH89pj8OgWv/T/6lgHT/ywBAvzgBGEA6QAlAUoCkP0kApYAxf6h+tIBiP8g/VT/av4NBGv9DwDRA/8BHgAWALoEtAE1/1kB7wIR+9v+MgXV+7X/LAFoAgn+4/3F/OEB7wM++0z+5wQ0ASf9jQOjBAcBOwJ+A9IB6QDDAGP/SgFwAKwAIPxRAmgC1fsPAKUBNv5U/3r8wgIg/CQCtAB4AP4DjgDgBGcFH//SAdAGwgJy/zwASAjq/vr8JQElAYn8+f6f/asDPvzk/CQEi/gJ/QwGdgWT9076swT5/5j+A/oQ/t8HLAID+MMAgwrwAU/4nQC/Cvv6pAKNBaj6uwI4C4P4vv38CKwBOPhYBEEHVvjb/iMH6AK/+UkF6ANpAPn+dgQkBNoA2/67AIH/6AG2/mT8JAToAUX98v46BVEDNv5CAgYEAAB/AsgHi/dN/K8NQwCq9fcB9Qif/Tf7LQDoAnABAf/7+oYDcAIJ/E37xf6UBMz+3fhvBJQFKPsQ/7EJwwFr/EMAMQnx/037if3lCVX7DPaWASMHVfyK+RD/owTc/Xv71PxACYH/dPio+8EGnANl950AnARRAnX3hwDmBpL4VfwsAsoBwfNZArMETvl198IC5wVH9137ogmf/nX1XwVuBqn4v/nzDYYDyfKJ/hMJ+AAS+Hr9ZwaNBLb8Nf+iB0oDjgAlAQwHuwCX/+cFJASB/oL7NwzSAfX0lQJACWEAdfVJBcAJJ/2K++8C0Ab6/JYA2gArBHv7FgHoAwn8Pf/oATIFxvrc/IH/cv4Q/gv3A/o7AWT8ivvd+R/+uwEL+RP3cv6B/135e/pq/gn9Cf6K+eT7wPdpABn7I/So+zsB1vft9uP+HQJW9xL6TP6Y/jf8kP/k+yD9cv5N/WT7r/yOAUf5vvysAbf74/6rAwYEgvxy/aMEOgWC/OX3dwF+BNv/m/U2/u8CNv7B9DL0fwK7AlD1z/XZAX4Fofh0+b79ogcQ/in44QCcA1v/gvqv/dgDzfwg/CUAYQAv+9z8SgI9/k38NAEkBHAA4v9wAYYC2QL6/AcAogcGBEX/MwJnBUID9wKWAcsA2gAOAXcBLQBwATMCSgPLAB0BMwP+Ag4BDQMGBFkC6APnBSQCOwHQBSoHMwTZAdECowXuB+AC+f9vAxQFlAYWAGEAMgUjBWAEFQPgAu0IMQnwAVIBDAeTB0oBWgBgBNAGugTF/qwBEwnXBpD/TP5JBWgDfwI0AZ0AuwFYBbMC2/4WANEE7gVaAH8AdgTYBYH/6/1YBGkA+v33AiQDLv8B/kz//gJwAbMCxf00AEoC8v67AYn+av6sAdIB9PmR++AC+ADy/bQAhgKGA8b76/2qBrQAIP08AGgCygGQ//AApQEn/nAA/wF/Aa7+av/ZAuEAn/0n/VIBtACQ/SD9xvtwAg0D2/+Q/uv9OwENA/n/VP3M/koCHgAm/3n/zP6B//4CY//M/gn+ywCVAn8CYQAf//8AOwKQ/5YArAGsAawCnQJoA5UCdwH3AoYDhgNKAjsCfgPRA6wBpQGOAbsBpQFDAXAA4v94AFIAPAAeAHn/iP/E/y0AxP9F/x//Pf95/8T/gf+B/4H/VP+1/7X/gf81/1v/Y/8I/z3/rv+B/yb/F/8I/wj/2/7j/vn+4/6n/oH+vf4I/+P+ev6B/ur+2/7q/sz+H/8I/x//+f4I/wj/H//q/ur+4/41/wj/Af8f/y7/Nf89/xf/Jv8B/xf/8v4X/wj/F/81/y7/+f75/nL/TP9F/0z/Rf9q/1v/av9M/2P/Rf9b/z3/Lv8m/xD/Jv8u/yb/Lv81/1T/Pf81/zX/VP9U/y7/Pf9F/1T/Nf9M/1T/Y/9U/1T/VP9j/1v/W/9j/2r/Y/9b/3n/gf95/2P/av+B/5D/gf9y/3L/gf+B/4j/cv9y/4j/l/9y/5//kP+I/67/iP+f/5D/l/+f/6b/l/+X/7X/n/+f/6b/tf+1/6b/pv/E/5//iP+9/73/rv+X/67/xP+1/6b/tf/E/8z/2/+9/8T/xP+1/8T/tf/M/67/tf/T/8z/zP+9/9P/zP/T/6b/rv/M/8z/xP/M/9v/0//T/8z/4v/M/9v/2//b/9v/2//b/9v/2//i/8z/0//b/9P/2//b/9P/2//b/9v/xP/M/9v/0//i/9P/zP/b/+L/2//T/9v/2//b/9P/4v/i/9P/2//b/9v/2//b/8z/0//M/+L/2//b/+L/8f/b//n/4v/b/9v/4v/i/9v/4v/q/+L/2//i/9v/8f/q//H/4v/b//H/4v/5/9v/6v/q/9v/4v/b/+L/8f/q/wAAAAD5//n/AAAAAAAA8f8AAEsASwAPAFIA6v/i/8z/6v/T/+r/8f/b//n/FgDb/wcASwA8AB4A+f8PAAAA6v8PAOr/+f/5//H/DwD5/wAAFgBSAB4ABwAHAAcABwAlAB4AAAAeABYABwAWAB4AFgAeABYAFgAPABYADwAlABYANABSAC0APAA0AEMAJQBaAFIANAAHACUABwD5//n/FgDx//n/4v/q//n/DwAAAAAA8f8PAB4AHgAeACUAJQAeABYAFgA0ACUADwAeABYAHgAeACUADwA0AEMAHgAtABYAHgAPAB4A+f/5/+L/6v/5//H/AAAAAA8ABwAlAB4AHgAPADQAHgAWAAAAHgA0ACUA+f80AFIADwCdAI4AfwBDAA8AzP+1/6b/2//E/+L/+f8WAA8ADwAHAB4ASwA0AA8AAADq/+L/AAAPAB4AFgAlAFoAPABLAB4AHgAeAB4AHgAAABYAAAAHABYADwAWACUAFgBDACUAFgAAAAcABwD5/x4ABwBLAFIAWgCHAH8AcABpACUAAADb/9P/4v/b/wcAHgBDAC0AHgAeAAcAFgAeAB4ADwAWAA8A8f/5/xYABwAHAAcADwAlABYAFgAPAB4ABwAAAAAAAAAlACUALQAeABYAFgAAACUADwAWAAAA+f/5/w8AFgAAAB4ADwAPABYABwAPAAcABwAPAPn/FgAAAB4AFgAWACUADwDx/w8ADwAWAAAADwAHAA8ABwD5/xYAFgAeAB4ADwD5/wcABwAHAAcADwAHAAcADwAHAAAADwAeAA8ADwAAAAcAAAAPAA8ABwAeABYAHgAPAB4AFgAWAA8AHgAHAB4ADwD5/xYAHgAHAA8ABwAHAA8AFgAWAB4ABwAlAA8AAADx/wAADwAPABYASwA0ADwAPAAPAAcA8f/b/9v/+f8eAAcAFgAlAB4AJQAWADQAFgAlACUAHgAAAA8ABwAPAB4AQwBSAEMASwAWAB4AHgAWAAAAFgAHAA8AAAAHAFoALQDx/yUAAAAWAAcADwDb//H/6v/5/+r/BwD5/wcA+f/5//H/4v/q//n/+f/x//n/AAAlAAAAAAAWAPH/+f/x/+r/8f/q/wcA8f8HAAAAFgAAAAcA+f8PAAcA+f8PAAAA+f/5/wAA8f8HAA8AAAAAAAcABwAHAAcA8f8AAOr/+f8HAA8AAAD5/w8A+f8AAAAABwD5/w8AAAAAAA8AAAAWAA8AAAAAAAAABwAAAPn/+f/5/wAA+f/5//H/AAD5/wAA8f/5//H/+f8AAAAA8f/q/wcADwD5/wcA+f8AAPn/AADx/wcAAAD5/wAAAAAPAB4ADwAWAAcAFgAPAAAAAAAHAPn/8f8AAAcAAAAPAAcA+f8WAA8ABwD5/wAA8f8AAAAABwAAAAAA8f8AAOr/BwAHAA8A+f8PAAcA8f8HAAAA8f/5//n/AADq/+r/4v/5/wAA+f8AAA8AAAAPAAAAAAAeAPH/FgAAAA8ABwAeAAAABwAPAA8ABwD5/xYADwAPAAAABwAAAAAA+f/5/wAA8f8AAPn/BwAWABYADwAPAA8A8f8WAAcAAAAAAB4ABwAAAA8AFgAHAA8ABwD5/w8AFgAAAAcAFgAPAA8ABwAPAPH/FgAPAPH/FgAHABYABwAPAA8ABwAHABYADwAAAAcAAAAPAPn/DwAWAA8AFgAPABYAJQAWAAAA+f8PAA8AHgAeABYAFgAAAA8AAADq//H/FgAeAA8ADwAWAAcA8f/5/wAA+f8PAPn/FgAAABYABwAAAAcA+f/q/wAAAAAPAAAA+f8PAC0AFgDq/9P/2//T/wcALQAPANP/4v/T/+L/2//x/wAA+f/5/+L/4v/b/+L/4v/q/9v/6v/q/9v/4v/b/+L/4v/b/9v/0//E/+L/4v/q//H/+f8AAA8AJQBSAFIAYQCHAKUA0gDLAMsAywC7AJ0AeABhAFIAWgBSAFoANAA8ADwAPAAlACUABwAWAAcAAAD5/w8AAAAHAPH/AADx//n/6v/5/+r/8f/x/+r/4v8AAPH/4v/x/+L/+f8AAAcAHgAWAAcA8f/i//H/AAAAAAcAAAD5//H/4v/5/wAAAADx//H/+f/x/+L/4v8AAAAABwDx/+r/4v/5/wAAHgAHAAcAAAAAAPH/+f/x/+L/+f/i/+L/AAD5/w8ABwD5//n/+f/x//H/8f/5/wcA8f8AAAAA+f/5/wAA+f/q//n/6v/x//H/8f/5//H/+f/q/+r/8f/i//n/8f8HAOL/+f/q/+L/6v/q//n/8f/x//H/8f/q/wAAAADx/wAA6v8AAPH/+f/x//H/8f8AAPn/8f/5/w8A+f/x//n/+f/x//n/8f8AAPn/+f/q/wcA8f/x//H/AAAAAPn/2//5/+L/4v/x/9v/4v/q//n/+f8AAAcA+f/5/wAAAAAAAPn/8f8AAAAA8f8AAPH/AAD5//n/+f8AAPn/+f/x/wcA+f/5//n/+f/5//H/6v/5//n/8f/q/wAA+f/5/9v/8f/q//H/2//x//n/+f/5//n/AAD5/w8A8f/x/wcA+f/5/w8A6v/5//H/AADx/wcA+f/x//H/8f/x//n/6v/5/+r/AADq/+r/BwDx/wAA8f/5//H/+f8AAPH/+f/5//n/8f8AAPn/8f/5//H/AAD5//n/+f/x//n/+f/5/w8ABwDx//n/4v/q//H/8f/x//n/FgD5/wAA+f/5//H/8f/x/wcA+f8AAPH/+f/x/wcAAAAPAAcABwAAAAAAAAD5//n/DwD5/+r/6v/5//H/AAAAAPn/+f/5//n/DwDx/xYA6v/5//H/FgAAABYA6v8tAOL/JQBoAioIjgGyBWcG+vzN/XL+Rf96/kz/Af8X/73+iP9U/0X/cv8AANP/pv+X/+L/W/+9/0IERRAaCjsBRvyY/BH9av6f/on++v0C/c38if5DACb/zP5M/nr+4/4Y/tT8gvrs+LD4L/zM/nABlgBoAWkAkwl/ABL5rv7pAFEDMwTICEgHWQOB/k37oPuf/dv+ev63+8f30PRQ9N/13fnc/bQAwwEWAOT8+/oR+xH9pv+WAQ4ClgE8AAH/Y//wAJ0CswOkAzMCDwBF/mP9ev1y/uL/hwDb/z3+ZPxN+5n78/yQ/mP/8v4Q/nr9xf22/ocASgINA0oDjgLSAUMBcAHhAWECQgIdAp0BwwBaAI4AfwFoAoYC0gF4AAH/H/4B/mP+Af8eAFoAn/+Q/rb+4v8lAeEB0gFhAawAzP+I//n/uwCWAbQBHQFpAKUAJQF/AQcBtAAWAX8BJQEeANP/LQAsAWEB+AAdAX8BFgG7ALQA/wC0AaUBHQE0ARUCOwL/AawBhgEGAjsC6AEHAdoAywCOAOr/Nf/q/1oAFgBj/x//Jv+u/3L/6v5q/pD+rv7j/hf/Pf+9/7QAOwHLAIH/2/6f/6UArAD5/0z/Lv+f/y0A4QCOAcoBfwH4AA4BuwEsAtkB8ACWAP8AjgH/ASQCuwGGAXcBdwEWAXAAeAD4AEoBJQGWAEsAUgB/ALsAlgCdAHAANAA0AEMBDgIVAnABHQFZAfcBaAJwAhUCnQFoAawBLAIzAugBBwE8AOr/8f9hAJ0AHgCu/9P/jgA0AUoBDgFwABYAQwCWAMMALQBy/yb/kP/i/9v/rv+f/6b/ef/q/nr+TP76/Vz9c/w3/L77Rvuo+uX5XfkS+eX41vgw+c75Vfpd+5j88/wY/Vz9gf0B/s39r/wg/Bj88/vr+3r8Cf2f/cX9Lv4WAMoBDQOcBUcKCRCeFEoWpBcrGjkc0BurGZ0WcRJzDFAGfwKWAGv9mviM9KPzbvQq9Sr15vRn9F/zuvI686vzMvPJ8TvxSfLX9Kn3zvr6/QcByQNuB4MLVA/qEa0S+RGQEXIRHxEuEOsNGgvICGcGnATvA/cCtABr/YL6A/lW+BP39fQj88nxHPHR8ZzzUPX99cj1BPbH9wP6+/qK+rf5R/mD+db5GfqK+iD7IPsK+037Rvx6/K/7Cvqh+Br4hPdI9rn0BfRf9EH15vYD+p0AsAotFI0ZVxzdICYnWiqAJwIihB1vGKAPmwZoAo4BJ/7A9/bzdfaK+ij7g/ma+Kn3I/X38ejvLe7y6ijnsOVc51Tq/+2F8ov3RvzLAH4FCwoCDQkO1Q0ZDfsLEguDCscJ7QjICOUJPwsoDPsMVQ4YEFsRnxAvDYQJGwd2BHgAkfsD+Ln2ffSc8UrxbvPI9NDz7/Jm9Rr5KPpH+U765Pyu/uP+rv9RAtEE4ARCAxUDugTYBBUCgf6+/In8Tfup+PX2Xvei90j2MvSF8+fz0PNg8X/uHu0e7abs8urM6WLru+8T9h//ZQp4FCobkiCeJ0kuSS/DKjYldCCUGYEQKQnBBcoC6v6o+8386v+lAGP/n/5F/V352PMl7ybrguaL4v3gk+ED42zmvOzf8yH5Cf1hAW4Gxwn8CkcLbQq5CFcH7gcECQsJRwlHC9wNmA+YEJcRlxGQD+sNAg6SDDgJKwX3AeL/1PyK+U/4i/dX9efz7vNQ9QT2ZvUb9Yz11/ZO+Zj8zP9CAvcDsgZ8CDkIQQcFBg0EfwG+/SD7RvoD+Qv3qvX99H31hPUM9ODydvLg8e/w0u5x7SXtU+087GLraur56+nsh+4A7V/0IA1bJqIxRzMuOgNLzU2rQ7Y4qy5XHAYEWPRm9cD1eO4354HpQvGT9YXy6PCI6xvfY9Mxzk7PxtCS0PHXCuYb9NkCiBO3IpUrsys8KXEnPiL9GjwU1Q4wC5MImgnjD3gU+BOBEOwKMwPW+MPtEuUs3HLT7M+n0w3cc+YV8Sb/zQ7vGfsgzCUAKBcmZh2tErAK7wSsACf9c/u+/C7/BwGOAUMArv6Y/Dj4FPPK78PvWPLf82f05vZO+pH81ft0+HX15/KO7/nrvek96tPs2u7o8Bv0uPeh+M/3OfZB9DvxJe5E7LXrF+zY8mgDiiCrQjRV4FfnV6RXjlWFRYcp+RFr/aDm6tVU0xXd7OSx4tDfMeEa4kHe8dfV0YXJTMFwxCfUr+ds+xAQ4yQ/NHI6Dj8cRHg/0C/eHloUcw7WCc8ITgyCDSIJHAPb/l74W+vC3L/QlcanvxDBKsyd2+PoqvVnBPkRYBnuHAMfXh6UG7UmJUCiRyY9TjaEMbwoJxAx9yXvdeDLxMi3AMMX1qrfkuTD7wn+/QZ1Cd4ImwgjBmECGPx19Qv5yQV8CK/9OfWp9038BPcI7AjqUu7D7RfqverC8ZP3T/d/8Cfo6+eX63rpZeQE4r7o3/XQBqsumV/9bkRlG1oFWmBXvjelFscJMPpt4c3Sfd/f8xTzeuii4eHaZswgvSG8XL5ftgu4qc4t7MoB4RVQLxVBlj0qMqow/DNhKgwc9hnWH90fBB5sINUijRi6A0rxEuPO0DbAobsQwNrDwclw2a3tIfoJ/o4C7QipCbME0Ab5Eegs605aVLVQ+VGERsY1NRP38cXncdhTw6i7/sib4EvsBvCs77H1Lv+h+snx7/C59jsC3wUzBOwLhRkzGKoGT/aG8B3vH+mN3sHf2u2v+x//F/87AsoC6/z/7ufdhtvf3jPbd9oa4tnvtv3E/+v94QC3DTkwtFJYWFtPZUnUT9tQmDjFI94e4hJt+Hzh8+Us8FznCNYizDHMJMYDu6e9y8PSw0LI2tkc8awA1QzIHXgqJCzwKZswCTlHNI4q0ioNLxUs3CM4HpwYqQkM9U3nm+BT11fM9snlzcfP5NGs2q/miOy87P7wbPuEB3wdczZBRFdHskVaPt8vTx/qEhsIuPfd5ajl7/B289rsPelE6wDtn+kR5nLpo/Jt+Nb5XP26BRgPtg5ZAQT1MvM59GHuKOcn6QXzt/pG/K7/jAblCeADx/e77q3sS+wI6uXj1uQH7yvzo/KN87n0uPhv8hHoTOqV8XMN8T3IWmxg/Vm7VRVXo0MRJFsRdQmo+yDo4uvq/gcB9vO44pbYx80/uvivK7R9tvy55sx47ZwFTBGUGl0hvx9+GCQXAyFMJkYjNSdPNMw7VDqDNBYrsxfU/Z/pE+Lo3NvVH9Wk3EjhR+I/5WPq2u0w+B/+4AO+DS8NEQ15ER4UyB1uHI8UCBLLE4EQ4ATF/Rf/EP4Z+/30wPY2/eT79fVJ89DzE/ea9sLxaO8c80D2BPVY8jPyZ/Mz8Yjrruoj85H7Y/3U/Ez/jgGdASD9Eviq9ir2s/Gk8ffx5/NA9sH0BvEr88Lyb/JZ8LTufvKMBjIvGE8tUxhP5kYMRWs55R/wFCYTVwdd+Sn5TwgxCs765Oas2anPtcCLuBDB98WNx77Sgenk/P0FVwjHCVAH4APmB8oWeyJ5JsMrTzQgN+U0lDCPKAYZQQVl+DH3/PiL9zj3QPhm9qvzuvJQ9HbyROvz56bs5vRt+Mf5VP1pAD3/Avs+/DsD3wVoA2EBZwaCDsQRgg5HC08KQQfSAPr7ZPtG/Av5lPMG8ULyfvJD7gnomeZ66drs4e7g8O7zufV29A3z2PJu9RL4sfWy89b4mfrc/Lf6Xvjz+yD8qPk4+Zn5tvyK+xj8KwQoIyxBk0d2Q3k8zTe5MXQfBxRbETcMpv+v/DIHxwqI/4fu/d4X1hvMd8bBy9zSENQt2TfmKvSR/MT/1P5c/AL8fwA/DJQZvyCmJsor9yzKK54pYyUEHcMUiQ+vDfoNqAwhCugCZfeG8NrtAesK5kfizuMZ567pHu3+8uX3R/dm9XX3gf1gA2cFqwXXB+UKuAvdCnQK7QlmBxwDOwF/AtgD4QGJ/TD6EvjP9WfzJPIk8tHwDu+07mHuWu6t7a3rVOqQ6h7uK/E683X2wPei9yD7KPsK+0X91P0g/SD9EP/SANkCYAP3AQUFWRfgLYM1VTiZNhsxFS0oITIasxiJDxwENACqBvUI9wG4+PjtzuQs2hDU4tez2yTbb90L5C3sq/Op9/z3wPbu9Sn5aQApCb0QuxdtHuUgpyUOKtIpXCTnGv8V4RSXE9MTtg79B2r/ovfv8qXuterr5iHk5OW96WHvyfNQ9YX00PPB9Iv4N/x6/pD/tADZArMEwQbmB6oGbwRoAtECIwUqBkEFWQLT/2v9Efw3+7f5OPiq9X7yhvGk8MLwju4l7bTtxOzw7w3zUPME92b19fXl+Lf5ifzV+tz7Nv7j/doAJAPZAkkF0QTCA/cC7wJ7C7gfkSOBJVooCCgnJdYenBhvGAkQlAZwAcAIiwkcBNIAmPx99OnsTeeY6KDoKOXs5HLpgO2N8mb29fYE9vX1OPkC/fcCOAnkDdMS+BTwFroZ9xbbEqgNVgopCscKzgrPCUgIHAWdAfL+8/s/+kD3KvSU86L1Ivd898j2bvVu9OfzuvNB9df2A/jO+M76XP0HAHABQwF/ASQCaAL+AlED9wLoAY4AAAC1/0MADwCf/mv8Xfuw+QP5wPeM9YX0OfUj9Xz2bfi3+bD55fi3+cb7ofmo+tT88/tj/dv/UgEVBBUDaANRA4YBWQHDAEMANAHx/3r+9wLcDy4RRBJCF44VHxIIEjYQNhFFD8cJUAcwCzgKOQfQBasDIP10+XT4/Pap98/2m/Sq9k/3CvoR/Yn8Tftc/AL8ZPuY/b3/xP8HAA8AtAG6AxwEOwOGA38C0gF3AsICwgMGBKQCQgIkAkIClgFwAKf+cv2Y/Kj7Rvuo+mX57PhA+MD3sffd+V35mfnH+a/8+f7r/HL/FQLE/+P+zP/hAer/hwA0AT3/wgKQ/koBWAVhAJ/+YQAm/1z9Lv8u/mT8zP8u/8X+kP13AfL9Av27AJD+xvpLAKwCzf00ACQDSgJaANIBFQIHAY4BswJKAQ4B4QEf/7X/wwHE/4H/4QDF/qUA6QDT/+kALALoAqsDQgR+BUkFowXBBasEswPJBEIDdwMrBKsDSgJ3A8oC8AEkApYBlgCsAX8A4/61/9v/W/4f/sX9xfzc+wL81fqZ+2v8vvsR/F37Rf57+039jgD5/9z88AG7AFT/uwKB/dEDWQGdAjX/jgKdADQBrABb/h//tv7N/RwDkfxV/LsCXP16/af9FQPN++P+jQNz+9IAlQJk/PL+lgGX/0b76AKGAev7SgNDADb+SQYI/9IApAOY/qwBQgTy/Ub8OwLRA+v7c/syBx//+vzLACwCGP5y/0IDGP5DANEDxf5k/DkG1Pzq/iwBp/4HAGP/LQAAAH8AEP/aAPn/JQG0AJf/tAGm/6UAcAHq/9v/cAKu/0oBFQKv/awAOgTN+1ECWQGn/SQCDgKJ/HgAWAQY/EoCrv9LAK/9uwA0AT3/W//SAHAA8f/DAawANf8+/Y0DaAEkAz77rv/8CKr05wSsAIL7OgSsAHP70/9hAcz+6v9oA+r+cv76/F8Grv6Y/EoDkP7U/WkAYQJr/ZD+9wNl+RYADAix9Z0BBQXN/Qn8mwfc+zf6GgkHABP2RwlDAFb5DAclAEX+FQK2/XcC3fqf/zMExf4lAK7/fgOX/8X+a/0sAawAhwD5/839BgOf/h0C4/2Y/rsAOwKw+o0F4v8B/qQDPf4dAXL/swOS+lIBFQQv+4n99Qd0+Yr5xwvs+jj4+RCq9aH6IQrr/E76hAmS+if+/gQJ/uP9JAQR/Pn/cv+lAQj/0gCWAWgBEP88AHAA+f73AVv+BwFwAFv/PvwNA0oCsPrM//YFt/nE/5QEEP9M/0IDPf9M/x//UQK0AWr+Pv3YAz792gCu/9IBxfz4AGP+UQLj/ugBr/xLAPcBNAC+/ekAdgZd+0ICpAPH+I4BJQFb/iQCCf6f/tgDTfvoArb9if4WAeADFgAR+wUF9wHs+eACevzCA4cAc/ylAawBAf7b/hUDAACR+/UGp/w1/34DJ/3z+9AGEf2f/TsCAAA9/tgDPv1KAkX/gf4g/VkDuwBG+5wDuwI+/LsB8f+v/P4DQwCZ+ysEMPrJA38BkP82/SwCDgIn/RYB2ANs+tkBBgRN+/r97Qnt9tIBfwGWAPr7n/8cBXr9mP1CA5D/8f9oAdT9n/7RAh0B9fbICJ0AzviWAboFvf/d+PYFtv7N/SsEif7y/f8AnAR7+0sAWQHwAD78LAP5/4r7/wFKArb8YQGlAC7/mP3oA50BfPj3Am4GGviC/DgL5vby/RwFswIE98IDSQW/+FoALv/SAUz/4/73ASQEdPgECdT9pv9q/8X+hAch+CQDQgPN+5YBev0f/zMELv4n/QUGEf1b/6sDpv++/J0CBwGY/ckDev7E/y7/tv7aABQFZfjy/n0GAABs+7oDQwDr/NoASwDwARn7wgRLAHv7LAHgAwn9WQKcBGz6Af9ICL/4n/9QBf4CqPnb/9cGt/sY/ZwE0gHU/H8AQgLx/1X7mwYR/XP8bwTZAYn93fl0C+P9qfc5BqUBdPheCCUBRvp3Av4CygEa+V8FjgJG+ugD6QAD+bsCTP4g/bQBQwFj/UsAlgE7Aj/5cALoAbf64/1RA0X+3PvZAhYAIPxF/boFt/rLAMkEW/4o+9gDJQBc/Z//WQLG+x0B+f/z/CD9DQNN/bb8gf+7AQ8AuPg7AroEqfiK+yoGvvwS+ucFRf17+m8DSQQy9J0AfQch+bQAKwVM/hj9nQL/Ab78aAN/AMb74QC6BGv9gf4VAgYCSwC2/ib/lgAWAHACxvsI/7sB4QCJ/jsCmP5/ATMDGfvpAOL/BwBq/w4B+vyNA/L9c/yUBWv9Av1CAvcCt/tG/EIDDgKQ/Vz9ywClARD+9gXz+sMAOQaw+gH+0AVU/lX7uwJvBJH7p/7+A9oAL/1M/zQAfwDM/v8AkP3vAn8AVvkFBTb9+AA0AMsA5PpICIcABPXQBUMBivt/AksA+AAUBor5nQK6BFz8OwHBBq/7QwGrA9kBhgGrBDD6YAPKAmz6UgHKAcz/Rf4sA1T/J/4HAab/Pf6OAV37l/9KAk37nQKu/pD+OwKw+n8BlgDz+9gF/PgVAuL/Rf1M/qMGZPtF/qQCn/5hAAUFc/y+/aMEWQHz+m8EAABG+38CTf3/AeL/Nv4GAoH9SgHE/yUBkfudAuEBif3G+3ACnAVKAm342AN2BE38UgCsAVT/av6zAhH9/wBQBq/7E/fXCFX8Mfe0AF8GRvtH+G4Gp/xc/KQDLv+n/LQB4QD6/er/tf8OAawCvvwWAfcC3Pzr/TsCfwCC+m8DiP+lAXr9lQLM/gH/iP+UBmP97PrmCEz+R/ngBBYARf79BTj5gf8jBlv+ivmGAiQDgf09/isFtv1j/VcHLv/j/gYDWQGY/I4CswJSAPr8NAGOAKf9Twhd+/r8owTr/X8CAv32BeADC/hZA8z/EP/O+NgEvv2GARUCVfvuBukAoPu6BIUEEvpF/40EvvwY/CwD4QBH+RQGfwGi9qUBPAAo+hH8JAQL+TMCrv9c/GADzP4Q/0IC8f+f/6sDGfuu/2AEtv7s+t8FuwE2/lkBQwAHACwBRvzgAoYBSgMR+xH85QpU/zH2dgVQBbD5tv0pCZj9ofhlCn4D9PikA+8DL/v5/jsCnQEJ/oUEgf8m/wYCPf9N+8sAdwPt9+kAIwfs+Rf/UAcv/Yn8/gMQ/136bgXhABL5swOcA0z+vv3nBXr+e/rfBTb+n/0cA/H/jgGQ/5j+BgKOAZH7lQPM/i7+UgHLANT84QB/AXn/1PxwASUAa/xRA7sAv/rvA4YDAvyf/zsBp/4f/38A4QAm/9v/0gA8ABYBhwB6/TMClQLr/awCgf5F/kIETfz/ATMCev6Y/ToEVP9G/LoFlgFd+ugDLAOv+/H/9wMg/QH/pAOJ/mv98AEVAp/9n/33Ar3/Nv7b/6UBif15/2gBAABr/ZYB8AC2/q7/DgIB/3L/JQH5/qwCpv/j/hYBrv9M/8z/wwGu/tz9BgJ5/3r9hgFU/1X8pv80AS7++ADM/5/+FgElAZD+uwA0AQj/BwBwAib/xP8cA8z/UgCWAKwBJv9wAJYAhwBb/+P+F/8HAeP+p/40AcT/8v7pAAcAW/73AcsAY/7pAPcB2/75/koCn/81/3gApQHy/rQAjgAHANIAn/5DAWEBrv+f/7QBFgAu/+kABwBy/zQAhwDb/0z/LQC0AGEAW/+sAQ4BLv+OACwBY/+X/ywBSwBb/koBrABF/g4BywC2/nAAYQCf/ngAQwC9/tP/0gAB/x/+HQEPAMX8NAA0ABj9VP7i/zb9L/zj/nr9ivtq/hD/n/1b/zQAkP5F/zX/n/1q/r3+GP6Q/nL/tf9U/xYAjgA8AC0A+AAPAPAAywDwAIYBYQLoAVEDUQPRA40DFQTCAxUESQQzBIUElARnBJQEWAT3A7MDrAKVAvABtAF3ARYBNAEsAbsAFgHaAJYApQAHAEMA6v9SANv/SwAlAFIAUgA8AOL/BwBj/yb/Jv+u/q7+cv4B/hD+mP0R/fP8Avxz+137Vftz+6/71fsY/CD8L/zk+/P7ivtG+xn77Po3/N36c/xG+2T8CfyK+/P6Avy/+mz7+/rz+/r8QQaSCzcMgBKBD7QULhHOCyEL+wu6A7IFZwRACOYHbwRZAskDpv+3+qH5i/hB9XbzQfV896/8r/yv/YcAxP/U/kz/+v2f/tv+p/7DAcID1wexCDEIQAiTCDkGqwRhAmgCJQFy/1oA6ALoA3ACHQLhAWkAY/6f/Zf/kP87Av4DHAV1CFgFOwPLAIL8ivow+lb3KPps+xH96/15/0X/kP/j/YL78/oo+/T4zvjW+aj5e/tz++z6gvtd+vT4dff89kD2yPYb9nX3dPg++wL7L/2B/QcAfgQJDvQLLhJyEAAT0xORDigMKA78CMkFsgZQBuYHBgOWAFT/BwA/+nT4qfjt9lD0m/Xm9vv5p/x7+oH9GP4n/tT+TP+J/o4AYQDhAXcDGwabB2cGIwbfBv0GSQVRAyQCMwIWAAj/2/9wAbsAp/7U/h//Nv7z/C/8+vvr+9X6GPwf/j3/l/80AHcBlQLQBeYIsQltCpoKQArAB9EE4QFhAD78ZPrd+nP8Pvts+Yv4VvmK+Zr3T/Yx93X3G/b99d73+/kZ+kf4v/jV+jf77Pkh+VX61ftG+2z7xf1aAHAAFgDvAz8Maw/zDoEQTBEtE+QMmwheCMAHYANKAaUBKwQOAqf+Tf16/mv9OPki94v3hPYx9nz2A/hN/Lb9Tf1y/9IABgJ/AQ8AWgAOAgYCfwF3AsIEBQUrBDoEZwX9BY0DOwFSAUMBtv7U/ev9if4B/lT9zf1y/mP+vv1N/c39Y/0v/ZD9if0u/lT/DwCOAIYBaAJKAv8BLAKdAmECtAGzAvcDIwXCBPcCZwVCAkz+4/5F/5/+Y/6J/fn/av+v/a/9kP5j/uT8tvzb/gH+Af6Y/pD9Cf7F/mP9mP2n/Z/9Av2v/M38tv2+/Ub8ifxb/tz9ZPxr/A4B/wDSAA8ADQUVBGgD0QQcA5wDJAJgA8ID8AG7ASwC2QF3AeEALAGHAEX/kP8PAHL/vf7M/jX/W/+u/gH/vf+2/i7+mP6f/6b/cv+f/+L/0//x/8z/HgAHAI4AFgElAcsApQFwAWEBcAAWAWr+pQBhApYAx/mQ/oYC0QOv/PP74ALXCLf5sfebByUAH/8h+Y0DLQAlAHL/0/9hAgcAl/8dAvABRf80AFIAlAXaAOP9+f5+BZD/n/7b/v4CxP9j/5D+iP9y/h//+vzN/T3+H/6Q/fr9ev22/r3+Lv4u/sz+2/56/r79av6Y/i7+4/1U/uP9EP6B/Wr+p/1y/tz7pAIzA+EAMwMcBLMEnQGGAeEBHAP/AXgA3Ps78Tb9cRPFEKn3fPh9B4UGn/2L94L8hQToAQL9zfu7AIj/x/kC/OkAwwH/AKQDWgCdADsB+ABhAfH/jgH/AQcAJv//ALQB4v8HANEChQT/AOP+iP/4AMoBkP9q/rX/LQC2/dX6av7aAJYAtADj/lkBMwIWAEX+Y/3aAMoB2gDpAP8AJQFoAsMAwwA7AiQCLAIOAa7/lgCOAJ//tf+Q/0sA4v9b/2r/6v4tAL3/tv56/pD/ev6Q/s38kfyB/c39+v1y/fL94/2B/vn+TP4n/i7/rv89/2r+gf7F/gj/rv6B/hD/F//y/sX+Pf+7ABYB4QHCAugCfgMNAywDQgOkAjsCJALSAWEBlgAeAAAA0//x/5f/TP/T/5//F/9U/0X/Pf8m/9v+4/7y/ur+4/4I/5f/JQB4AMMADgFZAXcBOwFDAUoBNAEHAcMArACdAIcAWgB4AHAAUgBaAB4A+f/E/4j/ef9j/2P/Pf9q/1v/n/8eAAcB+AC0AegBcAK7AcoBFQLKAXcBWQFhAVkBPAAtAOkAhwCsAFoApQC7ADwAAADM/4H/n/+2/lT+TP56/dz8L/zk+/P71fts+8b78/vr+3P7c/u3+7f7oPtG+xH7PvvO+qj6c/tj/cz/dwMqBtcG/AnlC3sLKQtlCjgKzwkqBqQDrAJoAfn+IP2Y/Mb7Avts+6D73PvU/Cf9vv09/tz9VP5b/pD9a/1M/pj+mP6B/8MAhgFCAoYCBgNoA34DhgONA+ACjgJwAkoCpQFKAXAB+AAHAKb/ef8Q/3L+6/3y/b79XP1U/Wv9a/2B/fr9Rf5q/ur+xP80AH8A/wCWAbQB2QHZAR0C6AGOAXABfwE7AekA2gCWAFoAPAD5/5//TP81/wj/tv6J/mr+cv5b/kX+W/6f/oH+kP7b/ib/VP+B/+L/UgB/ALQA/wA7AVkBdwGdAbQBnQGsAbQBaAFhAYYB/wFZAiwDnQLZAmEC7wIsAeL/FgB/AIH/W/5r/Sf+GP4J/XL93P1j/p/+TP/q/2EAhwAOAQcBnQGsAR0BywDDAFoA4v8m/9v+xf4u/on9kP1U/fr8xfwJ/T79a/1U/fL9Cf5y/nL+ev4B/wj/Af96/oH+8v3F/gH+2/7i/w8ASgHSASwCYAONAyQEswSNBLMEJATJA34DpAIzAqUBfwBDAGr/vf5U/sX9if2B/Sf9a/16/ZD9r/0n/q7++f6I/xYArABDAcMBJAJKApUCnQK7An8CQgIdAtIBaAHhAJYAJQC1/3L/F//U/qf+cv56/nL+av6Y/r3+2/4X/0X/ef+u/8z/BwAPADwAWgBpAHgArABKAf8B0QL+AywCdgQcBR0CHQI7Ah0CaALE/xf/lgDb/jb+kP3y/Xr9vvyv/Zj9Tf1F/p/9TP6f/wj/4/6Q/+r/HgBq/zX/cv81/1T+kP3r/Zj9N/xG/GT88/vV+wr7L/uC+/P7kfvr+8X8zP4AAAcBDQTBBTkH7QhWCTgKvwpACcAJQAjuBZQEjgLaAFT+a/xs+7/5x/ih+Br4kvgD+aj5Avvc++T8if5j/0MAWQF3AgYDhgNvBA0FOgUyBfYEugQzBFEDhgLoAeEAHgBq/7b++v2n/a/9Pv0R/Vz9kP22/fL9VP7b/hf/VP/M/yUAUgBwAKUAywC0ANIA8ADaAMsA/wAsARYBBwEdAR0B4QDLANIAywB/AFIAUgAWAL3/cv9U/wH/tv6B/mP+Lv4B/gn+Nv5M/mP+vf4Q/1T/l/8eAHAAnQD4AHABuwEkAjsCSgINA44COwKGAkICJAJZAsoBUgF3AdoA8f8u/0z/CP/j/if+GP6Q/q7+cv7j/ib/Rf+Q/+r/JQBhAGkAlgDSAAcB6QDLAP8A+ADLAKUAcACHAC0Apv9U/zX/p/4J/p/9cv1j/ev8tvyg/PP8J/1N/YH96/1U/pj+rv7U/ib/+f7q/ur+tv56/lv+GP5b/qf+F/+9/1IAygEzAoYCWQMGBOAEMgXRBEkF0QQVBLoD2QJKAlIBUgDT/9v+GP6J/QL91PyR/Kf8Av0C/Vz96/1b/vn+l/9SANoAWQEOAkoCnQK7AtkCDQPoAo4CQgIVAqwBOwG7AGkA2/+B/z3/2/6f/mr+ev5y/sz+Lv8WAMMAYQAOAoYCygFCAgYCBgKVAmEBfwGlAZYA4QB4AFIAAAB5/8z/iP9j/73/Rf+f/9P/cv+m/5D/gf95//L+1P69/kz+mP3F/JH8zfsg+5n6Ifow+ij6zvm3+bf55flG+vv5ivqC+nP6CvuZ+4n9HgDRAqoGQAgwC+MPoA/kDk0Otg6gDz8MuQcMBtECzP+2/D/6C/hm9SP1BPZQ9XX1wPbO+L/6bPtj/Wr/8f+sAOgBygJ3A/4D0QTCBKsEdgWUBasEYAMzA9ED6AKGAf8A0gBaAOr/xP+B/7b+cv6n/if+gf1F/Xr9Pv2Y/PP8ev1N/Qn9p/1b/sX+Jv/5/6wAJQHhAaQCJAP3AjMDswOcAw0DpAJZAvcBrAEzAncCDQOOAlIB9wMkAzQAVP+u/qb/av+g/GP9mPwo+xj8c/xr/S/9J/0I/2EA6QAWAekAWQL+An8CHQIGAjsCaAHT/5D/0//q/kX9IPzF/Kf85Pts+xn73Psg/AL8Cfwv/Kf8r/xk/Ov86/wJ/Ir7Rvuv+/v6+/qg/PL+aAEGA30GuAkhDMYNvg2RDUYNmQsaClcHpAOsAXr+KPz7+bD4QPga+HT45fmo+uT7a/22/sT/4v8PAHAA0/9b/xf/TP/T/+L/aQB3AUoCbwNYBAUFSQUyBTIFowSNA38CtAGOAFv/VP7F/S/9tvy2/PP8J/1r/fL9ev6u/jX/pQDoAe8DFQTYBNAFFAVnBmAEUQKdATQB6QAdAb3+ev42/hD+EP+9/hf/av8WAMsAhwCu//L+1P5q/qf9Rvzc+2T7N/uw+iH6mfr7+iD7Avsv+9z7IPwJ/Lf7oPuo+5n7v/pk+gr6sPmK+Yr5+/mS+j78ef9wArkHHxGOFX8Xkx4wIc8c+RAqB/4D+f9e9o7w4e6l78LxffUh+mP9LAHRA0sAkvr09/X2QfUN8n7xQfVN+/cB3gjFDtMSaRVSFr0SZAyxB4YDW/4L+Uf3e/kY/B/+4QANA34DdwLaAIH9Evic8xXyYPF38Sr07PnT/xwEMQi4C84MZQsLCfYFUQI9/5j+H/9+A5IMPRFxE/MNZA4gD98Gtv189yTxLe487f7w7fca+F37rABnBBQFuwJwAOP+L/sD+XT5zfzSANIBrAH/AasDaAMf/wP6dfdX9dDz2PLX9ED3Evj8+GX5KPu3+ov4FPUU80nyBfM59G34r/xZAXwI4Bi2JTwpryKqHN4efhkCDlEE+f63+yH6v/lF/kX/Efz0+ar1f+8Q6/Lq0+qY50bnLPBN+2gCMgaDC00OPwx0CgsLqQnBBu4FiwhHC3sMrw95EagNWAYlAQH+v/jC8u/wJPFK8TrzbfgJ/Rj9ivuZ+7f6g/h8+C/7n/0m/6wCQAgwDJEN+g0gDaIJnAVmCQcUahLVDX4E3wYpCkkEYQCo+gXzpPCG8ar1GvnP9kD4N/pV+zb9F/+1/x/+oPsC/D3/QgQ5BjMDY/9k/BH9Pv23+jD5qfii9174Evqn/Pr79Pgb9t/zyPQb9QT15vQU9PX2Xvgg+/L94v+I/9v/uwLUEPQgciXsIDsWOxdZGB8SoQpuBQ4CNAHq/jsBOwLr/Dn2cO8f6YLm8ul37/Dv/+3J8lX8OwIsAvcBjgK0AA8A2ATsC+MPkBD5EDYRrw7kDCgMTwhDAWv8L/09//n+ev6v/T/6QfVn8yP1G/Wr80j0T/eS+RH8+f/gAmEBF/9M/yQCOgTuBpoJ3QvTEhgkAyDZFxoK0AcNBTD5mfm0AGv8MPn7+Yn+5PvS7r3raO8s72DxTvn+ArIGFQL6/c39p/5N/eX4R/e/+dP/DgJwAcoBpQFd+6L17vSw+dX6XflW+YL6t/r7+Qv49fYq9HbzdvSL9/r8vf9oAQAA/wHeCQQcGiBQHBkO3A28E9oUrw9dDRkMuArYBOgDFQT5/nX3/vDa7Bfs2fDl90/4QvDT7KvyEvjW9/z3evxU/5f/pAJPCkYOigyaCbkIQAg4CfMMxQ64CqsFBQVQBmcEjgAB/9z81vjP9ij6zfyR+9b3BPeL9k/2A/ig+z78Cvtd+9v/DQRMEnUeoxnzDEIDKgj8Cr8KwAnIBloA4/1LAEoCsPob9A3z3/My9Oz4Rf9pAPv5WPPm9Df7Jv+2/fz4ufax9935ivt6/af+cv23+bD6Pv1SAIn9sPq3+fv6oPvr/ZD9zfsL+Iv2OPhN+778ev0C/Xr8mPxM/sgHdhlfG0UR0QMEB8wQ0xOYD/oNig2LCvYFmwdIB0ICIPww+W33qfdN+/r9GvjT7BfruvP7+Yr5MPlz+3P7Ifko+1oAYAOOAiwCDQVmB7gJ7AshCpQE8AErBXUJTwkqB/0FjQN5/6/9WgB/ASb/vvyR/FX81fuo+3v7g/mL98f5zP4aCXgU4hHtCawAn/8dApsHKQvWCbsB+vsR/J/+xvuw+SD7zf1M/ib/SwB5/3v6SPTf9Pr7UQJRArb8Gvf19Mj0ufao+q7+L/2o+W34zvhN+5n6kvmo+aj7+vuY/Lb8ZPqp93X3C/mn/C7+Cf4g/YL8KPsY/RIMFBu0Ft0KFQL8CRcTnhS2EJ8RYw98CjkHGgmbB1EENAAf/lX8gf09/xj9QfM163/vA/hz+qH4Ifga+Mj1UPTH98X9QwAm//H/ygEsA1gFIwYVBFEC9gTACWwLXgnfBtgF4AP3ARwEkweiB2cEdwHb/zX/Lv/M/2P/cv76/coClAZuByQD4v9U/SD9n/7oAroEJQHW+Rr4c/vb/uP+1P4PAKwA+f4f/p//hwDF/vP8+v27ACUB+v0D+lb4dPj7+S/8H/5j/YP5bfaE9gv5N/vG+936Cvqp+MD35fgS+c74Ifjl+Cj6a/xz+ij63fj8+OX58/uHANwPMxgIEaMEDgEaCtoT2hSPE+kURBIDC0EHmgllCjgKhAiFBvYE6AP3AcX9jPWF8nT46v4J/k76ZfdQ9KTwFfCq9N36evwh+nz4A/he+LD6oPyB/WP/6AL2BFEEMwKlAawCswNJBaIJNwxHCzkHZwRgAwUGogiDDKELGgnuBdYJ9Qi6BEIC/wF/AGP/mP5wACD9QPYN84T3IPy+/Kj7Rvts+vT4QPjz+38AcAAg/Rj8a/0J/q/8vvuv/Ov8Tfwg/S7/2/43/GT6mfo2/b3+8v6+/aD7bPnt91b5Vfuo++T6Xvgh+IP5g/jl+fz47Pip+JL5c/pN/I4BFxGQELcNVgvGDBkNXgqTCXAVsxjTE/wKKQreCNAGogdPCm0KsQhZA7sAp/xP+IP4sPqo+r/61foS+ZP1wvHg8BTzBPfl+IP5v/iq9ir2C/dA+Df8FgAOAiwBFgBDAI4BfwJKA/0FhAmoCyELkwmyBn0H1wg3DWMPXA5zDFYLKghgA+8ChQT3A/cCDgEI/0b7KvaL9qH5c/vd+jf7KPs4+bH2ovbl+T796/xV/An95PyS+mz51fq2/Xr+4/3j/vn/xf7z/D79tv4eANIAcAAlAHL+6/sv+wL88/wR/Qn8ivvz+rD57PgD+XP6TvoS+uT6mfo3+uz4A/qw+hj81P3GDOkUhAhU/xYAGgkJEGMPABNDFc0NqgbBBuQMvwopC90K1whBBnYEjgKsACj8zvrF/Cb/CP8+/QP40PQ59Iz0XvY++4H9ZflI9Uj0z/Yw+nP7+v2lACUAPf7r/Yn+/wD3A5QEbgVXCE8JyAZYBd8FGwhACHwICwrNDfQLzwh2BWgC8AFRA28D7wNZAZD97PiT90/4ivpk/Gv8+/pW+d73MPmh+uT6vvun/Eb8e/vG+mz6Vfp7+r771P3M/67/n/6+/Gz7Rvzj/p0AjgGOACf+EfwC+3P8VP02/nL+Nv0Y/BH7bPv6+137r/zk/Pr9ev1F/fP83PwJ/b3+vf93A+4G1wfuBqMF2AQqByoIsAsJDiAPLw64CrkHZwYbB6oIhAi5B+cF7wLE/4n+W/5y/mr+EP7y/eT7v/rO+Qv5qfj8+KH6Cvsg+5L6GfoD+lX6N/w9/p0ArAHLAJYArADoAfcC/gR9BgwHQQaqCCEMdAqMB5QFWATJBGcFuQZBBugCtv4o/GT8Cf1y/on+L/03+3T5Iflk+gL7XfoS+or6c/oZ+sf5KPo/+UD4/PgR/Ez+ev4Q/nr9Cf0g/Vv+YQBwAXABpv9M/r79kP2B/tv+Pf9q/zb+xf3N/Vz9ev3N/VT++v0Q/y7+VP4f/tT9J/62/vn+cv9U/xYAcABoA8IDOgVnBpQFUAXBBgwHXgiLCG0KmA+BD7gKhAfgBP4C7wIcBRQHBQUWAbb8sPpW+Zn6Nv3j/RH9GP1k+5L65PoR+7f66/sv/RD+Cf5j/lT9ZPwJ/K7+rAFKA18FwQVCA0oDfwIzA+4FbgeMB98FlQNZAp0AfwDpANIBcAEHADX/kP0J/Nz7Xfvc+6f8Cf2+/L777PqC+tX6Vftc/MX9VP2J/JH7P/pd+yf9Y/93AQ0DOwMkAvH/Jv+B//gAnQJ3AuEBWQE9/8X8Ef2J/RD+CP8HAJ0BCP8Y/R/+H/7c/C/98v7x/73/n/+2/gL9n/3F/Rf/uwKzAmEBBwHwAA8AFgCWAX8CQgJwAhUDDQNoAoYC4AIVA1kD7wNJBCQEaANZAvABtAH/ATMCLAI7Ag4CFgFhAFoAjgBhADsBQwHaALsANADq/2EA2gCdABYAYQAlAFT/pv8PAAj/1P5q/3n/8f9wADwA2//q/gH/rv/5/tT+BwFF/xD+Af9wAGP/TP9b/yf+Pf9hAFT/zf2X/z3/+vz6/GkARf5M/4L81P6u/yb/mP7DABYBF/8AAGEANv7E/8sALQDF/HABhwDF/GP9ywCHAL796v7hACD94/1ZARD/zfxF/4YCF/9c/HACygK2/vn/JQF/AUX/dwGOAg8AaAF/AWkAjgGWAWEB4QEdAvn/JQAzAtkBLv8lABUDWgC2/iwCOwGI/zwAnQC9/vn/JAKWAOr/W//DAHn/rv96/rsB0gFLABj+FgFKAVv+F//oAekANADE/9v/Cf5j/x4AwwA8AMz/BwHoAR//oPzF/nACH///AKQCeAAu/7sBevzr/awCpQHM/mr//wDy/q/9WgDU/TQAxf4AAOEA6/3U/rsAmfudAPn/iP+I/7QAif7hAcX+ifysAEIDPv22/hYAHQHj/rD6rAGUBon8IPtuBYH/Vfof/v4Crv6B/u8CTP+2/Y4BW/+B/XL/SgFM/3L+nQIY/EoBYQG/+hYA/gL/AFv/BgLDASD9ZwScBLf5nQEbCHv6/PZmCf4CofnYA1ECXP0J/DoFwwBV+n8AEwgu/3r8gf7M/zkIkvnO+e0IQgOR/FEDDAb89k39jQRq/076DgFJBC0A4/1F/+v9QgK0AOr+/gQrBPr9L/tRBIcA8/qVAmkAY/+sARYB4/4f/gAAlgD5/hH8ugMu/73+Af8PAB/+wgIHAU76/gJ2Bor6gf2bB136zf3BBmP/KPqHAAcAdwFj/vcBofpCAyQEg/nr/O8COgQu/2kA6QBZAev9UQL3AYL7EP7BBeP+Lv8Q/mcEWgDk+2P+0QKGAVIAfwEdAgr6CP9RA6UAuPfYBZQG/Pcf/3YExvoR/RMIpQGE9yQCjAb6+1357gcY/Zn66ANb/9X63wVy//AAxP/N/TsCt/tvA2cEe/sJ/gYEkfuB/asFP/q2/EkF6/zq/iQDEP54AMz/FQJc/LQAYATwAEz+BwD/AcMAA/ngBEoBRvurBPcB8v69/w8Arv5q/x//Pf4FBdT8BwDvAq/7eAC2/uADiP+0AMsAswKJ/hj9IghU/tX76v8dAY4BlQNG+6j5OArj/oT33ggzA233MwNnBp/93fmUBRUDN/o7Ae8CxP+v/W8ErAKw+h4AOwLT/1v/cACsAcz+XP1ZA3L+tf8dAbsCTP+o+9gE0gDr+wcBBgMf/qUB8AC9/skD+f8++8sAdwMZ+5D+ZgjO+uz6uAs++xr4fAk2/XL9ygIY/oYC+f/y/coBFAVl+QL9xgwT96j5igtN/Qn+tv5BBgH+ZPu7AfYFvv0Z+gwGPv0S+l8FPABM/pn6BQVZAnT5AAAbB6H6bfjWCZYAsPgrBAYEk/WcBVEEhPX/AE8J6v5X9lcHQQfH+OgC6AGh+mkA4APF/qH5fwIkA9T+ovYUBTkIlPNaAEcKEvm2/QsJCf5e9qIHmwa59Zj+Egrq/gv3qgYcA8D2hwAbCFv/9/FcD5UCJPBfBl4JbffP91QP4QG77kgIkguq9f31vg1oAnfvugPFD6zwXfosFmX37vRPCEkGdvMGA1cHL/zN/HABLAH6+yf+LAKQ/Xr+owQu/rsArALb/uT8MQnz+vT51wgf/+v8xf3y/lkDtAFV+zX/UgHhAGr/BwB7+4H9Zgc++/r8FQNuBpL5RvsDC4n8XvbFEDX/9/BOC0EGHfBnBSMGC/hW+N4JrAHs+tz7gwzN+935IwfU/EMAdgRl+CD99Ao4+V35XQvb/2T61vm4Cib/V/XnBRUDtf/7+rQAlAXy/QP68v79BhD/evyf/24Fr/1c/NoAhQSZ+if9qAuS+FT9uQZG/M38qQl7+Wv8UAfDASn5av46BRD+OPn1BiwBkvpBBSwDWPSdAuYIk/eo+YEPovcp+IIOmP1z+mcEhQRd+S7/9Aug+z/5swRvA6n4QwBoAlkBxf6n/X8A9wHz/Bj+HASsAPr74v+6BHr8if70Cl35kvoMB3AAc/oeACsFZfmu/sgG1fo2/XUHXfnd+kAJgf0h+boFEgqU84H+GQ1V+hL6kwcHAIL7BAgg/TD6/QXM//T5IwYu/rX/Vfp8CKj7F/9wAWkAgf2u/5wFbPlJBCsEofrwAFAG1fso+gwIeAA3+9T9KgYp+Pn/bQjk+nX3xgycBEf3ywC5CL/6NACVA1X6SgPpAJH8BgNr/a7+qwN0+V8F4AJj/Xr9/gJk+rsCvf7r/OP+JQDaABYBuwAB/5wEJ/2u/qMFNv7c/IUFYAMx928EWgD+A0j2pv8LCiH4ifycAxUENv7M//n/fwHE//gAAvtBBg0EMvV/AdEDwwGS+SwBZgc4+dT+Zgjs+sEFx/icA5wEx/hpALMEY/6++/8AygKsACf+pQAsAdED+/r4AO8Dzf3d+lgEQwB7+xUEugQD+on9DQP1Bgv3GP3WC2P+Xfn2BMT/CvvU/sEGmfrO+H4FWAZg8uAC7Apu89IA8f/JBE/46/04Ca7/m/T3A/0H7ffc/UcJBgPY88kEQAmL+Bn7wgTi/2z5DgH/AcMALQCf/gcBif1U//ABgf3hASUAUgBU/soB6QC/+nwJvv3X9YQJ2QIq9vcDOwOZ+Wv8GQ5e+Jr3ehD6+076Rgy3+RP29Ak9/2T8a/zfBkb6dgXz/GEAnQAGA8D34ANq/8b7uwIVAi/78/v9B7D6cv+OAGkAzP4WAT3+JAPwAKL3yAhZAXv56AGjBFECCvrH+cYMEftf9d8GlAWK+cX95gY+/Zj+FgE7Aez6YQKOAcz+Pf+GAuACKPucA8MBtv49/qwC+ADJBBn7Nv4bBrb8R/nHCs38bfacBU0OeO4GAyoGKPpU/WcFBwFy/sz/2QEeAIr6SQWY/Z//nQAS+G8EZgjt94L7MAtc/d34bwOv/BwEoPyOAU38hAde94j/7wJ/Asf5xP+xCRH9mvjgBJ0CovZIB3AAdPm7At8H1fvV+ugDuQfd+A8AswTe94H+Twjr/M39Y//lCtv+v/h1B8oBIfhJBTf7ZgdF/pr3fgTlCSXv/gLEEiTyFfEnD5QEhfI+/doUUfBQ9PERsPqv/Cb/swPKAmb2zP4LC44BdvT+AowHbPoS+KAP0gDh7iEK1wjR8TsDIgiK++kA3fpwAgcAa/0VAowGZ/IVAuQOj+0+/AgRJQCI6xsI6RQI7In8NRLc/cPvDQUMCCf9ivmwC7sAqfjq/0EGdgXS7TIGyAiGAV72HAMyBS/9ZPqm/7EJoflm9XoQHQGI7CQEHxIx967qcBW/C4HpCP93GJv1xec7FzALhOLICFEY/vGV8NMSMgaG7xwDbwOUBQP45fkuEnX2jPXgBMgHvvvf9c8JnQG3+xn7/QaiCQbxUgA0FD77DOGdF1MUxuYz8TEewgNK3KIJZhwm7BT01A/sC8fjjQV4E+70o/NmCT8LUPST9noPKPvr+6f9/gIeE8PtJPILH0X/Geb+A4YWo/Sk8MsT5gYB6Zf/tBWUBs7jtACCIrry/OJCGc4Mcug+/AYZz/eK5rALfxc87Z3ubxk6BVXnoPzKFzD5G/T+BOwL9Pfp7RwajgBI9eEBiwoOAfnrGweSDKvzA/kjBkcJ1/ZP+IgSMgWO7t738yPd+G3hcRLmGxXb3/X7IAH/Y+icAwwbrun19UQSLAGE94L8/AhYBujvNv2uEAUG2+ns+iUVHAXy6OYGWxB0+CzwmQveCSTy0gDrDpD+/+/E/5gQuPgs8FsR8AG77vUHkwgn/dz7swRk/FAGgf0T9scJyQWl7bsAcRTS7yj6yRlRAwTh+wvCF3fvlfFrDrYPUfH38UIXLv+G8Pn/6w5q/9nw/wDODJ0AK/OOAd4Ibfe7AG0Kp/4p91EDQQep93z4FQMhC1b4VvnuBVT+MwI9/t8GIvdZAnYGXPyh+Q0FMgUB/5H8ywBKA0MAL/t5/7IGUgEK+qoGfwFG+1v/5gjG+4v4qgZG+2T8rAAu/u8DEvrP95MIswQK+875XwcaC3DwkP9VDR/+u/ASDNAGjfL6/REP6/2x94j/eRLX9LH1gQ/s+SwBp/wQ/lIB4ARV+9z9/gSm/2z5Kgj5/3/w1QyDDEPvygEgDaf8Zfmf/6wCrv/RAt36nQBYBYL7W/6WAUsANAG+/WP+SgMlAawA1vksAwAAJ/3vAz788/xdDb3+KvTpAEcKJ/2L+FT/OAo7AefyswRODMD3OPh1CHgAvvvwAQUFRvtN/UoBdQjr+6H4XwYMBhH9bPr/AX8Cr/wg/UoC1P4R+6sFCf7b/gcA6v/z+w0EY/96/HMMqPqJ/EkFBAcv+7H2Cg3r/H30MgfnBdb5KPvRAwYCR/e+/aIHRf/z/Cf9KwXuBiH6bPrmCA4CuPfy/m4GAAC/+ugBcALO+ev8MwIlAP4CzfxACE39qPoqB+X56QB3AeP+WQEv/X8B0/9DAT3+xP9SAAL98v2f/18Fr/tU/tcIPf5I9KoG1wdN+5L6lARwAcX88/vQBsT/qPvT/7MC4ALy/i0AqwSdAmX5SwBwAon++f4WAdkBzvl6/tIAa/x/AQ4Cp/yHAMIDRf8dAUICUQPF/rsAkP/M/lT/4APZAbf56AI6BNX7EfyFBQL9r/skAwYEifx/AWgCQwCZ+qMGxf3y/rb+hQXKAan3wgKrBFb5xfwsAxYBx/l3AWgCIPwo/BUE6AIC+0MAIwbU/jQBdwOWABj+QwCWAK7/rv/hAMIDc/wB/nACQwBc/PcBW//c/b3/fwDi/xYAwwGn/tIAvf+v/CQCxP9F/v8AhgIB/y7/FQMWAPL9wwEzBFv/nQDCApj++v3pAEoCTP4f/4YCaQA2/Vv+pAIPABH9JQGsAM391P5ZARD/tv2lAVIAvf69/1kBJQAPAD3/vf+1/50AFgG7AIj/WQEAAJ//AABSAOL/4QDT/z3/eAAkAi7/tv3LAAcBW/9pAFIB2gCQ/loAY//b/7sAfwDT/1T/pQC7AHr+av8AADX/LQAWAGr/fwCu/wAAvf+OAAAAxP80ACf+UgH/ANIATP9U/7sA/wDq/ur/OwEeALX/0/9LABYBQwDM/+r+2//M//H/Pf9b/vn+kP+Y/pf/kP9j/1T/2/9q/+P+HgBKAYH/Jv+WAfcBvf+Q//gAUgBM//H/HgBU//n/eADF/b3+lgDT/9P/4QDSAJf/av8lAHL/VP9/AMMARf+Q/toAQwDM/rX/cADx/2P/l/8lAHn/F/+HAAAA2//E/4j/8f9LANv/ef+dAJ0An/+7AP8ANf9q//gAWgBM/44A6QA1/5/+kP+u/73/2gDE/+r/WgCWAMz/UgDi/6b/rv8HAPH/YQAWAZ0AEP8I/1T/Af8I/6b/AABy/6b/kP8u/zQArADx/4j/WgC1/0MABwCQ/5//fwCm/1v/aQBpAEz/W/+u/+P+F/9DAJf/iP9DADQAcv/q/oj/SwDi/2r/8f9SAAcABwDM/5f/pv+f/8T/pv8eAFoAQwAWAMT/Rf+1/yUAYQCHAA4B0gCdAPgA/wCdABYBhgH4AOEArAFwAUoBfwGsAcMAuwD/ACUBDgGGASwBtABaAHgASwCOALsAJQAPADwA+f9LAFoADwC9/8z/6v/q/+L/4v+1/1v/xf7j/h//Af+f/kX+r/2+/Wv9Ef2g/OT8+vvV++v7xvtd+6j7sPqZ+rD6L/t7+1X7Avzc+xj8sPps+qj7ZPsC/PP8r/xN/AL8RvsC/JH8kP1y/4YD4w8OFpAR8wy4CrgLzgoLCsUODhVEEi8NkgqKDBMJaAPy/s38Efwv/Sf+iP8Q/kf5G/TD7p7tq/F19bH1BPYi9174Zfdm9pP3bPlO+Wz5XP2VA9cHZgk4CsgIXgiTCT4NEBCYD+MQHxDcDT4NGBAvDjgJDQTgAh0CfwJhAeL/oPzW933zWPKc86L1m/X+8m/yG/SM9XX13/V19rH2V/ai9+T6ev1r/c37xvpG+6/8Cf62/nr9n/2R/GT7zvpz/JL6R/kL+IT27feD+BL5Gvga+fr7nxHdIf8WEQ4hCr4NZAyZDHIRsCBmHC4RKQs1E/IPIgjhACD9r/tj/6wBwgNSAb/4yfEQ6ZnkNewp98j2QvJR8UH0dvQV8X/wG/VP96r0R/j+AjEKogn2BbsALv/wAXYGTgxMEHIRLhHkDXwIZglVDCEKOgTRA98HTgsECUEF7wI1/0/3dvSh+Db+kP+f/b/64/3/AdkC/wDSAdECJQCv/UMAsgWjBUX/P/oK+wL9J/7U/jwAhwAf/tX6Gfs2/h//a/w/+eX4IfqZ+uz5ivm/+Ff1MvP981f2x/ep9331yPQj9Vj0ufZ89v31ovUq9jn2MPnl+aD8EP7ACAsexx7oFhEPJhHLEw8UHhNtHkYiFBtFEa4RvRKSDBwFUgBr/QH+pQA7AWr+dfal7xDqTuQg5izv2PPC8Hjty+2G8A7v6e0V8VD1dfYL+eL/QQd8CFAGfgPhAQ0EMQkvD/kSnhOtEgER1QwaC78MPg0SCpMIXgpVDE8KDAZoAj3/ofkT98f5zf0Y/pH7z/fI9jD4l//j/r78+f56/Sn5VftDAJUCJv/z+i/8FgDhAAcBuwFoAa7+Pv0u/n8B7wKHAMb6g/mZ+mT7Vfvz+1X6dPib9IX05vYa+O71QfV29P303/RW98j2qvYj9cH0sfWo+ZL6N/uR+1z8uwGIEt8aOxhMEOQOehAXE2ISbhopIBMcjxJbEcQR8w7XCOcEtAGu/6b/uwEdAbf7lPM07lvqxOq775TzYPLv8PjuLe5D7izwhfIF9Fj0Kfe+/GEB/gLoAjMCOwHZAV8Fvwo+D/IQNg8+DWwMmQw+DewM5Qu/C1YLGgp8CcAIIwYdAmP+n/3q/xUE7gUNA3r+R/mT9X30QPf0+fr7Evp8+E/47PhH+Br4g/hO+nr8iP+GAo0DygE2/gL8kfwf/2EBwgIOAlT/Vfxk+yj8Tf3U/HP8oPvV+yj7zfu3+tb5dfdW98D3ZfmZ+hL67PiT98/3g/iK+4n88v3U/K7+Rf67AscJzQ+CDvwKIQoDC/sMGQ3ND7YQRQ+oCykLzgtHC7kIHAXoAoYB0gFKAoYCSwCC/OX4QPde93T4Ifll+MD3mvZP9rn2Vvj0+Jr4R/i3+WT8Y/6I/wcA+f9y/7X/6QDvAroEWAXRBFEEowQ6BXYF7wS6BG8EOgQzBHYEowRgA7QBPAAeADwAaAHCAo0EjgLF/k37sPpG+1X8evzz/D796/uK+hn7+vsv/Bj8vvu+/aUA4QEOATQAuwA+/c38JAJoAqUANAEWAH8An//M/i7/eACdAUsAzP60AB0C4QD6/VT9tf8HATQAef+HALQAYQA9/xf/hwD4AEsAYQClAA4BnQAeAAcAcABLAOL/xP9aAHAALQDE//H/4v/5/+L/PAAlAHgApQDLAPgAOwHpAMMAwwDSANIA0gAOAQ4BDgH4AOkAywC7AHAAWgBaAFoAcABwAGEAUgBDACUANAAAACUANABDAAcADwAHAA8A+f/i/9v/+f8AAPH/4v/q/9v/4v/b/9P/+f8AAOL/2//i/+L/6v8AAA8ABwAPAPn/AABSAEsALQAeABYAHgAeABYAFgAPAAcABwD5/wAAFgAHAOL/6v/b//H/6v/5//n/8f/i/+L/8f/5/9P/xP/q/+L/2//i/8z/zP/T/67/xP+1/8z/xP/T/9P/2//T/9v/4v/5/wAA4v/x/xYAFgAeABYASwAeAA8AAAAAAB4AJQBLADwAQwAPAB4AHgA0ADQABwAlADQAWgAtABYALQBLAB4AJQBSAFIAUgBSAEsAHgA0AB4AFgAlAFIAHgBDADwANAAtABYAFgBDAFIAWgA0ADwAJQAWAB4AFgBSAC0AFgAeAB4AFgAPAAAAJQAHAA8ADwAWABYAAAD5/+L/+f/x/wAA6v/5/+r/+f/5//n/8f8AAPH/AADq//H/BwAHAAcA8f/5//H/6v8AAA8AAADi//H/FgDx/+r/BwDi/+r/4v/5//H/AAAAANP/6v8HAAcA8f/5//n/+f/b/+r/FgAeABYA6v8WAB4AFgAHAA8AFgAHAPn/2/8AAAcAFgDx/9v/4v8AABYA6v/i/w8AHgAeAPn/BwAtAAAAFgAHAC0AHgDT/yUAUgBDAMz/2/8HAHgANAC9/+L/JQBhANv/rv9LAHgA4v+B/xYAnQBSALX/xP80AFoA6v/q/0MAQwC1/9v/UgA0AOr/AAAHAA8ADwD5/+L/4v8eAAAAJQDq/5//HgBwAC0A6v8lAEsAvf+1/wcAcABDAJD/iP9LAFoAzP9U/x4AaQA8AC7/BwAlAKwAiP+I/0MAfwC1//H/BwD5/4H/PABSANoA0//E/zwASwCI/5D/PAB/ANv/6v+1/xYAlgCsAMX+gf/LAFoAAAA9/zQApQBhAAAA4v+1/w8AJQGB/5f/QwDLAJ//vf+f/yUArACB/zX/kP/DAHgAH/+Q/xYAOwGQ/7b++f+7AGEA0/8B//n/FgHLAOL/+f+B/7sAHgDx/2EA4v9b/4j/UgDSAJ//zP5DAYcABwCdALQAvf/CAkAJ7gfc/HT5tv5CBKb/Avxr/EX/xf6n/sX+VP/oAWP/L/0HAegDrABr/AH+r/0VAsIDDQO2/i/8jgB3A2r/mfvwAN8FRf6C+yUAMgWY/uT7nQDwAYn9ev5+BFEEPvtX9vcD9Ar6+xv0SgGCDTsDJe62/SEKowb8+E76hwCFBssAzf0J/R4AwAd7+3T4yAZeCK/8z/Xy/sAISgIR++v9Y/5+BbsCVfuY/qMFn/1c/An9CgzDAdHxgf/ACPgA4/1G/FT/MwQkA778wfQyBgIOQPar8zX/ARDRBDrzOfbuBkYNkvj0+bf7DAheCCn5bPnr/ewLFQLm9T79Gwj8CLf55vTJAxMIYAOj9LD5FAc5BsX9z/fj/SIIpv+59OYI4AJ7+Qj//gJhAeAEbfga+OUJuQap+D78cv/IB1ECdfVq/lEDOgVy/8j2/gPRA135DgHYBYL8Vfp2BOgDe/qK+jMEQgJYBiD8z/VRAt8GMwN7+Qj/rAI0AUX+6AJU/sb6OgVoAZD+TP+Y/DQBsga0Acf3v/oECWYHBfQm/zEJ8ADk+zj5DQOhC5n73/UVApUCTwjF/Pbz4/4SChYBofg+/eYGRf9X9osJQgOL9iUBSwDBBon8xvrE/wcBBAga+T/5DAcTCE/4nQC7AMT/LAM0AEb7FQNhAfP87wP/AcX9hPdZAnoQVfuN8rf68g/XCLn1BvL+AhkNjQX38Sr03QsFBpYATP5r/GECCvukA+ADUgF7+9b3MgZRBAn8Cf7vAugBXfs++4sKOwHU/VT9tv4OAXYF1P1H+W8E0AcS+vT5GP5XB8EG9fTl+cgIDAbn8oH+bAvgBAv3X/Q5B4oL/Pgg/BUCBQXE/270Av1jEfcDuPez8ZwFmgpfBd/0A/lfBxoJmvev/FAHQgJm9uP9KghJBZP38f/M/rsBW/7fBVEC5vbW+VYKOQaE9sX+n/2Q/lYJYAQD+TwANv4L90cLkwdj/mb21vntCd4IdPhz+34E/wAI/9/1LAIfEfr9d/B7+0EFMAwsASXuMPlMEI0F1P0F8wT1oA5FEKf8Wu7g8VoVKA3k+oT21viUBWcFFAc/+gL7owXN+4L8uQaWAOv9Af/6+5YA7wSQ/UMBXfmQ/oMK2AMS+hL4dwKrA0kGKgar80D3yQVUEAYCf++59OUK8w1JBJP2ae4zBGsQWAai9cHztAETCVEDHQFG+x/+1vh3Av0GZgh0+cH0FgGpCX8Czfsj9VEEqgjoAb/55PslAecELAFr/c/3hQTfBiwCa/3284L8+wsbCBj8FfIo+zEJ7gZy/jX/+f7A9xH91we4C6H4KPs1/7EHcv7P9Z0B+wyQ/yL2jgEQ/+YHnQFP+DsC7PmNBd8HbfY9/oUGev4g/AYCuPd/AIMKTfzr/PcCr/36+4n85wQ5CH8BQPi3+1EC0Aa9/y/88v1vA9X7nQBZAsEGn/8w+T/6JAOOARsG0/8q9qMGofn0+bgLaQCY/E382//2BB/+JQF3Acj0cv0JDlgFuPhG+pn7wQVPCbD4e/v/Ae4FL/tB9NAH6w1y/u70mfn/AHUI5gdV+gz0p/6wC9cGufZr/Cf99wGwDOT8cPD1Bl4KRvp0+WEB2QKOArb8EvpJBRUDaAJhAF74PvvwAeUJ0QKm/zf7wPZpAJoKQgTO+KH5tAHoAv8BkP9c/Ub8a/xfBe4HXfmJ/lkDJv8++yUA/Qbb//L9p/zF/LgL7wL890b7av80ASQDugTM/839g/iv+wsJQwElAGECkvou/yf+/QctACD7nQJM/oH9DQSzA8T/ef8Y/an4cAHtCNAGa/0j9Rn6BAgyBaf+a/2I/6UBAABd+5QEuwJ/AWv8oPsB/rkGWQNJBOv9ffMX/7EJbwTy/oL7jgBoAy7+kvrDAUkF5wV7+9f1NABICPcBmP7x/0X/vvsm/4QJAf+R+9T8HAVnBd35XPzwAf4D4QCZ+5//LQAPAH4DxP96/p/9CP93A5wFlgES+Nz7DQQFBg4CxfzX9lkBmQuOALn1FgH3Ap0B+f5hAZ/9cv8VA+gB3fqB/X4EfwIHAIn90QPRAxL6RvtKA+8ELAPU/Nb4SQUyB6D8uPiQ/hwFlAWGARj9Tvpq/yMGOwKf/nL+8/sJ/eADZwWg/L/5HgAtAD3+aAOQ/8z++f8HARUEL/zr+wcBQgLlCaf9Xfkm/8sAugPfBdEDBPc4+WECTgzoAtf2sPj+AjgK2QFy/eX4TP/IBvABmP3U/FT+lQNCAz3/p/0R++EBEwm7AAv5Lv/U/VEEFQSg+xD+aAGQ/6UAzP/x/2ADAf5b/3AAxf6WAbX/+f4HAVIADgFq/8z+Nv1RA/gA8f+v/cb6DQSFBgH+dPlU/W8DNv7SATQAJv+Z+6wA/AgHAF72mP7QBYsI3Pxb/rb+qPobBrMEtvx6/Db92/7CBLoDhgFG+4n9BwDYA4cAi/gdAhMIbga/+Ob2LAIVBAYD6QAJ/vgAr/3b/8T/Nf+cA/4DtABP+LD5aAKLCaQDe/oR++P9pQHgA44A7wNoA2X53PyB/RwFoQyQ/z3+J/57+yUAJ/7vBLoDAf9aABj8GP40AKsDMwLV+0z++AAGA7QBYAPpAHL9bPnF/CQDhQT3ApD/R/kv/csALAJ6/s39wwEVBPABpv9M/73+2/47AvgAHQIlANkBeACX/+P+KPrG+0kEKQlCAhr3p/0OAVIAev0X/8sA9wMlASD9Tvkv/CQCjQPaAAL8ofp+BNEDjgLF/Tf8L/2u/9oAFQJhAksAW/9N/K7+/gL/AaUBTP6B/5YAkP/hAFT+Cf6f/50AywC1/4H/3P2u/tECFQI7AYj/n/3x/6UBaAMVAkz+Lv5SAQ8AHgDb/2r/zf36+zQABgNwAGgCp/36+wn9gf+kAiMGugXy/cf4t/scBKsEwwFM/6f8wwBwAcoBUQKf/ev7tv7b/xUCSQSNA1kCRf3U/Hr8mP2VAwQHrAJy/a/7EftU/8sAPf+sAM39WQJKAYH+BwAf//4CaQCB/QAAYQC6A8kENAHN/XP8n/7DAO8CBgTq//r7PACGAgj/OwEHASUAygGm/1T9Av0WABwD0gBF/xf/vf9/AK7/Af/6/WkAQgJj//L9rv/y/koC2APj/fv6gf/LACwBfwL/Adz9Y/6f/cT/eADx/y7/Af7F/ukATP9pAMoCOwI0AJ/9Rf4zAp0CWQGu/z3/lgFKAocASwDM/5/+vf5U/gAAOwH/AHABxP8C/cX8VP/KAY4BDwAB//L9Lv6m/xYBNAHM/xj+n/75/xf/BwBwACQCYQC2/Ov9Lv8X/xUC8AEAAOr/0/+9/sT/vf9SAFoAlgCdAFIAlgD/AI4B8ADSAPH/4v/4AEMB8ADpADsCYQIHAOP+Y/9wAcIC2gDaAEMAp/16/lIAOwF/ArQA8v2v/Vv/pv9q/6UAUgDb/8X+WQG0Ab3/4v+7AHgAJQHSACUAzP9b/3cBjgFhADQAcAAlAVIAW//j/vH/fgNCApj+8v41/4j/wwAPAKf+gf62/mP+6v6n/mr/YQB/ANoAkP62/qb/QwBhAPH/uwA0AL3/fwAOASb/Rf61/1IAtf+u/4H/Pf8PANoA6QAAAKb/ef81/0X+av7M/7sBMwJpAGP/VP7x/xYBPAAtAPn+4v9aALQA6QBSAHL/+f69/hD+tv1U/jX/hwC9/73/tv6n/Uz+TP7b/uL/vf75/on+xf2B/Vv+DwBSAFT/TP7y/Qj/n/+I/3gADwC1/xD/VP+Q/6f++f7b/uv9Jv/E/4j/iP9j/5/+tv2J/VT+Y/75/pD/W/9F/5j+Lv6f/VT9Cf3y/fL+VP9b/xf/6v6B/tz9mP2Y/Z/+vf/hAA4BDgF4AMz/CP/b/lT/xP9SAP8AQwGWAbQBlgE7AekA0gC7ABYBuwG7AegB6AG0AUMB/wCsALsABwH4ACwBtAHhAcMBNAGlAFIAaQCWAHAAaQBSAA8A2//b/+r/BwBDAGEAeAA8ADwAaQCOAB0B+ADaAKUAaQA0AEsAeACdAMsArABhAAAAef+I/9P/FgBSADQAWgBLABYASwBSAFIAUgBSABYANAB/ALsAuwC7AKwAHgBSAFIAUgDDABYBNAHpAHAAUgBSAGkAjgCdAOEA0gB4AEsAcAClAJ0AjgBwADwAJQAeAPH/tf+m/67/vf9y/1v/H/8u/0X/av+m/9v/n/9j/z3/Rf95/67/2/+u/9v/+f9DAHAArAD4AI4B9wEsAv8B6AG7AawBwwEdAkoCpALoAu8CygKdAncCUQI7AiQCLAIzAiwCMwIsAjMCFQLKAZYBNAH4ANIAwwDLALsApQB4AEsADwDM/w8ABwA8ACUALQBDAC0AWgBSAEsAhwBaAFoANAAlACUASwBLAPn/0/9y/x//6v7j/ur+zP7F/pj+av4u/gH+4/3r/dT98v0Y/if++v22/YH9Tf1c/YH9r/3j/Qn+GP4J/jb+Af4Q/s398v3c/RD+TP6Q/sX+H/9U/6b/AABpADsBSgLgA24FMgaUBowGSQa6BUEFwgR+BGcEDQScA+ACaAIOAv8BfwEWAVoAY/+n/s39L/22/JH8kfyR/Hr8CfwR/Bj8evyv/Pr8Tf2Y/cX91P0Q/nL+6v6Q/y0AtAD4AEMBfwHKAR0COwJwAnACdwJZAjsCMwIzAkoCcAJRAjsCHQLZAXcBHQG7AH8AHgDi/2P/Nf/b/kX/W/8AAGkAlgCsAHAALQDM/3L/Lv8f/wH/2/69/tv+zP5F/4j/6v80AFoASwAAAOL/n/+f/2r/Y/8u/zX/CP8Q/xf/Nf9M/0X/Af/M/nr+TP4n/hj+Lv5F/nL+kP7b/vL+Nf9U/3L/av9q/1v/Jv/5/vn+Af9j/1v/rv+f/y0ANAC0AMMAUgFhAeEB/wFKAiwCdwKOAugC9wIkAw0DHAMVA/4C2QKzAo4CSgIkAsMBWQHpAHAADwC9/2r/Jv/j/p/+cv5U/if+Lv4Q/gH++v36/ev9+v36/QH+Nv5M/mr+ev6f/uP+Nf+B/9P/FgA8AFIAYQB4AEMALQAHAOL/vf+B/1v/Nf8B/+P+vf6n/nr+Y/5b/jb+H/4J/tT9zf22/bb9ev2f/Yn9kP16/Yn9XP1U/SD9GP0C/Rj9mP3q/vgADQPRBDIGOQc5CJMIhAgxCOYHFAcUBrMESgM7AtIBtAHZAfABHQIOAtIBcAHaAHAAl//M/vL93PyK+3v6+/kS+jD6mfov+wL8mPwg/ZD9EP6f/vn+Lv89//L+2/7b/hD/ef80ANoAaAH3AWgC/gJRA5wDBgQcBMIDWQOzAjMC6AGGAUMBBwHhAKUAeABSAB4AJQA0AA8AxP9b/wH/W/7r/bb98v0u/lT+ev7M/gH/av+9/x4AYQCsAI4AhwBhAPn/BwDi/x4ADwBSADQAYQCOAOkAFgFDAUoBaAElAbsAaQAlAPn/kP9b/xD/zP6u/sX+tv7q/ur+Jv8m/xf/6v7q/ur+xf7F/pj+Y/4u/i7+Lv5F/lv+mP7F/gH/H/9b/3n/vf/T/wAA6v/b/73/pv+I/4j/av9q/2P/Y/9b/3L/iP/E//n/SwCOAPAASgGdAdIBJAIzAkICaAJwAmgCMwIzAjMCLAIkAg4C8AHKAbsBlgF/AWgBOwEWAeEAnQBhADwA0/+X/2P/Pf8I/wj/8v4I/wH/H/8m/2P/W/+Q/4j/gf+f/5f/n/9q/4H/VP+Q/5f/rv/i/wcAWgBLAIcAjgB/AJYAeABhAEMABwDb/3n/TP/q/qf+Y/4f/s39gf0+/Qn96/zr/PP88/zz/AL9L/16/Z/96/0J/jb+Pf42/if+EP4f/hj+Af7c/cX9p/2f/b79Pf6B/0MB9wJnBJwF9QYiCO0IXgmECVYJzwibByMGhQQcAzMCcAGlACUAl/9j/x//Rf+B/8z/0//E/5D/CP8Y/kX9tvwg/Hv71fps+hL69Pkh+or6XftN/EX9Lv4B/5D/NADhAEoBlgHKAcoBhgE7AUoBQwFoAYYBygEsAjMCWQKGAu8CUQN3A1kDFQOkAiwCygEsAZYADwCI/wH/av76/dz96/3U/Qn+Nv6n/tT+F/9j/4j/xP8AAAcANAAeAAcAAAAAAAAA8f8WAA8ASwBpAKwA+AAlAUoBfwGGAY4BcAFZASwB2gCHAC0A6v+I/1v/Af/b/rb+rv6Q/pD+kP6f/qf+tv6u/sX+vf6n/q7+tv56/nr+VP5q/lT+W/56/pD+xf7y/jX/av+Q/67/xP/i/8z/0//E/5D/W/8f/+r+n/49/vr9zf2n/Yn9n/2Y/eP9EP5j/ur+pv94AEMBQgJgA4UESQXuBVgGowajBl8G7gVQBaMEswPKAvABWQHDAFoA6v+1/4H/av9U/1v/VP9M//n+mP49/s39IP2n/CD8+vuv+6D7oPvG+yj8p/xN/Qn+rv5b//H/eAAHAaUBDgJhAp0CBgMzA40DlQP3AysEYAQzBFgEOgQkBMIDnAMkA8ICLALDAdoAQwBq/9v+TP62/SD9zfyC/GT8Pvw3/C/8N/xV/IL8c/yg/PP8J/1N/ZD9zf3y/R/+VP6J/q7+n/62/tv+Af8X/0z/cv9y/z3/F/+2/oH+Lv7r/ZD9XP0R/c38c/wg/Pr76/sC/FX8+v1/ABUD/gTBBioIOApdCwMMIQwZDF0LsQnIB34FhgPZAeEA+f81/5D+Lv4n/on+EP+1/8z/iP8m/3L+Ef2g+5n63fkw+Uf4k/d898/3i/i3+U375Pxq/sz/0gC0ATsC6AJKA0IDFQOzAjsC2QG0AR0CSgK7AhwDlQMzBH4EqwT2BCMF5wQkBAYD9wHLALX/rv7F/Sf9oPwo/M371ftk/Pr8a/0B/lv+p/6f/oj/rAHJA0EFowXuBdgF5wVQBboEswOsAtoANf9j/VX8zfsg/In8gf3N/Uz+tv7i/8sAJQGlANP/vf4+/V37N/qh+Rr5mvhW+Kn4EvnH+Sj76/yB/kX/vf8PAB4A4v+Q/wj/gf6+/cX8zftN+y/7ZPvc+3P8VP0J/oH/pAKqBkcKPwzzDUUPCRBUD2QOCg37C0AJowZ3A1kB8v4Y/q/9cv5U/mr+3P3j/dT9xf0C/fP7v/p0+TH3G/Xn8xv0BPX19Vb3A/nG+on81P4lASwDZwRnBW4F/gQcBKQDUQN+A40D7wMNBFgEqwScBcgGkwfQB3UHlAb+BCwDaAHb/2r+Ef2C+2T6bPls+Yr5Vfo++2T86/wn/fP8Nv2v/cMAHAOjBSoG1wYqBtcGjAZXB2cGBQaVAywCFgDU/pD91P3U/YH++v1c/ev81P3U/h//xf7c/dT8bPvO+fz4dPmD+Xv5R/mS+b/5ivqR+0X9kP7q/mP+GP7U/eP9p/1r/Wv9Nv2g/OT7r/s3/OT8a/3c/S7+Nv7y/QH+DgHuBU4LmA6JEIERgBJMEmMR+g/zDhIMDAjoAzQARf2Z+6D7r/yY/Sf98/vV+jf6t/lO+SH4bfab9NHy4PB38KTxo/QS+FX7vv3i/7QBhgNnBSMHBAgTCCMHdgUNBLMDlATfBWYHuQiTCV4JiwjuB9cHZgecBdkCFgA+/XP6OPhe9wP4A/l0+Xv5ofn0+Zn6KPvG+038Pvzk+4n9aQDvA+YGOApVDGsORg5VDQsLxwkEB5QEHQGB/qj71fpO+qj7kfyn/Z/9J/7F/Rj9xvvO+uz5sPj19gT2DPb19ov4qPq2/Pr9xf4Q/zX/W/8I/0X+n/36/HP8Cfxk/BH9p/5U/5f/Jv8f/9T9a/0g/An8zvq/+r/51fqo+/cB1whyER4VlRcVF2AX0xPyEHsMTwqNBeEB8v1z/E37tvzM/tkBaAIWAS/9Evmi9bLyHfBD7qXtJe5D79HwG/Qh+Qj/SgPfBTIGSQWNA0oC0gE7AlkDFAVYBqIHVgmSC80NJw9UD/MNmgrYBekAgf3N+wr7ofq3+gL7e/tN+z77ZPso/Ir7ofnI9tf0jfPu80H1zvhz/GkA9wLtCfIPaRQ8FLQU+RJMEhEOoQrnBWAE2gBj/wn9vvzO+oL6dPlk+sf4ufYj9Mj0dfXI9f31EvjG+tz8Cf3N/S7/gf+u/sX9J/3r+z77ivs+/WP/2gB3AVECuwJ/AvAAW//U/Xr8e/qD+Lj3IfiL+IP55Pr6+3P8Rvxr/HP8c/yC/NoAVgnxEVkWpBfCF+AXfxVbEdwNsAuiCHYEwwGsAIH/VP8PAH8BBwF6/Cr2FfHw7abrxOrT63Duq/Ej9Ff2VvmY/GP/2QFwAtIBUgA0AKUBdgRXCGQMARABEkUReg+3Db8LXgm5Bn4EUQIeAPL9ev2f/sT/Lv+B/QL79PdY9ErxM/C68bLzjPVH96H53Pvc/cT/fwFJBewL3A8BEQgRCBOAFIAUHhNFEeQMIwc8AIn8RvpH+BP2dfVP9u32MvUy9Ej1R/hH+bH35vY4+N35gvpd+4n+LAH/AGP/n/6B/qf9Tf2n/iUAHQGlAKUAcAEsAgYClgC2/mv9+/rd+E/3i/eh+D/5mfkZ+uz51vmS+Tf6ofrs+s378/yB/qUBCws7FsAduB4THA0YxBMZDdcIKggaChIKuQhBB18FMwLF/pH7P/l29C3tc+cC5jboeev/7zL1dPl7+in4jPUj9cD2ofou/4YD7gYhCk4N3A+fEaYSjxL5EBENhAg5BhsGfQcTCRIKogk5BsMA8/oE9+70bvO68lDzFPRu9Az0BPV894P51vk/+SH5+/p4AO4F3QtUEUMVwxaWFXkSCRC/DPUIowQkArQAmP4Y/bb8Ef2n/Cn5OfU686vyBfPf88D2ivoC/SD9EfwY/BH8AvuK+sb6qPtk/Ov8H//ZAXcDjQN/An8Bef+v/aD8kfzy/cz+av6f/Vz8gvrH+HX3Kfd19xL4v/jW+U37Cfwg/b79av56/mr/NAHtCFMUKh30H+4c0RetEvMMmwheCNYK+wz0C/wJMgWI/zf6T/aU86zwJuyf6ePpYuxh76vyovXP9gT2nPOk8QXzi/ef/mcGqAsoDkYOCQ4ZDewL5QtkDS8PLw9VDWwMCgy4CsAIugVhAtz97Pi59Uj1sfbW9xr4A/ht9rLz6PDo72DyBPa/+XP8l//ZAe4HoA49ErwULRR5EuoQXA6SDPQL/AnuBrMCzP+v+zj4XvYT9kD3E/ey9Mj09fXP97j4Kfmh+mT73fpW+ZL5GPx6/Yn+H/+u/vr96/xU/Zf/YQE7Ao4BJQEPAOr+TP5y/Xr9XP17++z5zvjH9973Xvj8+N35KPoD+s75Evq3+oL7VP3q/ksAFQLXBnESwBwSIUAdrBaYEGQM5gh0CiAPxBPiEvMNjAZr/W71O/EG8SvyWfFS7w7vWe9w76XuJe//71HwYPAc8cH0KPsOAm0I+ws/C8gI/QbIB6IJTg3EEsIXfxYXEj8LjAdJBW8DLANoAxwDcADk/Pv53vcE9sHzJPJv8ULw0fAc88D3Rvtz/OT7mfsg/ToFXQxiE2gXWRfTEy8OfAgMBowG/QcqBzoFOwPM/jf7wPcL98D39faT9W32MPgZ+jf6v/qw+rf5Vvd99YT3Xfs9/lIAWgDj/nr8KPqK+mv9JQFoA8IDOwPhAPL+L/1r/AL95PyC+6j6Tvn8+Oz4x/g4+d34TvmL+Mf4zvkg+9T8ev4B/zQAhwC0AdAHYRUpH5IhSBtEEwINRwoTCbcNLRRwF2ITXQvaAAT3UfEV8RT0E/ff9Vjyyu+P7cTrF+tx7J3uWfHg8u705fhq/u8CqgbfBtEEugPfBTEKIA+8E50WfxZbEj8LdgarBcEGhAhWCV4I0QQf/5n5V/bA9Tn13/Qy9ZP1/fQ59BT0m/Vt9+X3/Pfl+VT95gbMEfAUJRTNDgMKsQcTCZIMJhFFESANUAW1/9b5E/ei9zf6Cf1N/Mf3yPVP9nX37fZ89s/37Ph0+db4xvon/nr+kfzG+uz4EvnG+ur+lQOUBSQENAB6/Sj8Pvxq/jwA2QFDASf9Zfka93X29fYD+Kj5MPqC+hL6qPm/+fT5+/nG+nv78/zE//4Cvwv2GSEh/B7LFCgM5ggLC2sPWRcTHUEcEBI5BpL6X/Mc89b3Tf3b/nT57/G961ToN+dc6FrsLPDQ8zL1bvV19zD6p/w9//H/FgEkBPQJmA+PEksTkBHcDoMLiwjlCdwNmBByEM4MDAfSAHP7Gvko+nr8zfyZ+t73yPTY8Q7wf/CF88/2MPgp+fP6aAEpCdYKgwqiB5QGdQioDJgQcRM2ESEL9wIB/wn9if5wAUIDSgOB//T3G/RQ9Dj3kvl7+gr7e/oD+Tn2k/XA9zj5e/n0+Zn5e/pN+838VP6I//L+4/2J/QH/QwCdAfgAcACY/pn73fko+uT6+vvr+yD7TvqS+ez4R/kK+pL63fov+yj8+vwf/6wBgwyNGsceshmYD0cJXgnGDC4SyRnPHFEYmQyOArf53/U/+dT+FQKI/8j2Ye/i6kXp2+lL7Ibw5/KF9P3z/vIE9Zr3Vfpc/af+OwGNBccK5A3rDTcN3QspCyELkgsRDwgSYxHkDSIIUQOOAFv/DwCGAcMBev6D+c/1SfNn8rrym/RW91b4E/dm9in39Phr/eYI5A5jD7YOXQv9BiMHBAlODKANEgwbCCsEhwBc/Mb7vvyf/XL+N/yS+db5dPkw+Kr2BPcp+Pz4C/kL+V36Ifp890D31veh+Oz6kP35/0MA+f76/E38r/0Q/5YA8AAtAGr/xfy/+V357PkK+6j7N/yC/Bn77Pm4+AP55fld+nP8n/6HAAwHWhXXHWcbxRD9B+4GPwyIEcIZAx8qHPIPSgNs+l73zvq7AecFswTs+ujvxelj6GrqJe7v8Yz0BPVf84bws/DQ80f38/pr/fH/FQRXCKEKmgpeCYQIQAllC/oNRRG1EyYSXQ1QB+gCaAINBLIFhQYjBaUAP/oM9Xbzo/Sx9tb31viw+BP2UPNu8zD5LAKyBbkGyQXRA2ADmwYaCpgPHxA+DcEGfgMkAiQDOgQ6BRUE/wGY/IP5A/qZ+y/8TfsS+mz5fPhW9yn3ofjs+KL37fYT9yH4zvlk+gL7qPu++137KPzU/ZD/8f8I/wn+r/36/KD8a/1j/c38e/vO+nv6bPvz+2T8gvyC+3P67Pl7+ij8l/8EB50WKR7nGrcNMgWUBOQMvRKjG+YdGxtsDVEC8/rk+mP+lAQjBtgDv/pC8QDsteva7TvwfvHv8ir0hfSj8rPx2PIU9Uf3xvoB/8IEkwgTCcEGhQTYA6oGbAsfEC0THhN6D4QJHAXRAwwGKQkhCoQIZwWOAGT7x/dl9075gvoZ+vT4fPjX9rn0UPPI9Dj36v5uB20K/AgkBD3/Rf8NBTcMxBLxEU4NnAX/AFT9p/4dAioGuQZCBIH95fgL9973g/kR+wn88/wJ/Nb4dfaq9YT1yPXA9yj6r/uo+0763fjW+Nb4ZPoC/Yj/uwA8AAn9c/u/+nP7IPyf/RD+EP5z/IL7Rvqo+pn65Pt6/AL91ftV/Jj9mwbDFVYeMhrdC6UBOwPNDXAWDB39G3AWuAlwARj9NAAGBDkHyQQdAU76QfRK8A7wq/EU88nx0fAN8yL2KvYy8w3xO/EU9Mf4J/6zA1gGUQSOAJj+NAB+BQMLzQ7rD8UOVgtBB2cF1wbtCeUL3QqLCJsGOgR3AZD+xfy2/Db98/yY/Jj8Vftl+O700PN99SH5Tfv6/JD+9gUiCSoIwgLaAIYBfQdWCycPvwx1B5//1PyB/mECSQQGA44AJv+J/Rn75flk+k38vvzk+8b6Xftz+jD4IvZP9m33i/jO+QL7bPsw+u33/Paw+K/7Y/5j/8z+mP1G/JH7Cfxr/Wr+2/6Y/rb+if42/oH9cv1F/bb9tv3y/sz/4AQgDi0VjxQDC+kAJv9uBmsQShcWFqcPKgbDANP/QgNfBnYGrAKu/wn+kP5F/VX6i/YM9Rv1E/cK+nP8evyD+c/1wfMj9RL5a/3DABUC+AAX/6f9H/5SALsCbwT2BJQEUQQrBO8DUQO7AjsCMwJwAo0DSQT+A5UC0gBM/yb/4v/4AJ0BtAHSALX/vf5b/on+W/8WATMCJAK7AEz+TfyR/J/+FgHDAfgAxf42/U396v6lAGEBtACI/xf/tf/SAFIB0gCX/5D+mP69/wcBWQGOAD3/VP5b/i7/FgBpAAcARf/j/vL+kP/x//H/n/81/x//cv/b/0sALQDE/2P/Lv9M/7X/BwAeAAcAtf9U/0z/W/+Q/7X/kP9j/x//EP89/3L/tf+1/4j/4v/wAPcBaAIzAhYBBwDT/3gApQFRAkoCpQHLAFIAfwAOAY4BdwHpAHAAfwAHAaUBuwFKAWEAl/9q/9P/lgD/ANoAHgAu/5D+p/4Q/5f/2//E/2r/Pf9F/5//6v/q/5f/Pf8X/0z/vf9SAGkAHgBq/9v+vf4X/6b/SwBLAAAAl/9b/5f/4v9LAEsADwD5/zwA8ACdAvcDSQSVAjQAtv6Q/ywCfgScBMICl/9c/RH9rv54AEMBJQCY/vr9n/4HAKUApv/F/Wv86/xj/5YBBgI0AFz9gvvV++P9UgBKAXgAxf62/bb94/4lAJ0A6v/q/uP+Lv8PAOkAaQAQ/8X9r/2B/tv/fwBLADX/GP42/Wv9Rf4Q/wj/cv6n/Vz9mP0n/jX/uwH+AzoF6AOsAXgAygEVBGcGyAZBBtgEFQTgA2cEBQUNBY0DOwIdAgYDSQQcBPABcv+J/SD98v2B/2EAkP9N/T77RvoR+1z85PyJ/C/8t/vc+0b83PwJ/af83Pu++xj9Lv/DAPgAcACB/x//n/8dAdkCDQTJA0IDSQTQBQUGswQsA7oD9gWiB98HuQbvBNECuwFCAsIDqwQkA7QA8v7M/qf++v0v/Zj8Avwv+/v6+vtV/Oz6Vvk4+cb6mPxy/af9gf3r/Gv81PyY/iUASwCB//n+1P7M/lT+av4f/3n/tv6+/a/9p/1c/Tf8XftN+/P7Efxk+0377Pq/+cf4R/kC+7f7qPsg+xH7ivqZ+uT6GP3LAL8K2xHMElYK0QP3A2ULnxCeE9MTtRPkDhIKyAexCFYJOQerAyQCSQTgBHcBbPt19VDzHPPQ9Dj4N/tH+WfzWu607lnxlPRP9r/4Vfov+4L6KPug/OP9n/4PAO8CuQcDC8cK9QffBfYFogfHCQMM3A3rDccKwQaFBPYEWAXnBGgDQgMzA+gBmP5N/NX6sPow+q/7xf7uBiMGwwDs+Vb4KPpr/cMAKwRRA1oAsPma+CD8W/4B/z3/6QB/AnACrv8Q/if+zfxN/Xn/swI7A2P+x/ix9nz3bPk3+vr8tvwS+l72/fQM9ov3Ifgp+HT5sPmD+IT3hPZA9in3VvhG+pH8kfyZ++X5KfkD+fP8CQ8SIT8hQxYTCF4KCBHpFDMZ1h5tH0IY9AuwCzALoghDAQH+ev6kAjsC5PzQ9Ajse+U+5qfp9/HA9nb0y+2v6D3pHu3v8G71+/lj/iUBWQLKAmADjQMNBCMHPwwmE0oXfxW2D4sKVgldCyANcw6BDxgPiwrgA4j/p/6v/Sj7dPk++/r8KPtm9qPy4PBR8ZT0+v13A1gELQBP+Hz2Xfs7As8IQAohC/wIhQXZAqQC7wP2BA0FUAdmCEEHaAKJ/aH5e/mK+z3/SgFy/0b6yPSk8f7xSPQT93T4Gvka+CL2BfTu89/03/Uw+BH7Nv16/Df6R/jX9hr4vvsv/MT/Pf+2/q/8IPzr+wn8a/y1/xAQJyT7H/4XKAwMB84MrRJCGEcgix2tFPwJ/QdRA9IB+f5c/CD8H/+u/nP6aPF66BLkKObU6QXzP/ki947wCOwt7MPv0PQw+q7/YATuBdAGIwerBdEElAb8CZgOUxQkF4cUAg5fB7IF5gdHCXwKoQuDCrIFvf8++6j5i/iT96L37Pkv+zD6wPYF89HwlPJX9vn/3wb1CEEGNf/V+vn/2AQSCzYP8w6DC1cHDQOVAsICwgIcAzIFwQX3AwcAN/s49zn2qfe3+z3/Pf6o+cH0YPFo8djzwPZW+b/6zvnl99f27vVA9+X3bPkv/Hr+av6n/L/5mvga+b/5kfy9/j3+CP/z+6j7KPtG+ij63PxICN0gEiAjGj4N2AXICAgR+BPeHkAddxflC08JHAUVA8z/Rf1z+4j/JQHy/nz2j+zO5VXmzeiN8aH5v/nf8/jtLewW7wXz5fd6/HABWAQbBt8GZwVvA3cDyQX8CbYQ2RVhFc0PkwgUBTkG7gexCVYLewuECI0D1P4J/GT6zvga+OX5p/yJ/eT6SPZ28n7y9fU9//4D5gbuBfL97PkJ/soCsQe4CjALOAmEB6sEOwJhAqUBJALvAxsG5wXKApD9i/gT93T4N/yf/x//KPyT99jzWPOy9Jr23vfd+Qr6ivl8+Ob2qvZI9sD27PnF/JD9Rf0o+vz3Gvi/+LD6Pv1y/lT+L/0v/Ar7ofrk+iD7KwW5G20fFBvrD5wFoQpjELYQZxoxHSsZcg+iCXUHSQbKAYr7XftaAJUCPAD7+ZzxkOm35tznju8L+HT5SPXZ74/tLO8r8aP0dPin/VIB9wOcBZwFfgPZAUICsgVdDAATtBRUEQsL9Qa5BoQHmwiSCgoMRwsEB+ACnQC9/gr7XvhW+Vz9av++/WX5T/aj8+DywfPs+MX+1wYcBe8ClgAv/Z/9UgHvBC8Nrw0SCoUGfgNwAZYAaQCGAqMFnAX3A0oBr/0/+ov3bfjr+0X/0//c/Dj55vWN86vz1/WD+Qr73fqh+c749fYq9s/1T/jk+hH9cv02/V37e/ne9wP5zvpF/tT9Rf9U/U38GfuK+SH6Vfw6BYYYqxodF78KkweSC2wMZA5gF9gZ2RfsDLAKqQo5CI4AmP3j/gYC7wMOApj9Mffw7VvrzOsG8oP4EvqE9mDynfBC8VHxK/P99YL6a/3DAGgCBgNhAZj+Cf4WAaMGbA2JD8YNCwpfByMGKgYbB08JZQswC+YISAeyBf4C1P4+/C/9DwDDASwBH/9c/Lj4/fX99bj4GPzU/aUAfgOsAkMATfxV+7b+wgMjBpsIsQf2BFoA1P4Q/7QBHQKsAhwDyQPKAfL+Av0+/D77ZPxy/sMAwwAv/TD5fPcx9wv49Pm++5H8t/uh+U/4dPi/+OX4x/mv+0391P0g/Yr7Rvuo+uz6oPzb/q7/zP9b/jb9kfyC/Df8vv0Q/7IFqA3rDhoLuQZ2BV8GQQeiCL4NxQ9dDZsIkwc5BwUGjgK7AegBLAPoA0oDDgJy/037T/jW95L5kfwQ/qf8N/vs+d34/PdH+GX5Avu++9z8H/5q/0z/TP4+/Sf9J/5wAH8CaAOVA9kCLAJDATsB4QHoAjMDygLZAjsDHANZAo4B4QCWAI4A2gB/Af8BnQF/AIH/6v75/lT/ef8lAJYBnQGWADX/mP5F/pD+zP6I/yUAAAAI/wH/Jv9M/0z/ef/i/44AywDpAP8A6QCOADwABwBSAFIAQwAPAPn/tf+I/0X/W/9q/2P/av9y/6b/pv+u/5D/ef9q/3L/av+1/+L/8f/i/9v/xP/E/67/xP/M/8z/4v/x//n/6v/b/73/rv+f/67/xP/T/8z/0//E/7X/n/+1/+r/UgBwAI4AcABpAEsAcACOAKUAuwDLAMsAywDhAOkA4QDLAKUAeAB/AI4ApQClAJYAcABSAC0ALQBaAFIANAAAAAcA+f8WAPn/HgD5/+L/2//i//n/6v/T/8T/tf+1/73/xP+9/9P/vf+X/7X/rv+9/8z/rv+1/67/n/+1/8T/2//i/9v/4v/i/9v/2//q/wAABwAAAA8AJQBSAGEAhwCOAHAAYQBSAHAAfwCdAKUAfwCHAHgAjgCWAHAAcABSAFoAPAA0AEMAFgAeAOr/2//T/+L/2//T/9P/n/+u/5//rv+1/6b/kP95/4j/kP+m/5//iP+I/3L/ef+X/73/vf/E/8z/tf/M/9P/2//b/+L/2//b/9v/4v/T/8z/4v/b/9v/4v/i//H/2//i/9v/4v/i/+r/8f/i/+L/4v/i//n/FgAtAFoAaQBhAFIAWgBSAFoAfwCHAI4AjgCHAJYAlgCOAHgAWgBpAGEAWgBwAHgAYQBSAEsAHgA0AFIALQBDAC0ABwAeAAAA+f8PAPH/6v/b/+L/2//b/+L/2//T/8z/zP/T/8z/0//b/9P/0//b/9v/2//i/9v/6v/i/+L/+f8AAAAABwAWABYALQBSAGkAeABhAFoASwBDAFIAUgBSAHAAUgBSADwASwAtACUADwAHAA8AAAAAAA8A+f/q/8T/vf+1/8T/4v/T/9v/zP+1/5//pv+m/6b/rv+1/7X/xP+1/73/vf+m/5//rv/T/9v/2//i/9v/0//b/9v/4v/i//n/+f/x//n/AADx/w8AAAD5/wAAAAAWACUAJQAeABYAHgAWACUAHgBLAFIAUgBaAFoAUgBSAFIAUgBSAGkAYQBpAHgAcABaAFIAWgBSAFIAUgBSAEsAWgBDADQANAAHACUABwAAAAAA+f8AAPH/2//i/9v/4v/b/+r/4v/i/9P/2//M/9P/zP/b/9v/4v/i/+r/6v/5/xYADwAHABYADwAeABYAHgAWAAcADwAHACUADwAeAB4AFgAPAAcAFgAPABYABwAWABYADwAWAA8AAAD5//H/8f8AAPH/4v/i/+L/4v/b/9v/2//b/9v/0//E/9P/xP/E/9P/0//M/9v/zP/E/8T/vf/b/9v/zP/b/9v/2//b/9v/2//b/+r/+f/q/wAA+f8WAAAAFgAAAAAAHgAWABYAJQAeAEMANABaADQASwBSAFIAUgBSAFIAUgBSAFIAUgBSAFIAUgBSAFIAUgBSAFIAUgBSAFIAUgBSAFIASwBDAEMAQwBDAEMAJQAeAB4AFgAWABYAHgAPAA8ABwAAAPH/AADx//H/4v/b/+L/2//b/+L/2//i/+L/2//b/9v/2//i/9v/2//i/9v/2//b/+L/6v/i//n/8f/5//n/BwAPAPn/8f/5/wAA+f/5//n/+f/5//H/BwDx/wAA8f/i/+L/+f/b/+L/2//i/+L/8f/b//H/8f/b/+L/6v/i/9v/4v/5//H/2//i/+L/4v/x/+L/4v8AAOr/6v/5//H/4v8HAAAA8f8WABYAHgAWABYAJQAlAB4AJQAtADQALQBLAEMAUgBSAFIAUgBSAFIAUgBSAFIAUgBSAFIAUgBSAFIAUgBSAFIAUgBSAFIASwBaADwAPAA8ABYAJQAPAA8AAAD5//n/+f/i/9v/6v/i/9v/4v/b/9v/4v/i/9v/0//b/9P/0//q/9P/4v/b/+L/2//i/+L/2//x//n/8f8AAPn/+f/x/wcAAAAHAPH/BwAAAPn/+f8HAA8A+f/5//n/BwD5//n/8f/5/+r/2//q/9v/6v8AAPn/8f/q//n/2//i/+L/4v/b/+r/8f/i//n/6v/5//H/+f/x//n/+f8AAPn/BwAAAAAA+f8HABYABwAAAAcAFgAeABYAFgAWAB4AHgAeABYAJQAeAB4AFgAeAB4AJQAWACUAHgAWAB4AFgAeAB4AFgAtABYAJQAtAB4AHgAWAB4AFgAWAA8AJQAPAB4AHgAWAA8AFgAPAAAAAAAPAB4AHgAPAAcA+f8PAA8A+f8WAAcA+f8AAAAABwD5/+L/8f8AAPn/8f/5/wAA4v/x//n/8f8AAPn/6v/x//H/+f8AAAAA+f8AABYA+f8AAPH/BwDx//n/DwAAAPn/+f8AAAAA+f/x//n/8f/5//H/AADx/wAA6v/x//H/AAAAAAAA+f/5//n/AADx/w8ABwD5/wAAAAD5//H/+f8WAPH/BwDq/xYAwwDSAa7/BwFDAB//W/9U/wAABwDq/8z/SwB5/9v/hwDi/2EAnQC9/wAAPACsADwASwBwAOEA0//M/+r/aQDi//n/DwBhAFIAJQDb/38AjgBaAGkAJQBSAAcA+f/T/+L/UgBaAMz/HgDq/+r/vf9j/8T/HgDb/9v/DwBDADQABwBDAFIALQAtAAcA4v/5/wAADwAHAAcABwDb/8T/tf/T/9v/2//E//H/8f+9/+L/4v/q/8z/2//M/8T/2//T/9P/4v/b/9P/6v/q/8T/0//b/9P/4v/i/+L/2//5/wcANAAeAPn/JQDM/wAA2/8WABYANAAeAFoAFgAAAPH/4v/i//H/8f8AAOr/AADi/+r/8f8PAAAA8f/i/wAAHgDi/+L/AAAeAOr/8f8AAAAAAAD5//n/JQAeABYAJQA0ACUAHgAHAAAA8f/5//H/8f/i/wcAAADx/wAA8f8WAAcABwAPAB4AFgAPAA8AFgAHAB4ABwAHABYABwAPAA8ADwAHABYAQwA0AB4AHgAeACUANAA8ABYANAA8AB4AJQAeAB4AFgAeABYAFgAeAAAABwAWAB4ADwAPAB4AFgAAAB4ADwAHACUA+f8AAA8A+f/5/wAA+f/T//H/2//b/8z/2//T/8z/2//E/73/xP+f/5//pv+Q/6b/iP95/2r/av9M/2P/Y/9U/1v/VP9F/2P/Y/9U/2r/ef95/4H/n/95/4H/rv+X/5D/zP+f/6b/6v+m/7X/2//i//n/BwBLAC0ASwCHAGkAWgDDAJYAlgDwAMsAywD/AOkAwwD/AA4B/wAOASUB+AD/ACUB4QD4AA4B6QDLAOkA0gDLAMMAtAC7AJ0AtACWAI4AnQB4AGEAaQBSAFIAWgA0AEsADwAHAAcA+f/x/+L/6v/b/9v/vf/E/7X/vf+f/5f/n/95/2P/W/9j/0X/Nf8X/wH/EP/5/vn+8v7q/uP+6v7M/sz+xf62/r3+n/6n/pD+rv6n/q7+p/6u/pj+zP69/sz+vf69/tv+rv62/vL+vf75/ur+6v7y/i7/H/9q/8z/nQDoATsCOwIkA9kCdwKsAugChgONAzsDOwN/AhUChgFDAaUBNAFaAAcBtAAlAI4AuwCOAH8A+f8AAOr/xP/q/5//iP95/1T/xP+u/2P/6v/q/2P/kP/T/0sAHgD5/0MAUgAPAAcAQwBwADwA2//5/wAA8f88AFoAUgAHANv/4v/M/8T/JQBaAAAAzP/b/xYAAAAlAI4AlgGsAeEADgKWAXgAUgFKAcMAYQF3AcMA+f/x/4j/vf6m/8T/xf4AANv/rv6X/xYAPf+B/9v/ef81/1v/Pf+J/rb+4/4u/mr+vf5y/oH+cv42/mr+if7F/tT+1P75/rb+mP62/r3+xf6Q/pj+zP56/sz+8v7F/jX/gf8HAJ0B6AH3ASQDcAIsAkoCdwIcAywD/gLoAgYCpQEOAdoAlgHhAAcA+AA8AJ//YQB4AFIASwDi/+r/zP/M//H/vf+9/4H/gf8PANv/rv9aAFIAzP/x/zQAuwCdADwAnQCWADwALQB/AJYAUgAHAA8ADwAtAFoAUgBSAAcA0//5/+L/4v88AEMA4v+1/73/AADb/9v/JQClAKUBtAEdAcIC0gE8ACwBHQFhAEoBOwG0ANv/rv8u/0z+iP/q/4n+AAAHANv+zP8PAPn+iP+1/z3/xf41/2P/Lv5F/pj+8v1U/rb+kP7M/pD+J/56/nr+2/7y/tT+CP/M/nL+gf6u/oH+av5y/mr+cv7F/qf+rv7q/hD/ef9pAA4CHQJoAv4CSgIsAnACjgI7A28D0QKdAg4CfwHwACUBhgGOADwA+ABLAB4ArACdAIcAYQC1/wcA6v/T/9v/xP+I/3n/rv8eAPH/4v9hAC0A2/8AAGkA0gB4AAcAaQB4ACUASwBhAIcAPADb/w8AFgBDAFoAWgA8AOr/xP/5/+r/8f80ADwA0/+u/9P/PABLAMsAQwElAfcBcAGsAH8BWQGlAP8ABwHSADQADwDE/x//l/+f/73+n//q/x//l//E/1v/0/+1/2r/Lv9M/0X/kP6J/r3+Y/5b/on+gf6u/pD+av6Q/pj+1P7b/rb+EP/b/qf+xf6B/mP+if49/oH+gf5y/pj+gf6J/tT+if7F/jX/vf//AB0C8AGzAv4CHQJRAkICrAJgAxUD/gK7Ag4ClgHwAEMBdwF4AH8AJQFDADwAlgBhAIcANADM/wAApv/M/8z/pv+f/2r/tf8eAMz/2/9aACUA0//E/y0AtABaADQAcABhACUANABaAFoASwAPAC0AJQBSAFIAUgAtANP/zP/x/9v/xP/5/yUA+f8HAKUA/wAHAUoBLAElAQcB/wC7AA4BNAGsACUASwDq/5//2/+9/2P/vf/M/2r/gf/b/67/pv/T/73/cv+X/0z/2/7q/tv+rv5y/r3+tv56/nr+ev5y/q7+2/7y/vL+6v7q/r3+zP7F/pD+p/6J/lv+mP5U/on+mP6B/pD+ev6Y/vL+zP4Q/1v/gf+HAJYBFQIsAtEClQIzAkoCjgLvAlEDLAPRAjsCDgI0AR0BtAElAUsA+AC7ADQAaQClAH8AfwAHANP/zP+m/9P/0//b/5//l/8HAA8Avf8PAEMAAADb//H/fwCWAFIAQwBhADQAHgA8AFoAUgA0ADwAWgBLADwASwBaAAcArv/x//H/xP/x/yUABwAPAHgAYQHaAH8B9wGlACUBNAF4ANoANAG0ACUA2//i/xD/W/8HAOr+ef8tAB//gf8tALX/0/8HAK7/iP9U/3n/4/56/uP+mP5q/q7+rv6J/pj+Y/6J/pD+2/4X/+r+Af8f/7b+mP7U/qf+cv6J/pj+Y/6J/p/+av6J/pD+cv6Y/q7++f4Q/xf/VP/i/wcBMwLZAYYC7wIzAjsCfwLgAmgDLAP+AuACFQK7AUMBaAGsAYcAeAAHAWEASwCsAHAAhwA0ANP/2/9j/4H/0/+9/67/gf+1/wcAzP+f/x4A+f/b/9v/HgBpADwAQwCOADQA6v8PAB4AWgBSAFIAaQBSAPH/+f8tADQA+f/x/0sA+f/M/y0ApQDhAEMBnQAPACUBBwFKAeEBBwEHAPn/BwBSAPn/FgDT/1T/rv9M/73+JQAtANkC7gUGA2r+1P2OAZwDNAHN/CD7GPy2/bb+IP03+777tvxN/fr9EP5N/ZH8GPxj/UX/BwCu/hj9XPz6/GP9TP5q/mP+if22/IL8L/2u/sX+EP7r/D79+f6HABwD3wXfBv4E0gB3ARQGogkhCtcHOgRRA9EDfgRvBMkDSgI7Af8AAADq/uL/W/+C/OT7Y/01/7sAiP9N/WT7ofqY/MT/SgGsAFv/1P4I/3n/lgD3AVECygE0AdIBWQJZAjsCUgE0AOEAMwIGA1kCrABF/zX/VP/i/yUBlgEeABj+ev1M/1kCUQMsAh//n/0eABwDugR2BMMAgf0Q/ksALAIsA44Bzf3k/Nv+6v/hAB0BF/8Y/ur+Jv8eAKwAAf/r/HP8gf1j/5//Nv7c+yj67PoJ/Yn+mP6Y/Rj8bPtr/Nz9n/7b/uP93PwR/dT9Nv4Y/oH9IP1F/S7+Nv5b/j3+zf0+/YH9cv7q/kz/4/5j/sX+tf/ZAsgHQAoECFkB6v8NBZoKoQztCTIFHANRA+ADMwSrA7MCBwEHAJD/av6J/rb9Tfso+/P8av41/1v+IP3G+0b6qPtj/w4C6AGu/zb+H/+OANIBSgJ3AnACUQKsAlkCHQJCAv8BSgGWAWgC4AIdAvn/2/41/5f/4v9wAJYAiP/c/SD93P3b/oj/FgCGAv4DFQRwAS7+gf6OAdEEyAb+BLQAGP56/ZD+uwBwAmEBiP/y/tz9cv3N/Qn+rv4AAMz/Pf+Y/mv9Cfw++1z8H/4I/67+Nv0K+wr68/ov/eP+vf+B/tT8AvwC/Jj8zf3M/tT+EP76/Fz81Pxj/Tb9gf2v/eP9rv76/XL9Rf2Y/HL9p/7E/x0BWQK5BhoKqQngA+r/2AO4ChEO+wwMCBwEQgOOAncDDQUrBGEC+ACX/7b9kfy3+2z7KPyv/YH9Nv36/Nz8VfxV+ij6tv1wAZUCDgHb/tT+gf+OAFkCBgRYBNgDJAMsAsoBDgKGArsC9wL3AoYCrAEHAGP/zP+Q/2r/BwCOAOr/Lv4C/T79J/5U/ywChQVQBncDp/5z/BD//gIbBnYGlQIu/k38r/y9/mEBJAL/AEsAJv/j/T79xf09/7QAfwBy/9T+av5U/ZH7Gft6/NT9+v36/dz8AvsD+uT6xfwB/2P/+v0C/Ub8Avwg/BH9W/7b/vL9Av1r/Jj8+vwR/a/9Rf5b/hj+tv2B/ZD9vv2B/lv/rACzAnwIkgzsC0kFUgAsAykJEQ3rDZkLogfgA6wApQDRAsID4AIzAssAAv0K+vz4VfqC/Db95Pvc+8X8ev2C/Cj6A/qY/Nv/0gFZAuEBQwFhAAcALAEGA7oEGwZfBjME9wFZAYYBSgJoA+gDfgMOAh4Aef8X/5D+if5U/0MA2/9F/j79VP0B/rsAOwMcBA0DJQCB/vn++ABgBAwGugOsAIH+VP1U/loAhgH/AawBav+f/VT91P0m/3gAHgAm/2P+p/3r/C/8ifyC/Bj8a/zU/GT8qPuC+7f7N/zF/An9J/2f/fP8evxz/C/8GP3N/bb9mP3c/Hr8r/yg/Hr9H/5M/nL+gf0C/Sf9p/3M/jQA2QHQBj8Mcw50CtgDdwMjBkAJcwwvDlUN3gmzA6b/Rf/b/8MA6AIVBMsAbPtl97H2bfgw+vv6c/xU/S/95PsK+t355Pov/UsAFQI7AqQC/gLKAtkBOwFKAvYEFAe5Bv0FBQUkA1IB+ADhAfcCOwOzAjsChwDj/eT7ifxb/mP/CP+J/lT+Lv/SAH8BNAEWAMT/DwDx/2EBMwSzBJUDBwGf/jb+kP7M/zMCpAPZAlIAr/0J/af9mP6m//AALAFq/6f8ofrd+sb7evwJ/U39Tfzz+vv5Vfqv+778cv3j/XL9evzz++T7mPxN/dz9+v2J/S/98/zk/Lb8IP22/b79J/7N/Qn+zf2v/ZD9EP4I/38AlQMLCq8O3A6pCRwF7wTBBZsHOAuCDvoO/AocBJ//zfxV+5D9FQLCAw4BmPxH+CL2ufRu9ZL41Pyf/nr++vzk+l35ofm+/EMA9wH+AsIESQUNBBUC4QFvA+8EQQUjBkEHuQajBOgCygHwAHAAywAGAjsCUgHE/4H+GP3z+3v7a/yY/dv/fwFRA8IDMwIsAS7/ev4B/zQA9wLRBBwDQwH5/tz8kfxj/a7/YQKNA3ACnQBb/rb8Pvx6/S7/lgBaABf/Pv3k+sf5bPlV+s37zfzz/BH9IPxz+z77ZPvG+7b8if0Q/sX9Nv1z/JH8evxz/PP8Af5y/j3+Rf5c/Zj9Y/3z/J/9Pf5F/j3/2/+OAFEEKQqCDtQPAwxtCG4H7gVBBikJzgwYDxkNZgfKAp/9Zfn7+Zj9eADpAOP+vvtP+DL0QvJY9Ef4xvuY/jX/8v2R+xn6XftU/VT/JAKNBUgHZwZYBLoDUQRJBEIEjQX9BgQHKgYyBegDcAI7AXgAlgAtAMz/DwAHAB//1P22/D79p/4WAEMBFgGsAHL/mP56/uP+pv+lAGEBfwFLAAH/gf69/uL//wDDATsCBgI0ASUAPf8B/z3/4v/b/x//Rf4g/U38c/sv++z6+/oR+2T7gvvV+wn8RvyY/HP8EfwC/PP7ifwY/UX9cv1r/fr8GP2v/MX8Ef09/sz+CP+Y/q7+Rf6J/S/9tv09/pD/NAFfBrAMPRCBD4MM5QkMB1gEswQTCKgMVA/rDSkK4ASY/Xz47fdd+kX9+f/SAEz/5PpI9djx7/EF9Mf3p/zq/yUARf62/L778/rz+5D/yQPQBhsHwQaUBl8FyQOcA5wEhQVQBrIGhQZ2BQYE6AIOAuEAl/9F/4j/Lv+u/pj+gf6Y/T78e/td++T7n/67AasEnAW6A9IBF//U/Cf96v60AY0E5wTgA5YB3P2v+xH8+v27AOACwgNZA+EAif1V+936kfs2/Z/+Nf9U/lX8sPp7+Qv55flN+9z88v2v/T79tvwv/An8Tfzc/C/9Y/1N/SD95PwR/fP8mP2f/cX9zf36/c394/3r/ev96/0B/gn+zP4eAMIE/AqnD0wQcw77C0AJQQWzA/YFbQo+DuQORg0xCSQCqPup+Mf4qPqB/SUALAG9/qH5/fTJ8ivy3/Ma+FX8mP69/i7+Nv1G+yH65PuX/44C7wMrBVgGKgazBA0EWATnBFAF3wVBBv0FdgUcBe8EBgSGAsoBWQE0APn+zP49/1v/vf4u/gn+xf4f//H/FgGdASUBvf9q/gH+a/22/Rf/QwAlASUB2/8I/4n+if6X/7sA2QGOAmECaAG1/4n+Cf4n/j3+W/5q/tz95PyZ+6H6mfq3+ij7IPyg/Kf8mPzz+7f7mftz+6j7GPwg/GT8kfx6/Hr8vvzr/E39GP1c/ev9Af76/dz9n/0Q/hD+W/4u/9IBjAeKDSYRxRCvDhIMmwj+BGAEKgcDDAkPcg/cDQsJ9wEC/D/5kvmC+/L92gB3Abb+x/l19aPypPEr8+b2ZPpG/M38tvzG+5L5x/iC+rb9BwBwAf4ClATYBEIEWASrBFgFhQX2BVgGQQYqBqoG5gZYBkEFUQRCA5YBeADq/4cAhwCdAEsAtf8J/mv9ev4lAOEAaQDE/x//4/3U/Ov86/2B/zwAYQAlALb+XP2J/Xr+DwCGASwCdwLZATwAzP5F/kz+CP+f/9v/EP+f/Vz8gvvk+rf6XftG/BH9+vxc/An8oPsv+yj7KPtG+2T7e/vG+xH8+vtk/Fz8zfzN/Lb8xfwv/VT91P2v/fL9zf2B/sz+jgEbB6gNlxHbEfoPLw2ECdgFhQUqCPsMPRBFEfIP/AqNA3L9e/ps+vr7GP7SACwBTP5W+fX0wvFg8Jzx9fQh+F351vkS+r/5EvhP99b4t/vy/YH/NAHgAuADWAQrBdgFGwYMBnYG/QZBB7EHyAi4CXwJQAiqBgUFBgPoAdIBUQJZAiwCfwFhAEz+a/2v/Xn/SwAPAOP+Rf0v+/T5sPkR+9z8VP55/2r/J/62/JH8mP2u/50B6AKNA+8C4QF4AK7/gf8tANoAYQHaAHL/+v3c/BH8mfvG+zf8vvyn/In8+vts+9X6qPqC+pn6ZPqK+t36Pvts+4r7kfuZ+6j7EfzF/IH9Lv56/r3+cv4Y/hD+xf4HANED3gncD48SRRERDr8KyAf9BSoHqQrcDmsQ3A+oDMEGUgAY/Bn7VfzN/bb+cv8Y/sb6z/b981Hy/vFY89f1mvf890f4OPn7+aj5VvlG+hH8tv1F/38BswNnBW4G9QaqBrIF7wSrBTIHogi4CZIKbQr1CMEGowQVAyQCFQJ/Ag0DaAL/AFv/3P0o/Mb6Rvqo+1v+UgDpALX/+v0o/Eb7gvsg/dv+wwBZAVkBjgAm/x/+VP69/44BpAL+ArsCLAJwAYcAl/9M/2P/n/95/+P+Af4Y/Tf8ZPuS+kb6Tvrk+q/7evxz/Kj7v/oS+tb5CvrO+vr78/yQ/U39r/wY/OT7ZPxN/VT+Af9b/zX/W//y/i7/Lv8AAA4BwQUpC7YPARDNDbgKmwiyBu4Gqgh7C+QMmQxHCxsIfgOu/6/9p/2+/SD9p/yR/Hv7EvqS+AT3/fTQ80j09fUx92X4TvoY/Hr8PvuC+sb6KPwQ/qwAWQMrBboF7gXfBV8F4AQFBTkGdQcECHwIkwgECLIGhQUVBJUClgEHAWEBpQEWAVIATP/c/Sj8xvps+qH6bPtk/Aj/fwHCAncC4QDy/pD9Y/3b/iwBwgJoA38CygFLANv+ev4I/1oAuwEkAjMCnQGOAJ//ev6Y/RH9Ef2f/eP9kP0Y/eT7sPp7+Sn57PkZ+wn8r/y+/Gv8ivsg+yj71ftc/PP8GP2Y/dT9zf0Q/tT9VP42/on+cv4I/xD/4v/5/5YAPACdAFkBMgbdCr4NgwzlCVcI0AeTB0AIXgkLCkAJyAd1B/YFjQNSAb3/Y/6C/Pv6oPug/Gv8Rvuh+eX35vVX9bH2Ifiw+HT5qPoJ/Cj8+vvN/Nz9Y/7b/lIAQgLgAwUF3wUUBn4F2AQFBasF9gVYBu4GOQdQBl8FnASVA2ECcAG7AJYABwCX/6b/H//r/XP8qPtk+0b7Vfvr+y7+swIsAyQCPACX/wH/8f9/AWgDwgN3A9kBcAGlAYcArv8I/z3/SwDaAMMANAFhANT+tvzr+5j86/1j/qf9p/xN/Jn7Tvr0+SH6Efu++yj8p/yf/dT98/wY/PP7c/z6/HL9GP7U/vL+cv76/Qn+VP5U/mP+Pf7j/pf/Rf+9/9P/cAAWAC0AHQGjBosKiguECcAIZgmxCFcHSAeLCMgIyAZfBVcH9QbRBJYBY/+2/WT85Puv/AL9N/wK+9b5IfnP90f4bfje94T3MPkR+7b8vvxU/Sf+zf1c/S7+rAAOAqQCSgOFBCsFfgUyBUEF5wSrBIUEBQV+BZQF0AX2BH4DQgLoARYBeACX/5f/ef8I/3r+TP7U/QL9+vvV+xH8kP9+A/8B4QElAekAn//E//gALAJSATsBFgA7ArsCpQCX/3r+p/5q/0z/jgDwAY4ACP9N/ev9J/7j/Vz9c/zz/Jj9kfxz/K/8qPvs+j/6L/u+/Ov9mP3U/Lb8IP0Y/Z/9gf2J/Wv9Ef1r/Xr+Jv+n/h/+GP4u/q7+Nf95/wAAHgDE/9P/nQCOAjkHQAjfB7EHyAcTCBsH7gZIB0EHSQarBBwFhAdnBUoD9wFhACb/4/2f/WP+Lv7c/K/7Vfvz+876mfrO+Rr5e/k/+i/73Pxy/b79p/1U/eP91P61/+L/cABDAfcBYQI7A5wDhgP3AkICfwJCA28DjQPvA6QDJAPCAmECMwLKAdoAaQAeACUAHgAlAOL/Rf+n/gn++v0m/w8An/8HAa7/8f+I/4j/ef8HAOL/6v/x/38BNAFZAUoBPABDAOr/Y/9DAAcA2/+X/x//F//b/rb+Pf4B/lv+Af4Q/nL+ev5U/vr9ev1r/af93P0f/kz+W/5U/lv+av6J/vL+1P6n/vL+8v4f/1v/cv8X/xf/Lv+2/lT/cv9U/67/av+f/9P/4v/i//n/FgA0ALsAQgPJAzME/gQVBHYE6APRA8kDfgT+AzsDdwNvBKQDpAPCAsMBDgElAD3/2//5/3n/CP+n/h/+xf1j/eT8Rvw3/NX7EfzU/In9Af49/tz91P0f/kz+vf4Q/4H/AABLAIcANAGGAZ0BOwEdAf8AOwF/AfABHQI7Ag4C/wHoAbsBfwE7AekAywCsALsAywAOAeEAQwFDAC0AAAC1/+L/2//q/wcADwAPAAAAUgDb/3L/pv9b/3L/8f8tAKwAwwBpAA8An/9q/xf/+f7q/ib/TP9U/2P/n/9M//L+p/6J/qf+4/75/lT/W/8m//L+2/6Q/oH+Y/5U/mr+n/7F/tv++f7F/tv+4/6u/nr+2/7M/vL+Af/M/ur+4/75/vL+Jv9U/y7/iP+9/8z/HgBSAIcAcAFZA5UDFQQrBOgDyQOGA4YDswM6BJUDBgOzA/cDUQMzA2gCnQHSAOr/Y//q/8T/Pf/F/nr+1P1y/SD9evwR/PP7oPvr+6D8Tf3U/QH+tv3F/fL9Rf6u/hD/n/8AAFoAywBZAbsBwwGOAWEBSgF/AdkBJAJoAnACLAIzAg4C2QG7AWEBDgHDALsApQDLAMMAjgAWAJD/EP/q/lT/NAAQ/wcAY/95/5//+f/i/y0AFgDb/8T/8AC0ANoAQwGWAFIAeADx/zQAeABSAPH/6v8eABYAUgAtAMz/kP8m/5j+2/7b/qf+ev5F/gn+Lv4Q/gn+Cf4Y/vL96/0Y/oH+p/7F/oH+cv5F/hj+Nv4f/jb+H/4B/j3+Y/6B/lT+Nv5F/s398v0f/on+xf5U/2r/6v9SACwBJAMqBm4FFAbYBfYFZwVfBTIFDAYUBgUFDQTYBYUF/gNgA2gCywDb/67+if5F/xf/r/0C/dT8+vtz+yD7ZPow+l36Evqw+hj8GP1U/Rj93Px6/QH+gf4m/0sAOwGGAbsBfwJCA4YD7wK7AqQCygL+An4D0QMrBJUDwgI7AiwC4QFhAbsASwDx/9v/l/+I/4H/Af8J/gn+p/2n/Wr+av6n/tv+Rf/q/sT/DwAAAGkAwwBDAPgAOwFSAX8BjgHwAP8AUgEdAfgAJQG7AGEAJQDT/+r/BwCX/wj/Af+9/on+Y/5F/nL+Nv7F/Yn9zf36/QH+6/3j/Qn+Pf5F/kX+rv6u/oH+av6Q/sz+6v5y/gH+r/1y/RH9J/1U/cX9if1j/Tb9VP2Q/eP9TP4I/67/uwBRAl8GwAgMCDEIVwf1BhQGKgaqBu4HUAfuBY0F/QZYBX4DUQKOAHL+Y/22/J/9W/7r/S/8+/pO+pn5C/nd+OX4qPnd+Qr6oPtj/S7+r/36/FT9Lv7M/ur/pQH+AkoDLANgAxwEswRnBKQDugMNBDoEjQQNBSsFugQcA8MBFgFKAfgAuwDLAMMAhwDT/7X/gf/b/h/+r/yC/An9r/1F/rb+if5U/uP9zf0Y/sX+l/+B/8T/WgDhAIYBdwElAeEAYQBSAFoA4QBoAVIBpQDx/3n/av8X/9T+xf6f/on+rv7j/nn/W//F/sX9Pv1j/Z/91P02/i7+4/1U/eT8+vzU/K/8N/zN+8b7L/xz/Pr8VP0Y/SD9J/2J/fL+WgAzAn4DdgWpCdYKVgreCUcJzwhfBzkHZgjmCJMIwQbYBdAF0QJ/AB//kP1G/C/7L/v6+777CvtO+fz3z/dH93X37fc4+eT6Pvu3+y/9Cf5y/gH+cv7T/xYBOwJZA+8E9gVYBckEIwUrBUkFXwX2BWcGSQYqBjIFUQRZAyQC6QB/AMz/vf9F/7b+1P0Y/WT8e/sv+037ivsg/IL88/yf/Qn+VP5U/sX+Pf8AAKUAcAEGAnACQgIkAgYCDgK7AQ4ChgGGAdIBaAEOAUMAzP+Q/vL9Cf0g/Sf9IP3k/M38Pvz6+yD7v/pz+qH6Tvps+rf6ivuZ+yj8Rvzr++T7L/zz+yf94/1q/3AAcAHCAtgEVglUDwIOmQypCjgLfApWCWUKmQz0CiIIlAV2BnYFQwEB/+v87Poh+b/4bPo++075E/ej9F/07vTA9eb2i/ch+Yr6v/oJ/GP+Y/9M/5j++f9hAn4EKgabB14IyAdJBv0F1wZ1B30HhQY5BhsGwQW6BLMDaAJSAT3/kP6n/q7/NAC9/2P91fvz+or6bPqR+7b8xfxN/In8xf2n/sX+av4u/0sA8ADSARwDBgSzA44CHQJwAtECJAPoAugCfwKdAekAhwDT/+r+a/3N/M38Av0R/QL9ify3+876qPrz+q/7GPzN+777r/uZ+6D7r/sJ/An8ZPzF/IH9mP6Y/lT+ev1c/Xr9H/7q/loAJQF/AZYBrALRA34F3gigDVUN/ArPCHUJhAl8CDEIKQnuB18FjQMGBCQDFgDU/c37N/ow+aj5+/r7+jD5mvdP9kj2/PYp+Gz5+/nO+r77p/wu/lT/n//x/1IAaAHRArMEWAbfBmcGnAUcBV8F7gVYBkEGjQVQBecEYASGA8oCLAKkAgYC2/+Q/6f+Y/5F/fP88/x6/Mb7ZPyJ/Gv9c/zN/MX9Lv49/0sALAEVAugBdwG0AegBUQLwAR0CMwLhAWgB0gCWAFIAAf9y/mP+GP7j/Wv98/xc/Lf7PvsZ+0b7Rvvz+s765Po++6j73PtG/Hr8kfwn/Xr9zP6B/h//Lv8I/5f/l/9aAP8AlgB/ATsB/wDDAR0B9wHSAf8BjgLgAiwDJATRBBsIbQjfBzkGyQQUBecElARQBdgEswNwAo4BOwF5/67+GP4v/ZH8ZPzN/Fz9kfyC+7D6c/o3+6/7r/yY/Qn+J/4J/q7+cv/i/zQA+ACsATsCfwJZA9EDbwTRBEkE4ASzBDoF7wTvBNEEfgQrBEoDBgJhAer/rv/E/0z/F/+Y/gH+3P0v/fr8oPyv/An91Px6/QH+Rf6Q/lv+kP4Q/1T/xP80AKwAnQBSADwAAADx/8T/cv9j/zX/1P69/p/+Y/4B/p/9a/0v/Rj9Cf0R/QL9Ef3r/OT8Ef1U/Wv9tv3y/UX+av6f/qf+av+B/5D/6v/5/2kAUgCdAOkAHQFhAYYCUAVQBqoG9gRoA3cBhwCOAH8B6AGdAcMAtACu/8z+gf5q/qf+Pf+f/0MArACWAK7/Y/8X/x//W//q/5YA+AClAFoANAAHAMz/PABDAQ4CYQJ3AkICJALSAbQB/wEdAjMCDgLhAbsBSgHhABYAvf95/3n/n//i/6b/Pf+Y/nr+gf7U/hD/l/+X/0z/+f7F/sX+Af95/9v/2//b/5f/tf/T/67/2/+1/+r/zP+9/8T/tf+u/67/n/9j/8X+if6Q/mr+Nv4Y/h/++v2Q/af9ev5b/yUA4/7b/lT+F/8eALQAYQAX/6f+xP8eAMz/Rf9j/0X/2/61/8z/cv88ADwAVP4n/oH/LAG7AeEAAAAX/3r+n/5pAGEAnQD5/38A8AC9/8z+0gAsAkoC6AF3AY4AJQE7AdIBJAIVAur/H/4I/9kBlQLSASUBwwCdAHABeACQ/9v/OwH3AdIA6v4u/4H/Jv/SACwBaQCB/ywB4QDj/gn+rACdAlkBLv8n/Zj9BwCsAmEC4/6Y/Mz+FgEGArMCYQLb/6f9cv9hADsBuwEtACwBrAF3AWgBzf2+/MX+tAAlAawAywA1//n+VP3wABUChgJb/x4ApQBKAdoAAf+f/9z9LAEHAJ0AwgJ3Avn/tv0g/WT8tADmB4wGcAE3/Cj74/3oAqsD6QDy/er+6QB/AC7/kP+9/gYCjQPF/qD8r/sOAiwDaAEf/iD8VP2Q/2EAywDSATwA8v6B/ssAeACm/0X/H/6Y/ncB4v9j/tIAdwLLAD3+av6u/y7/2QEOAr3+8v0B/wYCOwG+/YL7Lv/hAX8C4QG0AC7/mP61/9v/pv+lAX8A1Pxb/qwACP/b/kX/BgLZAZj+gf2Y/egCFQRKAoH/p/xz/IH/rAIOAo4CeAC9/wn+r/wHAUIDHAOzAvn+kP0B/or7HQLQBUoC1fsS+dz9dwIkA6wAPf5y/RD+Rf9b/w8ABwFoA44C/wBl+aD86QBZA+gD6/w/+gj/swIdAYYBNADO+lv+aAFCAocAQwF3AUoC+f/pAFT/xf7vA9oAfwCu/67+mP0sAUz/zfzM/p0BHAO2/tv+RvyB/TMCSQZ2BHr88/rT/xYBYQDZAfABxfz6/Mz/r/x6/awBtAC2/kz+cv3M/mEAJATgA3n/2QGJ/c38cAGrA/8BtAE8AMz+F/+9//4CjgCOAYUGCf76+876rv9BBqMGpAPj/lz8vvs+/DMDYARYBMz/Vftd+1IBvf+7ArkGYAOB/Qv54QBKA/4ChgGI/wL9xf3F/nL+BwFN/LQBlQKC+zb9DQOdABYBY//j/tz93P0VBDkGrAGn/FX76v6cA3cCxP9SAD3/gf/hAXL9XPyB/Z/+HANvBNIAif7LAI4A8/yJ/nACnQDDAcICvf80AYL8zfvF/tP/Pf8kA8MAAf43+5D9fwCdAlv/6v7x/ywBQgLy/Rn61P3pADsBxP/hAKUAef9SABYBgf6Y/kICZwRF/xUCnQDj/dgDzP+n/CsE6AMGArQBeAC/+pD+owSlAQL9UgD/ANz7tvyu/5f/zf1V/KUAuwGm/5j+BwCv/eT7kvom/1ED2AN4AGP+cv+u/rf6Nf+dAP4DFAXoAhH8tvz5/vAABgJfBp//ivqC+6sE2AV2BQ8AdfZ7+UMBVgnYBVIAbPvs+C/7kvpCBIwHFQOHAKj5kvmw+aQCTwkEBwH/ivuS+Yn9SQQVAm4F9wNU/2P/1fvk+0X/7wJoA0oBwwFV/C/71PwB/9z79wIyBpD+5PoJ/n8BFgBoAhD+ofjq/3wIHQGg/GkAGP5j/ekANACdAEkFswQg/U37xvsm/w8AfgQbB38Bgf6R+yD86v5KAo4A3wajBOT7OPhs+oH+OwGcBdkCzfwS+Sb/DwBZAU8J7wLG+ij8J/2OAM8IOQadAD77cv04+Db+sQcFBZIKbPuS+Nz9uwA0AUkEQQVYBcz/mvc/+b3+WASaCab/7fZq/8b7EP6iCEgITP/A9kX9vvxhAucFowb/ARv2VP3z/NT8HAM6BZ0CTP6Q/rX/6/yQ/WgBswT9BlT/5Ps0AbsBJ/1F/34DwgS3+mX4EP9YBEoC6AHr+6/98/x/AQUGaQC9/9IBYQKu/7/6ev3U/tcGIwWWAZD/XfuQ/xYBqwPYAzQAev3U/H8BRf87AvcBLv/c/In9HQG++zQBMwLJBFv/tv0f/q/7aQB3AYn+hwB3ATIF6/xF/SQDYQAu/uP9hQWzA8391P36/JH8/gJ4AGgD6AIR/JH8gf47A1kD+v0sAer/iP/nBIj/EP+0ABYAJ/4C/IYBNAEHABUEDgLd+Gv8kP6OAgUF+f87AVv+Rvov/NT9fgOOAjIFY/+E9af8tAFhAlv/Y/45Bnn/Evrq/v8BJAJ/AMMBdwOu/5n6g/i5BkgI9wIJ/a/9Rvv89+EAGwezA0ICXfpB9QP6DQMECP0GNv2I/wL73vdSAEEHFAekAs/35fmsAHcDlAU6BWP+Af9z+j770gFCBJ0CnQCX/6b/jgA++yj8pQBCBE8KWQGR+3T4Vfxq/m4GVguu/4j/zf3d+RH70//WCW4HJQCx94z1bPt+BZkMfgMf/sD2D+7SAO4GmgluB50BfPYp92P/YAM4CWYHuwBt90H1cv4TCCELlAXk+5v18/scA28D0gFACeEBpv/m9in57wMrBUgH+f/7+aH4Tf2TB8kDSgFX9mz5dwOFBSQDmfu4+B4AbgfRAif+IP29/4L8Pf79BfYF+vwZ+zX/Lv6sAQ0DHASv/Xr+IP3r/fcB4ALgAnr8p/4n/oUEDgIu/i/8ywCaCfcCT/bl+LsBUQSkA8kE+v3W91730/8qB8EG1wYsAjrzBPXDAZMIZQoyBiD7/fRJ82ADkwmqCCQDuPgj9Hr+aAHoA5wFZgiQ/azvsPgMBk8JrAJj/rX/m/XH99ED0AXWCXcCVvjI9uz5SwAECCEKLAPu9Y3zEP8FBeAEQgTZAY4BoPxV+if+7wJ2BSoGbwTz+zH2r/xM//4EqgeUBDLzufZ/Aon9lAVsC9T95PtV+vX2Cf5kDYwHdPhN+8oB9PiS+bEH9AnLAMMAEvl7+0ICXwZPCW0Kg/nC8rQBHQJIB04MCf799cHzWgB1B/8AhgH1B7b8x/f7+QwG3wWsAukAx/mv/X8AH/8VA4H+8v35//n+FQNSALb8jgGkAlz9mP4OAnr8WAYqBsf4Tvl/AboElgHDACf+bwRy/oj/if4J/EEFkP6Y/Z0BaQB2BM37IP32BBUD/wHq/t36Nf+bBvYEzviw+Qn9jgDDAZYB4ANM/+b2VfsHAZ0CUQN2BKb/8v1r/Yn9nQDIBrgKzf2E9XX3aAICDg0FSwC0AbD55vZU/8kD/gSxB/8AKPqi97/5/Ph/AewL0QP0+Vf2K/PnBLAKef8C+34EnQEw+JL6kweEB6j6wgLXBsj1GPzoAt8FFQT3AT78x/fRBAYDrABJBUMBkP3V+uX30AZPCdv/Rf20AM381P0WAJ0AMgXSAZH8ofgf/+cFav7b/ncCZwWY/Yn+Tvlq/3QKswNRAqf+I/M3+sEG0Ad/AT/6N/wOAdAFVP8i9h0CwQYu//v5Y///AaMFdgQv+3v6n/8m/1ECsgan/rQA1P6n/WgC6v75/j3+XwV5/xL4uwBU/2gBKQkJ/Rn6a/3DABD/0gGTCa7/ZvYw+EIEbQiTB0z/SPWJ/e8Cr/0OAuAEkP2++0EHDgGp+Bj+DQSzBBUDLv4K+l749gQFBUMBQwFF/cj1av6yBuEBOwFpAJL66/2u/+gBsgY7ApL4c/tU/1ECvf/ZAXUHt/m+/Nv+mvjoAmYJ6AP0+Uf5dPn/AT0QKwT19jD48AAkBLsCqwWJ/pn5MwMyBb78e/sB/zME4APO+qD82ANhAo0E+/p0+OADYQHRA9IAIfiR/OP+kweiByf+GvcD+JsGoA08AIT2wPXgBGQM6QD7+cz+xf36/NEEOwJz+jsBBgOB/eb2vvtjEMoBN/qY/kf3p/5KA+UK/QVd+cf32gANBDoEtv7z+rMD6AIf/gj/VP/oAlv/Nv2lAFIBtv2I/+YGywDO+Fv+/QVc/UoBLAHr+8X+DQOf/5f/rv4B/2kA4QBhAS0AN/y0ABUClgElAF37qwUcBYL6bfizBN8Gn/5ZA3cCI/Ob9RoLTgzd+hL4zfzU/JQG7wPU/EIClgBd+mT7BQYhCsMBR/e+/KsDNf9pAPgAfQeOAt35hwDj/T797wNCAwYEY/5t9wH/pANoAbkHav9W+Gr/HAOOAg0EjgE0Aev7v/m+/f0GMQhHCaL3YPLV+6QDqgdRAv4DNv3g8f8AYAMg/CoGsgXb/k39g/gR+1gFkwif/0ICmP5V+uX5SgOMB8IE6/w+/Kn4EP6TCGP9yQTaAJT0tf89/h4A0AaWANb5kP/KAlECTP8sAwn9qPmrA1gFVfzN/UoCvf/E/2cEVP/V+5wElQMR/Bf/kP/vAuADMgX6/F73rv40ASsEaALx//4EKfhW9w0DfwHHCuACbPn0+dz9wQUsAQcA+ABYBEMBbPuf/qf+fgQrBAcAkP0n/fr9owY4CzsBGvcq9uL/fAg6BM39n/0v/FX8dgRk+9z9/gJvBEX/Lv5O+Xv6ZwX1B7QBzP50+fP8DwBhAN8FOgTc+6L3Y/7YBW8DPf5N/TsBOwKB/+r/zvk0AMEFjgHKAi7+TfvDAJ0BFAb+BLj4G/a0AUAIOQag/Ef5BwFN/Lf5WQNYBH8CVP5z+tP/BgI3+5/+XwcNBBD+5fhd++gDMgUOAnr8QwFN+7X/hgGlAGAENADJBH4EuPeD+PL+UAdsC3ABc/tV/Av41vjuBdYKdgUv/Tf6R/d7+zsCDQScBYj/v/oY/IL7vf6FBmcGtvxr/Pr8EP4zA7sBcAL+Awj/qPvz+8z+DgKFBhQG+v0T9z3+UgD3Aw8AWgCNA4H9TfuNA+EBzP9LADX/8v0sAkkEhgIv/V35Av3i/ywDKwS7AeADJ/4a9xD+2gAVAoUFUgAB/8384v//Adv/3PxoAZYAN/ykAqMELv8I/6/8a/3gAzIGdgT7+uz5swOsAVkCaAHj/VX7gf4Q/6sDbQhz/D778v1s+rIFfgMm/5QGAAB0+TL1IP0qCLEIUgHb/wL8SPZc/CQEjgLDAU380QPaAPT4if7hAEID7wQ7AVT9xvolASwDfwJJBN36KPrgAyQEfgOK+xn7WASdAs39Pf7T/6f9+f7YBFECNv7A96D8UQI5Bp0ATP/3AncBQgJc/fT59wE5BpwE+v0v/Nz7KPpj/40FyQSf/nL90gA2/dz7p/3F/bMC0AfJA9v+vvuK+bf79wPYBJ0B1P5j/UsAJQFU/Wr+6v9hAZ//gvuJ/oYDjAdCA5H8v/mY/Hn/lARfB/AB2gD6/XP6ifyC/LsBhgLCBIYCt/qZ+qD8DQT3AiwBn/1U/jwAGP0R/FkC4AOm/2EBLAJy/gH/YQFwAukAJQDCAqwC2gCY/ur/lgDKAdoAZPuL+Ov9wwEkBLoFzP9W+Hv5vf/+AskDfwFSATwACP88AFz9L/0eAPcBBgR/APL+pQD/AOv8gvuX/ysEaAPRAp/91fsg+73+tAGrA1AFmP77+Zn6W/5gA2gChgFLAHn/GP7b/wYCJQHZAX8BVP41/50AYQCVAzMDMwJb/yj7Kfmg/IUFMgXvAtv/IPtO+iD78/zYA/cClgCsAWP/Efz6/Jf//wClABYALQCm/yf9+ADgAiwCuwCv/CD9zP+lAdgEUQPT/w8Aa/2Z+4n8aQAVA8kDMwO9/wn8Tvnz/C0AnQGOApYBF/94ACUBW/7j/ev9UgGdAsoBQwE0AB//cADwANv/vv0n/uEAQgMcA8sAvf8PAMMAAABb/ib/YAONBegBgf/k/AL9tv3b/g4CFQLaAEz/n/5r/Yn9iP/x//n/UgBKAYcARf4g/QL9ev7/ACQCpQAPAIj/Y/7j/R//Y/81/4H/fwD/AHn/CP9j/6b/uwD5/x/+H/+dALsAFgElALQAcADM/6wAPACHABD/Y/5M/zX/2QHwASUBnQBq/4j/zP6m/wAArv+dAHcBBwHq/3gAaQDx/y7/J/6u//8AwwEGAnAAmP5F/i7/cAClAR0CLAJoAVoAnQBaAFT/zP+7AIYBygHSAVIB6QDSAGP/ev5j/Vv+jgBKAcMBlgFwAEX/tv4Y/j3/pv+dAKwB8AHZAeEAPAAm//L+Jv8X/0oBOwIzAgYCrADq/lT+n/6I/1oAtAC0ANIA4v9M/5/+p/7M/50AhwB/AGkAAAA1/6b/jgAeAOL/6v8WAI4A2gCWAAAAl/9F//L+EP/x/7sAJQHhAC0Agf+u/pD+zP+sAGgB9wF/AVoAVP8B/wj/rv+WAMsAywCdAA8AY/8f/xf/rv8HAEsAeADhAMsA2gDLAOkArAC9/4H/BwClACUBdwGlAekAzP9y/s39W/5b/xYBlgE0AVIApv8Q/6f+6v5q/yUAwwBDARYBnQAeAIj/cv+m//n/LQCHACUBBwHaALsADwCu/1T/vf8tAJ0A+ADSAFoA6v89/9T+8v55/+r/nQB/AFoAFgCu/67/Y/9b/2r/tf8WAFIAYQBhAHgANAAHAHAAvf9y/2P/4v9hAIcAhwAHAL3/tf+1/5D/0/8PAFoAYQClAKUAQwAlAFIAaQB4AEMALQA8AAcA4v+u/73/+f/q/wAAFgDi/5D/kP/5//H/zP+9/73/FgBwALsAwwBwAAcAav8X/0X/kP/5/6wA4QD4AGEAvf9j/2r/TP89/2P/AABpAHAAcAAWANv/gf8f/x//Lv+B/+L/QwAtAC0A6v+f/0X/Jv8X/0z/gf+9/xYABwDM/2P/CP8Q/0X/pv8WAEsAYQBaAFoAhwCWAI4AcACOANIA8AD4ADQBLAHwAKwAaQBDAAcAQwB4ALsA4QAHAfAA4QDhAMsAYQBSAC0AhwCWAOEAPADhAMsAQwCWAK7/PABy/x4An/9LAFIAjgBhAEMAFgAAAAcANAD5/yUAAAA0ABYASwAWAA8A2//b/7X/rv+X/6b/4v/i/wcAAADi/6b/av9M/y7/VP9q/1T/Lv8X/+P+kP5j/kz+Lv42/hj++v3j/a/9n/2f/ZD9n/2B/a/96/0u/jb+mP6J/vL+rv75/pD+2/6Y/gj/1P5U/wH/av9F/3n/iP/wABYAYQJ3AcID9wLJBO8EOQZQB9AHXgiEBzIH2AX+BGAEqwOVA6wCSgJSAY4ACP8f/hj9evwC/Lf7e/tV+4L7kfsv/Lb8Y/2v/Qn+Pf62/hD/xP+sAI4BHQKVAvcCMwNRA2ADOwMVA8oCnQJZAiwCJAL3AYYBDgFwAOL/TP/M/nr+ev5q/kX+H/5j/XL91Pz6/NT8Av1U/Yn9EP5b/q7+1P7j/vL++f7b/nr+VP4u/kz+Pf4u/tT9vv1y/fr83PyR/K/8a/yJ/FX8PvwC/An88/vr+8b75PuJ/JD9av+OAqoGEgw2EI8StRFcD8cL9QjmBhsGdgYUB6IHOQduBhUELAJM/wn98/pt+G320POF80nzbvVW93T5ivqo+vT5/PhH+LD41vlG/BD/DgIkBJQFbgY5B+YH9QfuB0gHfQaUBQ0F9gR+BQUGZwYjBhwFDQPaAFT+Tfw++8b61frG+t367PoK+y/7oPtV/BH9r/09/on+2/4I/wAA/wA7AlkDJARYBDME7wPCA5UDpAOkA2gDBgNwAvABWQHhAFIABwBy/5j+if1r/Lf7VfuZ+837N/xz/KD8kfzr/Pr8mP0B/sX+CP+X/5D/rv8u/38BxP/3AVIANAFpAL3/HgDF/j3/mP5j/jb+n/2Y/fr8XP36/BH9tvyR/OT7+vvG+yD8p/xy/Sf+1P4PAFIBQgOjBPUGVwipCd4J3gkpCW0IbgfBBiMGZwWFBEoDOwI0AQcA+f4B/s38c/s3+vz4Ifip98D3MPj8+Lf5qPpG+wL8kfx6/Vv+VP9LAAcB8AGOAkoDUQQ6BfYFdgaUBm4G5wVJBfYEnASUBGAEwgRnBLoDOwIHAT3/6/2R/Ov7Eft7+jf6Rvq/+kb7GPzc/Jj9EP5y/q7+F/+Q/3AAYQEkAsoCUQOrA4YDfgMkA/cCDgJ/AQ8AWgC2/nr+TP4Q/mr+XP3c/b78tvwC/Pr7mftk+z777Pq/+r/68/o++5H75PtV/FX8TfxV/K/8p/zc/Kf8xfwR/M37v/ow+uz6tf+EB2sPlRadF5QZhhZTFBgPcwwpCUEG0gGX/5D9Avxs++T86v75/4H/n/1l+aPzZ/KH7SXvWu678AX05vS49136n/+sAgUFlAb1B4QH/gRoAyQD2AM6BRsHuAl8CmUK3gn8CUcJ/QdBBiQEQwG+/bf6ofjA98f3MPk3+vP6zvoZ+876bPpd+t36KPu/+l36ZPpd+5j8+f6GASQEGwZ9BxsIQAgbCJoJigvVDFUM/AqiCNAFMwP/AVkB8f8J/uv7c/rH+Lj31vfs+M75kvq3+qj6ivrs+tz7Nv1q/oj/LQAWABYA2gAkAv4ChgO6A5wDuwLDAQ4B/wDhAHAAAABy/67+1P1r/Xr93P3y/af95Pwo/IL7Efvs+sb6AvsC+7/6mfrG+lX7vvtG/Pr8mP3j/RD+TP49/+kA4AJuBWYIKQvVDXIPkBCfEDYQ1Q6SDMAJuQZ+A1IAp/2C+2T6mfkp+QP55fjH+Hz4Xvga+MD3OPe59oT2ovYL9zj41vnc+z3+ywD+Av4EyAYqCBMJbQlmCeYI/QfmBtAF2AQVBGgD6AJ/AjsC4QE7AY4An/+Y/on9TfwR++z5/Phl+CH4Xvjs+N351fog/Hr9zP4lADsBOwIkAxQFDAc4CW0KewtsC+UKqQltCJsGowQVAuL/cv1N+5n51vi/+Br5kvlG+gr7qPuC/C/9zf02/lv+W/42/tz9EP6Q/j3/zP+OADsBrAHZAQ4CJALwAWEBpQDq/9v+tv3z/D78vvtG+xn7Cvsg+0b7kfv6+xj8L/wJ/M37Tfvd+mT6+/m/+eX5Vfqn/EMB1wbdC00PrRItFYYWFhZwFaYT4xDdCyMHJAKn/RL5C/cT9s/1SPXm9d72uPdH+Ir53fov+4L6zvm/+Av3BPaL9vz39PhG+qf8l///AToEjAepCooMTg3VDVUNigtPCaoHGwboA8oBYQDq/q/93Pwv/cX9Af4f/nL+Af4n/T781fsv+yH6P/nW+GX4C/h0+Mf5oPtc/T3/WQHvAisEhQXIBt8H7gfQB1cH/QcLCRIKKQrHCQsJDAibBucE4ALSACf+IPtW+BP2I/QN81DzOfR99Qv3R/mo+2P+nQCVAjoEXwWrBVAFfgRgA3AC2QHLALX/mP4n/sX9EP5b/ur+Pf9b/1v/TP/b/i7+mP0R/Sj8N/tV+tb5sPm/+fv5bPrs+nP75Ptz/Kf8Cf1N/a/9p/2+/c39Nf8zAiMGuAk/DJgOARHTEnETlxM1E70Rcw6LCkEG2QER/cf5Vvfu9G/yK/Ez8avxYPIM9Hz2x/go+oL7tvwv/Sf98v0Q/0z/rv6u/pD/WgDwAEoCWARBBlAHkwj0CYMKTwpWCmUKbQlIBw0FHAMOAaf+p/xz+zf69Pga+O331vcw+Ef5e/pk+9z7kfyB/RD+Y/7q/oj/4v/b//n/cADaAFkBFQIVA/4DYAQFBecF5gd1CdYKEgsaCyEK/AhQB5wFSgMWAQH+8/oL+Nf19vNB83bzOfQM9Wb2g/gv++v9nQCsArME7gV2BmcGKgaNBdgEswNRArsAJv/c/Sf91Py+/KD8xfzz/GP9zf09/pj+zP7U/lT+p/0J/ZH8N/y++y/7xvqS+mT6ZPq3+iD7kfsR/E38xfwR/Wv98v1b/zsCnAXmCM4KAg0gD0URPRK1Eo8SvRERD8cLIgh+BGEA3Pz7+U/3DPRv8VHwWfCd8H7xX/OE9Uf39Pjs+tz8Lv6m/1IBOwIzAg4CLAKdAqQC6AKrA40EswTgBMEFsgYjB4QHOQhPCG4HFAYFBf4DdwK0AAj/ev1k+5n5Zfix9xP33vZl9wP4kvg/+Zn6N/yf/Qj/YQCdASQChgJCA9EDHAQNBCQEBgS6A0IDLAMkAywDHAOcA34EXwXBBdgF0AWcBQUFJATZAn8Bgf8+/T77qPkS+Ob2T/Z19tf2qfch+Qr7L/2B/5YBYAPYBAUG1wYqB+4GDAb+BKsDUQKOAPn+mP2C/Lf7IPsC+/v6Xfvr+778a/3y/YH+2/4Q//L+tv5F/uv9VP3U/E38t/ts+137c/uZ+9X7Pvyn/AL9cv2n/dz9Pf6Q/tP/LAIjBdAHmgmKC6gNgQ9yEPIQFxE2EOQNAwv1B2cEaQC+/Cj6T/f280rxFfDh7+jvu/Cj8sj0k/aa+D773P2m/2gBSgPCBBwF4AQUBWcFBQW6BOAE2AQrBMID/gN2BG8EdgTnBEEFowTYA1ED0QL3AcsApv9q/on8t/qZ+c749Pdt91733vcw+Mf4+/mg+0X96v7LADsCSgMzBDoFGwZ2BmcGKgbBBQUFFQRKA5UCDgJwAeEASwDb/3n/cv9b/1oAaAE7AlkCfwJoAnAC9wHDAcsA0/8Y/q/8e/vO+t35sPkS+gL7oPuv/BD+BwC0AVEDowSFBdAFsgUrBboEugNhAuEAgf/N/VX8IPuK+jf6ZPqo+hn7xvvF/J/9xf7E/2EAtADDAJYAYQDq/1T/ev6v/ev8TfyK+y/7Cvs3+4L71fsY/M38J/2v/Qn+p/41/4cAnQJ2BQwIxwlWCxENtg6gD/IP1A+gDkYMdQmMBiQDNf97+7j4T/ac8zvx/+/o71HwhvGr8wz2Gvj7+c38l/9wAbMCYATnBUEG/QXuBdgFSQW6BLMEowQVBEoDOwOcA7oDnAPJAw0EdwOVAhUCaAE0AL3+p/2R/Bn7VvlW+Nb3dfd89wv41vjW+eT6evxj/i0AtAEVA7MEqwVYBrkG0AayBjIGlAXRBJwDjgKlAdIALQCB/wH/vf56/lT+Rf5j/mr+Y/6f/oj/jgBDAVkBfwGdAY4BUgFZAf8AcACB/+r+p/49/uP9vv0u/tv+Pf+1/3AADgGdARUCUQJZAiQCuwEOAZ0A0//y/j3+mP0Y/c38mPzN/Pr8gf0f/uP+W//b/2kArAD4ACUB/wC7AHAA2/9y/xf/mP4B/rb9cv0v/c38oPx6/IL8c/yR/JH8mPyJ/Kf86/wv/UX9mP3U/Vv+H/9SAOEBdgRuB0AKPwz6DTYPJxAuEKAPRg7dC08IYASdAMX8dPju9JTy9/Cd7wfvhu8V8f7yk/XH+D78rv7hAKwChQRuBecFOQZfBskF/gRRBPcDSgMVA28DJARRBIUEyQQFBboEOgTCA/cClgG1/9z9KPwS+jD4BPeL9iL2E/aq9t73VvkC+z79n/+WASwDswTBBaMG3wb1BsgGMgZJBWAEWQNhAqwBDgGsAFoABwDq/8T/l/9M/zX/8v6u/h/+mP6B/38AwwAHASUBWQE7AX8BdwE0ASUAiP/y/sX+3P16/a/9ev7F/mP/DwDLACUBtAFCAncCJAKWAbsAFgA1/zb+Y/3k/In8N/w3/KD8+vx6/Uz+Nf/i/2kAtADLANIAlgBLANv/Lv+B/uv9a/3k/D78+vvc+6j7e/t7+5H7kft7+5H7zfv6+yD83Pw2/gcA2QErBFcHCwtcDggRtRKmE0sTCBIJECAN9QgNBBf/ofoM9ivyFu/S7XHt/+1o79HxhfRA9zD6cv1pAEICMwM6BI0EhQQrBBUEHAQcBGcEQQUjBrIGZgdmCAsJGgl1CIQH2AVRA8MAH/5k+6H4OfbB9NjzX/OU89f0qva/+D77xf1SAA4ChgO6BJwF7gXYBZQFDQV2BOgDlQM7AwYDFQNZA5wDhgNCA+gCOwJ3AS0A1P5j/c37ZPp0+ZL4OPgw+OX43flG+9T8n/5DAMMB0QL3A6MEfQaiCNYKdAtlC4sKBAmqBtgE6ALpAL79N/s4+cD3BPYy9ar1k/cw+Rn7L/0B/zQAdwGOApwD/gPRAyQDlQIOAg4BLQAPAOL/HgBSAFoAJQAWAB4AJQAPAOL/W/+2/vr9Rf3r/KD8ZPyY/AL9if3F/eP9Pf62/hD/cv+X/73/pv9j/z3/TP9F/0z/VP95/67/xP+9/73/AAAtAI4A/wBZAcoBBgJCAoYC7wIzA3cDpAP+Aw0E7wPCA34D/gKOAhUChgHSAAAAH/9b/pD98/yC/Fz8Rvxz/PP8ev0f/tT+zP+lAFkB2QEzAmECfwJoAjMCJALSAXABNAHwAJYAQwA0AA8A6v/M/67/ef9U/x//4/7F/p/+kP6u/tv++f41/4j/4v80AIcAwwDaAPAA0gDSAKUAaQA8AEMA+f/q/9P/zP/M/9P/0/+u/6b/ef81/9v+kP4u/p/9Rf3r/Kf8ZPxN/Bj8IPz6+xH8CfwY/BH8IPwR/Cj8KPxc/JH8kfyg/Nz8Cf16/RD+n/8NA6IIAg/aFMkYZxuUGysZQxVrEJoKDQRU/d734PLS7YHpPuiu6Xjs8O+j9Br5+vs+/Xr+Jv/F/gn+cv6Q/44AYQHRAv4EZgdeChEONhG1Er0SphHrDikK4AT5/2T7Kfff8yvyYPHC8DvxK/P19Zr4Rvvj/bX/WgBDAMT/EP+Y/sz+6v+GATMDMgVQBzEJvwrsC3MMEgypCosIfgX/AT3+qPoa+Gb2ovXX9d72GviS+fv6gvyv/ZD+F/95/4H/W/8B/9T+CP8HAEoB7wL2BOYGTwgpCSIJoghIB24FYANKAR//Ef0v+7/5/Pjd+JL5kvrN+wn9H/7j/hf/EP/U/pj+W/5y/sz+av88AEoBSgJ3A5wEnAVYBpQGOQZnBf4DMwKdAPn+if2R/Pr73Pv6+3P85Pxj/ev9W/62/tv+8v7b/q7+gf5y/rb+Pf8WAB0BMwIkAwYEdgSzBG8E2AP+AiwCOwFDAC7/Y/7U/Wv9Rf1y/dT9Pf6u/uP+CP/b/sX+kP5y/nL+p/4Q/6b/HQFYBMAHRwsZDUYO1Qy4CSMFywAg/Cn4lPTQ8wz05vSM9an3VfpN/b3/uwKFBFAFbwQGAx0Bav8n/ZH8Av2J/iUAuwFwAtkCSgLoAdoA0/+f/pj9oPzk+xH7Cvso++T7Rf0B/6UAlgG7AVIBUgC2/if96/uK+4r7Cfxj/S7/NAEkA3YFjAciCdYJuAmiCPUGnARRAnAA4/7r/a/9+v2Y/ib/n/+1/5f/6v4Y/hH9Efwo+4L6RvqC+jf7ifxy/n8AjgJJBMEFfQZfBtAFugR3A0oCWQGdADwAAAAlAEsArADSAOkAywBaAJ//rv6Q/c388/uR+6j7XPyQ/fL+cACsAZ0CQgOGA28D7wJRArsBBwF/AAcApv+u/8z/+f9LAHgAfwBaAOr/W//M/kz+1P2n/bb9Cf6Y/jX/0/9LALQA0gDhAKUAfwA0AOr/n/9j/1T/VP9j/3n/tf/i/9v/rv9F/9v+Rf6J/ev8VfzN+4r7ZPtk+3v7r/u3+/r78/vz+8b7zfuC+5H7IPwu/rsBVwe+DVMUBhmyG/0aaBcfEYsJpQE3+0D25/M689DzufTP9ar2k/fA90D4XviL+F74Ifix98D3KfgZ+oH9FQJIB8YM+RCXE8sT0xEvDsAJFAVoAcz+cv3c/Ov85Py+/Cj8Vftk+pn5sPj892X3wPZe9nz2E/ep+D77xf7RAqMGwAmoCyEMRwtPCdcGowTgAgYCBgIkAlECUQL3AQ4Bvf8u/pj8RvsS+gP5Vvip93X31vfW+Hv6zfxq//cB/gNuBecFfgWjBKQDpAJoApUCQgMGBLME7wR+BJUDJAKlAPL+cv0Y/D77ivoh+gP6MPqw+nP7oPwQ/nn/lgBwAbsBlgFZAQ4BDgFSAQYC0QLJA6sEDQXgBCQE/gLKAX8ANf9y/sX9XP0J/fr81PzU/PP8Nv2v/R/+kP7y/ib/VP9U/2P/rv9LAP8A4QGzAncD9wP3A3cDuwL/ASwBWgDM/4H/W/81/y7/4/6n/lT+H/7y/ev94/0Q/if+W/6B/sz+EP+Q/zwAywCsAR0CYQJ3AkICBgKWARYBrABpAHAAeACWAIcAWgAPAIj/EP+Y/if+Af7y/RD+TP6Q/tT+F/9y/9P/LQCWANoALAFDATQBJQHpANIAywDLAOkADgEdARYB6QCOACUAtf8u/9T+if5y/pD+p/7b/i7/TP95/5f/vf/T//H/DwBLAFoAhwCOALQAywDDANIA4QD4AP8A4QCsAGkALQC9/4j/W/89/z3/W/9q/5f/kP+m/5f/iP+B/3n/pv/E/+r/JQBSAGkAjgCdALQArACdALQAlgCOAFIAWgAlABYA4v/x/+L/lgFoAzIGfAj8CUcKfAirBGkAPvsx91j02PMi9lb5r/xLAEoCFQMsAnAA+f6+/Rj93P0B/wcBUQLZApUDfgPRAgYCFgGlAA8Axf4J/hH9kfwv/D78Rf2f/tP/FgFoATQBQwBj/vP86/tz+/r7J/2f/kMABwE0AYcALv/U/Yn8vvu++zf8J/1F/tv+Lv/q/lv+p/36/Lb8zfwn/Tb+l/9SASwDSQVIB08JxwooDLAMXQwaCwQJbga6AwcBkP6v/IL7Gfvd+rf6mfoK+mz5kvjA9173i/dW+Ar6mPyQ/ur/JAJvA5QEDAYjBu4GSAcjB2cGsgXvBJwD0QIVAjQBhwDM/zX/Cf7k/Nz7sPrd+U75Vvns+Sj7Pv3i/6wCnARJBgQHmwY6BRUD0gC9/if95Pyf/fL+OwGrA6MF/QZBBgUF/gIWAZf/6v5j/vn+Jv+1/8T/8v7y/RH9ZPyJ/IL8Pv0u/vn+rv8eAHAA0gAWAbQBQgJwAkoC6AH4APH/n/62/S/9Pv3F/ZD+6v49//n+cv6+/Qn9tvzN/An94/2f/ib/ef8u//n+gf5F/hj+W/62/nL/8f9DAEsA0/9j/5/+Cf62/Xr9vv1b/tv+iP/q/1IAjgC0APAAHQFSAdIBOwLKAroDlARJBdgFBQbBBRQFDQTCAncBHgA9/4n+Rf5b/pD+zP7y/ur+zP5b/gH+zf3c/S7+xf6u/6wAnQEsAoYCwgKzAo4CQgIVAtIBnQFSAfAAnQBpACUA0/+m/2r/VP8u//L+zP69/ur+Nf9y/9P/UgBLAFoALQDb/5D/Y/95/73/BwCHAOkAHQEdAdIAhwBDANv/kP9b/1T/Af/M/pj+av49/jb+EP4Y/hj++v22/Yn9XP1F/Wv9zf2J/i7/4v9hALsAwwClAEsAFgC9/8z/pv/b/73/tf+B/y7/zP5b/if+H/42/rb+Lv+u/zwAjgB3AQYC4ALCAyQEUQRgAywCrAAB/6/98/wR/Sf+iP/pADMCpAKVAgYCBwE0AJ//VP+m/zwAHQG0AQ4CMwIOAmEB8AClAI4AnQCsAA4BYQFSASUBrABDAOL/W/89/2r/cv/i/1IAjgD/ACUBQwFSAVIBBwGlAGEA8f9y/y7/Af8f/1v/cv+9//H/FgDx/9P/rv+f/6b/zP8WAEsANAAHANP/ef8X/5j+W/4u/hD+EP4u/nL+kP69/hf/av+u//n/QwCOAH8AQwDx/4j/H/+2/mP+cv5y/nL+p/7F/ur+8v7y/gj/Rf9b/4j/0//q/wcABwD5/9P/iP9j/y7/Jv89/1v/cv+f/67/2/8WAFoAlgDwADQBWQFhAXABLAHhAMsAlgB/AI4AWgBaAB4A+f/b//n/BwBSAI4A6QDpAOkAhwBSAOr/2/+9//H/YQCWANIAywCWAEsABwDi/9P/AABDAIcAwwD/ABYB/wDaAMMA6QAHAQcBOwElAeEAnQBpAFoAJQBDAGEAhwClAJ0AWgAlAOL/pv+1//n/SwCdANoA/wD4AKwASwDq/6b/cv9j/3L/kP+X/2r/Rf8f/+r+vf62/tv+Jv9F/1T/VP8u/wj/6v7j/hD/cv/E/wcAJQAPAPH/pv9q/1T/TP9j/2P/l/+f/6b/pv+X/5//tf/E/9v/4v/T/+L/tf+1/7X/0//q/zwAUgBSADwA6v/T/5//rv/T/zwArAAOAWEBNAGdAGEAFgDE/6b/+f94ANIAOwFhAVkBBwGHADQA+f/q/+r/HgBpAGkAUgAlAA8A4v/i/9v/LQBwAJYAtAClAJ0AhwBwAFoAPADb/+r/8f/b/9P/vf+1/9v/6v8tAHgA2gD4AA4B2gCsAFoA8f/M/+L/SwBwAMMAywDaAI4ASwDx/8z/n/+Q/8z/6v8PADwAUgBSAEMA8f/q/73/vf+f/73/0/8WAGkAhwCOAGkAWgAlANv/pv+I/4H/tf/x/zwAWgBSAEMAFgAAAMT/vf+f/7X/2//i/9P/pv+Q/4H/gf/M/xYAUgBaAB4A2/+1/3L/ef+f/9P/LQBwAKUAuwB4ADQAAADi//n/FgBhAMMA0gDDAH8APADb/5D/av9y/7X/DwBLAHgAeAB4AFoAUgBSAFoAeAC7APgABwHSAFoA+f+f/wH/rv7y/vL+Lv89/4H/zP/T/+L/NAB4AI4ApQC0AH8ASwD5/73/zP9LAFoArADpALQAUgD5/8z/rv/M//n/QwBhAHgAJQDx/+r/rv+X/73/2/8HAAcADwBSAHAAnQC7AMMAlgBpAC0A4v+X/1v/TP9j/5f/0//5/y0AFgDi/7X/av9b/5D/DwBhANoA8ADwAMMAhwA8AB4A+f+9/5f/n/+X/4H/n//T//n/HgAAANP/zP+Q/1v/kP/5/3AArAD/APgA0gCdAAcAzP/M/+L/NACWALQApQCHAGkAHgDi/5D/Y/9q/5D/n/+9/+r/PAB/AMsAywDDAIcAUgAPAOL/zP/T/9v/8f9LAGkAWgAeALX/iP9M/yb/Pf+B/wAAWgB/AIcAWgAtANv/zP+1/73/pv+Q/6b/rv+X/4j/tf/b/+L/4v/q/wAA6v8WAGEAuwDhAAcB6QCsAGEABwDE/3L/Pf8f/0z/gf/M//n/QwBaAFIAHgAeAAcA2//b/9v/JQBhAFIAeAB4AGkAFgDi/8z/xP+u/6b/n//M//H/AAAHAEsAFgDi/73/ef9q/3L/l/8PALQA8ADpANIAlgA0ALX/ef9q/5f/xP8HAFIAUgBaAC0AFgA8AFIAUgCWALQArABpAEsAFgDi/9P/+f8WADwAWgBSAEsADwDq/+r/JQBDAA8ALQDi/8T/tf/b/xYAaQAPAAAAQwDi/8z/rv+m/5D/l//T/5D/kP/E/9v/FgB/AMMA0gDLALsAeAAAAKb/VP+B/7X/4v/b//H/4v/i/9v/0//E/73/rv+f/73/tf+9/7X/0/8tAFoAUgAeAPH/FgBSAJYAywDDAHgASwDM/4j/VP8m/2P/rv8PAEsADwC1/2r/TP9j/5//2/9LAJ0AhwBhAOL/kP9M/0X/kP8PAHgAwwC7ALQAnQAWAK7/cv9j/4j/6v9SAHgAcABLABYA6v+9/4H/n/8WAFIAjgC0AI4AQwDT/2r/W/9b/2P/zP9wAMMAwwBwAB4An/9y/2P/rv80AJ0A2gAWAcsAYQAPAMz/vf/T/73/0/+1/5D/kP9q/3n/l//M/yUAWgBLAFIAFgDb/8z/BwBaAH8ApQB/AGkAAABq/z3/Rf9M/67/0/8WAGEAUgAeAOr/2//x/+L/6v8WADwABwAPAAAAUgBaAFoASwA8ADQA0//x/0sAhwCsANIAlgA8AKb/H//q/h//n/88AKUA0gDDAHAAFgDM/5//0/8AAHgAtACdAFIAFgDE/67/4v8lAIcA0gC0AIcAHgCB/z3/Nf+Q/wAAUgBhAHAAJQDi/5f/n//T/zQAeACHAGEAHgC9/5f/cv+X/67/zP/5/x4A0//E/67/zP/q//n/BwAWAA8A8f/E/9v/2//b//H/QwA0ACUAFgAAADwAQwAWADQALQAHANv/2//M/9v/2//E/8T/4v/b/8T/tf8AADQASwAtAPn/zP/E/5f/xP/i/w8ALQBSAFIAJQAAANP/vf/b//H/DwAWAAAA2//b/+r/BwBSAFIAWgBSAFoAWgAeAPn/8f/q/x4AUgBaAFIAQwAAAB4AQwBSAFIAUgBSAFoAWgBDAOr/4v/T/+r/AAAWAPn/2//T/9v/xP+1/5//n/+f/5D/tf/b/w8ALQBSAGkAcABhADwAFgDx/8z/rv+m/9P/zP8eAFoAeABpAFIAJQDi/67/n//M/wAAWgB/AMsAlgBhACUABwAPAPn/NABaAFIASwAtABYABwAeAOL/BwAWAB4ABwDx/+r/BwA8AFIAUgBLACUA8f/b/9v/2//b/0MAWgBSAFoAWgBLACUA6v/T/9P/2//b/+L/AAAHAAAA2//i/9v/zP+9/9v/4v88AFoAcACWAH8AUgAPANP/tf+m/7X/6v8PACUAJQAWAA8AAADq//n/DwAWAA8AAAAAAPH/4v/q/xYALQBaAEsAWgAeAPH/zP/T/9v/AAD5/zwAUgBaAC0A+f/q/8z/xP+1/9P/2//b//H/BwDx/+L/2//i/9v/2//q//H/AAAPAAAALQBDACUANAAWAAcA6v/T/+L/8f8WAA8ABwAAAA8ABwDx/+L/AAAlACUAJQAWAB4AHgAtAC0ASwA8ACUAFgAeAA8ALQBaAFIAUgAlAAAAvf+9/8T/BwAtAGEAYQBaAC0A+f/q/9v/+f8eAFoAWgBaAEsAAADi/+r/+f8WAC0ASwA8ABYA6v/M/9P/xP/q/w8ADwAeAAcA+f/x/wAAFgAPACUAWgBDAB4AHgD5/+r/6v/b/9v/8f/5//n/NAA8ABYAFgAPAOr/2/+m/67/vf/q/wcAHgBLAFIANAAAANv/vf/T/wAAAABDAC0ALQAAAAcAFgAeACUAFgAAAOL/4v/T/+L/+f80AFoAWgBpAEsAQwAHANv/0//i//n/LQBSAFIAUgBaAC0ADwDq/8T/zP/E/+r/+f8HAEMAUgBSADwA+f8AAPH/AAAAABYAHgA8AFoAUgBLAK7/gf49/hD/UgE7A+EBFgAu/1T+rv5SAEoBLQAB/yb/2/+sAH8BuwDq/9v/VP81/+r/JQCm/5//HgCOAFoAeAA9/0z/FgCGAXcC0gAQ/lT+xf4lAMMBBgLi/y7+xf75/xYBhgFaANv+Lv+I/zQAywAlAer/ef95/+r/6v8eAB4A2/9SAJYAfwBpAI4ADwDT/3n/av9U//H/eADDAHgABwC9/+L/WgBaADwA8f+f/5D/AABLAFIA2/+9/9P/FgBaADwA6v/E/7X/0/8PADQADwDx/9v/+f8HAB4A4v/T/9v/8f8AAEsAWgBaAFIAUgAHAOr/0//M/8T/2//5/yUAHgBLAB4A8f/b/8T/vf/E/+L/BwAeABYANABaAEsAWgA8ABYA+f/T/+r/+f/5/wAAHgAAAAcAAAD5/9P/4v/b//H/HgAlAEMAYQAtAEMAJQAlAEMADwAlAAcADwAHABYAHgAtACUAFgAeABYAFgAtABYAHgAWACUAHgAeAAcA6v/b/8T/zP/b/+L/2//x//n/BwAPAA8A8f/i//H/+f/q/9v/8f8AAPH/BwAWACUAFgAAAOL/8f/i//H/+f8HAB4ADwAHAAcA8f8PAA8ADwD5//H/8f8WABYANAA0ADQAFgAeAAcA+f/x/9v/4v8HAOr/8f8PAPH/6v/x/xYABwAPAAAA4v/b/+L/2//x/wAADwAlADQAJQAPAA8ADwD5/wAAFgAeAA8AFgAAAPn/8f8HAAcAPAAeAPH/AAAPAOr/4v/q//n/AAD5/xYADwAWAAcA8f/b/+L/8f/q/9P/4v/b//H/HgBDAC0ABwAHAAAA8f8AAAcAFgD5//H/BwAeAAAA6v/5/wAAFgAlABYADwD5//H/8f/5/wAA+f8AAAAAAAAeACUAFgAPAOr/2//q/9v/6v/5/w8AHgA0ADwAFgAPAB4ADwAAAAAA2//b/9v/4v8AAPH/AADx/+r/+f8AAAAABwAPAAcAHgAPAEMANAAPAAAAAAAAAPn/+f/5//H/+f8AAAcABwDx/9v/4v/i/9v/8f/5/+r/+f8HAA8A+f8HAAcA+f/5//n/+f/5//H/AADx//H/+f/5/9v/2//b/+L/2//x//H/FgAHAPH/+f/x/wcAHgAWABYADwD5//n/BwAAAOr/6v/5/wAAAAAAAA8ABwAWAPn/8f8AAAAA+f/x//n/AAD5/wcAFgAPAPH/AADq//H/6v/i//H/BwAPAA8ADwDx/+L/2//b/+r/2//5/wcANAA8AC0AFgAHAB4AAAD5/+L/6v8AAPn/BwAHAPn/AAAAABYADwAeAA8AAAAAAPH/BwAAAA8ADwAPAPn/AAD5//H/+f/x/+L/DwAHABYAHgAWAAAAFgAWAPn/BwDx/+r/4v/5//n/AAD5/wAA6v/q//H/8f/x/+L/8f/i/w8AFgAPAAAAAADi/+L/8f/5//n/8f8AAPH/AADi//n/AAD5//H/6v/5//n/+f/i//n/FgD5/xYAAADq//n/+f8AAPn/DwAWAAcADwAPAAcA8f/5//H/DwAAABYA+f8HAAAABwAWAAcA8f8AAAAADwAWAA8A+f8AABYAAADx//n/6v/5//H/AAAAAAAAAAAPAAcA+f8HAAcAAADx/+r/+f/q/+L/4v8AAPH/8f/x//n/FgDx//H/+f/5//n/+f/5//n/+f8AAA8AAAD5/wAA8f/5/wcAAAAAAAcADwAAAAAABwAAAAcA+f/5//H/DwAHAAcADwAPAPn/+f8AAPH/BwD5/w8A8f/x//n/BwDx/+r/+f8AAAAA8f8AABYAFgD5/wAA8f/q//n/4v/q/9v/+f/5/w8ABwAPAA8ABwAAAPn/AAD5/wAAAAD5//n/8f8AAPn/AAD5//H/4v/q//n/8f8AAPn/+f/5/xYABwD5/wAAAADx//n/8f/i/+r/6v8AAAAA+f8AAA8A+f8HAPn/6v/i//H/+f/5//n/AAAAAPn/FgAAAA8ABwDq/wAA8f/x//n/DwAWAA8ADwAHAPn/BwAPAA8AFgAPAAAADwAHAAcAAAAPAAcAHgAAAOr/8f8HAA8ADwAWAA8A+f8AAAAAAAD5/w8ADwAAAA8ADwAHAPH/AAAHAAAA6v8AAA8A+f8AAPn/BwDq//H/8f/q/73/4v80AHAASwDq//n/2//i/8z/2/8HABYABwD5/y0AYQAHAOL/+f8WAOr/2//i/wcASwBLADwAQwD5/+r/0//i//n/AAAHAB4AFgAWAA8A+f/x//n/+f/x//n/AAAAAPn/+f8PAAcAFgAPAPn/BwAWABYAFgAWAAcAAAAAAAcAAAAWAAAAAAD5//n/+f8WAA8ADwAHAPn/8f8HAAcAAAAPABYADwAAACUADwAAAAcADwAPABYAAAAAAAcAFgAWAPn/FgAeAB4ABwAAABYAHgAHABYABwAPAA8ADwAHAPn/FgAHAA8ADwAPAA8ADwAWAA8AAAAHAAcAJQAHAA8ABwAlAAAAAAAAAAAAAAAWABYADwAHAPn/AAAAAAcAAAAAAAAAFgAPAB4ABwAPAB4ALQAPAPn/HgAPAA8ABwAPAA8ADwD5/wAAHgAPAA8AHgD5/xYAAAAPAPn/DwAHAA8AHgAeAAcADwAHAPn/DwAeAAAABwAPABYABwAeAA8AFgAAABYABwAAAAAABwAWAAcABwAAAA8ABwAHAAcA+f8WAAAAAAAAAB4AFgAPAA8ADwAPAA8AFgAWABYAAAAPAA8ABwAHAAAAAAAeAA8ADwAHABYABwAHACUAFgAeAAAAFgAWABYADwAWAAAAJQAHAAAA+f/x/wAADwAAAA8ABwAAABYA+f/5//n/BwAHAAcAAAAHAAAADwAHAPn/BwAAAAAABwAAAAAA+f/i/wcABwD5//n/BwAeAA8ADwAHABYABwAPAAcADwAWAA8AAAAAAAAAFgAPAPn/AAD5//n/DwAWABYAFgAAABYADwAAAAAAAAD5/w8ABwAPABYAFgDq/wAAFgAHAAAAAAD5/wAADwAHAPn/BwAeAAcABwAPAPH/+f8AAAcA+f/x/wAADwD5/xYABwD5/x4ABwD5/w8ADwD5/wcADwAHAAAAFgAHAPH/DwAAAAcAAAAWABYABwAAAA8AAAAHAAAAFgAHAAAAAAD5/wAADwD5/xYABwAAAA8ABwAAAPn/DwAPAA8A+f8AAAAAHgAHAA8ABwD5/w8ABwAHACUABwAWABYABwD5/w8AFgAPAAAABwDx/wcAFgAeAAAAFgAWAA8ADwAAAAAAAAAHAAAA+f8PABYAAAAWAPn/FgDx/w8ABwAPAPn/DwAHABYAFgAPABYABwAWABYABwAPABYABwAHAB4AFgAHAA8AAAAWAPn/AAD5/wAA8f8PABYABwAAAA8A+f8AAPn/AAAAAAAAAAAAAA8ABwAWAA8ADwD5/wAAAAAPAA8AAAAHAAcAHgAWAAcADwAHAAcADwAHAA8ADwAWABYADwAeAA8AHgAeAAcABwAWAAcABwAPAAAAAAAPAAcAFgAPABYABwAPAA8A+f8HAAcAFgAAAB4ABwAWABYABwAHABYA+f8PAAcADwAeACUABwAWAPH/AAAAAAcABwDx/wcAAAAeAAAADwAHAA8A8f8AAAcAAAAPAB4ADwAPAAcADwAHAA8A+f8WABYAFgAAAAAAHgAWAAcABwAPAAcADwAAAPn/+f8AAPn/BwAPAAAA6v8HAA8ADwAHAAcAJQAAAAcABwAlAAAAFgAPAAAAAAAHAA8AAAAAAAAADwAAAB4AFgAAAA8AFgAPAAAABwAPAAcADwAPAAcAAAAHAAcADwAPAA8ADwAWAB4ABwAlABYABwAWABYAFgAeAB4AHgAWAA8ADwAHAB4ADwAWAA8AFgAWAAAABwAWAA8AFgAeABYAAAAWAA8AAAAWABYADwAPAA8ADwAeAAcAAAAWAPn/FgAHAAcAAAAeAAcADwAWABYADwAWAA8ABwAHABYAJQAHAB4AFgAPABYAHgAWAB4AFgAeABYAAAAPABYAFgAHABYADwAPAAcABwAHAPn/DwAPAA8ADwAWABYABwAWABYAFgAAAB4ADwAHABYAAAAWABYAFgAeAAcAFgAHAA8AAAAWAAcAFgAPAAAADwAPAA8AAAAPAAcADwAAAA8ABwAeABYADwAHAA8ABwAPAA8AFgAWAB4AHgAtAAcAFgAPABYABwAAAAcADwAHABYABwAHAB4ADwAHAA8ABwAHAA8AFgAeABYABwAeAA8AHgAWABYADwAWAA8ADwAlAA8AJQAWAB4AHgAtAAcADwAHAPn/AAAWAAAAAAAWABYAJQAPAB4ABwAWAPn/+f8HAAcADwAHABYAFgAeAA8ABwAWAB4ABwAAAAcAFgAWABYAFgAWAAcADwAHAA8AFgAHAA8AFgAAAAcAAAAPAA8AHgAPAAcABwAPAA8ADwAAAAAAAAAHAPH/DwAPAAcADwAAAAcA+f8HAAcAAAAWAAcABwAAAAAABwAAAA8AHgAAAAAA+f8HAA8ADwAeAAcAFgD5/wcAFgAHABYADwAAAB4ADwAeAAcAJQAAAAcA+f8HAA8ADwAAAPn/DwAHAPH/BwAPAPH/BwAPAPn/AAAAAAAAAAAPAAAA+f8PAAcAAAD5/w8AAAAAAPn/8f8AAAAA4v/5/wAAAAAAAAcAAAAPAB4A+f8WAPn/BwAPAPn/FgAPAA8ADwD5/wAA6v8HAAcAAADq/wAADwAHAAcABwAAAA8ABwAHAA8ABwAHAAAADwD5/wAA+f8WAAAA+f/5/wAABwAlAPn/AAD5//H/BwAPAAAAFgAHAPn/DwAHAAAAFgAHAAcAHgD5/wAABwAPAA8ABwAPABYADwAHAA8ADwAPAAcAAAAPABYABwAAAAcAFgAAAAcAFgAPAPn/AAAPAPn/BwAAAAcAFgAHAAcABwDx/wcADwD5/wAA8f8AAOr/8f/5/wAADwAHAAAADwAHAAcADwDx/wAA+f/5//n/+f8HAPn/FgAAAPH/AADx//n/8f8HAAAAAAAHAAAABwAAAPn/AAAPAAAA8f8HAAcAAAD5/xYABwDx/wAA+f/5/wAAAAAAAAAAFgD5/wAA+f8HAA8ABwAHAPH/AAAAAPn/+f8eAAcAAAAAAPn/AAAAAPH/BwAPAPH/AAAPAPn/AAAAABYA8f/5/wAAAAD5//n/AADx/wAA+f8eAAcABwAPAPn/BwD5//n/+f/5/wAAAAAAAPn/+f8PAA8ABwAAAAAADwAHAB4AAAAHAA8ABwAHAAAADwD5/wAA8f/5/wAA6v/5/wcAAAAAAAcADwD5/wAAAAAPAOr/DwAHAAAAFgAPAAAABwAWAAcADwAAAA8ABwAAAAcAFgAHAPn/8f8PABYAAAAWAAcAAAAAAAcAFgAPAA8A+f8PABYADwAAAAcA+f8AAAAABwAHAA8ABwAPAAcADwAPAAAABwD5/wcADwDx/w8A8f8HAAcAFgAAAA8ABwD5/wcAHgAHAPn/BwAeAB4AFgAAAAAAAAD5/wAAFgAHAPn/AAAPAAcA+f/5/wAA+f8PAAAA+f8PAAAA+f8HAA8ABwAPAAAAAAAPAAcADwAPAAcAFgAeAAcADwAWAA8AFgAPAA==\" type=\"audio/wav\" />\n",
              "                    Your browser does not support the audio element.\n",
              "                </audio>\n",
              "              "
            ]
          },
          "metadata": {},
          "execution_count": 4
        }
      ]
    },
    {
      "cell_type": "markdown",
      "metadata": {
        "id": "vt25BI1ZT189"
      },
      "source": [
        "#41"
      ]
    },
    {
      "cell_type": "code",
      "metadata": {
        "colab": {
          "base_uri": "https://localhost:8080/"
        },
        "id": "1BQ1HrqpWQb9",
        "executionInfo": {
          "elapsed": 463,
          "status": "ok",
          "timestamp": 1688442630251,
          "user": {
            "displayName": "Jason Book Yim",
            "userId": "02824935638305274154"
          },
          "user_tz": -540
        },
        "outputId": "ededf53a-79fe-47dd-c72f-33a1a2039364"
      },
      "source": [
        "# 음성 데이터를 프로세서로 처리\n",
        "inputs = processor(speech, sampling_rate=16000, return_tensors=\"pt\", padding=\"longest\")\n",
        "\n",
        "# 음성 데이터 처리 결과중에 inputs['input_values'] 차원 확인\n",
        "inputs['input_values'].shape\n"
      ],
      "execution_count": 5,
      "outputs": [
        {
          "output_type": "execute_result",
          "data": {
            "text/plain": [
              "torch.Size([1, 44749])"
            ]
          },
          "metadata": {},
          "execution_count": 5
        }
      ]
    },
    {
      "cell_type": "markdown",
      "metadata": {
        "id": "Pxla7XwzTwli"
      },
      "source": [
        "#42"
      ]
    },
    {
      "cell_type": "code",
      "metadata": {
        "colab": {
          "base_uri": "https://localhost:8080/"
        },
        "id": "4MXI2BYpTxia",
        "executionInfo": {
          "elapsed": 652,
          "status": "ok",
          "timestamp": 1688442633979,
          "user": {
            "displayName": "Jason Book Yim",
            "userId": "02824935638305274154"
          },
          "user_tz": -540
        },
        "outputId": "9cc3fc4a-5328-48aa-b8f8-7aa5534d12e4"
      },
      "source": [
        "# 그래디언트(기울기) 계산 방지, 이는 모델 eval 모드에 필요한 조치임\n",
        "with torch.no_grad():\n",
        "\n",
        "  # 모델에 input.input_values 투입\n",
        "  outputs = model(inputs.input_values)\n",
        "\n",
        "  # 로짓(outputs.logits)의 차원 확인\n",
        "  print(outputs.logits.shape)\n",
        "\n",
        "  # 로짓(output.logits)의 마지막 축 기준으로 argmax 적용\n",
        "  # 가장 큰 값의 인덱스를 predicted_ids에 저장\n",
        "  predicted_ids = outputs.logits.argmax(-1)\n",
        "\n",
        "  # 위의 predicted_ids 출력\n",
        "  print(predicted_ids)\n",
        "\n",
        "  # predicted_ids의 첫번째 데이터를 processor.tokenizer.batch_decode)에 넣고 디코딩\n",
        "  # predicted_ids[0]은 입력 문장 중 첫번째라는 뜻이나\n",
        "  # 입력 문장을 하나만 넣었으므로 predicted_ids[0]은 입력 문장 그 자체를 의미함\n",
        "  # 디코딩 결과를 출력\n",
        "  print(f\"predicted:{processor.tokenizer.batch_decode(predicted_ids)[0]}\")\n",
        "\n",
        "  # dataset['test']['text]에 있는 첫번째 문장, 즉 정답 문장 출력\n",
        "  print(f\"answer:{dataset['test']['text'][0]}\")\n"
      ],
      "execution_count": 6,
      "outputs": [
        {
          "output_type": "stream",
          "name": "stdout",
          "text": [
            "torch.Size([1, 139, 32])\n",
            "tensor([[ 0,  0,  0,  0,  0,  0,  6,  6, 11,  5,  5,  4, 24, 24,  0,  0,  0, 16,\n",
            "         16,  9,  9, 21, 21,  0,  0, 15, 15, 15, 15,  0,  0, 16,  5,  5,  4,  4,\n",
            "         18,  0,  7, 12, 12, 12,  4,  4,  0, 23, 23, 15, 15,  5,  5,  5, 12, 12,\n",
            "         12,  0,  9,  9,  6,  6,  6, 15, 15, 15, 22, 22,  4,  4, 12, 12,  0,  0,\n",
            "          0, 10, 10,  6,  6,  0,  0,  0, 16, 16, 16,  0,  0,  0,  0,  7,  7,  6,\n",
            "          6,  0,  5,  5, 14, 14,  4,  4,  9,  9,  9,  5,  5,  7,  7, 13,  4,  4,\n",
            "          6, 11,  5,  5,  4, 12, 12, 11, 11, 11,  0,  0,  0,  8,  8,  8,  8,  8,\n",
            "         13, 13, 13,  0,  0,  0,  0,  0,  0,  0,  0,  0,  0]])\n",
            "predicted:the bunglue was plesntly situated near the shor\n",
            "answer:The bungalow was pleasantly situated near the shore.\n"
          ]
        }
      ]
    }
  ]
}