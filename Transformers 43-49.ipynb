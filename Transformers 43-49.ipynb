{
  "nbformat": 4,
  "nbformat_minor": 0,
  "metadata": {
    "accelerator": "GPU",
    "colab": {
      "provenance": [
        {
          "file_id": "1hcJkcxDH0A2yNCJ0EuitC1ycrvffOwUQ",
          "timestamp": 1667701126583
        }
      ]
    },
    "kernelspec": {
      "display_name": "Python 3",
      "name": "python3"
    },
    "language_info": {
      "name": "python"
    },
    "gpuClass": "standard"
  },
  "cells": [
    {
      "cell_type": "markdown",
      "metadata": {
        "id": "QLCaTSPOXu04"
      },
      "source": [
        "# 43"
      ]
    },
    {
      "cell_type": "code",
      "metadata": {
        "colab": {
          "base_uri": "https://localhost:8080/",
          "height": 774,
          "referenced_widgets": [
            "2e36dd4fe9494977893b8759981e82d5",
            "6a846ef8010f4dbebbe47abd475a7c87",
            "90d22d9b233b490cb0162ba8627c5fb1",
            "52b058efd2d543ec9f9e0075b1a255b9",
            "98ef717eeb5f4e78a42559144edaeaaf",
            "0b94f007ee6e45fa84a62f51afae245a",
            "647c2d3a911d4004b03a6f6fbd0c6c52",
            "bd5ab7c081634aba932de3721f6d6da7",
            "b39b79d4fbf7416190597de796678eaa",
            "aa42033095284068a3021ae999bdc2a1",
            "35c30217ebd2404385949a6205fe57c8",
            "add7645c68804b16bc8e0a4780e355f3",
            "055746b3d6fa4ba5a0f33bbde7319028",
            "f52c357a334a4219b39b333b9ed48f4d",
            "472bed20658944828896010a8fb24621",
            "5a6fde0e964e451fa13200ee7a9c7a05",
            "d278ed4b2f90412ebf19bb96c44b32e4",
            "76967d0448534632ad1a8b2637f59a82",
            "ddeeadee0daf4f14af33d144cd311fa9",
            "5f3cc22963f8487984025fd2ec944b00",
            "c58d7ea1c4034213924a2fdae47353ba",
            "aa2d16ed08c14fd5bd86303a2accb719",
            "5785f5f9efc2446498921ad3de47837d",
            "dfd190299c044fce888ee9b947f5248c",
            "f95c94ba74124174a6d4ad360ce8e035",
            "fcca09aed3404bacabfe5340ee2ac445",
            "33a1e74df26e46258dbb31dbc10ec4c1",
            "109f2c40ae8249129da22ba846ef6976",
            "258ea1a3b30e49e69da5cbbc133555d9",
            "39b77ca9d3b2483fbe027624325ed64b",
            "f7036ad88e1947549217d81ed24657e3",
            "afc0ebea188849dfa6940a1cdfcf573f",
            "27486065e26648e3aa5bb18cd778c429",
            "eb6ed5f1106a4b32bb584a63931f20ae",
            "65385dfd82ed440a85af95e9471759a9",
            "f7b0f153bf10406d8b1cfc248e4b8c78",
            "de29ad7df5d74421bc6c7c162b959418",
            "5a9725572ef54638b21238bea934d81a",
            "9226e9e846ae4c0cb40e81de00dd87a9",
            "0d12a4e6d746458b910394ec42bf5481",
            "1c16b2066f224e44a4416edee1f3e24f",
            "5d8540dd6cb04b2b93b163355b69adbf",
            "c25576d13b8e4495a61ac01a5a465e4a",
            "b408c69edb484a5eb63c0aff4e9c6adb",
            "cd1a542c31b94d29a8efb1a4ecaa717f",
            "55c02a7a5c3d465395648634674189aa",
            "7546519a36884a65b220c49f4278af28",
            "eee4e61e25154892aaf0420c9b8c886a",
            "16ae9c1f797e415ea5cf3ad71d9fdae6",
            "c79a31c02475416e98eb54ba39c1a9cb",
            "8cbde073d4df4770984ce50148afa942",
            "f84ed89b9c7544e78009948aad856621",
            "c1dd99c6a4ac4f5a9b6f568e75c53bc2",
            "a2f665d5bdb74c5593042d30e39c68c2",
            "54448094991f45b3860d08e0f479c06a"
          ]
        },
        "id": "_f3GW4XsWpQM",
        "executionInfo": {
          "elapsed": 30386,
          "status": "ok",
          "timestamp": 1689160659975,
          "user": {
            "displayName": "Jason Book Yim",
            "userId": "02824935638305274154"
          },
          "user_tz": -540
        },
        "outputId": "cd33a062-0296-44d6-9f3f-f67e3fc7ed67"
      },
      "source": [
        "!pip install transformers\n",
        "\n",
        "from transformers import AutoTokenizer, AutoModelForSequenceClassification\n",
        "import torch\n",
        "\n",
        "# 모델 및 토크나이저 불러오기\n",
        "tokenizer = AutoTokenizer.from_pretrained('bert-base-cased')\n",
        "model = AutoModelForSequenceClassification.from_pretrained(\"bert-base-cased\", num_labels=3)\n"
      ],
      "execution_count": 1,
      "outputs": [
        {
          "output_type": "stream",
          "name": "stdout",
          "text": [
            "Collecting transformers\n",
            "  Downloading transformers-4.30.2-py3-none-any.whl (7.2 MB)\n",
            "\u001b[2K     \u001b[90m━━━━━━━━━━━━━━━━━━━━━━━━━━━━━━━━━━━━━━━━\u001b[0m \u001b[32m7.2/7.2 MB\u001b[0m \u001b[31m76.3 MB/s\u001b[0m eta \u001b[36m0:00:00\u001b[0m\n",
            "\u001b[?25hRequirement already satisfied: filelock in /usr/local/lib/python3.10/dist-packages (from transformers) (3.12.2)\n",
            "Collecting huggingface-hub<1.0,>=0.14.1 (from transformers)\n",
            "  Downloading huggingface_hub-0.16.4-py3-none-any.whl (268 kB)\n",
            "\u001b[2K     \u001b[90m━━━━━━━━━━━━━━━━━━━━━━━━━━━━━━━━━━━━━━\u001b[0m \u001b[32m268.8/268.8 kB\u001b[0m \u001b[31m31.3 MB/s\u001b[0m eta \u001b[36m0:00:00\u001b[0m\n",
            "\u001b[?25hRequirement already satisfied: numpy>=1.17 in /usr/local/lib/python3.10/dist-packages (from transformers) (1.22.4)\n",
            "Requirement already satisfied: packaging>=20.0 in /usr/local/lib/python3.10/dist-packages (from transformers) (23.1)\n",
            "Requirement already satisfied: pyyaml>=5.1 in /usr/local/lib/python3.10/dist-packages (from transformers) (6.0)\n",
            "Requirement already satisfied: regex!=2019.12.17 in /usr/local/lib/python3.10/dist-packages (from transformers) (2022.10.31)\n",
            "Requirement already satisfied: requests in /usr/local/lib/python3.10/dist-packages (from transformers) (2.27.1)\n",
            "Collecting tokenizers!=0.11.3,<0.14,>=0.11.1 (from transformers)\n",
            "  Downloading tokenizers-0.13.3-cp310-cp310-manylinux_2_17_x86_64.manylinux2014_x86_64.whl (7.8 MB)\n",
            "\u001b[2K     \u001b[90m━━━━━━━━━━━━━━━━━━━━━━━━━━━━━━━━━━━━━━━━\u001b[0m \u001b[32m7.8/7.8 MB\u001b[0m \u001b[31m67.6 MB/s\u001b[0m eta \u001b[36m0:00:00\u001b[0m\n",
            "\u001b[?25hCollecting safetensors>=0.3.1 (from transformers)\n",
            "  Downloading safetensors-0.3.1-cp310-cp310-manylinux_2_17_x86_64.manylinux2014_x86_64.whl (1.3 MB)\n",
            "\u001b[2K     \u001b[90m━━━━━━━━━━━━━━━━━━━━━━━━━━━━━━━━━━━━━━━━\u001b[0m \u001b[32m1.3/1.3 MB\u001b[0m \u001b[31m80.0 MB/s\u001b[0m eta \u001b[36m0:00:00\u001b[0m\n",
            "\u001b[?25hRequirement already satisfied: tqdm>=4.27 in /usr/local/lib/python3.10/dist-packages (from transformers) (4.65.0)\n",
            "Requirement already satisfied: fsspec in /usr/local/lib/python3.10/dist-packages (from huggingface-hub<1.0,>=0.14.1->transformers) (2023.6.0)\n",
            "Requirement already satisfied: typing-extensions>=3.7.4.3 in /usr/local/lib/python3.10/dist-packages (from huggingface-hub<1.0,>=0.14.1->transformers) (4.7.1)\n",
            "Requirement already satisfied: urllib3<1.27,>=1.21.1 in /usr/local/lib/python3.10/dist-packages (from requests->transformers) (1.26.16)\n",
            "Requirement already satisfied: certifi>=2017.4.17 in /usr/local/lib/python3.10/dist-packages (from requests->transformers) (2023.5.7)\n",
            "Requirement already satisfied: charset-normalizer~=2.0.0 in /usr/local/lib/python3.10/dist-packages (from requests->transformers) (2.0.12)\n",
            "Requirement already satisfied: idna<4,>=2.5 in /usr/local/lib/python3.10/dist-packages (from requests->transformers) (3.4)\n",
            "Installing collected packages: tokenizers, safetensors, huggingface-hub, transformers\n",
            "Successfully installed huggingface-hub-0.16.4 safetensors-0.3.1 tokenizers-0.13.3 transformers-4.30.2\n"
          ]
        },
        {
          "output_type": "display_data",
          "data": {
            "text/plain": [
              "Downloading (…)okenizer_config.json:   0%|          | 0.00/29.0 [00:00<?, ?B/s]"
            ],
            "application/vnd.jupyter.widget-view+json": {
              "version_major": 2,
              "version_minor": 0,
              "model_id": "2e36dd4fe9494977893b8759981e82d5"
            }
          },
          "metadata": {}
        },
        {
          "output_type": "display_data",
          "data": {
            "text/plain": [
              "Downloading (…)lve/main/config.json:   0%|          | 0.00/570 [00:00<?, ?B/s]"
            ],
            "application/vnd.jupyter.widget-view+json": {
              "version_major": 2,
              "version_minor": 0,
              "model_id": "add7645c68804b16bc8e0a4780e355f3"
            }
          },
          "metadata": {}
        },
        {
          "output_type": "display_data",
          "data": {
            "text/plain": [
              "Downloading (…)solve/main/vocab.txt:   0%|          | 0.00/213k [00:00<?, ?B/s]"
            ],
            "application/vnd.jupyter.widget-view+json": {
              "version_major": 2,
              "version_minor": 0,
              "model_id": "5785f5f9efc2446498921ad3de47837d"
            }
          },
          "metadata": {}
        },
        {
          "output_type": "display_data",
          "data": {
            "text/plain": [
              "Downloading (…)/main/tokenizer.json:   0%|          | 0.00/436k [00:00<?, ?B/s]"
            ],
            "application/vnd.jupyter.widget-view+json": {
              "version_major": 2,
              "version_minor": 0,
              "model_id": "eb6ed5f1106a4b32bb584a63931f20ae"
            }
          },
          "metadata": {}
        },
        {
          "output_type": "display_data",
          "data": {
            "text/plain": [
              "Downloading model.safetensors:   0%|          | 0.00/436M [00:00<?, ?B/s]"
            ],
            "application/vnd.jupyter.widget-view+json": {
              "version_major": 2,
              "version_minor": 0,
              "model_id": "cd1a542c31b94d29a8efb1a4ecaa717f"
            }
          },
          "metadata": {}
        },
        {
          "output_type": "stream",
          "name": "stderr",
          "text": [
            "Some weights of the model checkpoint at bert-base-cased were not used when initializing BertForSequenceClassification: ['cls.predictions.transform.dense.bias', 'cls.seq_relationship.bias', 'cls.predictions.transform.dense.weight', 'cls.predictions.transform.LayerNorm.bias', 'cls.predictions.bias', 'cls.predictions.transform.LayerNorm.weight', 'cls.seq_relationship.weight']\n",
            "- This IS expected if you are initializing BertForSequenceClassification from the checkpoint of a model trained on another task or with another architecture (e.g. initializing a BertForSequenceClassification model from a BertForPreTraining model).\n",
            "- This IS NOT expected if you are initializing BertForSequenceClassification from the checkpoint of a model that you expect to be exactly identical (initializing a BertForSequenceClassification model from a BertForSequenceClassification model).\n",
            "Some weights of BertForSequenceClassification were not initialized from the model checkpoint at bert-base-cased and are newly initialized: ['classifier.weight', 'classifier.bias']\n",
            "You should probably TRAIN this model on a down-stream task to be able to use it for predictions and inference.\n"
          ]
        }
      ]
    },
    {
      "cell_type": "markdown",
      "metadata": {
        "id": "k65TOmuBZnH-"
      },
      "source": [
        "# 44"
      ]
    },
    {
      "cell_type": "code",
      "metadata": {
        "id": "F-_J1h9ZXvue",
        "executionInfo": {
          "status": "ok",
          "timestamp": 1689160668086,
          "user_tz": -540,
          "elapsed": 369,
          "user": {
            "displayName": "Jason Book Yim",
            "userId": "02824935638305274154"
          }
        }
      },
      "source": [
        "import torch\n",
        "\n",
        "# 감성 레이블을 숫자로 매칭하는 딕셔너리 준비\n",
        "dic = {0:'positive', 1:'neutral', 2:'negative'}\n",
        "\n",
        "# 입력 문장 데이터\n",
        "eval_list = [\"I like apple\", \"I like pear\", \"I go to school\", \"I dislike mosquito\", \"I felt very sad\", \"I feel so good\"]\n",
        "\n",
        "# 정답 레이블(answer label)\n",
        "ans = torch.tensor([0, 0, 1, 2, 2, 0])\n"
      ],
      "execution_count": 2,
      "outputs": []
    },
    {
      "cell_type": "markdown",
      "metadata": {
        "id": "E0zrTUwtZfJ4"
      },
      "source": [
        "# 45"
      ]
    },
    {
      "cell_type": "code",
      "metadata": {
        "colab": {
          "base_uri": "https://localhost:8080/"
        },
        "id": "GuEeD-7ZYdLT",
        "executionInfo": {
          "elapsed": 1536,
          "status": "ok",
          "timestamp": 1689160675072,
          "user": {
            "displayName": "Jason Book Yim",
            "userId": "02824935638305274154"
          },
          "user_tz": -540
        },
        "outputId": "cc7cc235-5884-4ff8-ad94-8cda6b3ead4c"
      },
      "source": [
        "# 파인 튜닝 없는 상태에서의 추론\n",
        "# 모델을 eval 모드로 전환\n",
        "model.eval()\n",
        "\n",
        "# 그래디언트(기울기) 계산 방지. eval 모드에서는 학습이 이뤄지지 않기에 이 조치가 필요\n",
        "with torch.no_grad():\n",
        "  for article in eval_list:\n",
        "\n",
        "    # eval_list에 담긴 문장을 article이라는 변수에 하나씩 담아 토크나이저 인코딩\n",
        "    inputs = tokenizer.encode(article, return_tensors=\"pt\",padding=True, truncation=True)\n",
        "\n",
        "    # 인코딩 결과를 모델에 투입\n",
        "    outputs = model(inputs)\n",
        "\n",
        "    # 로짓 추출\n",
        "    logits = outputs.logits\n",
        "\n",
        "    # 로짓의 최대값에 해당하는 인덱스를 추출하고, item( )을 통해 파이썬 숫자 형태로 변환\n",
        "    # 결과적으로 위 숫자가 변수 dic에 담긴 인덱스가 되어 해당하는 문장의 감성을 출력\n",
        "    print(f\"{dic[logits.argmax(-1).item()]}:{article}\")\n"
      ],
      "execution_count": 3,
      "outputs": [
        {
          "output_type": "stream",
          "name": "stdout",
          "text": [
            "positive:I like apple\n",
            "positive:I like pear\n",
            "positive:I go to school\n",
            "neutral:I dislike mosquito\n",
            "neutral:I felt very sad\n",
            "neutral:I feel so good\n"
          ]
        }
      ]
    },
    {
      "cell_type": "markdown",
      "metadata": {
        "id": "UdUYKLKqZhOC"
      },
      "source": [
        "#46"
      ]
    },
    {
      "cell_type": "code",
      "metadata": {
        "colab": {
          "base_uri": "https://localhost:8080/"
        },
        "id": "vnP5q7wCZiIK",
        "executionInfo": {
          "elapsed": 65623,
          "status": "ok",
          "timestamp": 1688449205088,
          "user": {
            "displayName": "Jason Book Yim",
            "userId": "02824935638305274154"
          },
          "user_tz": -540
        },
        "outputId": "d022f51b-bd10-4937-a582-0faedde1ead4"
      },
      "source": [
        "# 런타임 1분 소요\n",
        "# 활성화 함수 AdamW 불러오기\n",
        "from transformers import AdamW\n",
        "\n",
        "# 활성화 함수 AdamW 인스턴스화\n",
        "optimizer = AdamW(model.parameters(), lr=1e-5)\n",
        "\n",
        "# 모델을 학습 모드로 변경\n",
        "model.train()\n",
        "\n",
        "# 에포크 수 지정 및 손실을 담은 빈 컨테이너 리스트 생성\n",
        "epochs = 50\n",
        "losses = []\n",
        "\n",
        "# 파인튜닝\n",
        "for epoch in range(epochs):\n",
        "\n",
        "    # 그래디언트(기울기) 초기화\n",
        "    optimizer.zero_grad()\n",
        "\n",
        "    # 변수 eval_list에 담긴 여섯 개 문장을 토크나이저에 넣고 인코딩\n",
        "    inputs = tokenizer.batch_encode_plus(eval_list, return_tensors=\"pt\", padding=True, truncation=True)\n",
        "\n",
        "    # 위에서 생성된 input 변수에 담긴 키(key)와 키값(value)을 **inputs 형식(**kwargs 형식)으로 모델에 전달\n",
        "    # 거기에 추가로 labels를 텐서 타입으로 모델에 전달\n",
        "    outputs = model(**inputs, labels=ans)\n",
        "\n",
        "    # 로짓 추출\n",
        "    logits = outputs.logits\n",
        "\n",
        "    # 손실 추출\n",
        "    loss = outputs.loss\n",
        "\n",
        "    # 오차역전파\n",
        "    loss.backward()\n",
        "\n",
        "    # 가중치(weight) 업데이트\u001f\n",
        "    optimizer.step()\n",
        "\n",
        "    # 손실을 빈 컨테이너 losses에 순서대로 저장\n",
        "    losses.append(loss)\n",
        "\n",
        "    # 에포크 및 손실 값 출력\n",
        "    # 에포크는 0부터 시작하기에, 1을 더해줘서 사람들이 에포크 회수를 더 자연스럽게 인지하게 조치\n",
        "    print(f\"epoch:{epoch+1}, loss:{loss}\")\n"
      ],
      "execution_count": null,
      "outputs": [
        {
          "output_type": "stream",
          "name": "stderr",
          "text": [
            "/usr/local/lib/python3.10/dist-packages/transformers/optimization.py:411: FutureWarning: This implementation of AdamW is deprecated and will be removed in a future version. Use the PyTorch implementation torch.optim.AdamW instead, or set `no_deprecation_warning=True` to disable this warning\n",
            "  warnings.warn(\n"
          ]
        },
        {
          "output_type": "stream",
          "name": "stdout",
          "text": [
            "epoch:1, loss:1.4317103624343872\n",
            "epoch:2, loss:1.2873846292495728\n",
            "epoch:3, loss:1.2401220798492432\n",
            "epoch:4, loss:1.2557803392410278\n",
            "epoch:5, loss:1.1766680479049683\n",
            "epoch:6, loss:1.1615883111953735\n",
            "epoch:7, loss:1.132081151008606\n",
            "epoch:8, loss:1.1025440692901611\n",
            "epoch:9, loss:1.1090829372406006\n",
            "epoch:10, loss:0.9793352484703064\n",
            "epoch:11, loss:1.006208896636963\n",
            "epoch:12, loss:0.9385997653007507\n",
            "epoch:13, loss:1.0793639421463013\n",
            "epoch:14, loss:0.8481659889221191\n",
            "epoch:15, loss:0.7109339833259583\n",
            "epoch:16, loss:0.7423847317695618\n",
            "epoch:17, loss:0.7727734446525574\n",
            "epoch:18, loss:0.7216510772705078\n",
            "epoch:19, loss:0.6911280155181885\n",
            "epoch:20, loss:0.6055235266685486\n",
            "epoch:21, loss:0.672376811504364\n",
            "epoch:22, loss:0.5769751667976379\n",
            "epoch:23, loss:0.6020018458366394\n",
            "epoch:24, loss:0.6052810549736023\n",
            "epoch:25, loss:0.5839531421661377\n",
            "epoch:26, loss:0.5651684403419495\n",
            "epoch:27, loss:0.4884357452392578\n",
            "epoch:28, loss:0.48927226662635803\n",
            "epoch:29, loss:0.5130942463874817\n",
            "epoch:30, loss:0.5048995614051819\n",
            "epoch:31, loss:0.46038195490837097\n",
            "epoch:32, loss:0.5326856970787048\n",
            "epoch:33, loss:0.4406994581222534\n",
            "epoch:34, loss:0.4467059075832367\n",
            "epoch:35, loss:0.4384903907775879\n",
            "epoch:36, loss:0.46726641058921814\n",
            "epoch:37, loss:0.3741283118724823\n",
            "epoch:38, loss:0.38975998759269714\n",
            "epoch:39, loss:0.4007137715816498\n",
            "epoch:40, loss:0.36130157113075256\n",
            "epoch:41, loss:0.34636545181274414\n",
            "epoch:42, loss:0.3361188471317291\n",
            "epoch:43, loss:0.36319491267204285\n",
            "epoch:44, loss:0.3137410581111908\n",
            "epoch:45, loss:0.3454855680465698\n",
            "epoch:46, loss:0.32941776514053345\n",
            "epoch:47, loss:0.30472642183303833\n",
            "epoch:48, loss:0.2422967404127121\n",
            "epoch:49, loss:0.27486446499824524\n",
            "epoch:50, loss:0.21940529346466064\n"
          ]
        }
      ]
    },
    {
      "cell_type": "markdown",
      "metadata": {
        "id": "4du-FQK_aLA5"
      },
      "source": [
        "# 47"
      ]
    },
    {
      "cell_type": "code",
      "source": [
        "# 파이토치에서 item( )은 GPU로부터 값을 추출하여 CPU로 전달\n",
        "new_losses = [i.item() for i in losses]"
      ],
      "metadata": {
        "id": "r2tGMflq3mCF"
      },
      "execution_count": null,
      "outputs": []
    },
    {
      "cell_type": "code",
      "metadata": {
        "colab": {
          "base_uri": "https://localhost:8080/",
          "height": 430
        },
        "id": "-SITcuV4Zipz",
        "executionInfo": {
          "elapsed": 704,
          "status": "ok",
          "timestamp": 1688449268377,
          "user": {
            "displayName": "Jason Book Yim",
            "userId": "02824935638305274154"
          },
          "user_tz": -540
        },
        "outputId": "ba7f871f-bd82-4dc4-81d8-254855e388ec"
      },
      "source": [
        "import matplotlib.pyplot as plt\n",
        "plt.plot(new_losses);\n"
      ],
      "execution_count": null,
      "outputs": [
        {
          "output_type": "display_data",
          "data": {
            "text/plain": [
              "<Figure size 640x480 with 1 Axes>"
            ],
            "image/png": "[encoded data removed]"
          },
          "metadata": {}
        }
      ]
    },
    {
      "cell_type": "markdown",
      "metadata": {
        "id": "3do5gmhXac48"
      },
      "source": [
        "# 48"
      ]
    },
    {
      "cell_type": "code",
      "metadata": {
        "colab": {
          "base_uri": "https://localhost:8080/"
        },
        "id": "kGeaaZ0qaLnr",
        "executionInfo": {
          "elapsed": 462,
          "status": "ok",
          "timestamp": 1688449327915,
          "user": {
            "displayName": "Jason Book Yim",
            "userId": "02824935638305274154"
          },
          "user_tz": -540
        },
        "outputId": "a24420b8-fb69-4ad4-a420-0e7fa45edf60"
      },
      "source": [
        "# 파인 튜닝 이후 추론\n",
        "dic = {0:'positive', 1:'neutral', 2:'negative'}\n",
        "eval_list = [\"I like apple\", \"I like pear\", \"I go to school\", \"I dislike mosquito\", \"I felt very sad\", \"I feel so good\"]\n",
        "\n",
        "# 모델을 eval 모델로 전환\n",
        "model.eval()\n",
        "\n",
        "# 모델 예측을 담을 preds라는 빈 컨테이너 리스트 생성\n",
        "preds = []\n",
        "\n",
        "# 이하 코드의 설명은 문제 45 코드 참조\n",
        "with torch.no_grad():\n",
        "  for article in eval_list:\n",
        "    inputs = tokenizer.encode(article, return_tensors=\"pt\",padding=True, truncation=True)\n",
        "    outputs = model(inputs)\n",
        "    logits = outputs.logits\n",
        "    pred = logits.argmax(-1).item()\n",
        "    preds.append(logits.argmax(-1).item())\n",
        "    print(f\"{dic[pred]}:{article}\")\n"
      ],
      "execution_count": null,
      "outputs": [
        {
          "output_type": "stream",
          "name": "stdout",
          "text": [
            "positive:I like apple\n",
            "positive:I like pear\n",
            "neutral:I go to school\n",
            "negative:I dislike mosquito\n",
            "negative:I felt very sad\n",
            "positive:I feel so good\n"
          ]
        }
      ]
    },
    {
      "cell_type": "markdown",
      "metadata": {
        "id": "ivPv3hgFa4WT"
      },
      "source": [
        "#49"
      ]
    },
    {
      "cell_type": "code",
      "metadata": {
        "id": "Y7s7cPOuadpi"
      },
      "source": [
        "\n",
        "# item()에 의해 넘파이 숫자값이 된 preds를 다시 토치 텐서 타입으로 변환\n",
        "import torch\n",
        "preds = torch.tensor(preds)\n"
      ],
      "execution_count": null,
      "outputs": []
    },
    {
      "cell_type": "code",
      "metadata": {
        "colab": {
          "base_uri": "https://localhost:8080/"
        },
        "id": "HcBWDYA7a9_u",
        "executionInfo": {
          "elapsed": 563,
          "status": "ok",
          "timestamp": 1688449383389,
          "user": {
            "displayName": "Jason Book Yim",
            "userId": "02824935638305274154"
          },
          "user_tz": -540
        },
        "outputId": "3200a571-7e48-4fa7-e952-2a9c4b8d2378"
      },
      "source": [
        "# preds 출력\n",
        "preds"
      ],
      "execution_count": null,
      "outputs": [
        {
          "output_type": "execute_result",
          "data": {
            "text/plain": [
              "tensor([0, 0, 1, 2, 2, 0])"
            ]
          },
          "metadata": {},
          "execution_count": 9
        }
      ]
    },
    {
      "cell_type": "code",
      "metadata": {
        "colab": {
          "base_uri": "https://localhost:8080/"
        },
        "id": "dSIsBv_Ta5SI",
        "executionInfo": {
          "elapsed": 641,
          "status": "ok",
          "timestamp": 1688449386839,
          "user": {
            "displayName": "Jason Book Yim",
            "userId": "02824935638305274154"
          },
          "user_tz": -540
        },
        "outputId": "ade473c1-1f06-4545-cbcc-fd07483590da"
      },
      "source": [
        "# 정답(ans)와 예측(preds)가 일치하는 건수를\n",
        "# 정답(ans)의 전체 건수로 나누어서 정확도(Accuracy) 계산\n",
        "print(f\"Accuracy:{100 * sum(ans.detach().clone()==preds)/len(ans.detach().clone())}%\")"
      ],
      "execution_count": null,
      "outputs": [
        {
          "output_type": "stream",
          "name": "stdout",
          "text": [
            "Accuracy:100.0%\n"
          ]
        }
      ]
    }
  ]
}