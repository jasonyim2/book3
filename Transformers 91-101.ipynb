{
  "nbformat": 4,
  "nbformat_minor": 0,
  "metadata": {
    "accelerator": "GPU",
    "colab": {
      "provenance": [
        {
          "file_id": "1hcJkcxDH0A2yNCJ0EuitC1ycrvffOwUQ",
          "timestamp": 1667701126583
        }
      ]
    },
    "kernelspec": {
      "display_name": "Python 3",
      "name": "python3"
    },
    "language_info": {
      "name": "python"
    },
    "gpuClass": "standard"
  },
  "cells": [
    {
      "cell_type": "markdown",
      "metadata": {
        "id": "iq-Vt83nhbyQ"
      },
      "source": [
        "# 91"
      ]
    },
    {
      "cell_type": "code",
      "metadata": {
        "colab": {
          "base_uri": "https://localhost:8080/"
        },
        "id": "W0i8eXaig26E",
        "executionInfo": {
          "status": "ok",
          "timestamp": 1688457785474,
          "user_tz": -540,
          "elapsed": 36580,
          "user": {
            "displayName": "Jason Book Yim",
            "userId": "02824935638305274154"
          }
        },
        "outputId": "a94bb5c6-7a86-453b-ceab-6942c1dc1283"
      },
      "source": [
        "# 런타임 20초 소요\n",
        "!pip install transformers\n",
        "\n",
        "# 위키피디아 설치\n",
        "!pip install wikipedia\n",
        "import wikipedia\n",
        "\n",
        "# 키워드 설정\n",
        "keyword = \"Moderna\"\n",
        "# 위키피디아 언어 설정\n",
        "wikipedia.set_lang(\"en\")\n",
        "\n",
        "# 키워드 검색 및 출력\n",
        "search_response = wikipedia.search(keyword)\n",
        "print(search_response)\n"
      ],
      "execution_count": null,
      "outputs": [
        {
          "output_type": "stream",
          "name": "stdout",
          "text": [
            "Collecting transformers\n",
            "  Downloading transformers-4.30.2-py3-none-any.whl (7.2 MB)\n",
            "\u001b[2K     \u001b[90m━━━━━━━━━━━━━━━━━━━━━━━━━━━━━━━━━━━━━━━━\u001b[0m \u001b[32m7.2/7.2 MB\u001b[0m \u001b[31m53.1 MB/s\u001b[0m eta \u001b[36m0:00:00\u001b[0m\n",
            "\u001b[?25hRequirement already satisfied: filelock in /usr/local/lib/python3.10/dist-packages (from transformers) (3.12.2)\n",
            "Collecting huggingface-hub<1.0,>=0.14.1 (from transformers)\n",
            "  Downloading huggingface_hub-0.15.1-py3-none-any.whl (236 kB)\n",
            "\u001b[2K     \u001b[90m━━━━━━━━━━━━━━━━━━━━━━━━━━━━━━━━━━━━━━\u001b[0m \u001b[32m236.8/236.8 kB\u001b[0m \u001b[31m27.6 MB/s\u001b[0m eta \u001b[36m0:00:00\u001b[0m\n",
            "\u001b[?25hRequirement already satisfied: numpy>=1.17 in /usr/local/lib/python3.10/dist-packages (from transformers) (1.22.4)\n",
            "Requirement already satisfied: packaging>=20.0 in /usr/local/lib/python3.10/dist-packages (from transformers) (23.1)\n",
            "Requirement already satisfied: pyyaml>=5.1 in /usr/local/lib/python3.10/dist-packages (from transformers) (6.0)\n",
            "Requirement already satisfied: regex!=2019.12.17 in /usr/local/lib/python3.10/dist-packages (from transformers) (2022.10.31)\n",
            "Requirement already satisfied: requests in /usr/local/lib/python3.10/dist-packages (from transformers) (2.27.1)\n",
            "Collecting tokenizers!=0.11.3,<0.14,>=0.11.1 (from transformers)\n",
            "  Downloading tokenizers-0.13.3-cp310-cp310-manylinux_2_17_x86_64.manylinux2014_x86_64.whl (7.8 MB)\n",
            "\u001b[2K     \u001b[90m━━━━━━━━━━━━━━━━━━━━━━━━━━━━━━━━━━━━━━━━\u001b[0m \u001b[32m7.8/7.8 MB\u001b[0m \u001b[31m91.6 MB/s\u001b[0m eta \u001b[36m0:00:00\u001b[0m\n",
            "\u001b[?25hCollecting safetensors>=0.3.1 (from transformers)\n",
            "  Downloading safetensors-0.3.1-cp310-cp310-manylinux_2_17_x86_64.manylinux2014_x86_64.whl (1.3 MB)\n",
            "\u001b[2K     \u001b[90m━━━━━━━━━━━━━━━━━━━━━━━━━━━━━━━━━━━━━━━━\u001b[0m \u001b[32m1.3/1.3 MB\u001b[0m \u001b[31m65.6 MB/s\u001b[0m eta \u001b[36m0:00:00\u001b[0m\n",
            "\u001b[?25hRequirement already satisfied: tqdm>=4.27 in /usr/local/lib/python3.10/dist-packages (from transformers) (4.65.0)\n",
            "Requirement already satisfied: fsspec in /usr/local/lib/python3.10/dist-packages (from huggingface-hub<1.0,>=0.14.1->transformers) (2023.6.0)\n",
            "Requirement already satisfied: typing-extensions>=3.7.4.3 in /usr/local/lib/python3.10/dist-packages (from huggingface-hub<1.0,>=0.14.1->transformers) (4.6.3)\n",
            "Requirement already satisfied: urllib3<1.27,>=1.21.1 in /usr/local/lib/python3.10/dist-packages (from requests->transformers) (1.26.16)\n",
            "Requirement already satisfied: certifi>=2017.4.17 in /usr/local/lib/python3.10/dist-packages (from requests->transformers) (2023.5.7)\n",
            "Requirement already satisfied: charset-normalizer~=2.0.0 in /usr/local/lib/python3.10/dist-packages (from requests->transformers) (2.0.12)\n",
            "Requirement already satisfied: idna<4,>=2.5 in /usr/local/lib/python3.10/dist-packages (from requests->transformers) (3.4)\n",
            "Installing collected packages: tokenizers, safetensors, huggingface-hub, transformers\n",
            "Successfully installed huggingface-hub-0.15.1 safetensors-0.3.1 tokenizers-0.13.3 transformers-4.30.2\n",
            "Collecting wikipedia\n",
            "  Downloading wikipedia-1.4.0.tar.gz (27 kB)\n",
            "  Preparing metadata (setup.py) ... \u001b[?25l\u001b[?25hdone\n",
            "Requirement already satisfied: beautifulsoup4 in /usr/local/lib/python3.10/dist-packages (from wikipedia) (4.11.2)\n",
            "Requirement already satisfied: requests<3.0.0,>=2.0.0 in /usr/local/lib/python3.10/dist-packages (from wikipedia) (2.27.1)\n",
            "Requirement already satisfied: urllib3<1.27,>=1.21.1 in /usr/local/lib/python3.10/dist-packages (from requests<3.0.0,>=2.0.0->wikipedia) (1.26.16)\n",
            "Requirement already satisfied: certifi>=2017.4.17 in /usr/local/lib/python3.10/dist-packages (from requests<3.0.0,>=2.0.0->wikipedia) (2023.5.7)\n",
            "Requirement already satisfied: charset-normalizer~=2.0.0 in /usr/local/lib/python3.10/dist-packages (from requests<3.0.0,>=2.0.0->wikipedia) (2.0.12)\n",
            "Requirement already satisfied: idna<4,>=2.5 in /usr/local/lib/python3.10/dist-packages (from requests<3.0.0,>=2.0.0->wikipedia) (3.4)\n",
            "Requirement already satisfied: soupsieve>1.2 in /usr/local/lib/python3.10/dist-packages (from beautifulsoup4->wikipedia) (2.4.1)\n",
            "Building wheels for collected packages: wikipedia\n",
            "  Building wheel for wikipedia (setup.py) ... \u001b[?25l\u001b[?25hdone\n",
            "  Created wheel for wikipedia: filename=wikipedia-1.4.0-py3-none-any.whl size=11680 sha256=7fa6cc97602f5441f199b0242d981a129d10f8e199909ee650bb940e824cb990\n",
            "  Stored in directory: /root/.cache/pip/wheels/5e/b6/c5/93f3dec388ae76edc830cb42901bb0232504dfc0df02fc50de\n",
            "Successfully built wikipedia\n",
            "Installing collected packages: wikipedia\n",
            "Successfully installed wikipedia-1.4.0\n",
            "['Moderna', 'Studio Moderna', 'Moderna COVID-19 vaccine', 'Devotio Moderna', 'Moderna University', 'T-72', 'Moderna Museet Malmö', 'Moderna Museet', 'Melissa J. Moore', 'Moderna tider']\n"
          ]
        }
      ]
    },
    {
      "cell_type": "markdown",
      "metadata": {
        "id": "kcshW_2uiyWO"
      },
      "source": [
        "#92"
      ]
    },
    {
      "cell_type": "code",
      "source": [
        "# search_response에 담긴 세번째 원소(인덱스 2에 해당하는 원소) 출력\n",
        "search_response[2]"
      ],
      "metadata": {
        "colab": {
          "base_uri": "https://localhost:8080/",
          "height": 36
        },
        "id": "HkjaaBdKQEo4",
        "executionInfo": {
          "status": "ok",
          "timestamp": 1688458195650,
          "user_tz": -540,
          "elapsed": 4,
          "user": {
            "displayName": "Jason Book Yim",
            "userId": "02824935638305274154"
          }
        },
        "outputId": "f0036ee6-eb25-49b2-bdcb-4eeec3331595"
      },
      "execution_count": null,
      "outputs": [
        {
          "output_type": "execute_result",
          "data": {
            "text/plain": [
              "'Moderna COVID-19 vaccine'"
            ],
            "application/vnd.google.colaboratory.intrinsic+json": {
              "type": "string"
            }
          },
          "metadata": {},
          "execution_count": 12
        }
      ]
    },
    {
      "cell_type": "code",
      "source": [
        "# search_response의 세번째 원소를 키워드로 위키피디아 검색\n",
        "moderna_text_t = wikipedia.page(search_response[2])\n",
        "type(moderna_text_t)"
      ],
      "metadata": {
        "colab": {
          "base_uri": "https://localhost:8080/"
        },
        "id": "Z9wqXuwoQtd7",
        "executionInfo": {
          "status": "ok",
          "timestamp": 1688458201318,
          "user_tz": -540,
          "elapsed": 479,
          "user": {
            "displayName": "Jason Book Yim",
            "userId": "02824935638305274154"
          }
        },
        "outputId": "44ed2aa3-e77f-4eba-ca4f-01d361bd128b"
      },
      "execution_count": null,
      "outputs": [
        {
          "output_type": "execute_result",
          "data": {
            "text/plain": [
              "wikipedia.wikipedia.WikipediaPage"
            ]
          },
          "metadata": {},
          "execution_count": 13
        }
      ]
    },
    {
      "cell_type": "code",
      "source": [
        "# 추가 코딩. moderna_text 출력\n",
        "moderna_text_t"
      ],
      "metadata": {
        "colab": {
          "base_uri": "https://localhost:8080/"
        },
        "id": "mzIvuqOiRC98",
        "executionInfo": {
          "status": "ok",
          "timestamp": 1688458209753,
          "user_tz": -540,
          "elapsed": 465,
          "user": {
            "displayName": "Jason Book Yim",
            "userId": "02824935638305274154"
          }
        },
        "outputId": "32af3ca1-e96d-4495-fd48-a5cec4410034"
      },
      "execution_count": null,
      "outputs": [
        {
          "output_type": "execute_result",
          "data": {
            "text/plain": [
              "<WikipediaPage 'Moderna COVID-19 vaccine'>"
            ]
          },
          "metadata": {},
          "execution_count": 14
        }
      ]
    },
    {
      "cell_type": "code",
      "metadata": {
        "id": "czEB3t5mhccp",
        "executionInfo": {
          "status": "ok",
          "timestamp": 1688458218699,
          "user_tz": -540,
          "elapsed": 883,
          "user": {
            "displayName": "Jason Book Yim",
            "userId": "02824935638305274154"
          }
        },
        "colab": {
          "base_uri": "https://localhost:8080/",
          "height": 140
        },
        "outputId": "70292826-78bb-49a9-954d-631422b4285d"
      },
      "source": [
        "# search_response 두번째 요소를 키워드로 위키피디아 검색 및 본문(content) 출력\n",
        "moderna_text = wikipedia.page(search_response[2]).content\n",
        "moderna_text"
      ],
      "execution_count": null,
      "outputs": [
        {
          "output_type": "execute_result",
          "data": {
            "text/plain": [
              "'The Moderna COVID‑19 vaccine (INN: elasomeran), sold under the brand name Spikevax, is a COVID-19 vaccine developed by American company Moderna, the United States National Institute of Allergy and Infectious Diseases (NIAID), and the Biomedical Advanced Research and Development Authority (BARDA). Depending on the jurisdiction, it is authorized for use in people aged six months, twelve years, or eighteen years and older. It provides protection against COVID-19 which is caused by infection by the SARS-CoV-2 virus. It is designed to be administered as two or three 0.5 mL doses given by intramuscular injection at an interval of at least 28 days apart.It is an mRNA vaccine composed of nucleoside-modified mRNA (modRNA) encoding a spike protein of SARS-CoV-2, which is encapsulated in lipid nanoparticles.It is authorized for use at some level in many countries.In August and September 2022, bivalent versions of the vaccine (Moderna COVID-19 Vaccine, Bivalent) containing elasomeran/elasomeran 0-omicron (Spikevax Bivalent Zero/Omicron) were authorized for use as booster doses in individuals aged 18 years of age or older in the United Kingdom, Switzerland, Australia, Canada, the European Union, and the United States. The second component of the version of the bivalent vaccine used in the United States (mRNA-1273.222) is based on the Omicron BA.4/BA.5 variant, while the second component in the bivalent vaccine version used in other countries (mRNA-1273.214) is based on the Omicron BA.1 variant.\\n\\n\\n== Medical uses ==\\nThe Moderna COVID‑19 vaccine is used to provide protection against infection by the SARS‑CoV‑2 virus in order to prevent COVID‑19.The vaccine is given by intramuscular injection into the deltoid muscle of the arm. The initial course consists of two doses. The World Health Organization (WHO) recommends an interval of eight weeks between doses.A third, fourth, or fifth dose can be added in some countries.\\n\\n\\n=== Efficacy ===\\n\\nEvidence of vaccine efficacy starts about two weeks after the first dose. High efficacy is achieved with full immunization, two weeks after the second dose, and was evaluated at 94.1%: at the end of the vaccine study that led to emergency authorization in the US, there were eleven cases of COVID‑19 in the vaccine group (out of 15,181 people) versus 185 cases in the placebo group (15,170 people). Moreover, there were zero cases of severe COVID‑19 in the vaccine group, versus eleven in the placebo group. This efficacy has been described as \"astonishing\" and \"borderline historic\" for a respiratory virus vaccine, and it is similar to the efficacy of the Pfizer–BioNTech COVID-19 vaccine.Efficacy estimates were similar across age groups, sexes, racial and ethnic groups, and participants with medical comorbidities associated with high risk of severe COVID‑19. Only individuals aged 18 or older were studied. Studies are underway to gauge efficacy and safety in children aged 0–11 (KidCOVE) and 12–17 (TeenCOVE).A further study conducted by the US Centers for Disease Control and Prevention (CDC) between December 2020, and March 2021, on nearly 4 thousand health care personnel, first responders, and other essential and frontline workers concluded that under real-world conditions, mRNA vaccine effectiveness of full immunization (14 days or more after second dose) was 90% against SARS-CoV-2 infections, regardless of symptoms, and vaccine effectiveness of partial immunization (14 days or more after first dose but before second dose) was 80%.The duration of protection provided by the vaccine is unknown as of April 2021, and a two-year followup study is underway to determine the duration.Preliminary results from a phase III trial indicate that vaccine efficacy is durable, remaining at 93% six months after the second dose.\\n\\n\\n=== Effectiveness ===\\nA vaccine is generally considered effective if the estimate is ≥50% with a >30% lower limit of the 95% confidence interval. Effectiveness is generally expected to slowly decrease over time.In August 2021, results from a study suggested that the effectiveness against infection decreased from 91% (81–96%) to 66% (26–84%) when the Delta variant became predominant in the US, which may be due to unmeasured and residual confounding related to a decline in vaccine effectiveness over time.\\n\\n\\n=== Specific populations ===\\nLimited data are available on the safety of the Moderna COVID‑19 vaccine during pregnancy. The initial study excluded pregnant women or discontinued them from vaccination upon a positive pregnancy test. Studies in animals found no safety concerns and clinical trials are underway to evaluate the safety and efficacy of COVID‑19 vaccines in pregnant women. Real-world observations through the CDC v-safe tracking program have not uncovered unusual numbers of adverse events or outcomes of interest. Based on the results of a preliminary study, the US CDC recommends that pregnant women get vaccinated with the COVID‑19 vaccine.\\n\\n\\n== Adverse effects ==\\n\\nThe World Health Organization (WHO) stated that \"the safety data supported a favorable safety profile\" and that the vaccine\\'s AE (adverse event) profile \"did not suggest any specific safety concerns\". The most common adverse events were pain at the injection site, fatigue, headache, myalgia (muscle pain), and arthralgia (joint pain).The US Centers for Disease Control and Prevention (CDC) has reported anaphylaxis (a severe allergic reaction) in 2.5 cases per million doses administered and has recommended a 15-minute observation period after injection. Delayed cutaneous reactions at injection sites resulting in rash-like erythemas have also been observed in rare cases but are not considered serious or contraindications to subsequent vaccination. The incidence rate for local adverse erythema is about 10.8%, in 1.9% of cases redness may extend to a size of 100 mm or greater.In June 2021, the US CDC confirmed that myocarditis or pericarditis occurs in about 13 of every 1 million young people, mostly male and over the age of 16, who received the Moderna or the Pfizer–BioNTech vaccine. Most affected individuals recover quickly with adequate treatment and rest.Additional side effects include extensive swelling of the vaccinated limb.\\n\\n\\n== Pharmacology ==\\nModerna\\'s technology uses a nucleoside-modified messenger RNA (modRNA) compound codenamed mRNA-1273. The mRNA-1273 drug delivery system uses a PEGylated lipid nanoparticle drug delivery (LNP) system. Once the compound is inside a human cell, the mRNA links up with the cell\\'s endoplasmic reticulum. The mRNA-1273 is encoded to trigger the cell into making a specific protein using the cell\\'s normal manufacturing process. The vaccine encodes a version of the spike protein with a modification called 2P, in which the protein includes two stabilizing mutations in which the original amino acids are replaced with prolines, developed by researchers at the University of Texas at Austin and the National Institute of Allergy and Infectious Diseases\\' Vaccine Research Center. Once the protein is expelled from the cell, it is eventually detected by the immune system, which begins generating efficacious antibodies.\\n\\n\\n== Chemistry ==\\nThe vaccine contains the following ingredients:The active ingredient is an mRNA sequence containing a total of 4101 nucleotides that encodes the full-length SARS-CoV-2 spike (S) glycoprotein, with two mutations (K986P and V987P) designed to stabilize the pre-fusion conformation. The sequence is further optimized by:\\nall uridines (U) substituted with N1-methylpseudouridine (U → m1Ψ),\\nflanked by an artificial 5\\' untranslated region (UTR) and a 3\\' UTR derived from the human alpha globin gene (HBA1),\\nintroduction of two additional stop codons,\\nterminated by a 3\\' poly(A) tail.A putative sequence of the vaccine has been published on a forum for professional virologists, obtained by direct sequencing of residual vaccine material in used vials.The vaccine mRNA is dissolved in an aqueous buffer containing tromethamine, tromethamine hydrochloride, sodium acetate, and sucrose. The mRNA is encapsulated in lipid nanoparticles that stabilize the mRNA and facilitate its entry into cells. The nanoparticles are manufactured from the following lipids:\\n\\n1,2-distearoyl-sn-glycero-3-phosphocholine (DSPC),\\ncholesterol,\\nPEG2000-DMG (polyethylene glycol (PEG) 2000-dimyristoyl glycerol (DMG)), and\\nSM-102\\n\\n\\n== Manufacturing ==\\n\\nModerna is relying extensively on contract manufacturing organizations to scale up its vaccine manufacturing process. The first step of the process—synthesis of DNA plasmids (to be used as a template for synthesis of mRNA)—has been handled by a contractor called Aldevron based in Fargo, North Dakota. For the remainder of the process, Moderna contracted with Lonza Group to manufacture the vaccine at facilities in Portsmouth, New Hampshire in the United States, and in Visp in Switzerland, and purchased the necessary lipid excipients from CordenPharma. Besides CMOs, Moderna also manufactures the vaccine at its own production facility in Norwood, Massachusetts. Another manufacturing site for the vaccines for the market outside the U.S. (since the end of 2021) is in Geleen in the Netherlands, produced by its manufacturing partner Lonza. Earlier, Lonza did produce the vaccine for the EU, U.K. and Canada at its site in Switzerland only, but had to cut projected deliveries to the U.K. and Canada earlier in 2021 due to production issues.For the tasks of filling and packaging vials (fill and finish), Moderna entered into contracts with Catalent in the United States and Laboratorios Farmacéuticos Rovi in Spain. In April 2021, Moderna expanded its agreement with Catalent to increase manufacturing output at the latter\\'s plant in Bloomington, Indiana. The expansion will allow Catalent to manufacture up to 400 vials per minute and fill an additional 80 million vials per year. Later that month, Moderna announced its plans to spend billions of dollars to boost production of its vaccines, potentially tripling the output in 2022, claiming as well that it would make no less than 800 million doses in 2021. The increase in production is in part attributed to improvements made by the company in manufacturing methods.The Moderna news followed preliminary results from the Pfizer-BioNTech vaccine candidate, BNT162b2, with Moderna demonstrating similar efficacy, but requiring storage at the temperature of a standard medical refrigerator of 2–8 °C (36–46 °F) for up to thirty days or −20 °C (−4 °F) for up to four months, whereas the Pfizer-BioNTech candidate requires ultracold freezer storage between −80 and −60 °C (−112 and −76 °F). Low-income countries usually have cold chain capacity for only standard refrigerator storage, not ultracold freezer storage. In February 2021, the restrictions on the Pfizer vaccine were relaxed when the US Food and Drug Administration (FDA) updated the emergency use authorization (EUA) to permit undiluted frozen vials of the vaccine to be transported and stored at between −25 and −15 °C (−13 and 5 °F) for up to two weeks before use. The Moderna vaccine should not be stored at a temperature below −50 °C (−58 °F).In November 2020, Nature reported that \"While it\\'s possible that differences in LNP formulations or mRNA secondary structures could account for the thermostability differences [between Moderna and BioNtech], many experts suspect both vaccine products will ultimately prove to have similar storage requirements and shelf lives under various temperature conditions.\"\\n\\n\\n== History ==\\n\\n\\n=== Original version ===\\nIn January 2020, Moderna announced development of an RNA vaccine, codenamed mRNA-1273, to induce immunity to SARS-CoV-2.Moderna received US$955 million from the Biomedical Advanced Research and Development Authority (BARDA), an office of the US Department of Health and Human Services. BARDA funded 100% of the cost of bringing the vaccine to FDA licensure.The United States government provided $2.5 billion in total funding for the Moderna COVID‑19 vaccine (mRNA-1273). Private donors also made contributions to the vaccine\\'s development. The Dolly Parton COVID-19 Research Fund contributed $1 million.\\n\\n\\n==== Phase I–II clinical trials ====\\nIn March 2020, the phase I human trial of mRNA-1273 began in partnership with the US National Institute of Allergy and Infectious Diseases. In April, the US Biomedical Advanced Research and Development Authority (BARDA) allocated up to $483 million for Moderna\\'s vaccine development. Plans for a phase II dosing and efficacy trial to begin in May were approved by the US Food and Drug Administration (FDA). Moderna signed a partnership with Swiss vaccine manufacturer Lonza Group, to supply 300 million doses per annum.On 25 May 2020, Moderna began a phase IIa clinical trial recruiting six hundred adult participants to assess safety and differences in antibody response to two doses of its candidate vaccine, mRNA-1273, a study expected to complete in 2021.On 14 July 2020, Moderna scientists published preliminary results of the phase I dose escalation clinical trial of mRNA-1273, showing dose-dependent induction of neutralizing antibodies against S1/S2 as early as 15 days post-injection. Mild to moderate adverse reactions, such as fever, fatigue, headache, muscle ache, and pain at the injection site were observed in all dose groups, but were common with increased dosage. The vaccine in low doses was deemed safe and effective in order to advance a phase III clinical trial using two 100-μg doses administered 29 days apart.In July 2020, Moderna announced in a preliminary report that its Operation Warp Speed candidate had led to production of neutralizing antibodies in healthy adults in phase I clinical testing. \"At the 100-microgram dose, the one Moderna is advancing into larger trials, all 15 patients experienced side effects, including fatigue, chills, headache, muscle pain, and pain at the site of injection.\" The troublesome higher doses were discarded in July from future studies.On 14 September 2021, a study funded by the National Institute of Allergy and Infectious Diseases reported a strong immune response after six months, even at low doses, suggesting that more doses could be deployed from a limited vaccine supply. Six months after low-dose vaccination, 67% of participants still had memory cytotoxic T cells, suggesting that immune memory is stable. The study also found that cross-reactive T cells acquired during infection with other coronaviruses that cause the common cold increased the response to the vaccine.\\n\\n\\n==== Phase III clinical trials ====\\nModerna and the National Institute of Allergy and Infectious Diseases began a phase III trial in the US on 27 July, with a plan to enroll and assign thirty-thousand volunteers to two groups – one group receiving two 100-μg doses of mRNA-1273 vaccine and the other receiving a placebo of 0.9% sodium chloride. As of 7 August, more than 4,500 volunteers had enrolled.In September 2020, Moderna published the detailed study plan for the clinical trial. On 30 September, CEO Stéphane Bancel said that, if the trial is successful, the vaccine might be available to the public as early as late March or early April 2021. As of October 2020, Moderna had completed the enrollment of 30,000 participants needed for its phase III trial. The US National Institutes of Health announced on 15 November 2020, that overall trial results were positive.Since September 2020, Moderna has used Roche Diagnostics\\' Elecsys Anti-SARS-CoV-2 S test, authorized by the US Food and Drug Administration (FDA) under an emergency use authorization (EUA) on 25 November 2020. According to an independent supplier of clinical assays in microbiology, \"this will facilitate the quantitative measurement of SARS-CoV-2 antibodies and help to establish a correlation between vaccine-induced protection and levels of anti-receptor binding domain (RBD) antibodies.\" The partnership was announced by Roche on 9 December 2020.A review by the FDA in December 2020, of interim results of the phase III clinical trial on mRNA-1273 showed it to be safe and effective against COVID‑19 infection resulting in the issuance of an EUA by the FDA.In February 2021, results from phase III clinical trial were published in the New England Journal of Medicine, indicating 94% efficacy in preventing COVID‑19 infection. Side effects included flu-like symptoms, such as pain at the injection site, fatigue, muscle pain, and headache. The clinical trial is ongoing and is set to conclude in late 2022.Pregnant and breastfeeding women were also excluded from the initial trials used to obtain the emergency use authorization, though trials in those populations were expected to be performed in 2021.On 16 March 2021, in order to increase the span of vaccination beyond adults, Moderna started the clinical trials of vaccines on children age 6-months to 11-years-old in the US and in Canada (KidCove),\\nin addition to the existing and fully-enrolled study on 12-17 year-olds (TeenCOVE).\\n\\n\\n==== Authorizations ====\\n\\n\\n===== Expedited =====\\nAs of December 2020, the Moderna COVID‑19 vaccine was under evaluation for emergency authorization or approval by multiple countries which would enable rapid rollout of the vaccine in the United Kingdom, the European Union (EU), Canada, and the United States.In December 2020, the Moderna COVID‑19 vaccine was authorized by the US Food and Drug Administration (FDA) under an emergency use authorization (EUA) for people aged 18 years of age and older. This is the first product from Moderna that has been authorized by the FDA. In June 2022, the EUA was expanded to include people aged six months through sixteen years of age. In April 2023, the authorization for the original, monovalent, version of the vaccine in the US was withdrawn. As of April 2023, only the bivalent (Original and Omicron BA.4/BA.5) version of the vaccine is authorized in the US.On 23 December 2020, the Moderna COVID‑19 vaccine was authorized by Health Canada.On 5 January 2021, the Moderna COVID‑19 vaccine was authorized for use in Israel by its Ministry of Health.On 3 February 2021, the Moderna COVID‑19 vaccine was authorized for use in Singapore by its Health Sciences Authority.On 30 April 2021, the World Health Organization (WHO) granted emergency use listing.On 5 May 2021, the Moderna COVID‑19 vaccine was authorized for emergency use in the Philippines by the Philippines Food and Drug Administration.In 2020, Moderna partnered with Takeda Pharmaceutical Company, and the Japan Ministry of Health, Labour and Welfare (MHLW). The vaccine is known as \"COVID-19 Vaccine Moderna Intramuscular Injection\". On 21 May 2021, COVID‑19 Vaccine Moderna Intramuscular Injection (formerly TAK-919) was authorized for emergency use in Japan.On 29 June 2021, the Moderna COVID‑19 vaccine was authorized for use in India by the Drugs Controller General of India. The same day, the vaccine was also approved by the Ministry of Health of Vietnam for emergency use in the country.On 5 August 2021, Malaysia\\'s National Pharmaceutical Regulatory Agency (NPRA) gave conditional registration for emergency use of the Moderna COVID‑19 vaccine.\\n\\n\\n===== Standard =====\\nOn 6 January 2021, the Committee for Medicinal Products for Human Use (CHMP) of the European Medicines Agency (EMA) recommended granting conditional marketing authorization and the recommendation was accepted by the European Commission the same day. On 23 July 2021, the EMA extended the use of the COVID‑19 Vaccine Moderna to include people aged 12 to 17.On 12 January 2021, Swissmedic granted temporary authorization for the Moderna COVID-19 mRNA Vaccine in Switzerland.On 31 March 2021, the Medicines and Healthcare products Regulatory Agency (MHRA) granted conditional marketing authorization in the United Kingdom.On 9 August 2021, Spikevax was granted provisional approval in Australia. The approval was updated on 4 September 2021, to include people aged twelve and older.The Moderna Spikevax COVID-19 vaccine was authorized in Canada on 16 September 2021, for people aged 12 and older.The Moderna Spikevax COVID-19 vaccine was authorized in the US on 31 January 2022, for people aged 18 and older.The Moderna Spikevax Bivalent Zero/Omicron vaccine was approved for medical use in the United Kingdom in August 2022.In September 2022, the CHMP of the EMA recommended converting the conditional marketing authorizations of the vaccine into standard marketing authorizations. The recommendation covers all existing and upcoming adapted Spikevax vaccines, including the recently-approved adapted Spikevax bivalent Original/Omicron BA.1.\\n\\n\\n==== Boosters ====\\n\\nIn January 2021, Moderna announced that it would offer a third dose of its vaccine to people who were vaccinated twice in its phase I trial. The booster would be made available to participants six to twelve months after they got their second dose. The company said it may also study a third shot in participants from its phase III trial, if antibody persistence data warranted it. It also started testing to see if a third shot of the existing vaccine could be used to fend off the virus variants.In August 2021, the US Food and Drug Administration (FDA) and the US Centers for Disease Control and Prevention (CDC) authorized the use of an additional mRNA vaccine dose for immunocompromised individuals.In September 2021, the Committee for Medicinal Products for Human Use (CHMP) of the European Medicines Agency (EMA) started evaluating the use of a booster dose of the Moderna COVID-19 vaccine to be given at least six months after the second dose in people aged twelve years and older.On 4 October 2021, the European Medicines Agency (EMA) stated that people with \"severely weakened\" immune systems can receive an extra dose of either the Pfizer–BioNTech COVID-19 vaccine or the Moderna COVID-19 vaccine starting at least 28 days after their second dose.In October 2021, the US Food and Drug Administration (FDA) and the Centers for Disease Control and Prevention (CDC) authorized the use of either homologous or heterologous vaccine booster doses. The authorization was expanded to include all adults in November 2021.\\n\\n\\n=== Variants ===\\nIn January 2021, Moderna started development of a new form of its vaccine, called mRNA-1273.351, that could be used as a booster shot against the Beta variant (lineage B.1.351). On 24 February, Moderna announced that it had manufactured and shipped sufficient amounts of mRNA-1273.351 to the National Institutes of Health to run phase I clinical trials. Moderna also investigated a multivalent booster, mRNA-1273.211, which combines a 50-50 mix of mRNA-1273 and mRNA-1273.351.A bivalent version of the vaccine containing elasomeran/imelasomeran (Spikevax bivalent Original/Omicron) was approved for use in the United Kingdom and in Australia in August 2022. It was approved for use in Canada in September 2022.In October 2022, the FDA amended the authorization for the bivalent booster to cover people aged six years of age and older. In December 2022, the FDA amended the authorization for the bivalent booster to cover people aged six months and older.\\n\\n\\n== Society and culture ==\\nAbout 155 million doses of the Moderna COVID-19 vaccine, including about 3.1 million doses in children and adolescents (below 18 years of age) were administered in the EU/EEA from authorization to 26 June 2022.\\n\\n\\n=== Brand names ===\\nmRNA-1273 was the code name during development and testing, elasomeran is the international nonproprietary name (INN), and Spikevax is the brand name.\\n\\n\\n=== Economics ===\\n\\nIn June 2020, Singapore signed a pre-purchase agreement for Moderna, reportedly paying a price premium in order to secure early stock of vaccines, although the government declined to provide the actual price and quantity, citing commercial sensitivities and confidentiality clauses.On 11 August 2020, the US government signed an agreement to buy 100 million doses of Moderna\\'s anticipated vaccine, which the Financial Times said Moderna planned to price at US$50–60 per course. In November 2020, Moderna said it will charge governments who purchase its vaccine between US$25 and US$37 per dose while the EU is seeking a price of under US$25 per dose for the 160 million doses it plans to purchase from Moderna.In 2020, Moderna obtained purchase agreements for mRNA-1273 with the European Union for 160 million doses and with Canada for up to 56 million doses. On 17 December, a tweet by the Belgium Budget State Secretary revealed the E.U. would pay US$18 per dose, while The New York Times reported that the US would pay US$15 per dose.Moderna reported revenue of US$200 million from its COVID‑19 vaccine in 2020, and $17.7 billion in 2021.\\n\\n\\n=== Paused vaccinations ===\\nOut of concern that the vaccine may increase the risk of myocarditis in young people under age 30, Finland, Sweden, Germany, and France recommended Moderna vaccinations not be used for this age group in October/November 2021.\\n\\n\\n=== Controversies ===\\nIn May 2020, after releasing partial and non-peer reviewed results for only eight of 45 candidates in a preliminary pre-phase I stage human trial directly to financial markets, the CEO announced on CNBC an immediate $1.25 billion rights issue to raise funds for the company, at a $30 billion valuation, while Stat said, \"Vaccine experts say Moderna didn\\'t produce data critical to assessing COVID‑19 vaccine.\"On 7 July 2020, disputes between Moderna and government scientists over the company\\'s unwillingness to share data from the clinical trials were revealed.Moderna also faced criticism for failing to recruit people of color in clinical trials.On 18 August 2021, the US Department of Health and Human Services announced a plan to offer a booster dose eight months after the second dose, citing evidence of reduced protection against mild and moderate disease and the possibility of reduced protection against severe disease, hospitalization, and death. Scientists and the WHO reaffirmed the lack of evidence on the need for a booster dose for healthy people and that the vaccine remains effective against severe disease months after administration. In a statement, the WHO and SAGE said that, while protection against infection may be diminished, protection against severe disease will likely be retained due to cell-mediated immunity. Research into optimal timing for boosters is still ongoing, and a booster too early may lead to less robust protection.\\n\\n\\n==== Misinformation ====\\n\\nVideos on video-sharing platforms circulated around May 2021 showing people having magnets stick to their arms after receiving the vaccine, purportedly demonstrating the conspiracy theory that vaccines contain microchips, but these videos have been debunked.In November 2021, a White House correspondent for the conservative outlet Newsmax falsely tweeted that the Moderna vaccine contained luciferase \"so that you can be tracked.\"\\n\\n\\n=== Patent litigation ===\\nThe PEGylated lipid nanoparticle (LNP) drug delivery system of mRNA-1273 has been the subject of ongoing patent litigation with Arbutus Biopharma, from whom Moderna had previously licensed LNP technology. On 4 September 2020, Nature Biotechnology reported that Moderna had lost a key challenge in the ongoing case.\\n\\n\\n== Explanatory notes ==\\n\\n\\n== References ==\\n\\n\\n== Further reading ==\\nCorum J, Zimmer C (7 May 2021). \"How Moderna\\'s Vaccine Works\". The New York Times.\\nModerna (17 December 2020). \"VRBPAC mRNA-1273 Sponsor Briefing Document\" (PDF). US Food and Drug Administration.\\nCommittee for Medicinal Products for Human Use (CHMP) (11 March 2021). \"Assessment report: COVID-19 Vaccine Moderna\" (PDF). European Medicines Agency. Archived (PDF) from the original on 20 January 2021.\\n\"Clinical Study Protocol mRNA-1273-P301\" (PDF). Moderna. 20 August 2020. Archived from the original (PDF) on 17 September 2020.\\nDickerman BA, Gerlovin H, Madenci AL, Kurgansky KE, Ferolito BR, Figueroa Muñiz MJ,  et al. (January 2022). \"Comparative Effectiveness of BNT162b2 and mRNA-1273 Vaccines in U.S. Veterans\". The New England Journal of Medicine. 386 (2): 105–115. doi:10.1056/nejmoa2115463. PMC 8693691. PMID 34942066.\\nWorld Health Organization (2021). Background document on the mRNA-1273 vaccine (Moderna) against COVID-19: background document to the WHO Interim recommendations for use of the mRNA-1273 vaccine (Moderna), 3 February 2021 (Report). World Health Organization (WHO). hdl:10665/339218. WHO/2019-nCoV/vaccines/SAGE_recommendation/mRNA-1273/background/2021.1.\\n\\n\\n== External links ==\\n\\nEntry in the Drug Information Portal of the U.S. National Library of Medicine.\\nProduct information from the US Centers for Disease Control and Prevention\\nSafety Updates from the European Medicines Agency'"
            ],
            "application/vnd.google.colaboratory.intrinsic+json": {
              "type": "string"
            }
          },
          "metadata": {},
          "execution_count": 15
        }
      ]
    },
    {
      "cell_type": "markdown",
      "metadata": {
        "id": "G77MqCbBixgb"
      },
      "source": [
        "# 93"
      ]
    },
    {
      "cell_type": "code",
      "metadata": {
        "colab": {
          "base_uri": "https://localhost:8080/"
        },
        "id": "4SZcY1dViLaQ",
        "executionInfo": {
          "status": "ok",
          "timestamp": 1688458315014,
          "user_tz": -540,
          "elapsed": 1107,
          "user": {
            "displayName": "Jason Book Yim",
            "userId": "02824935638305274154"
          }
        },
        "outputId": "879856ee-71b2-4313-a4f3-ebb98ae0b0be"
      },
      "source": [
        "# 코딩 해석은 문제 91과 92 참조\n",
        "keyword = \"PFizer\"\n",
        "\n",
        "wikipedia.set_lang(\"en\")\n",
        "search_response = wikipedia.search(keyword)\n",
        "print(search_response)\n",
        "\n",
        "pfizer_text = wikipedia.page(search_response[1]).content\n"
      ],
      "execution_count": null,
      "outputs": [
        {
          "output_type": "stream",
          "name": "stdout",
          "text": [
            "['Pfizer', 'Pfizer–BioNTech COVID-19 vaccine', 'Charles Pfizer', 'Pfizer (disambiguation)', 'Nirmatrelvir/ritonavir', 'Albert Bourla', 'Sildenafil', 'Operation Warp Speed', 'Abdullahi v. Pfizer, Inc.', 'Zoetis']\n"
          ]
        }
      ]
    },
    {
      "cell_type": "markdown",
      "source": [
        "# 94"
      ],
      "metadata": {
        "id": "HgXN_aJzZVgD"
      }
    },
    {
      "cell_type": "code",
      "source": [
        "# 문제 91의 트랜스포머스 라이브러리 미설치 시 재설치\n",
        "!pip install transformers"
      ],
      "metadata": {
        "id": "I8Rdzr8TZZNj"
      },
      "execution_count": null,
      "outputs": []
    },
    {
      "cell_type": "markdown",
      "metadata": {
        "id": "gsR2XZpSjsba"
      },
      "source": [
        "# 95"
      ]
    },
    {
      "cell_type": "code",
      "metadata": {
        "colab": {
          "base_uri": "https://localhost:8080/",
          "height": 249,
          "referenced_widgets": [
            "e57c8464f2b542fbbacc6ee80b07f36f",
            "a4a47c03a57d4c4fb30c84ccb01f1cd4",
            "e13b7057c1214e71a6dc066343040a1f",
            "7667c59991a24dc194635b7d19a875d8",
            "e5a94803a0a14e6498bb8176fec3371d",
            "c72c852d979745b88f84ef6d4d39a904",
            "74f91db54e4f4e4eb29d213af185fdc7",
            "7965ebdf5b164cf7b9987abb81c69659",
            "7d603ec1f5a34aaeb66e6d8a8c95a1fa",
            "7b9d9bf4d34c4102b51ae3ae82308ed5",
            "d4aff94665e44b6eaff2095a71bc79aa",
            "9132a1ef85b14d9db5eb1f11edcd7282",
            "66bdfebcf94e47cf8a890a88f4db4d15",
            "222f3b9817324b3d8ef2655dc09dd98f",
            "52eba2c02485461b86c8c3b8cd4a75fe",
            "03a0fc455b904ce9a13841ba7a14ad16",
            "73e20a9eaef54a77a2f13177edece3fd",
            "cf2f2acfde014357bf6f550d89e070f2",
            "0d7edd5c35c34970b45aaa4c45b61502",
            "943b36d82ad64068b5999309e02b956e",
            "db66ff871a724340bde15efb0c95ac51",
            "e471ad8f63eb4eab8d308e4d4848ca76",
            "6206b3872d19484a8e25ae175a2a1079",
            "08fae2aaf8fb4fd0a61d6caa7c2d750a",
            "35a0b6a7377d4c469763bcb73763eaa4",
            "78e2eb0bc56e433b8c17dd317cfdd4aa",
            "88011111104e44acabfd7bbbea11f5fe",
            "63efb834eeca4c9c8f31d515f554fd4c",
            "0f7cabba952d459a8d79cf3e216cd8ed",
            "285b3b325bcd42a5bbb224c315416725",
            "11586dcaf23c4d60848064653078cad9",
            "8b3fd4ddf0ac4b78b7cf1d59b2ffc342",
            "1ae71a66afe14832a5502925e08b2302",
            "ed81b91b85e84dbfae72e0a64c3fb1c0",
            "2c32bfb831d04a1281b8114eab2637ca",
            "15cfac8b6f0f4103b1e2e65ffe13fa5b",
            "3fdccd1aa19c416389a013a9cadb3630",
            "7fe3f79b4b4a4dd4b9c0a86a7052c0d0",
            "4dfddb0b227e4fe093529a9eeb82d09f",
            "84b602aa0b9b43a0b1da991adcd97536",
            "34d70ddc9e46498a8b365e478a838458",
            "eac2b683f8ff491ca8b74d6399931221",
            "e76cfb16bc2a43439f8cec907a81bb32",
            "d2e60842ee5a4ca0bb3f22f0fa460926",
            "63ed7825079c4484a733d3287267ad27",
            "f822a316e2c2410b9205f3adb370a8e5",
            "cee91f0f86984f9089f5c16de6cd103d",
            "6958b8a3c1164818825a8b0430b530d4",
            "b860f16196014ba689b769298b59fd04",
            "26dbc750aa154fd192f60d9b1816d679",
            "d26261d8639e4c2196475671dfb06050",
            "068ff3d4a86a42b290f3e34a46ec1229",
            "dcf4b42fc906484f9d7346050ce22724",
            "a81f5305e60c4d0aba5515aa5e69ea06",
            "1a2da78be4054bed87b4349178a7fd0c"
          ]
        },
        "id": "Mjf_72aQiwqg",
        "executionInfo": {
          "status": "ok",
          "timestamp": 1688458379501,
          "user_tz": -540,
          "elapsed": 22905,
          "user": {
            "displayName": "Jason Book Yim",
            "userId": "02824935638305274154"
          }
        },
        "outputId": "27b95a47-e3d5-4554-f246-83fbe71c0735"
      },
      "source": [
        "from transformers import pipeline, AutoTokenizer\n",
        "\n",
        "# 파이프라인 설정\n",
        "get_feature = pipeline('feature-extraction', model='bert-base-uncased', tokenizer='bert-base-uncased')\n"
      ],
      "execution_count": null,
      "outputs": [
        {
          "output_type": "display_data",
          "data": {
            "text/plain": [
              "Downloading (…)lve/main/config.json:   0%|          | 0.00/570 [00:00<?, ?B/s]"
            ],
            "application/vnd.jupyter.widget-view+json": {
              "version_major": 2,
              "version_minor": 0,
              "model_id": "e57c8464f2b542fbbacc6ee80b07f36f"
            }
          },
          "metadata": {}
        },
        {
          "output_type": "display_data",
          "data": {
            "text/plain": [
              "Downloading model.safetensors:   0%|          | 0.00/440M [00:00<?, ?B/s]"
            ],
            "application/vnd.jupyter.widget-view+json": {
              "version_major": 2,
              "version_minor": 0,
              "model_id": "9132a1ef85b14d9db5eb1f11edcd7282"
            }
          },
          "metadata": {}
        },
        {
          "output_type": "stream",
          "name": "stderr",
          "text": [
            "Some weights of the model checkpoint at bert-base-uncased were not used when initializing BertModel: ['cls.seq_relationship.weight', 'cls.predictions.transform.dense.bias', 'cls.predictions.transform.dense.weight', 'cls.seq_relationship.bias', 'cls.predictions.transform.LayerNorm.bias', 'cls.predictions.bias', 'cls.predictions.transform.LayerNorm.weight']\n",
            "- This IS expected if you are initializing BertModel from the checkpoint of a model trained on another task or with another architecture (e.g. initializing a BertForSequenceClassification model from a BertForPreTraining model).\n",
            "- This IS NOT expected if you are initializing BertModel from the checkpoint of a model that you expect to be exactly identical (initializing a BertForSequenceClassification model from a BertForSequenceClassification model).\n"
          ]
        },
        {
          "output_type": "display_data",
          "data": {
            "text/plain": [
              "Downloading (…)okenizer_config.json:   0%|          | 0.00/28.0 [00:00<?, ?B/s]"
            ],
            "application/vnd.jupyter.widget-view+json": {
              "version_major": 2,
              "version_minor": 0,
              "model_id": "6206b3872d19484a8e25ae175a2a1079"
            }
          },
          "metadata": {}
        },
        {
          "output_type": "display_data",
          "data": {
            "text/plain": [
              "Downloading (…)solve/main/vocab.txt:   0%|          | 0.00/232k [00:00<?, ?B/s]"
            ],
            "application/vnd.jupyter.widget-view+json": {
              "version_major": 2,
              "version_minor": 0,
              "model_id": "ed81b91b85e84dbfae72e0a64c3fb1c0"
            }
          },
          "metadata": {}
        },
        {
          "output_type": "display_data",
          "data": {
            "text/plain": [
              "Downloading (…)/main/tokenizer.json:   0%|          | 0.00/466k [00:00<?, ?B/s]"
            ],
            "application/vnd.jupyter.widget-view+json": {
              "version_major": 2,
              "version_minor": 0,
              "model_id": "63ed7825079c4484a733d3287267ad27"
            }
          },
          "metadata": {}
        }
      ]
    },
    {
      "cell_type": "markdown",
      "metadata": {
        "id": "_XGsi_IOkBIe"
      },
      "source": [
        "#96"
      ]
    },
    {
      "cell_type": "code",
      "metadata": {
        "colab": {
          "base_uri": "https://localhost:8080/"
        },
        "id": "V7uzTTDmjuYw",
        "executionInfo": {
          "status": "ok",
          "timestamp": 1688458394228,
          "user_tz": -540,
          "elapsed": 506,
          "user": {
            "displayName": "Jason Book Yim",
            "userId": "02824935638305274154"
          }
        },
        "outputId": "e0dbf700-69cf-4931-a69c-6f6bd5af8f48"
      },
      "source": [
        "sample_word = \"vaccine\"\n",
        "# sample_word를 파이프라인을 인스턴스화한 get_feature에 투입\n",
        "hidden_state = get_feature(sample_word)\n",
        "\n",
        "import numpy as np\n",
        "# hidden_state를 넘파이로 변경 후 차원 확인\n",
        "np.array(hidden_state).shape\n"
      ],
      "execution_count": null,
      "outputs": [
        {
          "output_type": "execute_result",
          "data": {
            "text/plain": [
              "(1, 3, 768)"
            ]
          },
          "metadata": {},
          "execution_count": 18
        }
      ]
    },
    {
      "cell_type": "markdown",
      "metadata": {
        "id": "akZ9SaEnkUho"
      },
      "source": [
        "# 97"
      ]
    },
    {
      "cell_type": "code",
      "metadata": {
        "colab": {
          "base_uri": "https://localhost:8080/"
        },
        "id": "s_E5hocGkB5G",
        "executionInfo": {
          "status": "ok",
          "timestamp": 1688458405631,
          "user_tz": -540,
          "elapsed": 445,
          "user": {
            "displayName": "Jason Book Yim",
            "userId": "02824935638305274154"
          }
        },
        "outputId": "741de183-d8d0-488b-df0a-7c79d1098156"
      },
      "source": [
        "# 토크나이저 불러오기\n",
        "tokenizer = AutoTokenizer.from_pretrained('bert-base-uncased')\n",
        "\n",
        "# sample_word를 토크나이징한 결과의 input_ids를 디코딩\n",
        "print(tokenizer.decode(tokenizer(sample_word)['input_ids']))\n"
      ],
      "execution_count": null,
      "outputs": [
        {
          "output_type": "stream",
          "name": "stdout",
          "text": [
            "[CLS] vaccine [SEP]\n"
          ]
        }
      ]
    },
    {
      "cell_type": "markdown",
      "metadata": {
        "id": "J7w6WO8VlLKM"
      },
      "source": [
        "# 98"
      ]
    },
    {
      "cell_type": "code",
      "metadata": {
        "id": "0vtURuO3kVMd"
      },
      "source": [
        "# get_cls_vector 함수 정의\n",
        "def get_cls_vector(sample_text):\n",
        "\n",
        "  hidden_state = get_feature(sample_text, padding=True, truncation=True, max_length=512)\n",
        "\n",
        "  # hidden_state를 넘파이 어레이 타입으로 바꾸고 첫번째 행의 첫번째 열 요소를 변수 cls_vec에 저장\n",
        "  cls_vec = np.array(hidden_state)[0, 0]\n",
        "  return cls_vec\n",
        "\n",
        "# 입력 텍스트 줄이 바뀔 때마다 분리 후 저장\n",
        "ml = moderna_text.split(\"\\n\")\n",
        "pfzl = pfizer_text.split(\"\\n\")\n",
        "\n",
        "# 입력 텍스트 중에 공백은 제거\n",
        "ml = [text for text in ml if text != '']\n",
        "pfzl = [text for text in pfzl if text != '']\n"
      ],
      "execution_count": null,
      "outputs": []
    },
    {
      "cell_type": "markdown",
      "metadata": {
        "id": "-tQ6F-Q_lfsy"
      },
      "source": [
        "#99"
      ]
    },
    {
      "cell_type": "code",
      "metadata": {
        "id": "_T7ZJB03lLwl",
        "executionInfo": {
          "status": "ok",
          "timestamp": 1688458514669,
          "user_tz": -540,
          "elapsed": 67836,
          "user": {
            "displayName": "Jason Book Yim",
            "userId": "02824935638305274154"
          }
        },
        "colab": {
          "base_uri": "https://localhost:8080/"
        },
        "outputId": "15b0542e-36cd-47f9-e587-a6d4dce9aa3b"
      },
      "source": [
        "# 런타임 50초 소요\n",
        "# ml 및 pfzl에 담긴 텍스트를 get_cls_vector 함수에 입력 후 그 결과를 넘파이 어레이로 변환\n",
        "moderna_vecs = np.array([get_cls_vector(text) for text in ml])\n",
        "pfizer_vecs = np.array([get_cls_vector(text) for text in pfzl])\n",
        "\n",
        "# moderna_vecs 및 pfizer_vecs 차원 확인\n",
        "print(moderna_vecs.shape)\n",
        "print(pfizer_vecs.shape)\n"
      ],
      "execution_count": null,
      "outputs": [
        {
          "output_type": "stream",
          "name": "stdout",
          "text": [
            "(69, 768)\n",
            "(78, 768)\n"
          ]
        }
      ]
    },
    {
      "cell_type": "markdown",
      "metadata": {
        "id": "dWAfJ2t_ljh7"
      },
      "source": [
        "#100"
      ]
    },
    {
      "cell_type": "code",
      "metadata": {
        "colab": {
          "base_uri": "https://localhost:8080/"
        },
        "id": "9nV2iCHGlgjP",
        "executionInfo": {
          "status": "ok",
          "timestamp": 1688458530396,
          "user_tz": -540,
          "elapsed": 471,
          "user": {
            "displayName": "Jason Book Yim",
            "userId": "02824935638305274154"
          }
        },
        "outputId": "a888f01a-1585-4385-a215-f69b2d626ce9"
      },
      "source": [
        "# 빈 컨테이너 딕셔너리 생성\n",
        "pfizer_dics = {}\n",
        "\n",
        "# for 반복문 중첩을 pfzl에 적용\n",
        "for text in pfzl:\n",
        "  # text를 토크나이징한 결과 단어를 하나씩 for 반복 루프 실행\n",
        "  for token in tokenizer.tokenize(text):\n",
        "\n",
        "    # token 길이가 5보다 크면 아래 구문 실행\n",
        "    if len(token) > 5:\n",
        "      # pfizer_dicsd의 키(key)에 token이 없는 경우\n",
        "      if token not in pfizer_dics:\n",
        "        # pfizer_dics 딕셔너리에 키(key)를 token으로, 키값(value)을 1로 설정\n",
        "        pfizer_dics[token] = 1\n",
        "\n",
        "      # pfizer_dicsd의 키(key)에 token이 있는 경우\n",
        "      else:\n",
        "        # pfizer_dics 딕셔너리에 키(key)를 token으로, 키값(value)은 기존 값에 1을 더함\n",
        "        pfizer_dics[token] += 1\n",
        "        # for 반복문 종료\n",
        "\n",
        "# pfizer_dics.items()는 pfizer_dics 딕셔너리에 담긴 키와 키값을 출력\n",
        "# sorted(pfizer_dics.items(), key=lambda x:-x[1])은 pfizer_dics.items의 두번째 원소인 값 기준으로 내림차순 정렬\n",
        "# 마지막에 덧붙인 [:30]은 결과물의 첫 30개를 출력\n",
        "sorted(pfizer_dics.items(), key=lambda x:-x[1])[:30]\n"
      ],
      "execution_count": null,
      "outputs": [
        {
          "output_type": "stream",
          "name": "stderr",
          "text": [
            "Token indices sequence length is longer than the specified maximum sequence length for this model (596 > 512). Running this sequence through the model will result in indexing errors\n"
          ]
        },
        {
          "output_type": "execute_result",
          "data": {
            "text/plain": [
              "[('vaccine', 142),\n",
              " ('against', 36),\n",
              " ('united', 27),\n",
              " ('booster', 26),\n",
              " ('million', 26),\n",
              " ('people', 25),\n",
              " ('disease', 22),\n",
              " ('authorized', 20),\n",
              " ('states', 20),\n",
              " ('authorization', 20),\n",
              " ('##valent', 19),\n",
              " ('effectiveness', 19),\n",
              " ('second', 18),\n",
              " ('european', 18),\n",
              " ('##nation', 16),\n",
              " ('months', 16),\n",
              " ('health', 16),\n",
              " ('medicines', 14),\n",
              " ('agency', 14),\n",
              " ('development', 13),\n",
              " ('trials', 13),\n",
              " ('safety', 13),\n",
              " ('december', 13),\n",
              " ('vaccines', 13),\n",
              " ('clinical', 12),\n",
              " ('infection', 12),\n",
              " ('countries', 12),\n",
              " ('september', 12),\n",
              " ('control', 12),\n",
              " ('protection', 11)]"
            ]
          },
          "metadata": {},
          "execution_count": 22
        }
      ]
    },
    {
      "cell_type": "code",
      "metadata": {
        "colab": {
          "base_uri": "https://localhost:8080/"
        },
        "id": "-KJ0Q5Bvl54o",
        "executionInfo": {
          "status": "ok",
          "timestamp": 1688458550491,
          "user_tz": -540,
          "elapsed": 348,
          "user": {
            "displayName": "Jason Book Yim",
            "userId": "02824935638305274154"
          }
        },
        "outputId": "1ebc1d56-dc93-47ea-b525-3a84382b5ddf"
      },
      "source": [
        "# 빈 컨테이너 딕셔너리 생성\n",
        "ml_dics = {}\n",
        "\n",
        "# for 반복문 중첩을 ml에 적용\n",
        "# 이하 코딩 해설은 바로 위 코딩 블록 참조\n",
        "for text in ml:\n",
        "  for token in tokenizer.tokenize(text):\n",
        "    if len(token) > 5:\n",
        "      if token not in ml_dics:\n",
        "        ml_dics[token] = 1\n",
        "      else:\n",
        "        ml_dics[token] += 1\n",
        "sorted(ml_dics.items(), key=lambda x:-x[1])[:30]\n"
      ],
      "execution_count": null,
      "outputs": [
        {
          "output_type": "execute_result",
          "data": {
            "text/plain": [
              "[('vaccine', 97),\n",
              " ('modern', 75),\n",
              " ('people', 19),\n",
              " ('authorized', 17),\n",
              " ('authorization', 17),\n",
              " ('clinical', 17),\n",
              " ('health', 15),\n",
              " ('million', 15),\n",
              " ('##valent', 14),\n",
              " ('against', 13),\n",
              " ('booster', 13),\n",
              " ('united', 12),\n",
              " ('months', 12),\n",
              " ('september', 12),\n",
              " ('efficacy', 12),\n",
              " ('injection', 11),\n",
              " ('august', 11),\n",
              " ('emergency', 11),\n",
              " ('second', 10),\n",
              " ('trials', 10),\n",
              " ('national', 9),\n",
              " ('protection', 9),\n",
              " ('canada', 9),\n",
              " ('european', 9),\n",
              " ('safety', 9),\n",
              " ('disease', 9),\n",
              " ('december', 9),\n",
              " ('results', 9),\n",
              " ('vaccines', 9),\n",
              " ('announced', 9)]"
            ]
          },
          "metadata": {},
          "execution_count": 23
        }
      ]
    },
    {
      "cell_type": "markdown",
      "metadata": {
        "id": "H5ij-hdQoETL"
      },
      "source": [
        "#101"
      ]
    },
    {
      "cell_type": "code",
      "metadata": {
        "colab": {
          "base_uri": "https://localhost:8080/",
          "height": 599
        },
        "id": "1XDm0GCRmNHh",
        "executionInfo": {
          "status": "ok",
          "timestamp": 1688458575889,
          "user_tz": -540,
          "elapsed": 1742,
          "user": {
            "displayName": "Jason Book Yim",
            "userId": "02824935638305274154"
          }
        },
        "outputId": "668d2b58-6ed6-4a26-b7ea-89469d64e718"
      },
      "source": [
        "# 사이킷런 라이브러리 manifold 모듈에서 TSNE 임포트\n",
        "from sklearn.manifold import TSNE\n",
        "\n",
        "# TSNE 파라미터 설정\n",
        "tsne = TSNE(n_components=2, random_state=0)\n",
        "\n",
        "# TSNS에 moderna_vecs 투입 후 적용(fit_transform)\n",
        "moderna_vecs_reduced = tsne.fit_transform(moderna_vecs)\n",
        "\n",
        "# 시각화\n",
        "import matplotlib.pyplot as plt\n",
        "\n",
        "plt.figure(figsize=(13, 7))\n",
        "\n",
        "# moderna_vecs_reduced[:, 0]는 moderna_vecs_reduced의 첫번째 컬럼 값의 모든 행 데이터를 의미\n",
        "# moderna_vecs_reduced[:, 1]는 moderna_vecs_reduced의 두번째 컬럼 값의 모든 행 데이터를 의미\n",
        "# c는 작은 원으로 찍히는 데이터의 색상 종류 갯수로 len(ml) 개수만큼 설정\n",
        "plt.scatter(moderna_vecs_reduced[:, 0], moderna_vecs_reduced[:, 1],  c=[i for i in range(len(ml))])\n",
        "# 그래프 오른쪽에 컬러바를 표기\n",
        "plt.colorbar()\n",
        "plt.show();\n"
      ],
      "execution_count": null,
      "outputs": [
        {
          "output_type": "display_data",
          "data": {
            "text/plain": [
              "<Figure size 1300x700 with 2 Axes>"
            ],
            "image/png": "[encoded data removed]"
          },
          "metadata": {}
        }
      ]
    },
    {
      "cell_type": "code",
      "metadata": {
        "colab": {
          "base_uri": "https://localhost:8080/",
          "height": 599
        },
        "id": "RyEoIBU8oFcp",
        "executionInfo": {
          "status": "ok",
          "timestamp": 1688458595337,
          "user_tz": -540,
          "elapsed": 1023,
          "user": {
            "displayName": "Jason Book Yim",
            "userId": "02824935638305274154"
          }
        },
        "outputId": "91e465b6-f379-4d04-d9fc-9902d4b713f6"
      },
      "source": [
        "# 이하 코딩 주석은 pfizer_vecs 투입을 제외하고는 위 코딩 블록과 동일\n",
        "from sklearn.manifold import TSNE\n",
        "\n",
        "tsne = TSNE(n_components=2, random_state=0)\n",
        "\n",
        "# TSNS에 pfizer_vecs 투입 후 적용(fit_transform)\n",
        "pfizer_vecs_reduced = tsne.fit_transform(pfizer_vecs)\n",
        "\n",
        "import matplotlib.pyplot as plt\n",
        "\n",
        "plt.figure(figsize=(13, 7))\n",
        "plt.scatter(pfizer_vecs_reduced[:, 0], pfizer_vecs_reduced[:, 1], c=[i for i in range(len(pfzl))])\n",
        "plt.colorbar()\n",
        "plt.show();\n"
      ],
      "execution_count": null,
      "outputs": [
        {
          "output_type": "display_data",
          "data": {
            "text/plain": [
              "<Figure size 1300x700 with 2 Axes>"
            ],
            "image/png": "[encoded data removed]"
          },
          "metadata": {}
        }
      ]
    },
    {
      "cell_type": "code",
      "metadata": {
        "id": "twONzfWXs5up"
      },
      "source": [],
      "execution_count": null,
      "outputs": []
    }
  ]
}