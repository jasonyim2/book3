{
  "nbformat": 4,
  "nbformat_minor": 0,
  "metadata": {
    "accelerator": "GPU",
    "colab": {
      "provenance": []
    },
    "kernelspec": {
      "display_name": "Python 3",
      "name": "python3"
    },
    "language_info": {
      "name": "python"
    },
    "gpuClass": "standard"
  },
  "cells": [
    {
      "cell_type": "markdown",
      "metadata": {
        "id": "Gj_jeT6dFcK7"
      },
      "source": [
        "#1"
      ]
    },
    {
      "cell_type": "code",
      "metadata": {
        "colab": {
          "base_uri": "https://localhost:8080/"
        },
        "id": "Uu5ytARTEjpc",
        "outputId": "d23615f8-f0a7-4361-b1ee-403fcd803a84",
        "executionInfo": {
          "status": "ok",
          "timestamp": 1688388585820,
          "user_tz": -540,
          "elapsed": 19948,
          "user": {
            "displayName": "Jason Book Yim",
            "userId": "02824935638305274154"
          }
        }
      },
      "source": [
        "!pip install transformers"
      ],
      "execution_count": 1,
      "outputs": [
        {
          "output_type": "stream",
          "name": "stdout",
          "text": [
            "Collecting transformers\n",
            "  Downloading transformers-4.30.2-py3-none-any.whl (7.2 MB)\n",
            "\u001b[2K     \u001b[90m━━━━━━━━━━━━━━━━━━━━━━━━━━━━━━━━━━━━━━━━\u001b[0m \u001b[32m7.2/7.2 MB\u001b[0m \u001b[31m86.0 MB/s\u001b[0m eta \u001b[36m0:00:00\u001b[0m\n",
            "\u001b[?25hRequirement already satisfied: filelock in /usr/local/lib/python3.10/dist-packages (from transformers) (3.12.2)\n",
            "Collecting huggingface-hub<1.0,>=0.14.1 (from transformers)\n",
            "  Downloading huggingface_hub-0.15.1-py3-none-any.whl (236 kB)\n",
            "\u001b[2K     \u001b[90m━━━━━━━━━━━━━━━━━━━━━━━━━━━━━━━━━━━━━━\u001b[0m \u001b[32m236.8/236.8 kB\u001b[0m \u001b[31m25.2 MB/s\u001b[0m eta \u001b[36m0:00:00\u001b[0m\n",
            "\u001b[?25hRequirement already satisfied: numpy>=1.17 in /usr/local/lib/python3.10/dist-packages (from transformers) (1.22.4)\n",
            "Requirement already satisfied: packaging>=20.0 in /usr/local/lib/python3.10/dist-packages (from transformers) (23.1)\n",
            "Requirement already satisfied: pyyaml>=5.1 in /usr/local/lib/python3.10/dist-packages (from transformers) (6.0)\n",
            "Requirement already satisfied: regex!=2019.12.17 in /usr/local/lib/python3.10/dist-packages (from transformers) (2022.10.31)\n",
            "Requirement already satisfied: requests in /usr/local/lib/python3.10/dist-packages (from transformers) (2.27.1)\n",
            "Collecting tokenizers!=0.11.3,<0.14,>=0.11.1 (from transformers)\n",
            "  Downloading tokenizers-0.13.3-cp310-cp310-manylinux_2_17_x86_64.manylinux2014_x86_64.whl (7.8 MB)\n",
            "\u001b[2K     \u001b[90m━━━━━━━━━━━━━━━━━━━━━━━━━━━━━━━━━━━━━━━━\u001b[0m \u001b[32m7.8/7.8 MB\u001b[0m \u001b[31m86.3 MB/s\u001b[0m eta \u001b[36m0:00:00\u001b[0m\n",
            "\u001b[?25hCollecting safetensors>=0.3.1 (from transformers)\n",
            "  Downloading safetensors-0.3.1-cp310-cp310-manylinux_2_17_x86_64.manylinux2014_x86_64.whl (1.3 MB)\n",
            "\u001b[2K     \u001b[90m━━━━━━━━━━━━━━━━━━━━━━━━━━━━━━━━━━━━━━━━\u001b[0m \u001b[32m1.3/1.3 MB\u001b[0m \u001b[31m81.8 MB/s\u001b[0m eta \u001b[36m0:00:00\u001b[0m\n",
            "\u001b[?25hRequirement already satisfied: tqdm>=4.27 in /usr/local/lib/python3.10/dist-packages (from transformers) (4.65.0)\n",
            "Requirement already satisfied: fsspec in /usr/local/lib/python3.10/dist-packages (from huggingface-hub<1.0,>=0.14.1->transformers) (2023.6.0)\n",
            "Requirement already satisfied: typing-extensions>=3.7.4.3 in /usr/local/lib/python3.10/dist-packages (from huggingface-hub<1.0,>=0.14.1->transformers) (4.6.3)\n",
            "Requirement already satisfied: urllib3<1.27,>=1.21.1 in /usr/local/lib/python3.10/dist-packages (from requests->transformers) (1.26.16)\n",
            "Requirement already satisfied: certifi>=2017.4.17 in /usr/local/lib/python3.10/dist-packages (from requests->transformers) (2023.5.7)\n",
            "Requirement already satisfied: charset-normalizer~=2.0.0 in /usr/local/lib/python3.10/dist-packages (from requests->transformers) (2.0.12)\n",
            "Requirement already satisfied: idna<4,>=2.5 in /usr/local/lib/python3.10/dist-packages (from requests->transformers) (3.4)\n",
            "Installing collected packages: tokenizers, safetensors, huggingface-hub, transformers\n",
            "Successfully installed huggingface-hub-0.15.1 safetensors-0.3.1 tokenizers-0.13.3 transformers-4.30.2\n"
          ]
        }
      ]
    },
    {
      "cell_type": "code",
      "metadata": {
        "colab": {
          "base_uri": "https://localhost:8080/"
        },
        "id": "jrdAxN9KFKZJ",
        "outputId": "a586b009-e319-45b0-9074-d2ee3b013c17",
        "executionInfo": {
          "status": "ok",
          "timestamp": 1688388607294,
          "user_tz": -540,
          "elapsed": 2654,
          "user": {
            "displayName": "Jason Book Yim",
            "userId": "02824935638305274154"
          }
        }
      },
      "source": [
        "import transformers\n",
        "print(transformers.__version__)\n"
      ],
      "execution_count": 2,
      "outputs": [
        {
          "output_type": "stream",
          "name": "stdout",
          "text": [
            "4.30.2\n"
          ]
        }
      ]
    },
    {
      "cell_type": "markdown",
      "metadata": {
        "id": "H27iVpb-FeXX"
      },
      "source": [
        "#2"
      ]
    },
    {
      "cell_type": "code",
      "metadata": {
        "colab": {
          "base_uri": "https://localhost:8080/",
          "height": 237,
          "referenced_widgets": [
            "192dd953bf4342a1b95f8e82cfac413f",
            "b0cd4e29a5454a6bb6d8c8d1e418cee0",
            "9dddeb4a580c4c70a047c4a158c3fbf3",
            "1bc4ad1326b5402a8d7605add7e8fedc",
            "616f25551322416e979ca1a835d367b0",
            "0a29c2c632184b9783e6df02135f0d5b",
            "9ee351ae491e41308f70d6a1d725e60e",
            "9902cf0c1b154ae98b025df3f44bc7bb",
            "66374cf924f04500beed0ad2b81d08d8",
            "f4f24acf2749457ab745a5f7d53fd6d7",
            "af884fe338074e4d836984255bb2c67a",
            "77e6e2b96d5e4680b8b10a37d133ec54",
            "5f6a304ab046469c8b36d8f091dacc93",
            "30565902995c4c61807526869249131b",
            "0a64d25ea80c45a493854d367ecf263e",
            "55d25c6dc661419baddb36660b3fe8c4",
            "f678f359d6074bd4a8c5fc67923cc8c6",
            "d225eec5a8d34a8da215ceff89c74c18",
            "ae9dde6ff740424e924bcbf6cb8b830a",
            "b3718b554cb44178809a46feaab2fc25",
            "278bf6b6562141999ad4c1239eb782ba",
            "6431f38d398f4602ac577be9b4544999",
            "184223e83c13476585191477cd6f72e3",
            "2c71294c6e0d45e89b042d239f240bf7",
            "9667b1ec48ae4fc881b9f1508eb40810",
            "6a106df6f1ae4d7da1de034e93b27824",
            "8dea07bc48e54954a1a424783c9e48f3",
            "3d22460ec9274dfd856e3dbb769495e7",
            "60db6e5f67e94aebbd1fcd1be177c7af",
            "796a9cb37ac249aca8ed1f34293ccc93",
            "0409c638f71d40a09a6f22adb28b5b80",
            "2423fea1decb4308904c67abed7ab82a",
            "37a7f66f3f9646ce9022eb7c206bf332",
            "082b5dffd85d4376a0bf9eb03e7e8faa",
            "ad58ab385df742fea22168df2727ad2f",
            "dd3d4d9e1ffc49108eddec46b4254460",
            "ed21d7f311034bfeaf6ae18a1e0077c9",
            "32aa49d6d3f44279a2bd818c1829ae9b",
            "ac3997f7520545ac886684d41a03beea",
            "d3bcd680612643b6b3db3e8a3b977e47",
            "5b3a8aa490774d36a04354ad83134ca6",
            "b4ce58c90ca84d7db7f74f388a30bb97",
            "f0c35fe2eb334cdfabe5076e2bbf6353",
            "372a611bbb464738a379a40579613371"
          ]
        },
        "id": "yRAtStHnFbfi",
        "outputId": "cc1d0b47-535f-4c06-cbaf-d9c1baad7bc4",
        "executionInfo": {
          "status": "ok",
          "timestamp": 1688388631445,
          "user_tz": -540,
          "elapsed": 20565,
          "user": {
            "displayName": "Jason Book Yim",
            "userId": "02824935638305274154"
          }
        }
      },
      "source": [
        "from transformers import pipeline\n",
        "sentiment = pipeline('sentiment-analysis')\n"
      ],
      "execution_count": 3,
      "outputs": [
        {
          "output_type": "stream",
          "name": "stderr",
          "text": [
            "No model was supplied, defaulted to distilbert-base-uncased-finetuned-sst-2-english and revision af0f99b (https://huggingface.co/distilbert-base-uncased-finetuned-sst-2-english).\n",
            "Using a pipeline without specifying a model name and revision in production is not recommended.\n"
          ]
        },
        {
          "output_type": "display_data",
          "data": {
            "text/plain": [
              "Downloading (…)lve/main/config.json:   0%|          | 0.00/629 [00:00<?, ?B/s]"
            ],
            "application/vnd.jupyter.widget-view+json": {
              "version_major": 2,
              "version_minor": 0,
              "model_id": "192dd953bf4342a1b95f8e82cfac413f"
            }
          },
          "metadata": {}
        },
        {
          "output_type": "display_data",
          "data": {
            "text/plain": [
              "Downloading model.safetensors:   0%|          | 0.00/268M [00:00<?, ?B/s]"
            ],
            "application/vnd.jupyter.widget-view+json": {
              "version_major": 2,
              "version_minor": 0,
              "model_id": "77e6e2b96d5e4680b8b10a37d133ec54"
            }
          },
          "metadata": {}
        },
        {
          "output_type": "display_data",
          "data": {
            "text/plain": [
              "Downloading (…)okenizer_config.json:   0%|          | 0.00/48.0 [00:00<?, ?B/s]"
            ],
            "application/vnd.jupyter.widget-view+json": {
              "version_major": 2,
              "version_minor": 0,
              "model_id": "184223e83c13476585191477cd6f72e3"
            }
          },
          "metadata": {}
        },
        {
          "output_type": "display_data",
          "data": {
            "text/plain": [
              "Downloading (…)solve/main/vocab.txt:   0%|          | 0.00/232k [00:00<?, ?B/s]"
            ],
            "application/vnd.jupyter.widget-view+json": {
              "version_major": 2,
              "version_minor": 0,
              "model_id": "082b5dffd85d4376a0bf9eb03e7e8faa"
            }
          },
          "metadata": {}
        },
        {
          "output_type": "stream",
          "name": "stderr",
          "text": [
            "Xformers is not installed correctly. If you want to use memory_efficient_attention to accelerate training use the following command to install Xformers\n",
            "pip install xformers.\n"
          ]
        }
      ]
    },
    {
      "cell_type": "code",
      "metadata": {
        "colab": {
          "base_uri": "https://localhost:8080/"
        },
        "id": "HFpHu-03GaW8",
        "outputId": "89c3d22d-38de-4f17-adad-32ab1a1bdace",
        "executionInfo": {
          "status": "ok",
          "timestamp": 1688388639883,
          "user_tz": -540,
          "elapsed": 513,
          "user": {
            "displayName": "Jason Book Yim",
            "userId": "02824935638305274154"
          }
        }
      },
      "source": [
        "sentiment.model"
      ],
      "execution_count": 4,
      "outputs": [
        {
          "output_type": "execute_result",
          "data": {
            "text/plain": [
              "DistilBertForSequenceClassification(\n",
              "  (distilbert): DistilBertModel(\n",
              "    (embeddings): Embeddings(\n",
              "      (word_embeddings): Embedding(30522, 768, padding_idx=0)\n",
              "      (position_embeddings): Embedding(512, 768)\n",
              "      (LayerNorm): LayerNorm((768,), eps=1e-12, elementwise_affine=True)\n",
              "      (dropout): Dropout(p=0.1, inplace=False)\n",
              "    )\n",
              "    (transformer): Transformer(\n",
              "      (layer): ModuleList(\n",
              "        (0-5): 6 x TransformerBlock(\n",
              "          (attention): MultiHeadSelfAttention(\n",
              "            (dropout): Dropout(p=0.1, inplace=False)\n",
              "            (q_lin): Linear(in_features=768, out_features=768, bias=True)\n",
              "            (k_lin): Linear(in_features=768, out_features=768, bias=True)\n",
              "            (v_lin): Linear(in_features=768, out_features=768, bias=True)\n",
              "            (out_lin): Linear(in_features=768, out_features=768, bias=True)\n",
              "          )\n",
              "          (sa_layer_norm): LayerNorm((768,), eps=1e-12, elementwise_affine=True)\n",
              "          (ffn): FFN(\n",
              "            (dropout): Dropout(p=0.1, inplace=False)\n",
              "            (lin1): Linear(in_features=768, out_features=3072, bias=True)\n",
              "            (lin2): Linear(in_features=3072, out_features=768, bias=True)\n",
              "            (activation): GELUActivation()\n",
              "          )\n",
              "          (output_layer_norm): LayerNorm((768,), eps=1e-12, elementwise_affine=True)\n",
              "        )\n",
              "      )\n",
              "    )\n",
              "  )\n",
              "  (pre_classifier): Linear(in_features=768, out_features=768, bias=True)\n",
              "  (classifier): Linear(in_features=768, out_features=2, bias=True)\n",
              "  (dropout): Dropout(p=0.2, inplace=False)\n",
              ")"
            ]
          },
          "metadata": {},
          "execution_count": 4
        }
      ]
    },
    {
      "cell_type": "code",
      "metadata": {
        "colab": {
          "base_uri": "https://localhost:8080/"
        },
        "id": "tjd1o-yoIwfY",
        "outputId": "c2f03b62-78a6-4c66-c60e-a58eccd7aa4a",
        "executionInfo": {
          "status": "ok",
          "timestamp": 1688388645118,
          "user_tz": -540,
          "elapsed": 475,
          "user": {
            "displayName": "Jason Book Yim",
            "userId": "02824935638305274154"
          }
        }
      },
      "source": [
        "print(sentiment([\"I like Olympic games as it's very exciting.\"]))\n",
        "print(sentiment([\"I'm against to hold Olympic games in Tokyo in terms of preventing the covid19 to be spread.\"]))\n"
      ],
      "execution_count": 5,
      "outputs": [
        {
          "output_type": "stream",
          "name": "stdout",
          "text": [
            "[{'label': 'POSITIVE', 'score': 0.9998026490211487}]\n",
            "[{'label': 'NEGATIVE', 'score': 0.9791859984397888}]\n"
          ]
        }
      ]
    },
    {
      "cell_type": "markdown",
      "metadata": {
        "id": "bxXnmA4FJy6B"
      },
      "source": [
        "# 3"
      ]
    },
    {
      "cell_type": "code",
      "metadata": {
        "colab": {
          "base_uri": "https://localhost:8080/",
          "height": 251,
          "referenced_widgets": [
            "77df379aca434548a9396b3db2149b76",
            "efdb2645f1b64ac8b2959b6c76a10025",
            "09c21bc8bd874e00815527e84f9e41ef",
            "50ed1d823c72447abe2d6825578c05e7",
            "511f565e2d954ad89f4215feea8ac53d",
            "83a5cf5957f84181ac15b6b39b453cd0",
            "18e02d97511c4f7591ac5b5d2b4ad16a",
            "14bce29a0ee046d792d5effde75231e8",
            "a3540c69a59441689eb50f99ba00e0ef",
            "75be08c810c24833a0b4c95b0e5d52c9",
            "a3ba11ad8da24fd1a69bcfa8a1c05635",
            "ba8076abd1fb4a3dac25f03c0ecf5cb6",
            "90b7896df9f2495f944c147cd8d3f048",
            "03817ac224f2439692109f52ac79d75d",
            "c626a7f7052a4050990ef384bcde4b71",
            "270c5fcf46ee455d90c10cfc831d8d2e",
            "b4cb70fddc30477686728b4859fc0f5b",
            "b5ceee5a51254a969753bb8dd0cefc61",
            "42bdbf8ecd0e4274adaa4bf7a51b52c1",
            "1a3abcd94b1a4b12a39c8d24cfb70fef",
            "201d7248f04b445d8969f1778c69e24a",
            "8927c53c4e3347f6899d8140c112ff24",
            "1d600f0b7c564f768f08c0f6313ce78c",
            "9e4ada7fba92443197e748f442c88ce4",
            "55fb38b211644f8ba2ca744f70983139",
            "7fc1da4e638f4322b72da195b1c10f7a",
            "f2ef788833094c889587f8c9efec293c",
            "afe47b5ba81c49d8b765e45c35e1b3ad",
            "88cbf1b8f1254838866ccc401e2412cf",
            "cd7ed91c97964d33a587aeecc13188ec",
            "2bf4b552c5fc425093f464d05feeda7f",
            "1adfa0cb23b549ec9284485a16ca162c",
            "90f9005c7859490f95a385b289bce37e",
            "0b5ed29879d64f38b66dd605e421c0e6",
            "45efc3172fb749b384e54c89d01fc2c0",
            "8778e541f9d84a918a3a4fd811b5559a",
            "d95c0f94b2c24f53a7e983cd112c5af8",
            "4f51c455b2884e9ab8e4e594728078c1",
            "50122dde5a37430fbaa88e6216140f5a",
            "c45e98aa556b427288889100ba025989",
            "1395f7d873bd4540a6e027f2019c60c3",
            "df45b6378f1a4ee0bd4412dfbf3dd2cd",
            "0a7552bdedf34c1095745d69a52d2883",
            "1513182490b243d2a54d0d1b491cad3c",
            "04310ede2e2e4b5594e821f83fc867e9",
            "4db86bcac7c44e3ea9d55f36fcaecb93",
            "5154369ad1c440dc8ed9e1d8c20ff2aa",
            "00e6951e20f149f8a116d6b8d20e0640",
            "bd2b599753a8480eaa79210752429436",
            "0fa7350ec5eb4ae8b8ddbae95d1da9b4",
            "04dd280bdcd2420f8550963dfea0a327",
            "903df61a3c35473ba18f5c3847bbd9cb",
            "886d5e36dd424786b23f124caeae134d",
            "7c3e18f4ecc9404e90c4a1b25e356a7a",
            "6693f296399c43d0ab2766f4b579f6f7"
          ]
        },
        "id": "XBL3aKbVIzNL",
        "outputId": "62c572ef-19bb-4b77-e022-6646f375b006",
        "executionInfo": {
          "status": "ok",
          "timestamp": 1688388660557,
          "user_tz": -540,
          "elapsed": 7105,
          "user": {
            "displayName": "Jason Book Yim",
            "userId": "02824935638305274154"
          }
        }
      },
      "source": [
        "from transformers import pipeline\n",
        "\n",
        "qa = pipeline(\"question-answering\")\n",
        "\n",
        "# 여러 줄로 이루어진 문장을 인용할 경우 \"\"\"를 인용부호로 사용\n",
        "olympic_wiki_text = \"\"\"\n",
        "The 2020 Summer Olympics (Japanese: 2020年夏季オリンピック, Hepburn: Nisen Nijū-nen Kaki Orinpikku), officially the Games of the XXXII Olympiad (第三十二回オリンピック競技大会, Dai Sanjūni-kai Orinpikku Kyōgi Taikai) and branded as Tokyo 2020 (東京2020), is an ongoing international multi-sport event being held from 23 July to 8 August 2021 in Tokyo, Japan, with some preliminary events that began on 21 July.\n",
        "\n",
        "Tokyo was selected as the host city during the 125th IOC Session in Buenos Aires, Argentina, on 7 September 2013.[3] Originally scheduled to take place from 24 July to 9 August 2020, the event was postponed to 2021 in March 2020 as a result of the COVID-19 pandemic, the first such instance in the history of the Olympic Games (previous games had been cancelled but not rescheduled).[4] However, the event retains the Tokyo 2020 name for marketing and branding purposes.[5] It is being held largely behind closed doors with no public spectators permitted due to the declaration of a state of emergency.[b] The Summer Paralympics will be held between 24 August and 5 September 2021, 16 days after the completion of the Olympics.[6]\n",
        "\n",
        "The 2020 Games are the fourth Olympic Games to be held in Japan, following the Tokyo 1964 (Summer), Sapporo 1972 (Winter), and Nagano 1998 (Winter) games.[c] Tokyo is the first city in Asia to hold the Summer Games twice. The 2020 Games are the second of three consecutive Olympics to be held in East Asia, following the 2018 Winter Olympics in Pyeongchang, South Korea, and preceding the 2022 Winter Olympics in Beijing, China.\n",
        "\n",
        "The 2020 Games introduced new competitions and re-introduced competitions that once were held but were subsequently removed. New ones include 3x3 basketball, freestyle BMX and mixed gender team events in a number of existing sports, as well as the return of madison cycling for men and an introduction of the same event for women. New IOC policies also allow the host organizing committee to add new sports to the Olympic program for just one Games. The disciplines added by the Japanese Olympic Committee are baseball and softball, karate, sport climbing, surfing, and skateboarding, the last four of which make their Olympic debuts.[7]\n",
        "\n",
        "Bermuda, the Philippines, and Qatar won their first-ever Olympic gold medals.[8][9][10] San Marino, Turkmenistan, and Burkina Faso won their first-ever Olympic medals.[11][12][13]\n",
        "\n",
        "\"\"\"\n",
        "print(qa(question=\"What caused Tokyo Olympic postponed?\", context=olympic_wiki_text))\n"
      ],
      "execution_count": 6,
      "outputs": [
        {
          "output_type": "stream",
          "name": "stderr",
          "text": [
            "No model was supplied, defaulted to distilbert-base-cased-distilled-squad and revision 626af31 (https://huggingface.co/distilbert-base-cased-distilled-squad).\n",
            "Using a pipeline without specifying a model name and revision in production is not recommended.\n"
          ]
        },
        {
          "output_type": "display_data",
          "data": {
            "text/plain": [
              "Downloading (…)lve/main/config.json:   0%|          | 0.00/473 [00:00<?, ?B/s]"
            ],
            "application/vnd.jupyter.widget-view+json": {
              "version_major": 2,
              "version_minor": 0,
              "model_id": "77df379aca434548a9396b3db2149b76"
            }
          },
          "metadata": {}
        },
        {
          "output_type": "display_data",
          "data": {
            "text/plain": [
              "Downloading model.safetensors:   0%|          | 0.00/261M [00:00<?, ?B/s]"
            ],
            "application/vnd.jupyter.widget-view+json": {
              "version_major": 2,
              "version_minor": 0,
              "model_id": "ba8076abd1fb4a3dac25f03c0ecf5cb6"
            }
          },
          "metadata": {}
        },
        {
          "output_type": "display_data",
          "data": {
            "text/plain": [
              "Downloading (…)okenizer_config.json:   0%|          | 0.00/29.0 [00:00<?, ?B/s]"
            ],
            "application/vnd.jupyter.widget-view+json": {
              "version_major": 2,
              "version_minor": 0,
              "model_id": "1d600f0b7c564f768f08c0f6313ce78c"
            }
          },
          "metadata": {}
        },
        {
          "output_type": "display_data",
          "data": {
            "text/plain": [
              "Downloading (…)solve/main/vocab.txt:   0%|          | 0.00/213k [00:00<?, ?B/s]"
            ],
            "application/vnd.jupyter.widget-view+json": {
              "version_major": 2,
              "version_minor": 0,
              "model_id": "0b5ed29879d64f38b66dd605e421c0e6"
            }
          },
          "metadata": {}
        },
        {
          "output_type": "display_data",
          "data": {
            "text/plain": [
              "Downloading (…)/main/tokenizer.json:   0%|          | 0.00/436k [00:00<?, ?B/s]"
            ],
            "application/vnd.jupyter.widget-view+json": {
              "version_major": 2,
              "version_minor": 0,
              "model_id": "04310ede2e2e4b5594e821f83fc867e9"
            }
          },
          "metadata": {}
        },
        {
          "output_type": "stream",
          "name": "stdout",
          "text": [
            "{'score': 0.6619062423706055, 'start': 635, 'end': 652, 'answer': 'COVID-19 pandemic'}\n"
          ]
        }
      ]
    },
    {
      "cell_type": "code",
      "source": [
        "qa.model"
      ],
      "metadata": {
        "colab": {
          "base_uri": "https://localhost:8080/"
        },
        "id": "dEr52o_XbTO2",
        "outputId": "75f7d3af-796a-4941-d7bf-0de5145607b1",
        "executionInfo": {
          "status": "ok",
          "timestamp": 1688388670756,
          "user_tz": -540,
          "elapsed": 556,
          "user": {
            "displayName": "Jason Book Yim",
            "userId": "02824935638305274154"
          }
        }
      },
      "execution_count": 7,
      "outputs": [
        {
          "output_type": "execute_result",
          "data": {
            "text/plain": [
              "DistilBertForQuestionAnswering(\n",
              "  (distilbert): DistilBertModel(\n",
              "    (embeddings): Embeddings(\n",
              "      (word_embeddings): Embedding(28996, 768, padding_idx=0)\n",
              "      (position_embeddings): Embedding(512, 768)\n",
              "      (LayerNorm): LayerNorm((768,), eps=1e-12, elementwise_affine=True)\n",
              "      (dropout): Dropout(p=0.1, inplace=False)\n",
              "    )\n",
              "    (transformer): Transformer(\n",
              "      (layer): ModuleList(\n",
              "        (0-5): 6 x TransformerBlock(\n",
              "          (attention): MultiHeadSelfAttention(\n",
              "            (dropout): Dropout(p=0.1, inplace=False)\n",
              "            (q_lin): Linear(in_features=768, out_features=768, bias=True)\n",
              "            (k_lin): Linear(in_features=768, out_features=768, bias=True)\n",
              "            (v_lin): Linear(in_features=768, out_features=768, bias=True)\n",
              "            (out_lin): Linear(in_features=768, out_features=768, bias=True)\n",
              "          )\n",
              "          (sa_layer_norm): LayerNorm((768,), eps=1e-12, elementwise_affine=True)\n",
              "          (ffn): FFN(\n",
              "            (dropout): Dropout(p=0.1, inplace=False)\n",
              "            (lin1): Linear(in_features=768, out_features=3072, bias=True)\n",
              "            (lin2): Linear(in_features=3072, out_features=768, bias=True)\n",
              "            (activation): GELUActivation()\n",
              "          )\n",
              "          (output_layer_norm): LayerNorm((768,), eps=1e-12, elementwise_affine=True)\n",
              "        )\n",
              "      )\n",
              "    )\n",
              "  )\n",
              "  (qa_outputs): Linear(in_features=768, out_features=2, bias=True)\n",
              "  (dropout): Dropout(p=0.1, inplace=False)\n",
              ")"
            ]
          },
          "metadata": {},
          "execution_count": 7
        }
      ]
    },
    {
      "cell_type": "markdown",
      "metadata": {
        "id": "qripudYVoYpJ"
      },
      "source": [
        "# Preparation"
      ]
    },
    {
      "cell_type": "code",
      "metadata": {
        "colab": {
          "base_uri": "https://localhost:8080/"
        },
        "id": "oeNpb-JTJ5Iq",
        "outputId": "695d2775-c435-4440-c371-c4a44dae3f30",
        "executionInfo": {
          "status": "ok",
          "timestamp": 1688388677488,
          "user_tz": -540,
          "elapsed": 620,
          "user": {
            "displayName": "Jason Book Yim",
            "userId": "02824935638305274154"
          }
        }
      },
      "source": [
        "import torch\n",
        "torch.cuda.is_available()\n"
      ],
      "execution_count": 8,
      "outputs": [
        {
          "output_type": "execute_result",
          "data": {
            "text/plain": [
              "True"
            ]
          },
          "metadata": {},
          "execution_count": 8
        }
      ]
    },
    {
      "cell_type": "markdown",
      "metadata": {
        "id": "_iTfhHHgoi-0"
      },
      "source": [
        "# 4"
      ]
    },
    {
      "cell_type": "code",
      "metadata": {
        "colab": {
          "base_uri": "https://localhost:8080/"
        },
        "executionInfo": {
          "status": "ok",
          "timestamp": 1688388725021,
          "user_tz": -540,
          "elapsed": 9953,
          "user": {
            "displayName": "Jason Book Yim",
            "userId": "02824935638305274154"
          }
        },
        "outputId": "21fe2da0-d133-4231-ff22-b5d67fe43cba",
        "id": "KWPj9OS0zzRC"
      },
      "source": [
        "# 아래 코딩 실행 후 코랩 메뉴에서 '런타임' -> '런타임 다시 시작'을 눌러야 하나\n",
        "# 이 조치가 필요한 코딩이 두 개 더 이어져서 그것까지 실행 후 '런타임 다시 시작'을 실행하세요.\n",
        "\n",
        "!pip install torchtext==0.15.2"
      ],
      "execution_count": 9,
      "outputs": [
        {
          "output_type": "stream",
          "name": "stdout",
          "text": [
            "Requirement already satisfied: torchtext==0.15.2 in /usr/local/lib/python3.10/dist-packages (0.15.2)\n",
            "Requirement already satisfied: tqdm in /usr/local/lib/python3.10/dist-packages (from torchtext==0.15.2) (4.65.0)\n",
            "Requirement already satisfied: requests in /usr/local/lib/python3.10/dist-packages (from torchtext==0.15.2) (2.27.1)\n",
            "Requirement already satisfied: torch==2.0.1 in /usr/local/lib/python3.10/dist-packages (from torchtext==0.15.2) (2.0.1+cu118)\n",
            "Requirement already satisfied: numpy in /usr/local/lib/python3.10/dist-packages (from torchtext==0.15.2) (1.22.4)\n",
            "Requirement already satisfied: torchdata==0.6.1 in /usr/local/lib/python3.10/dist-packages (from torchtext==0.15.2) (0.6.1)\n",
            "Requirement already satisfied: filelock in /usr/local/lib/python3.10/dist-packages (from torch==2.0.1->torchtext==0.15.2) (3.12.2)\n",
            "Requirement already satisfied: typing-extensions in /usr/local/lib/python3.10/dist-packages (from torch==2.0.1->torchtext==0.15.2) (4.6.3)\n",
            "Requirement already satisfied: sympy in /usr/local/lib/python3.10/dist-packages (from torch==2.0.1->torchtext==0.15.2) (1.11.1)\n",
            "Requirement already satisfied: networkx in /usr/local/lib/python3.10/dist-packages (from torch==2.0.1->torchtext==0.15.2) (3.1)\n",
            "Requirement already satisfied: jinja2 in /usr/local/lib/python3.10/dist-packages (from torch==2.0.1->torchtext==0.15.2) (3.1.2)\n",
            "Requirement already satisfied: triton==2.0.0 in /usr/local/lib/python3.10/dist-packages (from torch==2.0.1->torchtext==0.15.2) (2.0.0)\n",
            "Requirement already satisfied: urllib3>=1.25 in /usr/local/lib/python3.10/dist-packages (from torchdata==0.6.1->torchtext==0.15.2) (1.26.16)\n",
            "Requirement already satisfied: cmake in /usr/local/lib/python3.10/dist-packages (from triton==2.0.0->torch==2.0.1->torchtext==0.15.2) (3.25.2)\n",
            "Requirement already satisfied: lit in /usr/local/lib/python3.10/dist-packages (from triton==2.0.0->torch==2.0.1->torchtext==0.15.2) (16.0.6)\n",
            "Requirement already satisfied: certifi>=2017.4.17 in /usr/local/lib/python3.10/dist-packages (from requests->torchtext==0.15.2) (2023.5.7)\n",
            "Requirement already satisfied: charset-normalizer~=2.0.0 in /usr/local/lib/python3.10/dist-packages (from requests->torchtext==0.15.2) (2.0.12)\n",
            "Requirement already satisfied: idna<4,>=2.5 in /usr/local/lib/python3.10/dist-packages (from requests->torchtext==0.15.2) (3.4)\n",
            "Requirement already satisfied: MarkupSafe>=2.0 in /usr/local/lib/python3.10/dist-packages (from jinja2->torch==2.0.1->torchtext==0.15.2) (2.1.3)\n",
            "Requirement already satisfied: mpmath>=0.19 in /usr/local/lib/python3.10/dist-packages (from sympy->torch==2.0.1->torchtext==0.15.2) (1.3.0)\n"
          ]
        }
      ]
    },
    {
      "cell_type": "code",
      "source": [
        "!pip install portalocker==2.7.0\n"
      ],
      "metadata": {
        "colab": {
          "base_uri": "https://localhost:8080/"
        },
        "id": "L7T-Zughy14d",
        "executionInfo": {
          "status": "ok",
          "timestamp": 1688388767315,
          "user_tz": -540,
          "elapsed": 9524,
          "user": {
            "displayName": "Jason Book Yim",
            "userId": "02824935638305274154"
          }
        },
        "outputId": "c9d94c43-17ad-4870-dee4-d11ecdebece0"
      },
      "execution_count": 10,
      "outputs": [
        {
          "output_type": "stream",
          "name": "stdout",
          "text": [
            "Collecting portalocker==2.7.0\n",
            "  Downloading portalocker-2.7.0-py2.py3-none-any.whl (15 kB)\n",
            "Installing collected packages: portalocker\n",
            "Successfully installed portalocker-2.7.0\n"
          ]
        }
      ]
    },
    {
      "cell_type": "code",
      "source": [
        "# 이 코딩까지 실행 후 코랩 메뉴에서 '런타임' -> '런타임 다시 시작'을 클릭하세요.\n",
        "!pip install accelerate -U"
      ],
      "metadata": {
        "colab": {
          "base_uri": "https://localhost:8080/"
        },
        "id": "tFc60UujzKSP",
        "executionInfo": {
          "status": "ok",
          "timestamp": 1688388792290,
          "user_tz": -540,
          "elapsed": 9440,
          "user": {
            "displayName": "Jason Book Yim",
            "userId": "02824935638305274154"
          }
        },
        "outputId": "4bea0395-9d00-46b9-c66b-db87dbf517fc"
      },
      "execution_count": 11,
      "outputs": [
        {
          "output_type": "stream",
          "name": "stdout",
          "text": [
            "Collecting accelerate\n",
            "  Downloading accelerate-0.20.3-py3-none-any.whl (227 kB)\n",
            "\u001b[?25l     \u001b[90m━━━━━━━━━━━━━━━━━━━━━━━━━━━━━━━━━━━━━━━━\u001b[0m \u001b[32m0.0/227.6 kB\u001b[0m \u001b[31m?\u001b[0m eta \u001b[36m-:--:--\u001b[0m\r\u001b[2K     \u001b[90m━━━━━━━━━━━━━━━━━━━━━━━━━━━━━━━━━━━━━━\u001b[0m \u001b[32m227.6/227.6 kB\u001b[0m \u001b[31m13.8 MB/s\u001b[0m eta \u001b[36m0:00:00\u001b[0m\n",
            "\u001b[?25hRequirement already satisfied: numpy>=1.17 in /usr/local/lib/python3.10/dist-packages (from accelerate) (1.22.4)\n",
            "Requirement already satisfied: packaging>=20.0 in /usr/local/lib/python3.10/dist-packages (from accelerate) (23.1)\n",
            "Requirement already satisfied: psutil in /usr/local/lib/python3.10/dist-packages (from accelerate) (5.9.5)\n",
            "Requirement already satisfied: pyyaml in /usr/local/lib/python3.10/dist-packages (from accelerate) (6.0)\n",
            "Requirement already satisfied: torch>=1.6.0 in /usr/local/lib/python3.10/dist-packages (from accelerate) (2.0.1+cu118)\n",
            "Requirement already satisfied: filelock in /usr/local/lib/python3.10/dist-packages (from torch>=1.6.0->accelerate) (3.12.2)\n",
            "Requirement already satisfied: typing-extensions in /usr/local/lib/python3.10/dist-packages (from torch>=1.6.0->accelerate) (4.6.3)\n",
            "Requirement already satisfied: sympy in /usr/local/lib/python3.10/dist-packages (from torch>=1.6.0->accelerate) (1.11.1)\n",
            "Requirement already satisfied: networkx in /usr/local/lib/python3.10/dist-packages (from torch>=1.6.0->accelerate) (3.1)\n",
            "Requirement already satisfied: jinja2 in /usr/local/lib/python3.10/dist-packages (from torch>=1.6.0->accelerate) (3.1.2)\n",
            "Requirement already satisfied: triton==2.0.0 in /usr/local/lib/python3.10/dist-packages (from torch>=1.6.0->accelerate) (2.0.0)\n",
            "Requirement already satisfied: cmake in /usr/local/lib/python3.10/dist-packages (from triton==2.0.0->torch>=1.6.0->accelerate) (3.25.2)\n",
            "Requirement already satisfied: lit in /usr/local/lib/python3.10/dist-packages (from triton==2.0.0->torch>=1.6.0->accelerate) (16.0.6)\n",
            "Requirement already satisfied: MarkupSafe>=2.0 in /usr/local/lib/python3.10/dist-packages (from jinja2->torch>=1.6.0->accelerate) (2.1.3)\n",
            "Requirement already satisfied: mpmath>=0.19 in /usr/local/lib/python3.10/dist-packages (from sympy->torch>=1.6.0->accelerate) (1.3.0)\n",
            "Installing collected packages: accelerate\n",
            "Successfully installed accelerate-0.20.3\n"
          ]
        }
      ]
    },
    {
      "cell_type": "code",
      "metadata": {
        "id": "1Kv72jIRpAS0",
        "executionInfo": {
          "status": "ok",
          "timestamp": 1688388822109,
          "user_tz": -540,
          "elapsed": 1855,
          "user": {
            "displayName": "Jason Book Yim",
            "userId": "02824935638305274154"
          }
        }
      },
      "source": [
        "from torchtext.datasets import IMDB\n",
        "\n",
        "train_iter = IMDB(split='train')\n",
        "test_iter = IMDB(split='test')\n"
      ],
      "execution_count": 1,
      "outputs": []
    },
    {
      "cell_type": "code",
      "metadata": {
        "colab": {
          "base_uri": "https://localhost:8080/"
        },
        "id": "160q-p22pJBU",
        "outputId": "96969743-e5a7-44a2-bfa5-df50bfac8ace",
        "executionInfo": {
          "status": "ok",
          "timestamp": 1688388873914,
          "user_tz": -540,
          "elapsed": 33665,
          "user": {
            "displayName": "Jason Book Yim",
            "userId": "02824935638305274154"
          }
        }
      },
      "source": [
        "# 런타임 약 30초 소요\n",
        "# 출력 결과를 고정하기 위해 random.seed 도입\n",
        "import random\n",
        "random.seed(6)\n",
        "\n",
        "# train_iter를 리스트 타입으로 변경\n",
        "train_lists = list(train_iter)\n",
        "test_lists = list(test_iter)\n",
        "\n",
        "# 각기 1000개씩 랜덤 샘플링\n",
        "train_lists_small = random.sample(train_lists, 1000)\n",
        "test_lists_small = random.sample(test_lists, 1000)\n",
        "\n",
        "# 각 변수에 담긴 인덱스 0에 해당하는 원소, 즉 첫번째 원소 출력\n",
        "print(train_lists_small[0])\n",
        "print(test_lists_small[0])\n"
      ],
      "execution_count": 2,
      "outputs": [
        {
          "output_type": "stream",
          "name": "stdout",
          "text": [
            "(2, \"I LOVED this movie! I am biased seeing as I am a huge Disney fan, but I really enjoyed myself. The action takes off running in the beginning of the film and just keeps going! This is a bit of a departure for Disney, they don't spend quite as much time on character development (my husband pointed this out)and there are no musical numbers. It is strictly action adventure. I thoroughly enjoyed it and recommend it to anyone who loves Disney, be they young or old.\")\n",
            "(1, 'This was an abysmal show. In short it was about this kid called Doug who guilt-tripped a lot. Seriously he could feel guilty over killing a fly then feeling guilty over feeling guilty for killing the fly and so forth. The animation was grating and unpleasant and the jokes cheap. <br /><br />It aired here in Sweden as a part of the \"Disney time\" show and i remember liking it some what but then i turned 13.<br /><br />I never got why some of the characters were green and purple too. What was up with that? <br /><br />Truly a horrible show. Appareantly it spawned a movie which i\\'ve never seen but i don\\'t have any great expectations for that one either.')\n"
          ]
        }
      ]
    },
    {
      "cell_type": "code",
      "metadata": {
        "colab": {
          "base_uri": "https://localhost:8080/"
        },
        "id": "USS4pCwtpcQ6",
        "outputId": "bfcf7c19-60e0-4822-dc2d-7f43b6b86b7c",
        "executionInfo": {
          "status": "ok",
          "timestamp": 1688389030990,
          "user_tz": -540,
          "elapsed": 3,
          "user": {
            "displayName": "Jason Book Yim",
            "userId": "02824935638305274154"
          }
        }
      },
      "source": [
        "# train_texts와 train_labels라는 컨테이너 생성\n",
        "# 아래 반복분에서 생성된 결과를 담는 그릇으로서 역할 수행\n",
        "train_texts = []\n",
        "train_labels = []\n",
        "\n",
        "# for 반복문\n",
        "# train_lists_small에 담긴 튜플 쌍 원소를 변수명 label과 text를 부여하여 순서대로 추출\n",
        "for label, text in train_lists_small:\n",
        "  # IMDB 데이터의 기존 레이블 2를 1로 변경, 기존 레이블 1을 0으로 변경\n",
        "  train_labels.append(1 if label == 2 else 0)\n",
        "  train_texts.append(text)\n",
        "\n",
        "# text_texts와 test_labels라는 컨테이너 생성\n",
        "test_texts = []\n",
        "test_labels = []\n",
        "\n",
        "# for 반복문\n",
        "for label, text in test_lists_small:\n",
        "  # IMDB 데이터의 기존 레이블 2를 1로 변경, 기존 레이블 1을 0으로 변경\n",
        "  test_labels.append(1 if label == 2 else 0)\n",
        "  test_texts.append(text)\n",
        "\n",
        "# 각 변수에 담긴 인덱스 0에 해당하는 원소, 즉 첫번째 원소 출력\n",
        "print(train_texts[0])\n",
        "print(train_labels[0])\n",
        "print(test_texts[0])\n",
        "print(test_labels[0])\n"
      ],
      "execution_count": 3,
      "outputs": [
        {
          "output_type": "stream",
          "name": "stdout",
          "text": [
            "I LOVED this movie! I am biased seeing as I am a huge Disney fan, but I really enjoyed myself. The action takes off running in the beginning of the film and just keeps going! This is a bit of a departure for Disney, they don't spend quite as much time on character development (my husband pointed this out)and there are no musical numbers. It is strictly action adventure. I thoroughly enjoyed it and recommend it to anyone who loves Disney, be they young or old.\n",
            "1\n",
            "This was an abysmal show. In short it was about this kid called Doug who guilt-tripped a lot. Seriously he could feel guilty over killing a fly then feeling guilty over feeling guilty for killing the fly and so forth. The animation was grating and unpleasant and the jokes cheap. <br /><br />It aired here in Sweden as a part of the \"Disney time\" show and i remember liking it some what but then i turned 13.<br /><br />I never got why some of the characters were green and purple too. What was up with that? <br /><br />Truly a horrible show. Appareantly it spawned a movie which i've never seen but i don't have any great expectations for that one either.\n",
            "0\n"
          ]
        }
      ]
    },
    {
      "cell_type": "markdown",
      "metadata": {
        "id": "vI-oVvbHqnsJ"
      },
      "source": [
        "#6"
      ]
    },
    {
      "cell_type": "code",
      "metadata": {
        "colab": {
          "base_uri": "https://localhost:8080/"
        },
        "id": "CZdI_3sYqenk",
        "outputId": "d38b4ec5-5c39-4d1c-bebe-abf88e04bc4e",
        "executionInfo": {
          "status": "ok",
          "timestamp": 1688389041084,
          "user_tz": -540,
          "elapsed": 1314,
          "user": {
            "displayName": "Jason Book Yim",
            "userId": "02824935638305274154"
          }
        }
      },
      "source": [
        "# train_test_split 결과를 고정하기 위해 random_state 지정\n",
        "from sklearn.model_selection import train_test_split\n",
        "train_texts, val_texts, train_labels, val_labels = train_test_split(train_texts, train_labels, test_size=.2,\n",
        "                                                                    random_state=3)\n",
        "print(len(train_texts))\n",
        "print(len(train_labels))\n",
        "print(len(val_texts))\n",
        "print(len(val_labels))\n"
      ],
      "execution_count": 4,
      "outputs": [
        {
          "output_type": "stream",
          "name": "stdout",
          "text": [
            "800\n",
            "800\n",
            "200\n",
            "200\n"
          ]
        }
      ]
    },
    {
      "cell_type": "markdown",
      "metadata": {
        "id": "wYX5Y8N3sP8E"
      },
      "source": [
        "#7"
      ]
    },
    {
      "cell_type": "code",
      "metadata": {
        "colab": {
          "base_uri": "https://localhost:8080/"
        },
        "id": "EfPWW6r0spCo",
        "outputId": "b167a0d0-f6a7-4bcb-ec9e-23011a4a3002"
      },
      "source": [
        "# 코랩 런타임이 끊어지는 경우만 다시 실행\n",
        "!pip install transformers"
      ],
      "execution_count": null,
      "outputs": [
        {
          "output_type": "stream",
          "name": "stdout",
          "text": [
            "Looking in indexes: https://pypi.org/simple, https://us-python.pkg.dev/colab-wheels/public/simple/\n",
            "Requirement already satisfied: transformers in /usr/local/lib/python3.7/dist-packages (4.6.1)\n",
            "Requirement already satisfied: packaging in /usr/local/lib/python3.7/dist-packages (from transformers) (21.3)\n",
            "Requirement already satisfied: sacremoses in /usr/local/lib/python3.7/dist-packages (from transformers) (0.0.53)\n",
            "Requirement already satisfied: filelock in /usr/local/lib/python3.7/dist-packages (from transformers) (3.8.0)\n",
            "Requirement already satisfied: tokenizers<0.11,>=0.10.1 in /usr/local/lib/python3.7/dist-packages (from transformers) (0.10.3)\n",
            "Requirement already satisfied: regex!=2019.12.17 in /usr/local/lib/python3.7/dist-packages (from transformers) (2022.6.2)\n",
            "Requirement already satisfied: importlib-metadata in /usr/local/lib/python3.7/dist-packages (from transformers) (4.13.0)\n",
            "Requirement already satisfied: numpy>=1.17 in /usr/local/lib/python3.7/dist-packages (from transformers) (1.21.6)\n",
            "Requirement already satisfied: huggingface-hub==0.0.8 in /usr/local/lib/python3.7/dist-packages (from transformers) (0.0.8)\n",
            "Requirement already satisfied: requests in /usr/local/lib/python3.7/dist-packages (from transformers) (2.23.0)\n",
            "Requirement already satisfied: tqdm>=4.27 in /usr/local/lib/python3.7/dist-packages (from transformers) (4.64.1)\n",
            "Requirement already satisfied: typing-extensions>=3.6.4 in /usr/local/lib/python3.7/dist-packages (from importlib-metadata->transformers) (4.1.1)\n",
            "Requirement already satisfied: zipp>=0.5 in /usr/local/lib/python3.7/dist-packages (from importlib-metadata->transformers) (3.10.0)\n",
            "Requirement already satisfied: pyparsing!=3.0.5,>=2.0.2 in /usr/local/lib/python3.7/dist-packages (from packaging->transformers) (3.0.9)\n",
            "Requirement already satisfied: idna<3,>=2.5 in /usr/local/lib/python3.7/dist-packages (from requests->transformers) (2.10)\n",
            "Requirement already satisfied: urllib3!=1.25.0,!=1.25.1,<1.26,>=1.21.1 in /usr/local/lib/python3.7/dist-packages (from requests->transformers) (1.24.3)\n",
            "Requirement already satisfied: certifi>=2017.4.17 in /usr/local/lib/python3.7/dist-packages (from requests->transformers) (2022.9.24)\n",
            "Requirement already satisfied: chardet<4,>=3.0.2 in /usr/local/lib/python3.7/dist-packages (from requests->transformers) (3.0.4)\n",
            "Requirement already satisfied: click in /usr/local/lib/python3.7/dist-packages (from sacremoses->transformers) (7.1.2)\n",
            "Requirement already satisfied: joblib in /usr/local/lib/python3.7/dist-packages (from sacremoses->transformers) (1.2.0)\n",
            "Requirement already satisfied: six in /usr/local/lib/python3.7/dist-packages (from sacremoses->transformers) (1.15.0)\n"
          ]
        }
      ]
    },
    {
      "cell_type": "code",
      "metadata": {
        "id": "jOubvV7KrS6M",
        "colab": {
          "base_uri": "https://localhost:8080/",
          "height": 145,
          "referenced_widgets": [
            "b058e9e5701441619c8a2e2c35032287",
            "27caaa4edbc64d19af008b18454dfdca",
            "2b2b461258b14fbeb4f8b6062baa278c",
            "5f7527a630864c77948c3ba20fe1274d",
            "54c0fd9fbbec4db7b902b052cad76e45",
            "a40425538b754488be1cef9507ce7320",
            "8a996fa1d0ce47dd91d23fc0e6c24dec",
            "56f8016757df4ad491af935d7cf72638",
            "35902fc2bf7a4982b334331147c71012",
            "6f837af8233c4619bc4f05b1ff117ca1",
            "7875eaf5b88a4cb49cc0c14f5980893d",
            "33c62ed4553b453c9362c1dc1b3127ea",
            "be73786e717e4935a7a04e6aab684ceb",
            "6110461f92b641f1a6ad6e9338e36d0d",
            "3153f27b961245a3b2c0944e2a9ca775",
            "25601c341667483c90990fc5326e8376",
            "f086e91e443742fa810d31bd3141a26a",
            "2230bf760082451cbe74bd83b8deb2b8",
            "30e1fccd48c5425e946fdfc116a739ee",
            "9654039e004c469fa588d5bda1053e43",
            "c41749c558714d49b8cefc765b012541",
            "5207fc4fbecd41c19def8d76c82160d1",
            "7c090c4dad9f468db1eff6efdfdc5613",
            "4288e74655694d9aacd0c04adfb782ec",
            "8066eb6c91e34a1485f52ef0832827e8",
            "f9dbeb275fba4f1fb8c41958717424b2",
            "b29e689c7a7c43ff9de3decdbd96e9b9",
            "1359143eb7994002bcfa0fa6f78b6ade",
            "29d821fed94448b0b48832f5b7575ab7",
            "04e43c5c1d704af3ad4ba362f4d9c327",
            "9582ff04b28347b08517bd536fd2d524",
            "6929010b5a0948a599ceac91f6527bd8",
            "c6167a655aa644ccb5c32f305c2786d9",
            "5512c12737084cb09facc3beb3c73f91",
            "e1e12a6fa6634a0991cd481f14e60f8b",
            "7cf47eab3b104d90b65f3567bbc90334",
            "530d70deac0b49469a6161374c09a26a",
            "e8f6bcbfbd2a486680f97a32607243f6",
            "cc320f5e69a94e829de0fd71bdf4261d",
            "4514e959c21e47829b78f49085f9ac4a",
            "8eb6458b96cb4b3aa884f9b256ad6ece",
            "dfd3f1d02a0c436a8aec7dea1d095887",
            "9036f4745e72451d890dfead7752e6d5",
            "07892d348464423295d7716d702ef89c"
          ]
        },
        "executionInfo": {
          "status": "ok",
          "timestamp": 1688389058756,
          "user_tz": -540,
          "elapsed": 4331,
          "user": {
            "displayName": "Jason Book Yim",
            "userId": "02824935638305274154"
          }
        },
        "outputId": "1765864a-6942-4adc-a38b-0be0365eaac9"
      },
      "source": [
        "# distilbert-base-uncased 모델에서 토크나이저 불러오기\n",
        "from transformers import DistilBertTokenizerFast\n",
        "tokenizer = DistilBertTokenizerFast.from_pretrained('distilbert-base-uncased')"
      ],
      "execution_count": 5,
      "outputs": [
        {
          "output_type": "display_data",
          "data": {
            "text/plain": [
              "Downloading (…)okenizer_config.json:   0%|          | 0.00/28.0 [00:00<?, ?B/s]"
            ],
            "application/vnd.jupyter.widget-view+json": {
              "version_major": 2,
              "version_minor": 0,
              "model_id": "b058e9e5701441619c8a2e2c35032287"
            }
          },
          "metadata": {}
        },
        {
          "output_type": "display_data",
          "data": {
            "text/plain": [
              "Downloading (…)solve/main/vocab.txt:   0%|          | 0.00/232k [00:00<?, ?B/s]"
            ],
            "application/vnd.jupyter.widget-view+json": {
              "version_major": 2,
              "version_minor": 0,
              "model_id": "33c62ed4553b453c9362c1dc1b3127ea"
            }
          },
          "metadata": {}
        },
        {
          "output_type": "display_data",
          "data": {
            "text/plain": [
              "Downloading (…)/main/tokenizer.json:   0%|          | 0.00/466k [00:00<?, ?B/s]"
            ],
            "application/vnd.jupyter.widget-view+json": {
              "version_major": 2,
              "version_minor": 0,
              "model_id": "7c090c4dad9f468db1eff6efdfdc5613"
            }
          },
          "metadata": {}
        },
        {
          "output_type": "display_data",
          "data": {
            "text/plain": [
              "Downloading (…)lve/main/config.json:   0%|          | 0.00/483 [00:00<?, ?B/s]"
            ],
            "application/vnd.jupyter.widget-view+json": {
              "version_major": 2,
              "version_minor": 0,
              "model_id": "5512c12737084cb09facc3beb3c73f91"
            }
          },
          "metadata": {}
        }
      ]
    },
    {
      "cell_type": "code",
      "metadata": {
        "colab": {
          "base_uri": "https://localhost:8080/"
        },
        "id": "jf5qRIT_sRTy",
        "outputId": "10a940ac-a63d-4def-dd48-19b252a9fb1b",
        "executionInfo": {
          "status": "ok",
          "timestamp": 1688389068783,
          "user_tz": -540,
          "elapsed": 5430,
          "user": {
            "displayName": "Jason Book Yim",
            "userId": "02824935638305274154"
          }
        }
      },
      "source": [
        "# 토크나이징을 통한 인코딩\n",
        "train_encodings = tokenizer(train_texts, truncation=True, padding=True)\n",
        "val_encodings = tokenizer(val_texts, truncation=True, padding=True)\n",
        "test_encodings = tokenizer(test_texts, truncation=True, padding=True)\n",
        "\n",
        "# # 0번째 입력문(텍스트)의 5번째 토큰까지의 input_ids 출력\n",
        "print(train_encodings[\"input_ids\"][0][:5])\n",
        "\n",
        "# 위의 결과를 디코딩하여 출력\n",
        "print(tokenizer.decode(train_encodings[\"input_ids\"][0][:5]))\n"
      ],
      "execution_count": 6,
      "outputs": [
        {
          "output_type": "stream",
          "name": "stdout",
          "text": [
            "[101, 4937, 11350, 2038, 2048]\n",
            "[CLS] cat soup has two\n"
          ]
        }
      ]
    },
    {
      "cell_type": "markdown",
      "metadata": {
        "id": "rkVqd-SnuRLs"
      },
      "source": [
        "# 8"
      ]
    },
    {
      "cell_type": "code",
      "metadata": {
        "id": "YcxaZW55uIfq",
        "executionInfo": {
          "status": "ok",
          "timestamp": 1688389082052,
          "user_tz": -540,
          "elapsed": 467,
          "user": {
            "displayName": "Jason Book Yim",
            "userId": "02824935638305274154"
          }
        }
      },
      "source": [
        "import torch\n",
        "\n",
        "# Dataset 클래스를 상속하는 IMDBDataset 클래스를 정의\n",
        "class IMDbDataset(torch.utils.data.Dataset):\n",
        "\n",
        "    # 생성자 __init__()\n",
        "    # 자신을 가르키는 매개변수 self 포함\n",
        "    # 변수를 저장하기 위해 self.변수명을 사용\n",
        "    def __init__(self, encodings, labels):\n",
        "        self.encodings = encodings\n",
        "        self.labels = labels\n",
        "\n",
        "    # 자신을 가르키는 매개변수 self 포함\n",
        "    def __getitem__(self, idx):\n",
        "        # self.encoding에 담긴 키(key)와 키값(value)을 items()로 추출\n",
        "        # 이 값을 key와 val 변수에 담아 새로운 키(key)와 키값(torch.tensor(val[idx]))를 갖는 딕셔너리 생성\n",
        "        # 딕셔너리는 {\"key1:value1\", \"key2:value2\", ,,,} 형태를 지닌 파이썬 데이터 구조\n",
        "        # val[idx]에 담긴 데이터를 torch.tensor()를 통해 파이토치 텐서로 변환\n",
        "        item = {key: torch.tensor(val[idx]) for key, val in self.encodings.items()}\n",
        "\n",
        "        # self.lables[idx]에 담긴 데이터를 torch.tensor()를 통해 파이토치 텐서 변환\n",
        "        item['labels'] = torch.tensor(self.labels[idx])\n",
        "        return item\n",
        "\n",
        "    # 자신을 가르키는 매개변수 self 포함\n",
        "    def __len__(self):\n",
        "        return len(self.labels)\n",
        "\n",
        "train_dataset = IMDbDataset(train_encodings, train_labels)\n",
        "val_dataset = IMDbDataset(val_encodings, val_labels)\n",
        "test_dataset = IMDbDataset(test_encodings, test_labels)\n"
      ],
      "execution_count": 7,
      "outputs": []
    },
    {
      "cell_type": "code",
      "metadata": {
        "colab": {
          "base_uri": "https://localhost:8080/"
        },
        "id": "5d6I2BH6uL44",
        "outputId": "93186b60-a6cb-4806-e16f-0f135e2722a2",
        "executionInfo": {
          "status": "ok",
          "timestamp": 1688389087047,
          "user_tz": -540,
          "elapsed": 651,
          "user": {
            "displayName": "Jason Book Yim",
            "userId": "02824935638305274154"
          }
        }
      },
      "source": [
        "for i in train_dataset:\n",
        "  print(i)\n",
        "  break\n"
      ],
      "execution_count": 8,
      "outputs": [
        {
          "output_type": "stream",
          "name": "stdout",
          "text": [
            "{'input_ids': tensor([  101,  4937, 11350,  2038,  2048,  1000,  7592, 14433,  1000,  1011,\n",
            "         2828, 18401,  2015, 28866,  2075,  2006,  1037, 13576,  4440,  2083,\n",
            "         1996, 25115,  1010,  2073,  2505,  2064,  4148,  1010,  1998,  2515,\n",
            "         1012,  2023,  2568,  1011,  4440,  4691,  4004,  2460,  3594,  2053,\n",
            "        13764,  8649,  1010,  4942, 21532,  2773, 22163,  2612,  1012,  2045,\n",
            "         2003,  2053,  2126,  1997,  7851,  2023, 17183, 14088,  9476,  3272,\n",
            "         2000,  2425,  2017,  2000,  2156,  2009,  2005,  4426,  1012,  1998,\n",
            "         2191,  2469,  2053,  2028,  2104,  2184,  2003,  1999,  1996,  2282,\n",
            "         1012,  4487,  6491,  6633,  5677,  3672,  1998,  2064,  3490, 10264,\n",
            "         2964,  1998, 18186,  1998,  9576,  2854,  1998,  5573,  2331,  1998,\n",
            "         2655,  3560, 27770,  2005,  2500,  2024,  2691,  6991,  1012,  7481,\n",
            "         1012,  3383,  1996,  2087, 13432,  3746,  2003,  2008,  1997,  2019,\n",
            "        10777,  3605,  1997,  2300,  2008,  1996,  8934,  7368,  9880,  2083,\n",
            "         1998,  1999,  1010,  1998,  2036,  4536,  1012,  2021,  2066,  8134,\n",
            "         2673,  2842,  1999,  2023,  2143,  1010,  2008, 10021,  1010, 27263,\n",
            "        17933,  4226, 25347,  2574,  3310,  2000,  1037,  9202,  2203,  1012,\n",
            "          102,     0,     0,     0,     0,     0,     0,     0,     0,     0,\n",
            "            0,     0,     0,     0,     0,     0,     0,     0,     0,     0,\n",
            "            0,     0,     0,     0,     0,     0,     0,     0,     0,     0,\n",
            "            0,     0,     0,     0,     0,     0,     0,     0,     0,     0,\n",
            "            0,     0,     0,     0,     0,     0,     0,     0,     0,     0,\n",
            "            0,     0,     0,     0,     0,     0,     0,     0,     0,     0,\n",
            "            0,     0,     0,     0,     0,     0,     0,     0,     0,     0,\n",
            "            0,     0,     0,     0,     0,     0,     0,     0,     0,     0,\n",
            "            0,     0,     0,     0,     0,     0,     0,     0,     0,     0,\n",
            "            0,     0,     0,     0,     0,     0,     0,     0,     0,     0,\n",
            "            0,     0,     0,     0,     0,     0,     0,     0,     0,     0,\n",
            "            0,     0,     0,     0,     0,     0,     0,     0,     0,     0,\n",
            "            0,     0,     0,     0,     0,     0,     0,     0,     0,     0,\n",
            "            0,     0,     0,     0,     0,     0,     0,     0,     0,     0,\n",
            "            0,     0,     0,     0,     0,     0,     0,     0,     0,     0,\n",
            "            0,     0,     0,     0,     0,     0,     0,     0,     0,     0,\n",
            "            0,     0,     0,     0,     0,     0,     0,     0,     0,     0,\n",
            "            0,     0,     0,     0,     0,     0,     0,     0,     0,     0,\n",
            "            0,     0,     0,     0,     0,     0,     0,     0,     0,     0,\n",
            "            0,     0,     0,     0,     0,     0,     0,     0,     0,     0,\n",
            "            0,     0,     0,     0,     0,     0,     0,     0,     0,     0,\n",
            "            0,     0,     0,     0,     0,     0,     0,     0,     0,     0,\n",
            "            0,     0,     0,     0,     0,     0,     0,     0,     0,     0,\n",
            "            0,     0,     0,     0,     0,     0,     0,     0,     0,     0,\n",
            "            0,     0,     0,     0,     0,     0,     0,     0,     0,     0,\n",
            "            0,     0,     0,     0,     0,     0,     0,     0,     0,     0,\n",
            "            0,     0,     0,     0,     0,     0,     0,     0,     0,     0,\n",
            "            0,     0,     0,     0,     0,     0,     0,     0,     0,     0,\n",
            "            0,     0,     0,     0,     0,     0,     0,     0,     0,     0,\n",
            "            0,     0,     0,     0,     0,     0,     0,     0,     0,     0,\n",
            "            0,     0,     0,     0,     0,     0,     0,     0,     0,     0,\n",
            "            0,     0,     0,     0,     0,     0,     0,     0,     0,     0,\n",
            "            0,     0,     0,     0,     0,     0,     0,     0,     0,     0,\n",
            "            0,     0,     0,     0,     0,     0,     0,     0,     0,     0,\n",
            "            0,     0,     0,     0,     0,     0,     0,     0,     0,     0,\n",
            "            0,     0]), 'attention_mask': tensor([1, 1, 1, 1, 1, 1, 1, 1, 1, 1, 1, 1, 1, 1, 1, 1, 1, 1, 1, 1, 1, 1, 1, 1,\n",
            "        1, 1, 1, 1, 1, 1, 1, 1, 1, 1, 1, 1, 1, 1, 1, 1, 1, 1, 1, 1, 1, 1, 1, 1,\n",
            "        1, 1, 1, 1, 1, 1, 1, 1, 1, 1, 1, 1, 1, 1, 1, 1, 1, 1, 1, 1, 1, 1, 1, 1,\n",
            "        1, 1, 1, 1, 1, 1, 1, 1, 1, 1, 1, 1, 1, 1, 1, 1, 1, 1, 1, 1, 1, 1, 1, 1,\n",
            "        1, 1, 1, 1, 1, 1, 1, 1, 1, 1, 1, 1, 1, 1, 1, 1, 1, 1, 1, 1, 1, 1, 1, 1,\n",
            "        1, 1, 1, 1, 1, 1, 1, 1, 1, 1, 1, 1, 1, 1, 1, 1, 1, 1, 1, 1, 1, 1, 1, 1,\n",
            "        1, 1, 1, 1, 1, 1, 1, 1, 1, 1, 1, 1, 1, 1, 1, 1, 1, 0, 0, 0, 0, 0, 0, 0,\n",
            "        0, 0, 0, 0, 0, 0, 0, 0, 0, 0, 0, 0, 0, 0, 0, 0, 0, 0, 0, 0, 0, 0, 0, 0,\n",
            "        0, 0, 0, 0, 0, 0, 0, 0, 0, 0, 0, 0, 0, 0, 0, 0, 0, 0, 0, 0, 0, 0, 0, 0,\n",
            "        0, 0, 0, 0, 0, 0, 0, 0, 0, 0, 0, 0, 0, 0, 0, 0, 0, 0, 0, 0, 0, 0, 0, 0,\n",
            "        0, 0, 0, 0, 0, 0, 0, 0, 0, 0, 0, 0, 0, 0, 0, 0, 0, 0, 0, 0, 0, 0, 0, 0,\n",
            "        0, 0, 0, 0, 0, 0, 0, 0, 0, 0, 0, 0, 0, 0, 0, 0, 0, 0, 0, 0, 0, 0, 0, 0,\n",
            "        0, 0, 0, 0, 0, 0, 0, 0, 0, 0, 0, 0, 0, 0, 0, 0, 0, 0, 0, 0, 0, 0, 0, 0,\n",
            "        0, 0, 0, 0, 0, 0, 0, 0, 0, 0, 0, 0, 0, 0, 0, 0, 0, 0, 0, 0, 0, 0, 0, 0,\n",
            "        0, 0, 0, 0, 0, 0, 0, 0, 0, 0, 0, 0, 0, 0, 0, 0, 0, 0, 0, 0, 0, 0, 0, 0,\n",
            "        0, 0, 0, 0, 0, 0, 0, 0, 0, 0, 0, 0, 0, 0, 0, 0, 0, 0, 0, 0, 0, 0, 0, 0,\n",
            "        0, 0, 0, 0, 0, 0, 0, 0, 0, 0, 0, 0, 0, 0, 0, 0, 0, 0, 0, 0, 0, 0, 0, 0,\n",
            "        0, 0, 0, 0, 0, 0, 0, 0, 0, 0, 0, 0, 0, 0, 0, 0, 0, 0, 0, 0, 0, 0, 0, 0,\n",
            "        0, 0, 0, 0, 0, 0, 0, 0, 0, 0, 0, 0, 0, 0, 0, 0, 0, 0, 0, 0, 0, 0, 0, 0,\n",
            "        0, 0, 0, 0, 0, 0, 0, 0, 0, 0, 0, 0, 0, 0, 0, 0, 0, 0, 0, 0, 0, 0, 0, 0,\n",
            "        0, 0, 0, 0, 0, 0, 0, 0, 0, 0, 0, 0, 0, 0, 0, 0, 0, 0, 0, 0, 0, 0, 0, 0,\n",
            "        0, 0, 0, 0, 0, 0, 0, 0]), 'labels': tensor(1)}\n"
          ]
        }
      ]
    },
    {
      "cell_type": "markdown",
      "metadata": {
        "id": "lkh3iDYov1BN"
      },
      "source": [
        "# 9"
      ]
    },
    {
      "cell_type": "code",
      "metadata": {
        "colab": {
          "base_uri": "https://localhost:8080/",
          "height": 772,
          "referenced_widgets": [
            "7c72228d377e49109ec365da349590a7",
            "625fde8bc0c84ee0a68c1723e635ebd6",
            "a21846add77441bb96b83986c7ab5b9f",
            "117cd1d4ac2741da829ffa0d6795e119",
            "f755cba383f4408b8cfb99b25c549744",
            "137e8ea93155426b949fca7a7ffd14bf",
            "da112e323fc34be68e209883bc581755",
            "71f78a1041844a6796c684b463700da6",
            "00867ea503954b5891f7cf1732551d1a",
            "6ad9a2e81d154c89a331176d1885bf69",
            "8fe5cbb71a6b49c89a5ca04114cfd438"
          ]
        },
        "id": "kuhEVabiuSWS",
        "outputId": "26f5345f-a781-49cd-8214-5128b11a1ca6",
        "executionInfo": {
          "status": "ok",
          "timestamp": 1688389115429,
          "user_tz": -540,
          "elapsed": 3598,
          "user": {
            "displayName": "Jason Book Yim",
            "userId": "02824935638305274154"
          }
        }
      },
      "source": [
        "from transformers import DistilBertForSequenceClassification\n",
        "\n",
        "# distilbert 모델 불러오기\n",
        "model = DistilBertForSequenceClassification.from_pretrained(\"distilbert-base-uncased\")\n",
        "model\n"
      ],
      "execution_count": 9,
      "outputs": [
        {
          "output_type": "display_data",
          "data": {
            "text/plain": [
              "Downloading model.safetensors:   0%|          | 0.00/268M [00:00<?, ?B/s]"
            ],
            "application/vnd.jupyter.widget-view+json": {
              "version_major": 2,
              "version_minor": 0,
              "model_id": "7c72228d377e49109ec365da349590a7"
            }
          },
          "metadata": {}
        },
        {
          "output_type": "stream",
          "name": "stderr",
          "text": [
            "Some weights of the model checkpoint at distilbert-base-uncased were not used when initializing DistilBertForSequenceClassification: ['vocab_transform.weight', 'vocab_transform.bias', 'vocab_layer_norm.bias', 'vocab_projector.bias', 'vocab_layer_norm.weight']\n",
            "- This IS expected if you are initializing DistilBertForSequenceClassification from the checkpoint of a model trained on another task or with another architecture (e.g. initializing a BertForSequenceClassification model from a BertForPreTraining model).\n",
            "- This IS NOT expected if you are initializing DistilBertForSequenceClassification from the checkpoint of a model that you expect to be exactly identical (initializing a BertForSequenceClassification model from a BertForSequenceClassification model).\n",
            "Some weights of DistilBertForSequenceClassification were not initialized from the model checkpoint at distilbert-base-uncased and are newly initialized: ['classifier.bias', 'classifier.weight', 'pre_classifier.weight', 'pre_classifier.bias']\n",
            "You should probably TRAIN this model on a down-stream task to be able to use it for predictions and inference.\n"
          ]
        },
        {
          "output_type": "execute_result",
          "data": {
            "text/plain": [
              "DistilBertForSequenceClassification(\n",
              "  (distilbert): DistilBertModel(\n",
              "    (embeddings): Embeddings(\n",
              "      (word_embeddings): Embedding(30522, 768, padding_idx=0)\n",
              "      (position_embeddings): Embedding(512, 768)\n",
              "      (LayerNorm): LayerNorm((768,), eps=1e-12, elementwise_affine=True)\n",
              "      (dropout): Dropout(p=0.1, inplace=False)\n",
              "    )\n",
              "    (transformer): Transformer(\n",
              "      (layer): ModuleList(\n",
              "        (0-5): 6 x TransformerBlock(\n",
              "          (attention): MultiHeadSelfAttention(\n",
              "            (dropout): Dropout(p=0.1, inplace=False)\n",
              "            (q_lin): Linear(in_features=768, out_features=768, bias=True)\n",
              "            (k_lin): Linear(in_features=768, out_features=768, bias=True)\n",
              "            (v_lin): Linear(in_features=768, out_features=768, bias=True)\n",
              "            (out_lin): Linear(in_features=768, out_features=768, bias=True)\n",
              "          )\n",
              "          (sa_layer_norm): LayerNorm((768,), eps=1e-12, elementwise_affine=True)\n",
              "          (ffn): FFN(\n",
              "            (dropout): Dropout(p=0.1, inplace=False)\n",
              "            (lin1): Linear(in_features=768, out_features=3072, bias=True)\n",
              "            (lin2): Linear(in_features=3072, out_features=768, bias=True)\n",
              "            (activation): GELUActivation()\n",
              "          )\n",
              "          (output_layer_norm): LayerNorm((768,), eps=1e-12, elementwise_affine=True)\n",
              "        )\n",
              "      )\n",
              "    )\n",
              "  )\n",
              "  (pre_classifier): Linear(in_features=768, out_features=768, bias=True)\n",
              "  (classifier): Linear(in_features=768, out_features=2, bias=True)\n",
              "  (dropout): Dropout(p=0.2, inplace=False)\n",
              ")"
            ]
          },
          "metadata": {},
          "execution_count": 9
        }
      ]
    },
    {
      "cell_type": "markdown",
      "metadata": {
        "id": "ccLYNFe4wqsZ"
      },
      "source": [
        "#10"
      ]
    },
    {
      "cell_type": "code",
      "metadata": {
        "id": "6HX0JDZgwrqL",
        "executionInfo": {
          "status": "ok",
          "timestamp": 1688389127210,
          "user_tz": -540,
          "elapsed": 2,
          "user": {
            "displayName": "Jason Book Yim",
            "userId": "02824935638305274154"
          }
        }
      },
      "source": [
        "from transformers import TrainingArguments\n",
        "\n",
        "training_args = TrainingArguments(\n",
        "    output_dir='./results',          # 출력 디렉토리 경로\n",
        "    num_train_epochs=8,              # 학습 에포크 수\n",
        "    per_device_train_batch_size=16,  # 학습시 (디바이스 별) 미니 배치 수\n",
        "    per_device_eval_batch_size=64,   # 평가시 (디바이스 별) 미니 배치 수\n",
        "    warmup_steps=500,                # 학습률 스케줄링용 웜업 스텝 수\n",
        "\n",
        "    weight_decay=0.01,               # 가중치 감쇄 강도\n",
        "    logging_dir='./logs',            # 로그 디렉토리 경로\n",
        "    logging_steps=10,\n",
        ")\n"
      ],
      "execution_count": 10,
      "outputs": []
    },
    {
      "cell_type": "markdown",
      "metadata": {
        "id": "JeaU0GLuwmxB"
      },
      "source": [
        "# 11"
      ]
    },
    {
      "cell_type": "code",
      "metadata": {
        "id": "qvICG7agwu40",
        "executionInfo": {
          "status": "ok",
          "timestamp": 1688389189812,
          "user_tz": -540,
          "elapsed": 10435,
          "user": {
            "displayName": "Jason Book Yim",
            "userId": "02824935638305274154"
          }
        }
      },
      "source": [
        "import torch\n",
        "\n",
        "# GPU 사용이 가능한 경우 텐서 타입 데이터를 GPU로 전달\n",
        "device = torch.device('cuda' if torch.cuda.is_available() else 'cpu')\n",
        "model = model.to(device)\n"
      ],
      "execution_count": 11,
      "outputs": []
    },
    {
      "cell_type": "code",
      "metadata": {
        "colab": {
          "base_uri": "https://localhost:8080/"
        },
        "id": "RG__DY_Nv15q",
        "outputId": "581e17e1-b109-42e0-85ee-5ec777f6c052",
        "executionInfo": {
          "status": "ok",
          "timestamp": 1688389195058,
          "user_tz": -540,
          "elapsed": 481,
          "user": {
            "displayName": "Jason Book Yim",
            "userId": "02824935638305274154"
          }
        }
      },
      "source": [
        "!nvidia-smi"
      ],
      "execution_count": 12,
      "outputs": [
        {
          "output_type": "stream",
          "name": "stdout",
          "text": [
            "Mon Jul  3 12:59:54 2023       \n",
            "+-----------------------------------------------------------------------------+\n",
            "| NVIDIA-SMI 525.85.12    Driver Version: 525.85.12    CUDA Version: 12.0     |\n",
            "|-------------------------------+----------------------+----------------------+\n",
            "| GPU  Name        Persistence-M| Bus-Id        Disp.A | Volatile Uncorr. ECC |\n",
            "| Fan  Temp  Perf  Pwr:Usage/Cap|         Memory-Usage | GPU-Util  Compute M. |\n",
            "|                               |                      |               MIG M. |\n",
            "|===============================+======================+======================|\n",
            "|   0  Tesla T4            Off  | 00000000:00:04.0 Off |                    0 |\n",
            "| N/A   41C    P0    25W /  70W |   1173MiB / 15360MiB |      0%      Default |\n",
            "|                               |                      |                  N/A |\n",
            "+-------------------------------+----------------------+----------------------+\n",
            "                                                                               \n",
            "+-----------------------------------------------------------------------------+\n",
            "| Processes:                                                                  |\n",
            "|  GPU   GI   CI        PID   Type   Process name                  GPU Memory |\n",
            "|        ID   ID                                                   Usage      |\n",
            "|=============================================================================|\n",
            "+-----------------------------------------------------------------------------+\n"
          ]
        }
      ]
    },
    {
      "cell_type": "markdown",
      "metadata": {
        "id": "MgV_zaxRj6wA"
      },
      "source": [
        "# 12"
      ]
    },
    {
      "cell_type": "code",
      "source": [
        "# 파인튜닝 이전에 세 입력 문장 극성 판별\n",
        "# 이는 한국어판을 취해 추가된 코드임\n",
        "input_tokens = tokenizer([\"I feel fantastic\", \"My life is going something wrong\", \"I have not figured out what the chosen title has to do with the movie.\"], truncation=True, padding=True)\n",
        "\n",
        "# 입력 문장 토크나이징 결과(input_tokens)에 담긴 input_ids를 모델에 투입\n",
        "# 그리고 모델 출력 결과를 GPU로 전송하며 값은 변수 outputs에 저장\n",
        "outputs = model(torch.tensor(input_tokens['input_ids']).to(device))\n",
        "\n",
        "# 레이블 딕셔너리 생성\n",
        "label_dict = {1:'positive', 0:'negative'}\n",
        "\n",
        "# outputs 변수에 담긴 logits 값을 행 단위, 즉 입력 문장 단위로 가장 큰 값 위치(인덱스) 추출\n",
        "# 그 결과값(인덱스)을 cpu로 넘기고 넘파이 타입으로 변경 후, 인덱스에 매칭되는 레이블 출력\n",
        "print([label_dict[i] for i in torch.argmax(outputs['logits'], axis=1).cpu().numpy()])"
      ],
      "metadata": {
        "colab": {
          "base_uri": "https://localhost:8080/"
        },
        "id": "ZuzKahA6UE_5",
        "outputId": "aea6ba59-712b-4d58-e49c-b44984ca27ba",
        "executionInfo": {
          "status": "ok",
          "timestamp": 1688389211877,
          "user_tz": -540,
          "elapsed": 3381,
          "user": {
            "displayName": "Jason Book Yim",
            "userId": "02824935638305274154"
          }
        }
      },
      "execution_count": 13,
      "outputs": [
        {
          "output_type": "stream",
          "name": "stdout",
          "text": [
            "['positive', 'positive', 'negative']\n"
          ]
        }
      ]
    },
    {
      "cell_type": "code",
      "metadata": {
        "colab": {
          "base_uri": "https://localhost:8080/",
          "height": 1000
        },
        "id": "l-I-IUHIwks-",
        "outputId": "e2fa4273-51d9-40d0-89dd-9a7dfecbe17a",
        "executionInfo": {
          "status": "ok",
          "timestamp": 1688389497261,
          "user_tz": -540,
          "elapsed": 278004,
          "user": {
            "displayName": "Jason Book Yim",
            "userId": "02824935638305274154"
          }
        }
      },
      "source": [
        "# 런타임 약 4 혹은 5분 소요\n",
        "# 딥러닝 모델의 특성상 결과가 매번 약간 다르게 나올 수 있슴\n",
        "from transformers import Trainer\n",
        "trainer = Trainer(\n",
        "    model=model,                      # 사전학습 모델 인스턴스화\n",
        "    args=training_args,               # TrainingArguments에 정의한 하이퍼 파라미터값 가져오기\n",
        "    train_dataset=train_dataset,      # 학습 데이터세트\n",
        "    eval_dataset=val_dataset          # evaluation 데이터세트\n",
        ")\n",
        "\n",
        "trainer.train()\n"
      ],
      "execution_count": 14,
      "outputs": [
        {
          "output_type": "stream",
          "name": "stderr",
          "text": [
            "/usr/local/lib/python3.10/dist-packages/transformers/optimization.py:411: FutureWarning: This implementation of AdamW is deprecated and will be removed in a future version. Use the PyTorch implementation torch.optim.AdamW instead, or set `no_deprecation_warning=True` to disable this warning\n",
            "  warnings.warn(\n"
          ]
        },
        {
          "output_type": "display_data",
          "data": {
            "text/plain": [
              "<IPython.core.display.HTML object>"
            ],
            "text/html": [
              "\n",
              "    <div>\n",
              "      \n",
              "      <progress value='400' max='400' style='width:300px; height:20px; vertical-align: middle;'></progress>\n",
              "      [400/400 04:36, Epoch 8/8]\n",
              "    </div>\n",
              "    <table border=\"1\" class=\"dataframe\">\n",
              "  <thead>\n",
              " <tr style=\"text-align: left;\">\n",
              "      <th>Step</th>\n",
              "      <th>Training Loss</th>\n",
              "    </tr>\n",
              "  </thead>\n",
              "  <tbody>\n",
              "    <tr>\n",
              "      <td>10</td>\n",
              "      <td>0.691700</td>\n",
              "    </tr>\n",
              "    <tr>\n",
              "      <td>20</td>\n",
              "      <td>0.688800</td>\n",
              "    </tr>\n",
              "    <tr>\n",
              "      <td>30</td>\n",
              "      <td>0.696100</td>\n",
              "    </tr>\n",
              "    <tr>\n",
              "      <td>40</td>\n",
              "      <td>0.687800</td>\n",
              "    </tr>\n",
              "    <tr>\n",
              "      <td>50</td>\n",
              "      <td>0.687900</td>\n",
              "    </tr>\n",
              "    <tr>\n",
              "      <td>60</td>\n",
              "      <td>0.682800</td>\n",
              "    </tr>\n",
              "    <tr>\n",
              "      <td>70</td>\n",
              "      <td>0.673500</td>\n",
              "    </tr>\n",
              "    <tr>\n",
              "      <td>80</td>\n",
              "      <td>0.668700</td>\n",
              "    </tr>\n",
              "    <tr>\n",
              "      <td>90</td>\n",
              "      <td>0.632500</td>\n",
              "    </tr>\n",
              "    <tr>\n",
              "      <td>100</td>\n",
              "      <td>0.603500</td>\n",
              "    </tr>\n",
              "    <tr>\n",
              "      <td>110</td>\n",
              "      <td>0.497200</td>\n",
              "    </tr>\n",
              "    <tr>\n",
              "      <td>120</td>\n",
              "      <td>0.434100</td>\n",
              "    </tr>\n",
              "    <tr>\n",
              "      <td>130</td>\n",
              "      <td>0.358100</td>\n",
              "    </tr>\n",
              "    <tr>\n",
              "      <td>140</td>\n",
              "      <td>0.383100</td>\n",
              "    </tr>\n",
              "    <tr>\n",
              "      <td>150</td>\n",
              "      <td>0.282200</td>\n",
              "    </tr>\n",
              "    <tr>\n",
              "      <td>160</td>\n",
              "      <td>0.202400</td>\n",
              "    </tr>\n",
              "    <tr>\n",
              "      <td>170</td>\n",
              "      <td>0.220900</td>\n",
              "    </tr>\n",
              "    <tr>\n",
              "      <td>180</td>\n",
              "      <td>0.388400</td>\n",
              "    </tr>\n",
              "    <tr>\n",
              "      <td>190</td>\n",
              "      <td>0.276000</td>\n",
              "    </tr>\n",
              "    <tr>\n",
              "      <td>200</td>\n",
              "      <td>0.227000</td>\n",
              "    </tr>\n",
              "    <tr>\n",
              "      <td>210</td>\n",
              "      <td>0.140400</td>\n",
              "    </tr>\n",
              "    <tr>\n",
              "      <td>220</td>\n",
              "      <td>0.115900</td>\n",
              "    </tr>\n",
              "    <tr>\n",
              "      <td>230</td>\n",
              "      <td>0.174600</td>\n",
              "    </tr>\n",
              "    <tr>\n",
              "      <td>240</td>\n",
              "      <td>0.138600</td>\n",
              "    </tr>\n",
              "    <tr>\n",
              "      <td>250</td>\n",
              "      <td>0.115900</td>\n",
              "    </tr>\n",
              "    <tr>\n",
              "      <td>260</td>\n",
              "      <td>0.100100</td>\n",
              "    </tr>\n",
              "    <tr>\n",
              "      <td>270</td>\n",
              "      <td>0.035500</td>\n",
              "    </tr>\n",
              "    <tr>\n",
              "      <td>280</td>\n",
              "      <td>0.058600</td>\n",
              "    </tr>\n",
              "    <tr>\n",
              "      <td>290</td>\n",
              "      <td>0.073400</td>\n",
              "    </tr>\n",
              "    <tr>\n",
              "      <td>300</td>\n",
              "      <td>0.045600</td>\n",
              "    </tr>\n",
              "    <tr>\n",
              "      <td>310</td>\n",
              "      <td>0.046200</td>\n",
              "    </tr>\n",
              "    <tr>\n",
              "      <td>320</td>\n",
              "      <td>0.131600</td>\n",
              "    </tr>\n",
              "    <tr>\n",
              "      <td>330</td>\n",
              "      <td>0.039400</td>\n",
              "    </tr>\n",
              "    <tr>\n",
              "      <td>340</td>\n",
              "      <td>0.107600</td>\n",
              "    </tr>\n",
              "    <tr>\n",
              "      <td>350</td>\n",
              "      <td>0.074400</td>\n",
              "    </tr>\n",
              "    <tr>\n",
              "      <td>360</td>\n",
              "      <td>0.017800</td>\n",
              "    </tr>\n",
              "    <tr>\n",
              "      <td>370</td>\n",
              "      <td>0.058200</td>\n",
              "    </tr>\n",
              "    <tr>\n",
              "      <td>380</td>\n",
              "      <td>0.026200</td>\n",
              "    </tr>\n",
              "    <tr>\n",
              "      <td>390</td>\n",
              "      <td>0.001600</td>\n",
              "    </tr>\n",
              "    <tr>\n",
              "      <td>400</td>\n",
              "      <td>0.009800</td>\n",
              "    </tr>\n",
              "  </tbody>\n",
              "</table><p>"
            ]
          },
          "metadata": {}
        },
        {
          "output_type": "execute_result",
          "data": {
            "text/plain": [
              "TrainOutput(global_step=400, training_loss=0.2873514236533083, metrics={'train_runtime': 277.1709, 'train_samples_per_second': 23.09, 'train_steps_per_second': 1.443, 'total_flos': 847791351398400.0, 'train_loss': 0.2873514236533083, 'epoch': 8.0})"
            ]
          },
          "metadata": {},
          "execution_count": 14
        }
      ]
    },
    {
      "cell_type": "code",
      "source": [
        "# Trainer.train()에 의한 파인튜팅 이후 세 입력 문장 극성 판별\n",
        "input_tokens = tokenizer([\"I feel fantastic\", \"My life is going something wrong\", \"I have not figured out what the chosen title has to do with the movie.\"], truncation=True, padding=True)\n",
        "outputs = model(torch.tensor(input_tokens['input_ids']).to(device))\n",
        "# 영어 원문의 1과 0값과 달리 일반적인 용례에 따라 변경\n",
        "label_dict = {1:'positive', 0:'negative'}\n",
        "print([label_dict[i] for i in torch.argmax(outputs['logits'], axis=1).cpu().numpy()])"
      ],
      "metadata": {
        "id": "b6rl2_xk4bWh",
        "colab": {
          "base_uri": "https://localhost:8080/"
        },
        "outputId": "ed62cdda-6f02-4a97-ad3c-9204245a094f",
        "executionInfo": {
          "status": "ok",
          "timestamp": 1688389522883,
          "user_tz": -540,
          "elapsed": 611,
          "user": {
            "displayName": "Jason Book Yim",
            "userId": "02824935638305274154"
          }
        }
      },
      "execution_count": 15,
      "outputs": [
        {
          "output_type": "stream",
          "name": "stdout",
          "text": [
            "['positive', 'negative', 'negative']\n"
          ]
        }
      ]
    },
    {
      "cell_type": "code",
      "source": [
        "# 문제14에서 언급한 Trainer.train( ) 방식의 성과지표로서의 정확도를 여기서 구함\n",
        "# 모델 14의 주 10번 참조\n",
        "# 모델을 eval 모드로 전환\n",
        "model.eval()\n",
        "\n",
        "# 문제 14 코딩의 변수 l과 혼동을 피하기 위해 컨테이너 리스트 l2 생성\n",
        "l2 = []\n",
        "\n",
        "# 반복 루프\n",
        "for test_text in test_texts:\n",
        "\n",
        "  # 토크나이징을 통한 인코딩\n",
        "  input_tokens = tokenizer([test_text], truncation=True, padding=True)\n",
        "\n",
        "  # 모델을 사용한 추론\n",
        "  outputs = model(torch.tensor(input_tokens['input_ids']).to(device))\n",
        "\n",
        "  # outputs에 담긴 logits값을 기준으로 행 단위로, 즉 입력 문장 단위로 가장 큰 logits값의 인덱스를 출력 후\n",
        "  # item( )을 사용하여 결과물 텐서를 CPU로 전송\n",
        "  # 이렇게 처리된 값을 입력문장별로 append( )를 통해 컨테이너 리스트 l에 하나씩 저장\n",
        "  l2.append(torch.argmax(outputs['logits'], axis=1).item())\n",
        "\n",
        "# 변수 correct_cnt 초기값을 0으로 설정\n",
        "correct_cnt = 0\n",
        "\n",
        "# 리스트 l과 test_labels를 zip( )을 통해 쌍(pair)으로 묶은 후 각기 pred와 ans라는 변수로 추출\n",
        "# zip()안의 데이터 쌍이 소진될 때까지 if문을 반복하여 계속 실행\n",
        "for pred, ans in zip(l2, test_labels):\n",
        "  if pred == ans:\n",
        "    correct_cnt += 1\n",
        "\n",
        "# 정확도(accuracy) 계산\n",
        "# 딥러닝 모델의 특성상 실행시마다 성과지표가 약간 다르게 산출될 수 있음\n",
        "# correct_cnt는 pred와 ans가 일치하는 건수의 총합\n",
        "# test_labels는 레이블 개수의 총합, 즉 입력 문장 전체 건수\n",
        "print(correct_cnt/len(test_labels))"
      ],
      "metadata": {
        "colab": {
          "base_uri": "https://localhost:8080/"
        },
        "id": "wKNoCfXXDiY0",
        "outputId": "af2871ff-2481-45ee-c6ea-a12a04a3a27d",
        "executionInfo": {
          "status": "ok",
          "timestamp": 1688389548967,
          "user_tz": -540,
          "elapsed": 15174,
          "user": {
            "displayName": "Jason Book Yim",
            "userId": "02824935638305274154"
          }
        }
      },
      "execution_count": 16,
      "outputs": [
        {
          "output_type": "stream",
          "name": "stdout",
          "text": [
            "0.869\n"
          ]
        }
      ]
    },
    {
      "cell_type": "markdown",
      "metadata": {
        "id": "hZS5x556ocpC"
      },
      "source": [
        "# 13"
      ]
    },
    {
      "cell_type": "code",
      "metadata": {
        "id": "Fz9LHxlPpWKL",
        "executionInfo": {
          "status": "ok",
          "timestamp": 1688389604568,
          "user_tz": -540,
          "elapsed": 631,
          "user": {
            "displayName": "Jason Book Yim",
            "userId": "02824935638305274154"
          }
        }
      },
      "source": [
        "# test_inference 함수 생성\n",
        "def test_inference(model, tokenizer):\n",
        "  input_tokens = tokenizer([\"I feel fantastic\", \"My life is going something wrong\", \"I have not figured out what the chosen title has to do with the movie.\"], truncation=True, padding=True)\n",
        "  outputs = model(torch.tensor(input_tokens['input_ids']).to(device))\n",
        "  # 영어 원문의 1과 0값 배정고 달리 일반적인 용례에 따라 변경\n",
        "  label_dict = {1:'positive', 0:'negative'}\n",
        "  return [label_dict[i] for i in torch.argmax(outputs['logits'], axis=1).cpu().numpy()]"
      ],
      "execution_count": 17,
      "outputs": []
    },
    {
      "cell_type": "code",
      "metadata": {
        "colab": {
          "base_uri": "https://localhost:8080/"
        },
        "id": "5iACJCA8l30i",
        "outputId": "42fd7631-a0c7-4f20-b891-b210ccc821cc",
        "executionInfo": {
          "status": "ok",
          "timestamp": 1688389889012,
          "user_tz": -540,
          "elapsed": 216561,
          "user": {
            "displayName": "Jason Book Yim",
            "userId": "02824935638305274154"
          }
        }
      },
      "source": [
        "# 런타임 5분 30초 소요\n",
        "from torch.utils.data import DataLoader\n",
        "from transformers import DistilBertForSequenceClassification, AdamW\n",
        "from transformers import DistilBertTokenizerFast\n",
        "\n",
        "#１） 사전학습 모델과 토크나이저 불러오기\n",
        "#    그리고 모델 실행결과에 to(devic) 코드 추가(가능한 경우 결과를 GPU에 전달)\n",
        "tokenizer = DistilBertTokenizerFast.from_pretrained('distilbert-base-uncased')\n",
        "model = DistilBertForSequenceClassification.from_pretrained('distilbert-base-uncased')\n",
        "model.to(device)\n",
        "\n",
        "# 파인튜닝 이전 모델을 사용하여 test_inference 함수 실행\n",
        "print(test_inference(model, tokenizer))\n",
        "\n",
        "#２）DataLoader 인스턴스화\n",
        "train_loader = DataLoader(train_dataset, batch_size=16, shuffle=True)\n",
        "\n",
        "#３）최적화 함수 정의\n",
        "optim = AdamW(model.parameters(), lr=5e-5)\n",
        "\n",
        "#４）모델을 학습(train) 모드로 전환\n",
        "#   이는 드롭아웃 및 배치 정규화에 영향을 미침\n",
        "model.train()\n",
        "\n",
        "losses = []\n",
        "\n",
        "#５）에포크 횟수(epochs)만큼 루프 반복\n",
        "for epoch in range(8):\n",
        "    print(f'epoch:{epoch}')\n",
        "    for batch in train_loader:\n",
        "        #６）최적화 함수의 기울기(그래디언트) 초기화\n",
        "        optim.zero_grad()\n",
        "\n",
        "        input_ids = batch['input_ids'].to(device)\n",
        "        attention_mask = batch['attention_mask'].to(device)\n",
        "        labels = batch['labels'].to(device)\n",
        "\n",
        "        #７） 모델을 사용한 추론\n",
        "        outputs = model(input_ids, attention_mask=attention_mask, labels=labels)\n",
        "        #８） 손실 계산\n",
        "        loss = outputs[0]\n",
        "        losses.append(loss)\n",
        "        #９） 오차역전파\n",
        "        loss.backward()\n",
        "        #１０） 가중치(weight) 업데이트\n",
        "        optim.step()\n",
        "\n",
        "# 모델을 eval 모드로 전환\n",
        "model.eval()\n",
        "\n",
        "# eval 모드를 사용하여 test_inference 함수 실행\n",
        "print(test_inference(model, tokenizer))\n"
      ],
      "execution_count": 18,
      "outputs": [
        {
          "metadata": {
            "tags": null
          },
          "name": "stderr",
          "output_type": "stream",
          "text": [
            "Some weights of the model checkpoint at distilbert-base-uncased were not used when initializing DistilBertForSequenceClassification: ['vocab_transform.weight', 'vocab_transform.bias', 'vocab_layer_norm.bias', 'vocab_projector.bias', 'vocab_layer_norm.weight']\n",
            "- This IS expected if you are initializing DistilBertForSequenceClassification from the checkpoint of a model trained on another task or with another architecture (e.g. initializing a BertForSequenceClassification model from a BertForPreTraining model).\n",
            "- This IS NOT expected if you are initializing DistilBertForSequenceClassification from the checkpoint of a model that you expect to be exactly identical (initializing a BertForSequenceClassification model from a BertForSequenceClassification model).\n",
            "Some weights of DistilBertForSequenceClassification were not initialized from the model checkpoint at distilbert-base-uncased and are newly initialized: ['classifier.bias', 'classifier.weight', 'pre_classifier.weight', 'pre_classifier.bias']\n",
            "You should probably TRAIN this model on a down-stream task to be able to use it for predictions and inference.\n"
          ]
        },
        {
          "output_type": "stream",
          "name": "stdout",
          "text": [
            "['negative', 'negative', 'negative']\n",
            "epoch:0\n",
            "epoch:1\n",
            "epoch:2\n",
            "epoch:3\n",
            "epoch:4\n",
            "epoch:5\n",
            "epoch:6\n",
            "epoch:7\n",
            "['positive', 'negative', 'negative']\n"
          ]
        }
      ]
    },
    {
      "cell_type": "code",
      "metadata": {
        "id": "FiYd73WbodVe"
      },
      "source": [
        "# 다음은 에러가 발생하는 코드임에 주의\n",
        "# 이를 수정하기 위해 몇 개의 코드를 아래에 추가함\n",
        "import matplotlib.pyplot as plt\n",
        "plt.plot(losses)\n",
        "plt.show()\n"
      ],
      "execution_count": null,
      "outputs": []
    },
    {
      "cell_type": "code",
      "source": [
        "print(losses)\n",
        "type(losses)"
      ],
      "metadata": {
        "colab": {
          "base_uri": "https://localhost:8080/"
        },
        "id": "B5O6YqK0YG50",
        "outputId": "1023a01e-5303-4e7f-92b9-925913e3ca66",
        "executionInfo": {
          "status": "ok",
          "timestamp": 1688389897919,
          "user_tz": -540,
          "elapsed": 603,
          "user": {
            "displayName": "Jason Book Yim",
            "userId": "02824935638305274154"
          }
        }
      },
      "execution_count": 19,
      "outputs": [
        {
          "output_type": "stream",
          "name": "stdout",
          "text": [
            "[tensor(0.6842, device='cuda:0', grad_fn=<NllLossBackward0>), tensor(0.6877, device='cuda:0', grad_fn=<NllLossBackward0>), tensor(0.7007, device='cuda:0', grad_fn=<NllLossBackward0>), tensor(0.6735, device='cuda:0', grad_fn=<NllLossBackward0>), tensor(0.6524, device='cuda:0', grad_fn=<NllLossBackward0>), tensor(0.7321, device='cuda:0', grad_fn=<NllLossBackward0>), tensor(0.6948, device='cuda:0', grad_fn=<NllLossBackward0>), tensor(0.6965, device='cuda:0', grad_fn=<NllLossBackward0>), tensor(0.7354, device='cuda:0', grad_fn=<NllLossBackward0>), tensor(0.6751, device='cuda:0', grad_fn=<NllLossBackward0>), tensor(0.6502, device='cuda:0', grad_fn=<NllLossBackward0>), tensor(0.6274, device='cuda:0', grad_fn=<NllLossBackward0>), tensor(0.6924, device='cuda:0', grad_fn=<NllLossBackward0>), tensor(0.6491, device='cuda:0', grad_fn=<NllLossBackward0>), tensor(0.6844, device='cuda:0', grad_fn=<NllLossBackward0>), tensor(0.6982, device='cuda:0', grad_fn=<NllLossBackward0>), tensor(0.6853, device='cuda:0', grad_fn=<NllLossBackward0>), tensor(0.6872, device='cuda:0', grad_fn=<NllLossBackward0>), tensor(0.6566, device='cuda:0', grad_fn=<NllLossBackward0>), tensor(0.5761, device='cuda:0', grad_fn=<NllLossBackward0>), tensor(0.6803, device='cuda:0', grad_fn=<NllLossBackward0>), tensor(0.7576, device='cuda:0', grad_fn=<NllLossBackward0>), tensor(0.8305, device='cuda:0', grad_fn=<NllLossBackward0>), tensor(0.6026, device='cuda:0', grad_fn=<NllLossBackward0>), tensor(0.5384, device='cuda:0', grad_fn=<NllLossBackward0>), tensor(0.6179, device='cuda:0', grad_fn=<NllLossBackward0>), tensor(0.5861, device='cuda:0', grad_fn=<NllLossBackward0>), tensor(0.6527, device='cuda:0', grad_fn=<NllLossBackward0>), tensor(0.6453, device='cuda:0', grad_fn=<NllLossBackward0>), tensor(0.5069, device='cuda:0', grad_fn=<NllLossBackward0>), tensor(0.5124, device='cuda:0', grad_fn=<NllLossBackward0>), tensor(0.6207, device='cuda:0', grad_fn=<NllLossBackward0>), tensor(0.4938, device='cuda:0', grad_fn=<NllLossBackward0>), tensor(0.6301, device='cuda:0', grad_fn=<NllLossBackward0>), tensor(0.4800, device='cuda:0', grad_fn=<NllLossBackward0>), tensor(0.5567, device='cuda:0', grad_fn=<NllLossBackward0>), tensor(0.3069, device='cuda:0', grad_fn=<NllLossBackward0>), tensor(0.4007, device='cuda:0', grad_fn=<NllLossBackward0>), tensor(0.2552, device='cuda:0', grad_fn=<NllLossBackward0>), tensor(0.4478, device='cuda:0', grad_fn=<NllLossBackward0>), tensor(0.4056, device='cuda:0', grad_fn=<NllLossBackward0>), tensor(0.2472, device='cuda:0', grad_fn=<NllLossBackward0>), tensor(0.5044, device='cuda:0', grad_fn=<NllLossBackward0>), tensor(0.3663, device='cuda:0', grad_fn=<NllLossBackward0>), tensor(0.4473, device='cuda:0', grad_fn=<NllLossBackward0>), tensor(0.4720, device='cuda:0', grad_fn=<NllLossBackward0>), tensor(0.2777, device='cuda:0', grad_fn=<NllLossBackward0>), tensor(0.4712, device='cuda:0', grad_fn=<NllLossBackward0>), tensor(0.3357, device='cuda:0', grad_fn=<NllLossBackward0>), tensor(0.4053, device='cuda:0', grad_fn=<NllLossBackward0>), tensor(0.5882, device='cuda:0', grad_fn=<NllLossBackward0>), tensor(0.3847, device='cuda:0', grad_fn=<NllLossBackward0>), tensor(0.2376, device='cuda:0', grad_fn=<NllLossBackward0>), tensor(0.3236, device='cuda:0', grad_fn=<NllLossBackward0>), tensor(0.3384, device='cuda:0', grad_fn=<NllLossBackward0>), tensor(0.1630, device='cuda:0', grad_fn=<NllLossBackward0>), tensor(0.3215, device='cuda:0', grad_fn=<NllLossBackward0>), tensor(0.2562, device='cuda:0', grad_fn=<NllLossBackward0>), tensor(0.1298, device='cuda:0', grad_fn=<NllLossBackward0>), tensor(0.3840, device='cuda:0', grad_fn=<NllLossBackward0>), tensor(0.2765, device='cuda:0', grad_fn=<NllLossBackward0>), tensor(0.1949, device='cuda:0', grad_fn=<NllLossBackward0>), tensor(0.2899, device='cuda:0', grad_fn=<NllLossBackward0>), tensor(0.1416, device='cuda:0', grad_fn=<NllLossBackward0>), tensor(0.3259, device='cuda:0', grad_fn=<NllLossBackward0>), tensor(0.4252, device='cuda:0', grad_fn=<NllLossBackward0>), tensor(0.3627, device='cuda:0', grad_fn=<NllLossBackward0>), tensor(0.2035, device='cuda:0', grad_fn=<NllLossBackward0>), tensor(0.5759, device='cuda:0', grad_fn=<NllLossBackward0>), tensor(0.3231, device='cuda:0', grad_fn=<NllLossBackward0>), tensor(0.2080, device='cuda:0', grad_fn=<NllLossBackward0>), tensor(0.1682, device='cuda:0', grad_fn=<NllLossBackward0>), tensor(0.3514, device='cuda:0', grad_fn=<NllLossBackward0>), tensor(0.7269, device='cuda:0', grad_fn=<NllLossBackward0>), tensor(0.0655, device='cuda:0', grad_fn=<NllLossBackward0>), tensor(0.4247, device='cuda:0', grad_fn=<NllLossBackward0>), tensor(0.2617, device='cuda:0', grad_fn=<NllLossBackward0>), tensor(0.3001, device='cuda:0', grad_fn=<NllLossBackward0>), tensor(0.2609, device='cuda:0', grad_fn=<NllLossBackward0>), tensor(0.3455, device='cuda:0', grad_fn=<NllLossBackward0>), tensor(0.6307, device='cuda:0', grad_fn=<NllLossBackward0>), tensor(0.1622, device='cuda:0', grad_fn=<NllLossBackward0>), tensor(0.2914, device='cuda:0', grad_fn=<NllLossBackward0>), tensor(0.2404, device='cuda:0', grad_fn=<NllLossBackward0>), tensor(0.3897, device='cuda:0', grad_fn=<NllLossBackward0>), tensor(0.1904, device='cuda:0', grad_fn=<NllLossBackward0>), tensor(0.4875, device='cuda:0', grad_fn=<NllLossBackward0>), tensor(0.2289, device='cuda:0', grad_fn=<NllLossBackward0>), tensor(0.1558, device='cuda:0', grad_fn=<NllLossBackward0>), tensor(0.1779, device='cuda:0', grad_fn=<NllLossBackward0>), tensor(0.0864, device='cuda:0', grad_fn=<NllLossBackward0>), tensor(0.2069, device='cuda:0', grad_fn=<NllLossBackward0>), tensor(0.6109, device='cuda:0', grad_fn=<NllLossBackward0>), tensor(0.1528, device='cuda:0', grad_fn=<NllLossBackward0>), tensor(0.0447, device='cuda:0', grad_fn=<NllLossBackward0>), tensor(0.3809, device='cuda:0', grad_fn=<NllLossBackward0>), tensor(0.2213, device='cuda:0', grad_fn=<NllLossBackward0>), tensor(0.2905, device='cuda:0', grad_fn=<NllLossBackward0>), tensor(0.4700, device='cuda:0', grad_fn=<NllLossBackward0>), tensor(0.2819, device='cuda:0', grad_fn=<NllLossBackward0>), tensor(0.0723, device='cuda:0', grad_fn=<NllLossBackward0>), tensor(0.4712, device='cuda:0', grad_fn=<NllLossBackward0>), tensor(0.0924, device='cuda:0', grad_fn=<NllLossBackward0>), tensor(0.0350, device='cuda:0', grad_fn=<NllLossBackward0>), tensor(0.0644, device='cuda:0', grad_fn=<NllLossBackward0>), tensor(0.1223, device='cuda:0', grad_fn=<NllLossBackward0>), tensor(0.0936, device='cuda:0', grad_fn=<NllLossBackward0>), tensor(0.0574, device='cuda:0', grad_fn=<NllLossBackward0>), tensor(0.1759, device='cuda:0', grad_fn=<NllLossBackward0>), tensor(0.1451, device='cuda:0', grad_fn=<NllLossBackward0>), tensor(0.0755, device='cuda:0', grad_fn=<NllLossBackward0>), tensor(0.0424, device='cuda:0', grad_fn=<NllLossBackward0>), tensor(0.0565, device='cuda:0', grad_fn=<NllLossBackward0>), tensor(0.0665, device='cuda:0', grad_fn=<NllLossBackward0>), tensor(0.0316, device='cuda:0', grad_fn=<NllLossBackward0>), tensor(0.0844, device='cuda:0', grad_fn=<NllLossBackward0>), tensor(0.0918, device='cuda:0', grad_fn=<NllLossBackward0>), tensor(0.2564, device='cuda:0', grad_fn=<NllLossBackward0>), tensor(0.0347, device='cuda:0', grad_fn=<NllLossBackward0>), tensor(0.1398, device='cuda:0', grad_fn=<NllLossBackward0>), tensor(0.0273, device='cuda:0', grad_fn=<NllLossBackward0>), tensor(0.0771, device='cuda:0', grad_fn=<NllLossBackward0>), tensor(0.1981, device='cuda:0', grad_fn=<NllLossBackward0>), tensor(0.0297, device='cuda:0', grad_fn=<NllLossBackward0>), tensor(0.0729, device='cuda:0', grad_fn=<NllLossBackward0>), tensor(0.0374, device='cuda:0', grad_fn=<NllLossBackward0>), tensor(0.1459, device='cuda:0', grad_fn=<NllLossBackward0>), tensor(0.0458, device='cuda:0', grad_fn=<NllLossBackward0>), tensor(0.1046, device='cuda:0', grad_fn=<NllLossBackward0>), tensor(0.0268, device='cuda:0', grad_fn=<NllLossBackward0>), tensor(0.0332, device='cuda:0', grad_fn=<NllLossBackward0>), tensor(0.0193, device='cuda:0', grad_fn=<NllLossBackward0>), tensor(0.0950, device='cuda:0', grad_fn=<NllLossBackward0>), tensor(0.3060, device='cuda:0', grad_fn=<NllLossBackward0>), tensor(0.0149, device='cuda:0', grad_fn=<NllLossBackward0>), tensor(0.2434, device='cuda:0', grad_fn=<NllLossBackward0>), tensor(0.0755, device='cuda:0', grad_fn=<NllLossBackward0>), tensor(0.0144, device='cuda:0', grad_fn=<NllLossBackward0>), tensor(0.0535, device='cuda:0', grad_fn=<NllLossBackward0>), tensor(0.1420, device='cuda:0', grad_fn=<NllLossBackward0>), tensor(0.0258, device='cuda:0', grad_fn=<NllLossBackward0>), tensor(0.5345, device='cuda:0', grad_fn=<NllLossBackward0>), tensor(0.0428, device='cuda:0', grad_fn=<NllLossBackward0>), tensor(0.0084, device='cuda:0', grad_fn=<NllLossBackward0>), tensor(0.3093, device='cuda:0', grad_fn=<NllLossBackward0>), tensor(0.0242, device='cuda:0', grad_fn=<NllLossBackward0>), tensor(0.0183, device='cuda:0', grad_fn=<NllLossBackward0>), tensor(0.0882, device='cuda:0', grad_fn=<NllLossBackward0>), tensor(0.1746, device='cuda:0', grad_fn=<NllLossBackward0>), tensor(0.0558, device='cuda:0', grad_fn=<NllLossBackward0>), tensor(0.0218, device='cuda:0', grad_fn=<NllLossBackward0>), tensor(0.0089, device='cuda:0', grad_fn=<NllLossBackward0>), tensor(0.0165, device='cuda:0', grad_fn=<NllLossBackward0>), tensor(0.0110, device='cuda:0', grad_fn=<NllLossBackward0>), tensor(0.0521, device='cuda:0', grad_fn=<NllLossBackward0>), tensor(0.3063, device='cuda:0', grad_fn=<NllLossBackward0>), tensor(0.2424, device='cuda:0', grad_fn=<NllLossBackward0>), tensor(0.0145, device='cuda:0', grad_fn=<NllLossBackward0>), tensor(0.0189, device='cuda:0', grad_fn=<NllLossBackward0>), tensor(0.0774, device='cuda:0', grad_fn=<NllLossBackward0>), tensor(0.0083, device='cuda:0', grad_fn=<NllLossBackward0>), tensor(0.0202, device='cuda:0', grad_fn=<NllLossBackward0>), tensor(0.0081, device='cuda:0', grad_fn=<NllLossBackward0>), tensor(0.0079, device='cuda:0', grad_fn=<NllLossBackward0>), tensor(0.0131, device='cuda:0', grad_fn=<NllLossBackward0>), tensor(0.0206, device='cuda:0', grad_fn=<NllLossBackward0>), tensor(0.0412, device='cuda:0', grad_fn=<NllLossBackward0>), tensor(0.0099, device='cuda:0', grad_fn=<NllLossBackward0>), tensor(0.0197, device='cuda:0', grad_fn=<NllLossBackward0>), tensor(0.0777, device='cuda:0', grad_fn=<NllLossBackward0>), tensor(0.0134, device='cuda:0', grad_fn=<NllLossBackward0>), tensor(0.0085, device='cuda:0', grad_fn=<NllLossBackward0>), tensor(0.0114, device='cuda:0', grad_fn=<NllLossBackward0>), tensor(0.0708, device='cuda:0', grad_fn=<NllLossBackward0>), tensor(0.3173, device='cuda:0', grad_fn=<NllLossBackward0>), tensor(0.2437, device='cuda:0', grad_fn=<NllLossBackward0>), tensor(0.0081, device='cuda:0', grad_fn=<NllLossBackward0>), tensor(0.0330, device='cuda:0', grad_fn=<NllLossBackward0>), tensor(0.0245, device='cuda:0', grad_fn=<NllLossBackward0>), tensor(0.0238, device='cuda:0', grad_fn=<NllLossBackward0>), tensor(0.0081, device='cuda:0', grad_fn=<NllLossBackward0>), tensor(0.0040, device='cuda:0', grad_fn=<NllLossBackward0>), tensor(0.1516, device='cuda:0', grad_fn=<NllLossBackward0>), tensor(0.2858, device='cuda:0', grad_fn=<NllLossBackward0>), tensor(0.0083, device='cuda:0', grad_fn=<NllLossBackward0>), tensor(0.1986, device='cuda:0', grad_fn=<NllLossBackward0>), tensor(0.1183, device='cuda:0', grad_fn=<NllLossBackward0>), tensor(0.0095, device='cuda:0', grad_fn=<NllLossBackward0>), tensor(0.1268, device='cuda:0', grad_fn=<NllLossBackward0>), tensor(0.0257, device='cuda:0', grad_fn=<NllLossBackward0>), tensor(0.0423, device='cuda:0', grad_fn=<NllLossBackward0>), tensor(0.0114, device='cuda:0', grad_fn=<NllLossBackward0>), tensor(0.0429, device='cuda:0', grad_fn=<NllLossBackward0>), tensor(0.0105, device='cuda:0', grad_fn=<NllLossBackward0>), tensor(0.0164, device='cuda:0', grad_fn=<NllLossBackward0>), tensor(0.0530, device='cuda:0', grad_fn=<NllLossBackward0>), tensor(0.0886, device='cuda:0', grad_fn=<NllLossBackward0>), tensor(0.0132, device='cuda:0', grad_fn=<NllLossBackward0>), tensor(0.0346, device='cuda:0', grad_fn=<NllLossBackward0>), tensor(0.0102, device='cuda:0', grad_fn=<NllLossBackward0>), tensor(0.0086, device='cuda:0', grad_fn=<NllLossBackward0>), tensor(0.0121, device='cuda:0', grad_fn=<NllLossBackward0>), tensor(0.0348, device='cuda:0', grad_fn=<NllLossBackward0>), tensor(0.0393, device='cuda:0', grad_fn=<NllLossBackward0>), tensor(0.0084, device='cuda:0', grad_fn=<NllLossBackward0>), tensor(0.0172, device='cuda:0', grad_fn=<NllLossBackward0>), tensor(0.0056, device='cuda:0', grad_fn=<NllLossBackward0>), tensor(0.0108, device='cuda:0', grad_fn=<NllLossBackward0>), tensor(0.0122, device='cuda:0', grad_fn=<NllLossBackward0>), tensor(0.0045, device='cuda:0', grad_fn=<NllLossBackward0>), tensor(0.0047, device='cuda:0', grad_fn=<NllLossBackward0>), tensor(0.0061, device='cuda:0', grad_fn=<NllLossBackward0>), tensor(0.0206, device='cuda:0', grad_fn=<NllLossBackward0>), tensor(0.0032, device='cuda:0', grad_fn=<NllLossBackward0>), tensor(0.0037, device='cuda:0', grad_fn=<NllLossBackward0>), tensor(0.0033, device='cuda:0', grad_fn=<NllLossBackward0>), tensor(0.0036, device='cuda:0', grad_fn=<NllLossBackward0>), tensor(0.2349, device='cuda:0', grad_fn=<NllLossBackward0>), tensor(0.3608, device='cuda:0', grad_fn=<NllLossBackward0>), tensor(0.0033, device='cuda:0', grad_fn=<NllLossBackward0>), tensor(0.0033, device='cuda:0', grad_fn=<NllLossBackward0>), tensor(0.0040, device='cuda:0', grad_fn=<NllLossBackward0>), tensor(0.0041, device='cuda:0', grad_fn=<NllLossBackward0>), tensor(0.0063, device='cuda:0', grad_fn=<NllLossBackward0>), tensor(0.0064, device='cuda:0', grad_fn=<NllLossBackward0>), tensor(0.0254, device='cuda:0', grad_fn=<NllLossBackward0>), tensor(0.0101, device='cuda:0', grad_fn=<NllLossBackward0>), tensor(0.0063, device='cuda:0', grad_fn=<NllLossBackward0>), tensor(0.0134, device='cuda:0', grad_fn=<NllLossBackward0>), tensor(0.0047, device='cuda:0', grad_fn=<NllLossBackward0>), tensor(0.0073, device='cuda:0', grad_fn=<NllLossBackward0>), tensor(0.0034, device='cuda:0', grad_fn=<NllLossBackward0>), tensor(0.1346, device='cuda:0', grad_fn=<NllLossBackward0>), tensor(0.0282, device='cuda:0', grad_fn=<NllLossBackward0>), tensor(0.0086, device='cuda:0', grad_fn=<NllLossBackward0>), tensor(0.0118, device='cuda:0', grad_fn=<NllLossBackward0>), tensor(0.0038, device='cuda:0', grad_fn=<NllLossBackward0>), tensor(0.0374, device='cuda:0', grad_fn=<NllLossBackward0>), tensor(0.0190, device='cuda:0', grad_fn=<NllLossBackward0>), tensor(0.1045, device='cuda:0', grad_fn=<NllLossBackward0>), tensor(0.0038, device='cuda:0', grad_fn=<NllLossBackward0>), tensor(0.0038, device='cuda:0', grad_fn=<NllLossBackward0>), tensor(0.0049, device='cuda:0', grad_fn=<NllLossBackward0>), tensor(0.0048, device='cuda:0', grad_fn=<NllLossBackward0>), tensor(0.0031, device='cuda:0', grad_fn=<NllLossBackward0>), tensor(0.0160, device='cuda:0', grad_fn=<NllLossBackward0>), tensor(0.0059, device='cuda:0', grad_fn=<NllLossBackward0>), tensor(0.3189, device='cuda:0', grad_fn=<NllLossBackward0>), tensor(0.0030, device='cuda:0', grad_fn=<NllLossBackward0>), tensor(0.0973, device='cuda:0', grad_fn=<NllLossBackward0>), tensor(0.0056, device='cuda:0', grad_fn=<NllLossBackward0>), tensor(0.0037, device='cuda:0', grad_fn=<NllLossBackward0>), tensor(0.0035, device='cuda:0', grad_fn=<NllLossBackward0>), tensor(0.0055, device='cuda:0', grad_fn=<NllLossBackward0>), tensor(0.0035, device='cuda:0', grad_fn=<NllLossBackward0>), tensor(0.0035, device='cuda:0', grad_fn=<NllLossBackward0>), tensor(0.0054, device='cuda:0', grad_fn=<NllLossBackward0>), tensor(0.0155, device='cuda:0', grad_fn=<NllLossBackward0>), tensor(0.0232, device='cuda:0', grad_fn=<NllLossBackward0>), tensor(0.2451, device='cuda:0', grad_fn=<NllLossBackward0>), tensor(0.0089, device='cuda:0', grad_fn=<NllLossBackward0>), tensor(0.0043, device='cuda:0', grad_fn=<NllLossBackward0>), tensor(0.0036, device='cuda:0', grad_fn=<NllLossBackward0>), tensor(0.0077, device='cuda:0', grad_fn=<NllLossBackward0>), tensor(0.0096, device='cuda:0', grad_fn=<NllLossBackward0>), tensor(0.0349, device='cuda:0', grad_fn=<NllLossBackward0>), tensor(0.0135, device='cuda:0', grad_fn=<NllLossBackward0>), tensor(0.0051, device='cuda:0', grad_fn=<NllLossBackward0>), tensor(0.0221, device='cuda:0', grad_fn=<NllLossBackward0>), tensor(0.3175, device='cuda:0', grad_fn=<NllLossBackward0>), tensor(0.0112, device='cuda:0', grad_fn=<NllLossBackward0>), tensor(0.0132, device='cuda:0', grad_fn=<NllLossBackward0>), tensor(0.0039, device='cuda:0', grad_fn=<NllLossBackward0>), tensor(0.0036, device='cuda:0', grad_fn=<NllLossBackward0>), tensor(0.0042, device='cuda:0', grad_fn=<NllLossBackward0>), tensor(0.0046, device='cuda:0', grad_fn=<NllLossBackward0>), tensor(0.0052, device='cuda:0', grad_fn=<NllLossBackward0>), tensor(0.0039, device='cuda:0', grad_fn=<NllLossBackward0>), tensor(0.0072, device='cuda:0', grad_fn=<NllLossBackward0>), tensor(0.0050, device='cuda:0', grad_fn=<NllLossBackward0>), tensor(0.0056, device='cuda:0', grad_fn=<NllLossBackward0>), tensor(0.0118, device='cuda:0', grad_fn=<NllLossBackward0>), tensor(0.0042, device='cuda:0', grad_fn=<NllLossBackward0>), tensor(0.0043, device='cuda:0', grad_fn=<NllLossBackward0>), tensor(0.0064, device='cuda:0', grad_fn=<NllLossBackward0>), tensor(0.0080, device='cuda:0', grad_fn=<NllLossBackward0>), tensor(0.0037, device='cuda:0', grad_fn=<NllLossBackward0>), tensor(0.0033, device='cuda:0', grad_fn=<NllLossBackward0>), tensor(0.0034, device='cuda:0', grad_fn=<NllLossBackward0>), tensor(0.2325, device='cuda:0', grad_fn=<NllLossBackward0>), tensor(0.0025, device='cuda:0', grad_fn=<NllLossBackward0>), tensor(0.0042, device='cuda:0', grad_fn=<NllLossBackward0>), tensor(0.0039, device='cuda:0', grad_fn=<NllLossBackward0>), tensor(0.0027, device='cuda:0', grad_fn=<NllLossBackward0>), tensor(0.0102, device='cuda:0', grad_fn=<NllLossBackward0>), tensor(0.0075, device='cuda:0', grad_fn=<NllLossBackward0>), tensor(0.4084, device='cuda:0', grad_fn=<NllLossBackward0>), tensor(0.0036, device='cuda:0', grad_fn=<NllLossBackward0>), tensor(0.0030, device='cuda:0', grad_fn=<NllLossBackward0>), tensor(0.0023, device='cuda:0', grad_fn=<NllLossBackward0>), tensor(0.0520, device='cuda:0', grad_fn=<NllLossBackward0>), tensor(0.0090, device='cuda:0', grad_fn=<NllLossBackward0>), tensor(0.0850, device='cuda:0', grad_fn=<NllLossBackward0>), tensor(0.0054, device='cuda:0', grad_fn=<NllLossBackward0>), tensor(0.0019, device='cuda:0', grad_fn=<NllLossBackward0>), tensor(0.0426, device='cuda:0', grad_fn=<NllLossBackward0>), tensor(0.0031, device='cuda:0', grad_fn=<NllLossBackward0>), tensor(0.0037, device='cuda:0', grad_fn=<NllLossBackward0>), tensor(0.0032, device='cuda:0', grad_fn=<NllLossBackward0>), tensor(0.0024, device='cuda:0', grad_fn=<NllLossBackward0>), tensor(0.0174, device='cuda:0', grad_fn=<NllLossBackward0>), tensor(0.0026, device='cuda:0', grad_fn=<NllLossBackward0>), tensor(0.0027, device='cuda:0', grad_fn=<NllLossBackward0>), tensor(0.0029, device='cuda:0', grad_fn=<NllLossBackward0>), tensor(0.0027, device='cuda:0', grad_fn=<NllLossBackward0>), tensor(0.0042, device='cuda:0', grad_fn=<NllLossBackward0>), tensor(0.0051, device='cuda:0', grad_fn=<NllLossBackward0>), tensor(0.0038, device='cuda:0', grad_fn=<NllLossBackward0>), tensor(0.0019, device='cuda:0', grad_fn=<NllLossBackward0>), tensor(0.0210, device='cuda:0', grad_fn=<NllLossBackward0>), tensor(0.0039, device='cuda:0', grad_fn=<NllLossBackward0>), tensor(0.0101, device='cuda:0', grad_fn=<NllLossBackward0>), tensor(0.0017, device='cuda:0', grad_fn=<NllLossBackward0>), tensor(0.0126, device='cuda:0', grad_fn=<NllLossBackward0>), tensor(0.0040, device='cuda:0', grad_fn=<NllLossBackward0>), tensor(0.0035, device='cuda:0', grad_fn=<NllLossBackward0>), tensor(0.0026, device='cuda:0', grad_fn=<NllLossBackward0>), tensor(0.0022, device='cuda:0', grad_fn=<NllLossBackward0>), tensor(0.0017, device='cuda:0', grad_fn=<NllLossBackward0>), tensor(0.0015, device='cuda:0', grad_fn=<NllLossBackward0>), tensor(0.0022, device='cuda:0', grad_fn=<NllLossBackward0>), tensor(0.0215, device='cuda:0', grad_fn=<NllLossBackward0>), tensor(0.2967, device='cuda:0', grad_fn=<NllLossBackward0>), tensor(0.0016, device='cuda:0', grad_fn=<NllLossBackward0>), tensor(0.0022, device='cuda:0', grad_fn=<NllLossBackward0>), tensor(0.0015, device='cuda:0', grad_fn=<NllLossBackward0>), tensor(0.0033, device='cuda:0', grad_fn=<NllLossBackward0>), tensor(0.0038, device='cuda:0', grad_fn=<NllLossBackward0>), tensor(0.0021, device='cuda:0', grad_fn=<NllLossBackward0>), tensor(0.0066, device='cuda:0', grad_fn=<NllLossBackward0>), tensor(0.0029, device='cuda:0', grad_fn=<NllLossBackward0>), tensor(0.0016, device='cuda:0', grad_fn=<NllLossBackward0>), tensor(0.0012, device='cuda:0', grad_fn=<NllLossBackward0>), tensor(0.0017, device='cuda:0', grad_fn=<NllLossBackward0>), tensor(0.0022, device='cuda:0', grad_fn=<NllLossBackward0>), tensor(0.0026, device='cuda:0', grad_fn=<NllLossBackward0>), tensor(0.0049, device='cuda:0', grad_fn=<NllLossBackward0>), tensor(0.0017, device='cuda:0', grad_fn=<NllLossBackward0>), tensor(0.0014, device='cuda:0', grad_fn=<NllLossBackward0>), tensor(0.1206, device='cuda:0', grad_fn=<NllLossBackward0>), tensor(0.0025, device='cuda:0', grad_fn=<NllLossBackward0>), tensor(0.0024, device='cuda:0', grad_fn=<NllLossBackward0>), tensor(0.0019, device='cuda:0', grad_fn=<NllLossBackward0>), tensor(0.0024, device='cuda:0', grad_fn=<NllLossBackward0>), tensor(0.0134, device='cuda:0', grad_fn=<NllLossBackward0>), tensor(0.0904, device='cuda:0', grad_fn=<NllLossBackward0>), tensor(0.0018, device='cuda:0', grad_fn=<NllLossBackward0>), tensor(0.0218, device='cuda:0', grad_fn=<NllLossBackward0>), tensor(0.0093, device='cuda:0', grad_fn=<NllLossBackward0>), tensor(0.0555, device='cuda:0', grad_fn=<NllLossBackward0>), tensor(0.0020, device='cuda:0', grad_fn=<NllLossBackward0>), tensor(0.0111, device='cuda:0', grad_fn=<NllLossBackward0>), tensor(0.0023, device='cuda:0', grad_fn=<NllLossBackward0>), tensor(0.0038, device='cuda:0', grad_fn=<NllLossBackward0>), tensor(0.0064, device='cuda:0', grad_fn=<NllLossBackward0>), tensor(0.0022, device='cuda:0', grad_fn=<NllLossBackward0>), tensor(0.0143, device='cuda:0', grad_fn=<NllLossBackward0>), tensor(0.0548, device='cuda:0', grad_fn=<NllLossBackward0>), tensor(0.2776, device='cuda:0', grad_fn=<NllLossBackward0>), tensor(0.0025, device='cuda:0', grad_fn=<NllLossBackward0>), tensor(0.0015, device='cuda:0', grad_fn=<NllLossBackward0>), tensor(0.0293, device='cuda:0', grad_fn=<NllLossBackward0>), tensor(0.0703, device='cuda:0', grad_fn=<NllLossBackward0>), tensor(0.0031, device='cuda:0', grad_fn=<NllLossBackward0>), tensor(0.5409, device='cuda:0', grad_fn=<NllLossBackward0>), tensor(0.1100, device='cuda:0', grad_fn=<NllLossBackward0>), tensor(0.0032, device='cuda:0', grad_fn=<NllLossBackward0>), tensor(0.0019, device='cuda:0', grad_fn=<NllLossBackward0>), tensor(0.0022, device='cuda:0', grad_fn=<NllLossBackward0>), tensor(0.0038, device='cuda:0', grad_fn=<NllLossBackward0>), tensor(0.0025, device='cuda:0', grad_fn=<NllLossBackward0>), tensor(0.4488, device='cuda:0', grad_fn=<NllLossBackward0>), tensor(0.0099, device='cuda:0', grad_fn=<NllLossBackward0>), tensor(0.0413, device='cuda:0', grad_fn=<NllLossBackward0>), tensor(0.0081, device='cuda:0', grad_fn=<NllLossBackward0>), tensor(0.1112, device='cuda:0', grad_fn=<NllLossBackward0>), tensor(0.3826, device='cuda:0', grad_fn=<NllLossBackward0>), tensor(0.0058, device='cuda:0', grad_fn=<NllLossBackward0>), tensor(0.0171, device='cuda:0', grad_fn=<NllLossBackward0>), tensor(0.0923, device='cuda:0', grad_fn=<NllLossBackward0>), tensor(0.0269, device='cuda:0', grad_fn=<NllLossBackward0>), tensor(0.0476, device='cuda:0', grad_fn=<NllLossBackward0>), tensor(0.0081, device='cuda:0', grad_fn=<NllLossBackward0>), tensor(0.0248, device='cuda:0', grad_fn=<NllLossBackward0>), tensor(0.3206, device='cuda:0', grad_fn=<NllLossBackward0>), tensor(0.0331, device='cuda:0', grad_fn=<NllLossBackward0>), tensor(0.0104, device='cuda:0', grad_fn=<NllLossBackward0>), tensor(0.0114, device='cuda:0', grad_fn=<NllLossBackward0>), tensor(0.0387, device='cuda:0', grad_fn=<NllLossBackward0>), tensor(0.0130, device='cuda:0', grad_fn=<NllLossBackward0>)]\n"
          ]
        },
        {
          "output_type": "execute_result",
          "data": {
            "text/plain": [
              "list"
            ]
          },
          "metadata": {},
          "execution_count": 19
        }
      ]
    },
    {
      "cell_type": "code",
      "source": [
        "# 파이토치에서 item( )은 텐서에서 값을 파이썬 숫자로 추출하여 CPU로 전달\n",
        "new_losses = [i.item() for i in losses]\n",
        "\n",
        "# 처음 5개 값 출력\n",
        "new_losses[:5]"
      ],
      "metadata": {
        "colab": {
          "base_uri": "https://localhost:8080/"
        },
        "id": "31aX11vjYQTX",
        "outputId": "ace6957d-7fed-4bea-f496-69be0bd833b7",
        "executionInfo": {
          "status": "ok",
          "timestamp": 1688389902262,
          "user_tz": -540,
          "elapsed": 1529,
          "user": {
            "displayName": "Jason Book Yim",
            "userId": "02824935638305274154"
          }
        }
      },
      "execution_count": 20,
      "outputs": [
        {
          "output_type": "execute_result",
          "data": {
            "text/plain": [
              "[0.6841702461242676,\n",
              " 0.6876526474952698,\n",
              " 0.7006916403770447,\n",
              " 0.6734755039215088,\n",
              " 0.6523938775062561]"
            ]
          },
          "metadata": {},
          "execution_count": 20
        }
      ]
    },
    {
      "cell_type": "code",
      "source": [
        "# 마지막 5개 값 출력\n",
        "new_losses[-5:]"
      ],
      "metadata": {
        "colab": {
          "base_uri": "https://localhost:8080/"
        },
        "id": "FK_ugWQgYhCN",
        "outputId": "f1673a13-c41b-44ce-d665-b9c90f9f40bd",
        "executionInfo": {
          "status": "ok",
          "timestamp": 1688389906431,
          "user_tz": -540,
          "elapsed": 571,
          "user": {
            "displayName": "Jason Book Yim",
            "userId": "02824935638305274154"
          }
        }
      },
      "execution_count": 21,
      "outputs": [
        {
          "output_type": "execute_result",
          "data": {
            "text/plain": [
              "[0.03310510516166687,\n",
              " 0.010352146811783314,\n",
              " 0.011425563134253025,\n",
              " 0.03869607299566269,\n",
              " 0.013044468127191067]"
            ]
          },
          "metadata": {},
          "execution_count": 21
        }
      ]
    },
    {
      "cell_type": "code",
      "source": [
        "# matplotlib 라이브러리의 pyplot 모듈을 약칭 plt로 import\n",
        "import matplotlib.pyplot as plt\n",
        "plt.plot(new_losses)\n",
        "plt.show();"
      ],
      "metadata": {
        "colab": {
          "base_uri": "https://localhost:8080/",
          "height": 430
        },
        "id": "4qbHYxTMYSc4",
        "outputId": "d4c0ac01-9dae-4f64-8a26-cc65b35c2c3e",
        "executionInfo": {
          "status": "ok",
          "timestamp": 1688389911224,
          "user_tz": -540,
          "elapsed": 851,
          "user": {
            "displayName": "Jason Book Yim",
            "userId": "02824935638305274154"
          }
        }
      },
      "execution_count": 22,
      "outputs": [
        {
          "output_type": "display_data",
          "data": {
            "text/plain": [
              "<Figure size 640x480 with 1 Axes>"
            ],
            "image/png": "[encoded data removed]"
          },
          "metadata": {}
        }
      ]
    },
    {
      "cell_type": "markdown",
      "metadata": {
        "id": "pXxUNgwDbENt"
      },
      "source": [
        "#14"
      ]
    },
    {
      "cell_type": "code",
      "source": [],
      "metadata": {
        "id": "l9M9c82rYIjB"
      },
      "execution_count": null,
      "outputs": []
    },
    {
      "cell_type": "code",
      "metadata": {
        "colab": {
          "base_uri": "https://localhost:8080/"
        },
        "id": "_KOT1vuopv5z",
        "outputId": "51815371-6a77-476b-d818-b0a66d55c2e2",
        "executionInfo": {
          "status": "ok",
          "timestamp": 1688389943284,
          "user_tz": -540,
          "elapsed": 27143,
          "user": {
            "displayName": "Jason Book Yim",
            "userId": "02824935638305274154"
          }
        }
      },
      "source": [
        "# 모델을 eval 모드로 전환\n",
        "model.eval()\n",
        "\n",
        "# 변수 l이라는 컨테이너 리스트 생성\n",
        "l = []\n",
        "\n",
        "# 반복 루프\n",
        "for test_text in test_texts:\n",
        "\n",
        "  # 토크나이징을 통한 인코딩\n",
        "  input_tokens = tokenizer([test_text], truncation=True, padding=True)\n",
        "\n",
        "  # 모델을 사용한 추론\n",
        "  outputs = model(torch.tensor(input_tokens['input_ids']).to(device))\n",
        "\n",
        "  # outputs에 담긴 logits값을 기준으로 행 단위로, 즉 입력 문장 단위로 가장 큰 logits값의 인덱스를 출력 후\n",
        "  # item( )을 사용하여 결과물 텐서 값을 추출하고 CPU로 전송\n",
        "  # 이렇게 처리된 값을 입력문장별로 append( )를 통해 컨테이너 리스트 l에 하나씩 저장\n",
        "  l.append(torch.argmax(outputs['logits'], axis=1).item())\n",
        "\n",
        "# 변수 correct_cnt 초기값을 0으로 설정\n",
        "correct_cnt = 0\n",
        "\n",
        "# 리스트 l과 test_labels를 zip( )을 통해 쌍(pair)으로 묶은 후 각기 pred와 ans라는 변수로 추출\n",
        "# zip()안의 데이터 쌍이 소진될 때까지 if문을 반복하여 계속 실행\n",
        "for pred, ans in zip(l, test_labels):\n",
        "  if pred == ans:\n",
        "    # if 조건문이 참인 경우 correct_cnt값을 1씩 증가\n",
        "    correct_cnt += 1\n",
        "\n",
        "# 정확도(accuracy) 계산\n",
        "# correct_cnt는 pred와 ans가 일치하는 건수의 총합\n",
        "# len(test_labels)는 레이블 개수의 총합, 즉 입력 문장 전체 건수\n",
        "print(correct_cnt/len(test_labels))\n"
      ],
      "execution_count": 23,
      "outputs": [
        {
          "output_type": "stream",
          "name": "stdout",
          "text": [
            "0.821\n"
          ]
        }
      ]
    },
    {
      "cell_type": "markdown",
      "metadata": {
        "id": "2ZCh9AkSetQi"
      },
      "source": [
        "# 15"
      ]
    },
    {
      "cell_type": "code",
      "metadata": {
        "id": "pJAPw-WvdfPB",
        "executionInfo": {
          "status": "ok",
          "timestamp": 1688389973483,
          "user_tz": -540,
          "elapsed": 1093,
          "user": {
            "displayName": "Jason Book Yim",
            "userId": "02824935638305274154"
          }
        }
      },
      "source": [
        "# 각 변수의 초기값을 0으로 설정\n",
        "tp = 0\n",
        "tn = 0\n",
        "fp = 0\n",
        "fn = 0\n",
        "\n",
        "# 리스트 l과 test_labels를 zip( )을 통해 쌍(pair)으로 묶은 후 각기 pred와 ans라는 변수로 추출\n",
        "# zip()안의 데이터 쌍이 소진될 때까지 반복문을 실행\n",
        "for pred, ans in zip(l, test_labels):\n",
        "\n",
        "  # tp 계산\n",
        "  if pred == ans:\n",
        "    if pred ==1:\n",
        "      tp += 1\n",
        "    else:\n",
        "      tn += 1\n",
        "\n",
        "  # fn 계산\n",
        "  elif pred == 0:\n",
        "    fn += 1\n",
        "\n",
        "  # fp 계산\n",
        "  elif pred == 1:\n",
        "    fp +=1\n"
      ],
      "execution_count": 24,
      "outputs": []
    },
    {
      "cell_type": "code",
      "metadata": {
        "colab": {
          "base_uri": "https://localhost:8080/"
        },
        "id": "clgj2CYKdp2A",
        "outputId": "2ae88eb3-93e0-4f1e-fc26-fd534248951b",
        "executionInfo": {
          "status": "ok",
          "timestamp": 1688389978592,
          "user_tz": -540,
          "elapsed": 4,
          "user": {
            "displayName": "Jason Book Yim",
            "userId": "02824935638305274154"
          }
        }
      },
      "source": [
        "recall = tp/(tp+fn)\n",
        "print(recall)\n"
      ],
      "execution_count": 25,
      "outputs": [
        {
          "output_type": "stream",
          "name": "stdout",
          "text": [
            "0.9164926931106472\n"
          ]
        }
      ]
    },
    {
      "cell_type": "code",
      "metadata": {
        "colab": {
          "base_uri": "https://localhost:8080/"
        },
        "id": "r5SgG152d3rc",
        "outputId": "c0f74246-d14b-46c0-f2c0-dbe5624bb8c3",
        "executionInfo": {
          "status": "ok",
          "timestamp": 1688389996350,
          "user_tz": -540,
          "elapsed": 948,
          "user": {
            "displayName": "Jason Book Yim",
            "userId": "02824935638305274154"
          }
        }
      },
      "source": [
        "precision = tp/(tp+fp)\n",
        "print(precision)\n"
      ],
      "execution_count": 26,
      "outputs": [
        {
          "output_type": "stream",
          "name": "stdout",
          "text": [
            "0.759515570934256\n"
          ]
        }
      ]
    },
    {
      "cell_type": "code",
      "source": [
        "(2 * precision * recall) / (precision + recall)"
      ],
      "metadata": {
        "colab": {
          "base_uri": "https://localhost:8080/"
        },
        "id": "T-rXaFbkZ082",
        "outputId": "ec6ff2e8-8d4c-4fff-b92a-ea531bd0ea87",
        "executionInfo": {
          "status": "ok",
          "timestamp": 1688390002407,
          "user_tz": -540,
          "elapsed": 975,
          "user": {
            "displayName": "Jason Book Yim",
            "userId": "02824935638305274154"
          }
        }
      },
      "execution_count": 27,
      "outputs": [
        {
          "output_type": "execute_result",
          "data": {
            "text/plain": [
              "0.8306527909176916"
            ]
          },
          "metadata": {},
          "execution_count": 27
        }
      ]
    },
    {
      "cell_type": "markdown",
      "metadata": {
        "id": "h8rZOz-Nev35"
      },
      "source": [
        "#16"
      ]
    },
    {
      "cell_type": "code",
      "metadata": {
        "colab": {
          "base_uri": "https://localhost:8080/"
        },
        "id": "9QhLKrmWd5wL",
        "outputId": "ab521b21-99f2-444c-ca3c-6b5d2ea3a808",
        "executionInfo": {
          "status": "ok",
          "timestamp": 1688390008816,
          "user_tz": -540,
          "elapsed": 508,
          "user": {
            "displayName": "Jason Book Yim",
            "userId": "02824935638305274154"
          }
        }
      },
      "source": [
        "from sklearn.metrics import classification_report\n",
        "\n",
        "print(classification_report(test_labels, l))\n"
      ],
      "execution_count": 28,
      "outputs": [
        {
          "output_type": "stream",
          "name": "stdout",
          "text": [
            "              precision    recall  f1-score   support\n",
            "\n",
            "           0       0.91      0.73      0.81       521\n",
            "           1       0.76      0.92      0.83       479\n",
            "\n",
            "    accuracy                           0.82      1000\n",
            "   macro avg       0.83      0.82      0.82      1000\n",
            "weighted avg       0.84      0.82      0.82      1000\n",
            "\n"
          ]
        }
      ]
    }
  ]
}