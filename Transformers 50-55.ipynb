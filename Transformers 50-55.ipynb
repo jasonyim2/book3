{
  "nbformat": 4,
  "nbformat_minor": 0,
  "metadata": {
    "accelerator": "GPU",
    "colab": {
      "provenance": [
        {
          "file_id": "1hcJkcxDH0A2yNCJ0EuitC1ycrvffOwUQ",
          "timestamp": 1667701126583
        }
      ]
    },
    "kernelspec": {
      "display_name": "Python 3",
      "name": "python3"
    },
    "language_info": {
      "name": "python"
    },
    "gpuClass": "standard"
  },
  "cells": [
    {
      "cell_type": "markdown",
      "metadata": {
        "id": "QRCFnHkUcv-y"
      },
      "source": [
        "# 50"
      ]
    },
    {
      "cell_type": "code",
      "metadata": {
        "colab": {
          "base_uri": "https://localhost:8080/",
          "height": 751,
          "referenced_widgets": [
            "175e168616784d98b4846f3d62708dd7",
            "d04deff60e4e44c7be047eb16444be75",
            "ccd94ed218e2443dab0ebc8f08516716",
            "a3a6d055659545b79f8efb88947e4393",
            "82ad5d6ed9154362a9140fc2ca880ea9",
            "70757cfc272c401d9b1c51fcaec72b96",
            "f88ddf7445b44bf58f0dbe663c177ecd",
            "719062913e39407fb7845ae1c11a2ad9",
            "72b14e59abb041b2846b621cf9af04e7",
            "ed357c20d4eb41e2b9c90fe871bbb54d",
            "de1ce1c791024651ad863de54b55f147",
            "3bac5cef145e46afa81d849cfcd4da75",
            "447adb3cfed64dc7a6cb9e28d8020df9",
            "7f1e19f7882742d1881a9ac247e7af39",
            "908ce5a621954e09a213cdb083b8f465",
            "bc6206a83dc14cd6bd63280ff53b90af",
            "7f5bd66729a346d8893d2c7a462496a4",
            "b86f06d8f7104b14bd83dcccd27c14d4",
            "44552cf7acbd4d7bb649b10c1f3b2bb9",
            "46eac7dea48c4b008041b32a3f182770",
            "936367d74887462fa97b87c6b8ce19a7",
            "f5e40a947c044ae495818785655ccfd6",
            "46dc74b35e4844928c42db6d3ce7af66",
            "ad8c2387372f4b7f8094fc3705d86cf7",
            "dfe8261df42b4204885a65326f83eabf",
            "ae08ca432e0d46a59d029877414d26de",
            "9dfe8d52a96d491197a819e3f772b558",
            "bebc5cb8ca3447a4b3bcc81acdba513a",
            "59dc23d117ce402fac7c56e47d53f29b",
            "1d584e2e80134c34a944990e987839ca",
            "4e29c9570aaa4d96a3bc46beb781fce9",
            "49597ec8b2154bf4ab77537155effde7",
            "50d68dff13434e4b9624e83d63ddd8b6",
            "70362b60bc2d442492ceddd355d6552f",
            "90adf433eea84646a9bcd98af032c468",
            "2d4b322eba7f41e6b22150cadaed7536",
            "018d263a1f514f6791e511c53b7e50c9",
            "6159eb9c1a494e71b601e58327e27049",
            "0cc89047ed084079a22d32e60bd7ba92",
            "b6c6c66d44b74b599a112278e0877e8a",
            "791632fe064f4c67b3082af66b02347d",
            "bb8208e7b9ed4c66977b376d3f67c670",
            "5d75c742366a452085632ee833ff93cc",
            "b6eb57d719a54f6a8449e3444a508196",
            "ded5e0c25f04498da08b69d5f5dffef6",
            "c7981a5f68a14792a1cf9615b34523ce",
            "3be7a6a0c54d4489a34966b104ddef99",
            "909056e645f04cc68a9a61c476c70dd4",
            "7eb8880627e94dd3bb39d0e403bebd53",
            "2ee65ce094174676a1e5b289cf802ba6",
            "c47d99f0d89b4423ac129343ecc97ad5",
            "a15c99737b9e4fc99517368fa13184c5",
            "42fc5442abcb4a76b6a28bf58aa60570",
            "034a87bbdbdb45bcbe61d31edd5d9d18",
            "307d250366a347ccbdff60710842d5e3"
          ]
        },
        "id": "5xwLdya3bHmC",
        "executionInfo": {
          "elapsed": 39276,
          "status": "ok",
          "timestamp": 1688450453199,
          "user": {
            "displayName": "Jason Book Yim",
            "userId": "02824935638305274154"
          },
          "user_tz": -540
        },
        "outputId": "bd715b08-2b46-4086-b262-ad26ddeb7ecb"
      },
      "source": [
        "# 런타임 1분 30초 소요\n",
        "!pip install transformers\n",
        "from transformers import BartTokenizer, TFBartForConditionalGeneration\n",
        "\n",
        "# 모델 및 토크나이저 불러오기\n",
        "model = TFBartForConditionalGeneration.from_pretrained('facebook/bart-large')\n",
        "tokenizer = BartTokenizer.from_pretrained('facebook/bart-large')\n"
      ],
      "execution_count": 1,
      "outputs": [
        {
          "output_type": "stream",
          "name": "stdout",
          "text": [
            "Collecting transformers\n",
            "  Downloading transformers-4.30.2-py3-none-any.whl (7.2 MB)\n",
            "\u001b[2K     \u001b[90m━━━━━━━━━━━━━━━━━━━━━━━━━━━━━━━━━━━━━━━━\u001b[0m \u001b[32m7.2/7.2 MB\u001b[0m \u001b[31m58.6 MB/s\u001b[0m eta \u001b[36m0:00:00\u001b[0m\n",
            "\u001b[?25hRequirement already satisfied: filelock in /usr/local/lib/python3.10/dist-packages (from transformers) (3.12.2)\n",
            "Collecting huggingface-hub<1.0,>=0.14.1 (from transformers)\n",
            "  Downloading huggingface_hub-0.15.1-py3-none-any.whl (236 kB)\n",
            "\u001b[2K     \u001b[90m━━━━━━━━━━━━━━━━━━━━━━━━━━━━━━━━━━━━━━\u001b[0m \u001b[32m236.8/236.8 kB\u001b[0m \u001b[31m30.9 MB/s\u001b[0m eta \u001b[36m0:00:00\u001b[0m\n",
            "\u001b[?25hRequirement already satisfied: numpy>=1.17 in /usr/local/lib/python3.10/dist-packages (from transformers) (1.22.4)\n",
            "Requirement already satisfied: packaging>=20.0 in /usr/local/lib/python3.10/dist-packages (from transformers) (23.1)\n",
            "Requirement already satisfied: pyyaml>=5.1 in /usr/local/lib/python3.10/dist-packages (from transformers) (6.0)\n",
            "Requirement already satisfied: regex!=2019.12.17 in /usr/local/lib/python3.10/dist-packages (from transformers) (2022.10.31)\n",
            "Requirement already satisfied: requests in /usr/local/lib/python3.10/dist-packages (from transformers) (2.27.1)\n",
            "Collecting tokenizers!=0.11.3,<0.14,>=0.11.1 (from transformers)\n",
            "  Downloading tokenizers-0.13.3-cp310-cp310-manylinux_2_17_x86_64.manylinux2014_x86_64.whl (7.8 MB)\n",
            "\u001b[2K     \u001b[90m━━━━━━━━━━━━━━━━━━━━━━━━━━━━━━━━━━━━━━━━\u001b[0m \u001b[32m7.8/7.8 MB\u001b[0m \u001b[31m88.0 MB/s\u001b[0m eta \u001b[36m0:00:00\u001b[0m\n",
            "\u001b[?25hCollecting safetensors>=0.3.1 (from transformers)\n",
            "  Downloading safetensors-0.3.1-cp310-cp310-manylinux_2_17_x86_64.manylinux2014_x86_64.whl (1.3 MB)\n",
            "\u001b[2K     \u001b[90m━━━━━━━━━━━━━━━━━━━━━━━━━━━━━━━━━━━━━━━━\u001b[0m \u001b[32m1.3/1.3 MB\u001b[0m \u001b[31m73.0 MB/s\u001b[0m eta \u001b[36m0:00:00\u001b[0m\n",
            "\u001b[?25hRequirement already satisfied: tqdm>=4.27 in /usr/local/lib/python3.10/dist-packages (from transformers) (4.65.0)\n",
            "Requirement already satisfied: fsspec in /usr/local/lib/python3.10/dist-packages (from huggingface-hub<1.0,>=0.14.1->transformers) (2023.6.0)\n",
            "Requirement already satisfied: typing-extensions>=3.7.4.3 in /usr/local/lib/python3.10/dist-packages (from huggingface-hub<1.0,>=0.14.1->transformers) (4.6.3)\n",
            "Requirement already satisfied: urllib3<1.27,>=1.21.1 in /usr/local/lib/python3.10/dist-packages (from requests->transformers) (1.26.16)\n",
            "Requirement already satisfied: certifi>=2017.4.17 in /usr/local/lib/python3.10/dist-packages (from requests->transformers) (2023.5.7)\n",
            "Requirement already satisfied: charset-normalizer~=2.0.0 in /usr/local/lib/python3.10/dist-packages (from requests->transformers) (2.0.12)\n",
            "Requirement already satisfied: idna<4,>=2.5 in /usr/local/lib/python3.10/dist-packages (from requests->transformers) (3.4)\n",
            "Installing collected packages: tokenizers, safetensors, huggingface-hub, transformers\n",
            "Successfully installed huggingface-hub-0.15.1 safetensors-0.3.1 tokenizers-0.13.3 transformers-4.30.2\n"
          ]
        },
        {
          "output_type": "display_data",
          "data": {
            "text/plain": [
              "Downloading (…)lve/main/config.json:   0%|          | 0.00/1.63k [00:00<?, ?B/s]"
            ],
            "application/vnd.jupyter.widget-view+json": {
              "version_major": 2,
              "version_minor": 0,
              "model_id": "175e168616784d98b4846f3d62708dd7"
            }
          },
          "metadata": {}
        },
        {
          "output_type": "display_data",
          "data": {
            "text/plain": [
              "Downloading tf_model.h5:   0%|          | 0.00/1.63G [00:00<?, ?B/s]"
            ],
            "application/vnd.jupyter.widget-view+json": {
              "version_major": 2,
              "version_minor": 0,
              "model_id": "3bac5cef145e46afa81d849cfcd4da75"
            }
          },
          "metadata": {}
        },
        {
          "output_type": "stream",
          "name": "stderr",
          "text": [
            "All model checkpoint layers were used when initializing TFBartForConditionalGeneration.\n",
            "\n",
            "All the layers of TFBartForConditionalGeneration were initialized from the model checkpoint at facebook/bart-large.\n",
            "If your task is similar to the task the model of the checkpoint was trained on, you can already use TFBartForConditionalGeneration for predictions without further training.\n"
          ]
        },
        {
          "output_type": "display_data",
          "data": {
            "text/plain": [
              "Downloading (…)olve/main/vocab.json:   0%|          | 0.00/899k [00:00<?, ?B/s]"
            ],
            "application/vnd.jupyter.widget-view+json": {
              "version_major": 2,
              "version_minor": 0,
              "model_id": "46dc74b35e4844928c42db6d3ce7af66"
            }
          },
          "metadata": {}
        },
        {
          "output_type": "display_data",
          "data": {
            "text/plain": [
              "Downloading (…)olve/main/merges.txt:   0%|          | 0.00/456k [00:00<?, ?B/s]"
            ],
            "application/vnd.jupyter.widget-view+json": {
              "version_major": 2,
              "version_minor": 0,
              "model_id": "70362b60bc2d442492ceddd355d6552f"
            }
          },
          "metadata": {}
        },
        {
          "output_type": "display_data",
          "data": {
            "text/plain": [
              "Downloading (…)okenizer_config.json:   0%|          | 0.00/26.0 [00:00<?, ?B/s]"
            ],
            "application/vnd.jupyter.widget-view+json": {
              "version_major": 2,
              "version_minor": 0,
              "model_id": "ded5e0c25f04498da08b69d5f5dffef6"
            }
          },
          "metadata": {}
        }
      ]
    },
    {
      "cell_type": "markdown",
      "metadata": {
        "id": "UKbmX1MwdUI2"
      },
      "source": [
        "# 51"
      ]
    },
    {
      "cell_type": "code",
      "metadata": {
        "colab": {
          "base_uri": "https://localhost:8080/"
        },
        "id": "ZNrhfgcscxZ0",
        "executionInfo": {
          "elapsed": 519,
          "status": "ok",
          "timestamp": 1688450514308,
          "user": {
            "displayName": "Jason Book Yim",
            "userId": "02824935638305274154"
          },
          "user_tz": -540
        },
        "outputId": "8e033ec4-06de-4f13-cd4d-bc9de0eba1ef"
      },
      "source": [
        "import re\n",
        "\n",
        "# 줄이 바뀌는 텍스트를 인용할 경우 인용부호로 \"\"\"를 사용\n",
        "article = \"\"\"\n",
        "Google LLC is an American multinational technology company focusing on search engine technology, online advertising, cloud computing, computer software, quantum computing, e-commerce, artificial intelligence,[9] and consumer electronics. It has been referred to as \"the most powerful company in the world\"[10] and one of the world's most valuable brands due to its market dominance, data collection, and technological advantages in the area of artificial intelligence.[11][12][13] Its parent company Alphabet is considered one of the Big Five American information technology companies, alongside Amazon, Apple, Meta, and Microsoft.\n",
        "\n",
        "Google was founded on September 4, 1998, by Larry Page and Sergey Brin while they were PhD students at Stanford University in California. Together they own about 14% of its publicly listed shares and control 56% of the stockholder voting power through super-voting stock. The company went public via an initial public offering (IPO) in 2004. In 2015, Google was reorganized as a wholly owned subsidiary of Alphabet Inc. Google is Alphabet's largest subsidiary and is a holding company for Alphabet's Internet properties and interests. Sundar Pichai was appointed CEO of Google on October 24, 2015, replacing Larry Page, who became the CEO of Alphabet. On December 3, 2019, Pichai also became the CEO of Alphabet.[14]\n",
        "\n",
        "The company has since rapidly grown to offer a multitude of products and services beyond Google Search, many of which hold dominant market positions. These products address a wide range of use cases, including email (Gmail), navigation (Waze & Maps), cloud computing (Cloud), web browsing (Chrome), video sharing (YouTube), productivity (Workspace), operating systems (Android), cloud storage (Drive), language translation (Translate), photo storage (Photos), video calling (Meet), smart home (Nest), smartphones (Pixel), wearable technology (Pixel Watch & Fitbit), music streaming (YouTube Music), video on demand (YouTube TV), artificial intelligence (Google Assistant), machine learning APIs (TensorFlow), AI chips (TPU), and more. Discontinued Google products include gaming (Stadia), Glass,[citation needed] Google+, Reader, Play Music, Nexus, Hangouts, and Inbox by Gmail.[15][16]\n",
        "\n",
        "Google's other ventures outside of Internet services and consumer electronics include quantum computing (Sycamore), self-driving cars (Waymo, formerly the Google Self-Driving Car Project), smart cities (Sidewalk Labs), and transformer models (Google Brain).[17]\n",
        "\n",
        "Google and YouTube are the two most visited websites worldwide followed by Facebook and Twitter. Google is also the largest search engine, mapping and navigation application, email provider, office suite, video sharing platform, photo and cloud storage provider, mobile operating system, web browser, ML framework, and AI virtual assistant provider in the world as measured by market share. On the list of most valuable brands, Google is ranked second by Forbes[18] and fourth by Interbrand.[19] It has received significant criticism involving issues such as privacy concerns, tax avoidance, censorship, search neutrality, antitrust and abuse of its monopoly position.\n",
        "\"\"\"\n",
        "\n",
        "print(\"before:\")\n",
        "print(article)\n",
        "\n",
        "# 정규식 적용\n",
        "article = re.sub(r\"[:.]\\[[0-9]+\\](.*?)\\([0-9]+\\)|.?[([][0-9]+[])]|\\n|\\r\", r\"\", article)\n",
        "\n",
        "print(\"after:\")\n",
        "print(article)\n"
      ],
      "execution_count": 2,
      "outputs": [
        {
          "output_type": "stream",
          "name": "stdout",
          "text": [
            "before:\n",
            "\n",
            "Google LLC is an American multinational technology company focusing on search engine technology, online advertising, cloud computing, computer software, quantum computing, e-commerce, artificial intelligence,[9] and consumer electronics. It has been referred to as \"the most powerful company in the world\"[10] and one of the world's most valuable brands due to its market dominance, data collection, and technological advantages in the area of artificial intelligence.[11][12][13] Its parent company Alphabet is considered one of the Big Five American information technology companies, alongside Amazon, Apple, Meta, and Microsoft.\n",
            "\n",
            "Google was founded on September 4, 1998, by Larry Page and Sergey Brin while they were PhD students at Stanford University in California. Together they own about 14% of its publicly listed shares and control 56% of the stockholder voting power through super-voting stock. The company went public via an initial public offering (IPO) in 2004. In 2015, Google was reorganized as a wholly owned subsidiary of Alphabet Inc. Google is Alphabet's largest subsidiary and is a holding company for Alphabet's Internet properties and interests. Sundar Pichai was appointed CEO of Google on October 24, 2015, replacing Larry Page, who became the CEO of Alphabet. On December 3, 2019, Pichai also became the CEO of Alphabet.[14]\n",
            "\n",
            "The company has since rapidly grown to offer a multitude of products and services beyond Google Search, many of which hold dominant market positions. These products address a wide range of use cases, including email (Gmail), navigation (Waze & Maps), cloud computing (Cloud), web browsing (Chrome), video sharing (YouTube), productivity (Workspace), operating systems (Android), cloud storage (Drive), language translation (Translate), photo storage (Photos), video calling (Meet), smart home (Nest), smartphones (Pixel), wearable technology (Pixel Watch & Fitbit), music streaming (YouTube Music), video on demand (YouTube TV), artificial intelligence (Google Assistant), machine learning APIs (TensorFlow), AI chips (TPU), and more. Discontinued Google products include gaming (Stadia), Glass,[citation needed] Google+, Reader, Play Music, Nexus, Hangouts, and Inbox by Gmail.[15][16]\n",
            "\n",
            "Google's other ventures outside of Internet services and consumer electronics include quantum computing (Sycamore), self-driving cars (Waymo, formerly the Google Self-Driving Car Project), smart cities (Sidewalk Labs), and transformer models (Google Brain).[17]\n",
            "\n",
            "Google and YouTube are the two most visited websites worldwide followed by Facebook and Twitter. Google is also the largest search engine, mapping and navigation application, email provider, office suite, video sharing platform, photo and cloud storage provider, mobile operating system, web browser, ML framework, and AI virtual assistant provider in the world as measured by market share. On the list of most valuable brands, Google is ranked second by Forbes[18] and fourth by Interbrand.[19] It has received significant criticism involving issues such as privacy concerns, tax avoidance, censorship, search neutrality, antitrust and abuse of its monopoly position.\n",
            "\n",
            "after:\n",
            "Google LLC is an American multinational technology company focusing on search engine technology, online advertising, cloud computing, computer software, quantum computing, e-commerce, artificial intelligence and consumer electronics. It has been referred to as \"the most powerful company in the world and one of the world's most valuable brands due to its market dominance, data collection, and technological advantages in the area of artificial intelligence Its parent company Alphabet is considered one of the Big Five American information technology companies, alongside Amazon, Apple, Meta, and Microsoft.Google was founded on September 4, 1998, by Larry Page and Sergey Brin while they were PhD students at Stanford University in California. Together they own about 14% of its publicly listed shares and control 56% of the stockholder voting power through super-voting stock. The company went public via an initial public offering (IPO) in 2004. In 2015, Google was reorganized as a wholly owned subsidiary of Alphabet Inc. Google is Alphabet's largest subsidiary and is a holding company for Alphabet's Internet properties and interests. Sundar Pichai was appointed CEO of Google on October 24, 2015, replacing Larry Page, who became the CEO of Alphabet. On December 3, 2019, Pichai also became the CEO of AlphabetThe company has since rapidly grown to offer a multitude of products and services beyond Google Search, many of which hold dominant market positions. These products address a wide range of use cases, including email (Gmail), navigation (Waze & Maps), cloud computing (Cloud), web browsing (Chrome), video sharing (YouTube), productivity (Workspace), operating systems (Android), cloud storage (Drive), language translation (Translate), photo storage (Photos), video calling (Meet), smart home (Nest), smartphones (Pixel), wearable technology (Pixel Watch & Fitbit), music streaming (YouTube Music), video on demand (YouTube TV), artificial intelligence (Google Assistant), machine learning APIs (TensorFlow), AI chips (TPU), and more. Discontinued Google products include gaming (Stadia), Glass,[citation needed] Google+, Reader, Play Music, Nexus, Hangouts, and Inbox by GmailGoogle's other ventures outside of Internet services and consumer electronics include quantum computing (Sycamore), self-driving cars (Waymo, formerly the Google Self-Driving Car Project), smart cities (Sidewalk Labs), and transformer models (Google Brain)Google and YouTube are the two most visited websites worldwide followed by Facebook and Twitter. Google is also the largest search engine, mapping and navigation application, email provider, office suite, video sharing platform, photo and cloud storage provider, mobile operating system, web browser, ML framework, and AI virtual assistant provider in the world as measured by market share. On the list of most valuable brands, Google is ranked second by Forbe and fourth by Interbrand It has received significant criticism involving issues such as privacy concerns, tax avoidance, censorship, search neutrality, antitrust and abuse of its monopoly position.\n"
          ]
        }
      ]
    },
    {
      "cell_type": "markdown",
      "metadata": {
        "id": "bkvSuJrZdpLz"
      },
      "source": [
        "# 52"
      ]
    },
    {
      "cell_type": "code",
      "metadata": {
        "colab": {
          "base_uri": "https://localhost:8080/"
        },
        "id": "Ki3LCvGEdUtc",
        "executionInfo": {
          "elapsed": 622,
          "status": "ok",
          "timestamp": 1688450518504,
          "user": {
            "displayName": "Jason Book Yim",
            "userId": "02824935638305274154"
          },
          "user_tz": -540
        },
        "outputId": "f72eb71f-9f01-4771-9f37-79778dfc1c91"
      },
      "source": [
        "# 토크나이저로 인코딩\n",
        "inputs = tokenizer([article], max_length=1024, return_tensors='tf', truncation=True)\n",
        "inputs\n"
      ],
      "execution_count": 3,
      "outputs": [
        {
          "output_type": "execute_result",
          "data": {
            "text/plain": [
              "{'input_ids': <tf.Tensor: shape=(1, 609), dtype=int32, numpy=\n",
              "array([[    0, 20441,  2291,    16,    41,   470, 17043,   806,   138,\n",
              "         5650,    15,  1707,  3819,   806,     6,   804,  4579,     6,\n",
              "         3613, 11730,     6,  3034,  2257,     6, 17997, 11730,     6,\n",
              "          364,    12,  8342,     6,  7350,  2316,     8,  2267,  8917,\n",
              "            4,    85,    34,    57,  4997,     7,    25,    22,   627,\n",
              "          144,  2247,   138,    11,     5,   232,     8,    65,     9,\n",
              "            5,   232,    18,   144,  5130,  3595,   528,     7,    63,\n",
              "          210, 12532,     6,   414,  2783,     6,     8,  9874, 12340,\n",
              "           11,     5,   443,     9,  7350,  2316,  3139,  4095,   138,\n",
              "        15023,    16,  1687,    65,     9,     5,  1776,  4934,   470,\n",
              "          335,   806,   451,     6,  2863,  1645,     6,  1257,     6,\n",
              "        37622,     6,     8,  3709,     4, 20441,    21,  4790,    15,\n",
              "          772,   204,     6,  6708,     6,    30,  6045,  7086,     8,\n",
              "        23509,  2265,   179,   150,    51,    58, 15221,   521,    23,\n",
              "         8607,   589,    11,   886,     4, 10853,    51,   308,    59,\n",
              "          501,   207,     9,    63,  3271,  3147,   327,     8,   797,\n",
              "         4772,   207,     9,     5,   388, 14074,  3434,   476,   149,\n",
              "         2422,    12,   705, 12653,   388,     4,    20,   138,   439,\n",
              "          285,  1241,    41,  2557,   285,  1839,    36,  3808,   673,\n",
              "           43,    11,  4482,     4,    96,   570,     6,  1204,    21,\n",
              "          769, 29835,    25,    10, 16123,  2164,  8540,     9, 15023,\n",
              "          603,     4,  1204,    16, 15023,    18,  1154,  8540,     8,\n",
              "           16,    10,  1826,   138,    13, 15023,    18,  3742,  3611,\n",
              "            8,  3168,     4, 12282,   271,   221,  1725,  1439,    21,\n",
              "         3873,  1324,     9,  1204,    15,   779,   706,     6,   570,\n",
              "            6,  8119,  6045,  7086,     6,    54,  1059,     5,  1324,\n",
              "            9, 15023,     4,   374,   719,   155,     6,   954,     6,\n",
              "          221,  1725,  1439,    67,  1059,     5,  1324,     9, 15023,\n",
              "          133,   138,    34,   187,  6042,  3831,     7,   904,    10,\n",
              "        25180,     9,   785,     8,   518,  1684,  1204, 12180,     6,\n",
              "          171,     9,    61,   946,  7353,   210,  2452,     4,  1216,\n",
              "          785,  1100,    10,  1810,  1186,     9,   304,  1200,     6,\n",
              "          217,  1047,    36,   534,  6380,   238, 14461,    36,   771,\n",
              "        10129,   359, 21089,   238,  3613, 11730,    36, 14438,   238,\n",
              "         3748, 24033,    36,  4771, 20169,   238,   569,  3565,    36,\n",
              "        36169,   238,  8106,    36, 26025, 18851,   238,  1633,  1743,\n",
              "           36, 42375,   238,  3613,  3521,    36, 29279,   238,  2777,\n",
              "        19850,    36, 19163, 19593,   238,  1345,  3521,    36, 38580,\n",
              "          238,   569,  1765,    36, 30682,   238,  2793,   184,    36,\n",
              "          487,   990,   238,  7466,    36, 46548,   238, 23541,   806,\n",
              "           36, 46548,  3075,   359, 14950,  5881,   238,   930,  5230,\n",
              "           36, 36169,  3920,   238,   569,    15,  1077,    36, 36169,\n",
              "         1012,   238,  7350,  2316,    36, 20441,  6267,   238,  3563,\n",
              "         2239, 35329,    36,   565, 35354, 41779,   238,  4687,  8053,\n",
              "           36,   565, 16821,   238,     8,    55,     4, 19020,  2533,\n",
              "          179,  6796,  1204,   785,   680,  6548,    36,  5320, 20329,\n",
              "          238, 10352, 47789,   438, 12257,   956,   742,  1204, 30787,\n",
              "        27019,     6,  3902,  3920,     6, 28645,     6, 12403,  4518,\n",
              "            6,     8,    96,  8304,    30, 29004, 20441,    18,    97,\n",
              "        16186,   751,     9,  3742,   518,     8,  2267,  8917,   680,\n",
              "        17997, 11730,    36, 35615, 16767,  1688,   238,  1403,    12,\n",
              "        10241,  1677,    36, 24450,  4992,     6,  9598,     5,  1204,\n",
              "        12156,    12, 34002,  6645,  1653,  3728,   238,  2793,  1947,\n",
              "           36,   104,   808,  2753,  9707, 20404,   238,     8, 40878,\n",
              "         3092,    36, 20441, 19743,    43, 20441,     8,  4037,    32,\n",
              "            5,    80,   144,  3790,  7656,  3612,  1432,    30,   622,\n",
              "            8,   599,     4,  1204,    16,    67,     5,  1154,  1707,\n",
              "         3819,     6, 20410,     8, 14461,  2502,     6,  1047,  3696,\n",
              "            6,   558, 10606,     6,   569,  3565,  1761,     6,  1345,\n",
              "            8,  3613,  3521,  3696,     6,  1830,  1633,   467,     6,\n",
              "         3748, 11407,     6, 10725,  7208,     6,     8,  4687,  6229,\n",
              "         3167,  3696,    11,     5,   232,    25,  9550,    30,   210,\n",
              "          458,     4,   374,     5,   889,     9,   144,  5130,  3595,\n",
              "            6,  1204,    16,  4173,   200,    30,   286,  1610,     8,\n",
              "          887,    30,  3870, 11638,    85,    34,   829,  1233,  3633,\n",
              "         3329,   743,   215,    25,  4144,  1379,     6,   629, 29751,\n",
              "            6, 23915,     6,  1707, 18755,     6, 18849,     8,  2134,\n",
              "            9,    63, 21445,   737,     4,     2]], dtype=int32)>, 'attention_mask': <tf.Tensor: shape=(1, 609), dtype=int32, numpy=\n",
              "array([[1, 1, 1, 1, 1, 1, 1, 1, 1, 1, 1, 1, 1, 1, 1, 1, 1, 1, 1, 1, 1, 1,\n",
              "        1, 1, 1, 1, 1, 1, 1, 1, 1, 1, 1, 1, 1, 1, 1, 1, 1, 1, 1, 1, 1, 1,\n",
              "        1, 1, 1, 1, 1, 1, 1, 1, 1, 1, 1, 1, 1, 1, 1, 1, 1, 1, 1, 1, 1, 1,\n",
              "        1, 1, 1, 1, 1, 1, 1, 1, 1, 1, 1, 1, 1, 1, 1, 1, 1, 1, 1, 1, 1, 1,\n",
              "        1, 1, 1, 1, 1, 1, 1, 1, 1, 1, 1, 1, 1, 1, 1, 1, 1, 1, 1, 1, 1, 1,\n",
              "        1, 1, 1, 1, 1, 1, 1, 1, 1, 1, 1, 1, 1, 1, 1, 1, 1, 1, 1, 1, 1, 1,\n",
              "        1, 1, 1, 1, 1, 1, 1, 1, 1, 1, 1, 1, 1, 1, 1, 1, 1, 1, 1, 1, 1, 1,\n",
              "        1, 1, 1, 1, 1, 1, 1, 1, 1, 1, 1, 1, 1, 1, 1, 1, 1, 1, 1, 1, 1, 1,\n",
              "        1, 1, 1, 1, 1, 1, 1, 1, 1, 1, 1, 1, 1, 1, 1, 1, 1, 1, 1, 1, 1, 1,\n",
              "        1, 1, 1, 1, 1, 1, 1, 1, 1, 1, 1, 1, 1, 1, 1, 1, 1, 1, 1, 1, 1, 1,\n",
              "        1, 1, 1, 1, 1, 1, 1, 1, 1, 1, 1, 1, 1, 1, 1, 1, 1, 1, 1, 1, 1, 1,\n",
              "        1, 1, 1, 1, 1, 1, 1, 1, 1, 1, 1, 1, 1, 1, 1, 1, 1, 1, 1, 1, 1, 1,\n",
              "        1, 1, 1, 1, 1, 1, 1, 1, 1, 1, 1, 1, 1, 1, 1, 1, 1, 1, 1, 1, 1, 1,\n",
              "        1, 1, 1, 1, 1, 1, 1, 1, 1, 1, 1, 1, 1, 1, 1, 1, 1, 1, 1, 1, 1, 1,\n",
              "        1, 1, 1, 1, 1, 1, 1, 1, 1, 1, 1, 1, 1, 1, 1, 1, 1, 1, 1, 1, 1, 1,\n",
              "        1, 1, 1, 1, 1, 1, 1, 1, 1, 1, 1, 1, 1, 1, 1, 1, 1, 1, 1, 1, 1, 1,\n",
              "        1, 1, 1, 1, 1, 1, 1, 1, 1, 1, 1, 1, 1, 1, 1, 1, 1, 1, 1, 1, 1, 1,\n",
              "        1, 1, 1, 1, 1, 1, 1, 1, 1, 1, 1, 1, 1, 1, 1, 1, 1, 1, 1, 1, 1, 1,\n",
              "        1, 1, 1, 1, 1, 1, 1, 1, 1, 1, 1, 1, 1, 1, 1, 1, 1, 1, 1, 1, 1, 1,\n",
              "        1, 1, 1, 1, 1, 1, 1, 1, 1, 1, 1, 1, 1, 1, 1, 1, 1, 1, 1, 1, 1, 1,\n",
              "        1, 1, 1, 1, 1, 1, 1, 1, 1, 1, 1, 1, 1, 1, 1, 1, 1, 1, 1, 1, 1, 1,\n",
              "        1, 1, 1, 1, 1, 1, 1, 1, 1, 1, 1, 1, 1, 1, 1, 1, 1, 1, 1, 1, 1, 1,\n",
              "        1, 1, 1, 1, 1, 1, 1, 1, 1, 1, 1, 1, 1, 1, 1, 1, 1, 1, 1, 1, 1, 1,\n",
              "        1, 1, 1, 1, 1, 1, 1, 1, 1, 1, 1, 1, 1, 1, 1, 1, 1, 1, 1, 1, 1, 1,\n",
              "        1, 1, 1, 1, 1, 1, 1, 1, 1, 1, 1, 1, 1, 1, 1, 1, 1, 1, 1, 1, 1, 1,\n",
              "        1, 1, 1, 1, 1, 1, 1, 1, 1, 1, 1, 1, 1, 1, 1, 1, 1, 1, 1, 1, 1, 1,\n",
              "        1, 1, 1, 1, 1, 1, 1, 1, 1, 1, 1, 1, 1, 1, 1, 1, 1, 1, 1, 1, 1, 1,\n",
              "        1, 1, 1, 1, 1, 1, 1, 1, 1, 1, 1, 1, 1, 1, 1]], dtype=int32)>}"
            ]
          },
          "metadata": {},
          "execution_count": 3
        }
      ]
    },
    {
      "cell_type": "markdown",
      "metadata": {
        "id": "qCUTtiBjeM68"
      },
      "source": [
        "# 53"
      ]
    },
    {
      "cell_type": "code",
      "metadata": {
        "colab": {
          "base_uri": "https://localhost:8080/"
        },
        "id": "9tpzRqqDdqFV",
        "executionInfo": {
          "elapsed": 801,
          "status": "ok",
          "timestamp": 1688450525236,
          "user": {
            "displayName": "Jason Book Yim",
            "userId": "02824935638305274154"
          },
          "user_tz": -540
        },
        "outputId": "4626cce6-6c6c-49ea-961f-986ca8f0a65c"
      },
      "source": [
        "# 텐서플로우 타입인 inputs['input_ids]를 넘파이 어레이 타입으로 변경\n",
        "inputs['input_ids'].numpy()\n"
      ],
      "execution_count": 4,
      "outputs": [
        {
          "output_type": "execute_result",
          "data": {
            "text/plain": [
              "array([[    0, 20441,  2291,    16,    41,   470, 17043,   806,   138,\n",
              "         5650,    15,  1707,  3819,   806,     6,   804,  4579,     6,\n",
              "         3613, 11730,     6,  3034,  2257,     6, 17997, 11730,     6,\n",
              "          364,    12,  8342,     6,  7350,  2316,     8,  2267,  8917,\n",
              "            4,    85,    34,    57,  4997,     7,    25,    22,   627,\n",
              "          144,  2247,   138,    11,     5,   232,     8,    65,     9,\n",
              "            5,   232,    18,   144,  5130,  3595,   528,     7,    63,\n",
              "          210, 12532,     6,   414,  2783,     6,     8,  9874, 12340,\n",
              "           11,     5,   443,     9,  7350,  2316,  3139,  4095,   138,\n",
              "        15023,    16,  1687,    65,     9,     5,  1776,  4934,   470,\n",
              "          335,   806,   451,     6,  2863,  1645,     6,  1257,     6,\n",
              "        37622,     6,     8,  3709,     4, 20441,    21,  4790,    15,\n",
              "          772,   204,     6,  6708,     6,    30,  6045,  7086,     8,\n",
              "        23509,  2265,   179,   150,    51,    58, 15221,   521,    23,\n",
              "         8607,   589,    11,   886,     4, 10853,    51,   308,    59,\n",
              "          501,   207,     9,    63,  3271,  3147,   327,     8,   797,\n",
              "         4772,   207,     9,     5,   388, 14074,  3434,   476,   149,\n",
              "         2422,    12,   705, 12653,   388,     4,    20,   138,   439,\n",
              "          285,  1241,    41,  2557,   285,  1839,    36,  3808,   673,\n",
              "           43,    11,  4482,     4,    96,   570,     6,  1204,    21,\n",
              "          769, 29835,    25,    10, 16123,  2164,  8540,     9, 15023,\n",
              "          603,     4,  1204,    16, 15023,    18,  1154,  8540,     8,\n",
              "           16,    10,  1826,   138,    13, 15023,    18,  3742,  3611,\n",
              "            8,  3168,     4, 12282,   271,   221,  1725,  1439,    21,\n",
              "         3873,  1324,     9,  1204,    15,   779,   706,     6,   570,\n",
              "            6,  8119,  6045,  7086,     6,    54,  1059,     5,  1324,\n",
              "            9, 15023,     4,   374,   719,   155,     6,   954,     6,\n",
              "          221,  1725,  1439,    67,  1059,     5,  1324,     9, 15023,\n",
              "          133,   138,    34,   187,  6042,  3831,     7,   904,    10,\n",
              "        25180,     9,   785,     8,   518,  1684,  1204, 12180,     6,\n",
              "          171,     9,    61,   946,  7353,   210,  2452,     4,  1216,\n",
              "          785,  1100,    10,  1810,  1186,     9,   304,  1200,     6,\n",
              "          217,  1047,    36,   534,  6380,   238, 14461,    36,   771,\n",
              "        10129,   359, 21089,   238,  3613, 11730,    36, 14438,   238,\n",
              "         3748, 24033,    36,  4771, 20169,   238,   569,  3565,    36,\n",
              "        36169,   238,  8106,    36, 26025, 18851,   238,  1633,  1743,\n",
              "           36, 42375,   238,  3613,  3521,    36, 29279,   238,  2777,\n",
              "        19850,    36, 19163, 19593,   238,  1345,  3521,    36, 38580,\n",
              "          238,   569,  1765,    36, 30682,   238,  2793,   184,    36,\n",
              "          487,   990,   238,  7466,    36, 46548,   238, 23541,   806,\n",
              "           36, 46548,  3075,   359, 14950,  5881,   238,   930,  5230,\n",
              "           36, 36169,  3920,   238,   569,    15,  1077,    36, 36169,\n",
              "         1012,   238,  7350,  2316,    36, 20441,  6267,   238,  3563,\n",
              "         2239, 35329,    36,   565, 35354, 41779,   238,  4687,  8053,\n",
              "           36,   565, 16821,   238,     8,    55,     4, 19020,  2533,\n",
              "          179,  6796,  1204,   785,   680,  6548,    36,  5320, 20329,\n",
              "          238, 10352, 47789,   438, 12257,   956,   742,  1204, 30787,\n",
              "        27019,     6,  3902,  3920,     6, 28645,     6, 12403,  4518,\n",
              "            6,     8,    96,  8304,    30, 29004, 20441,    18,    97,\n",
              "        16186,   751,     9,  3742,   518,     8,  2267,  8917,   680,\n",
              "        17997, 11730,    36, 35615, 16767,  1688,   238,  1403,    12,\n",
              "        10241,  1677,    36, 24450,  4992,     6,  9598,     5,  1204,\n",
              "        12156,    12, 34002,  6645,  1653,  3728,   238,  2793,  1947,\n",
              "           36,   104,   808,  2753,  9707, 20404,   238,     8, 40878,\n",
              "         3092,    36, 20441, 19743,    43, 20441,     8,  4037,    32,\n",
              "            5,    80,   144,  3790,  7656,  3612,  1432,    30,   622,\n",
              "            8,   599,     4,  1204,    16,    67,     5,  1154,  1707,\n",
              "         3819,     6, 20410,     8, 14461,  2502,     6,  1047,  3696,\n",
              "            6,   558, 10606,     6,   569,  3565,  1761,     6,  1345,\n",
              "            8,  3613,  3521,  3696,     6,  1830,  1633,   467,     6,\n",
              "         3748, 11407,     6, 10725,  7208,     6,     8,  4687,  6229,\n",
              "         3167,  3696,    11,     5,   232,    25,  9550,    30,   210,\n",
              "          458,     4,   374,     5,   889,     9,   144,  5130,  3595,\n",
              "            6,  1204,    16,  4173,   200,    30,   286,  1610,     8,\n",
              "          887,    30,  3870, 11638,    85,    34,   829,  1233,  3633,\n",
              "         3329,   743,   215,    25,  4144,  1379,     6,   629, 29751,\n",
              "            6, 23915,     6,  1707, 18755,     6, 18849,     8,  2134,\n",
              "            9,    63, 21445,   737,     4,     2]], dtype=int32)"
            ]
          },
          "metadata": {},
          "execution_count": 4
        }
      ]
    },
    {
      "cell_type": "markdown",
      "metadata": {
        "id": "gg_velBFeaUT"
      },
      "source": [
        "# 54"
      ]
    },
    {
      "cell_type": "code",
      "metadata": {
        "colab": {
          "base_uri": "https://localhost:8080/"
        },
        "id": "SimY7fPueNgr",
        "executionInfo": {
          "elapsed": 18553,
          "status": "ok",
          "timestamp": 1688450548214,
          "user": {
            "displayName": "Jason Book Yim",
            "userId": "02824935638305274154"
          },
          "user_tz": -540
        },
        "outputId": "b22b5eba-9c94-4639-b997-d2a0ec18e82d"
      },
      "source": [
        "# 런타임 30초 소요\n",
        "# 문장 요약 생성 결과(vocabulary ID)를 summary_ids에 저장\n",
        "summary_ids = model.generate(inputs['input_ids'], num_beams=5, max_length=25)\n",
        "summary_ids\n",
        ""
      ],
      "execution_count": 5,
      "outputs": [
        {
          "output_type": "execute_result",
          "data": {
            "text/plain": [
              "<tf.Tensor: shape=(1, 25), dtype=int32, numpy=\n",
              "array([[    2,     0, 20441,  2291,    16,    41,   470, 17043,   806,\n",
              "          138,  5650,    15,  1707,  3819,   806,     6,   804,  4579,\n",
              "            6,  3613, 11730,     6,  3034,  2257,     2]], dtype=int32)>"
            ]
          },
          "metadata": {},
          "execution_count": 5
        }
      ]
    },
    {
      "cell_type": "markdown",
      "metadata": {
        "id": "08eM_Sjyeorc"
      },
      "source": [
        "# 55"
      ]
    },
    {
      "cell_type": "code",
      "metadata": {
        "colab": {
          "base_uri": "https://localhost:8080/"
        },
        "id": "baRqFwWLea7L",
        "executionInfo": {
          "elapsed": 410,
          "status": "ok",
          "timestamp": 1688450585776,
          "user": {
            "displayName": "Jason Book Yim",
            "userId": "02824935638305274154"
          },
          "user_tz": -540
        },
        "outputId": "c66faa8f-4d71-4a98-98c7-96aecb0a1e0e"
      },
      "source": [
        "# summary_ids 디코딩\n",
        "print(''.join([tokenizer.decode(g, skip_special_tokens=True, clean_up_tokenization_spaces=False) for g in summary_ids]))"
      ],
      "execution_count": 6,
      "outputs": [
        {
          "output_type": "stream",
          "name": "stdout",
          "text": [
            "Google LLC is an American multinational technology company focusing on search engine technology, online advertising, cloud computing, computer software\n"
          ]
        }
      ]
    }
  ]
}